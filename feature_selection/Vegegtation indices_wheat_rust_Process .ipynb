{
 "cells": [
  {
   "cell_type": "code",
   "execution_count": 51,
   "metadata": {},
   "outputs": [],
   "source": [
    "import numpy as np\n",
    "import os\n",
    "from time import time\n",
    "import pandas as pd\n",
    "import matplotlib.pyplot as plt\n",
    "\n",
    "from sklearn.model_selection import train_test_split\n",
    "from sklearn.preprocessing import StandardScaler\n",
    "from sklearn.model_selection import GridSearchCV\n",
    "#from sklearn.datasets import make_moons, make_circles, make_classification\n",
    "#from sklearn.neural_network import MLPClassifier\n",
    "from sklearn.neighbors import KNeighborsClassifier\n",
    "from sklearn.svm import SVC\n",
    "from sklearn.gaussian_process import GaussianProcessClassifier\n",
    "from sklearn.gaussian_process.kernels import RBF\n",
    "from sklearn.tree import DecisionTreeClassifier\n",
    "from sklearn.ensemble import RandomForestClassifier, AdaBoostClassifier\n",
    "from sklearn.naive_bayes import GaussianNB\n",
    "from sklearn.discriminant_analysis import QuadraticDiscriminantAnalysis\n",
    "\n",
    "#from sklearn.preprocessing import OneHotEncoder\n",
    "#from sklearn.preprocessing import LabelBinarizer"
   ]
  },
  {
   "cell_type": "code",
   "execution_count": 140,
   "metadata": {},
   "outputs": [
    {
     "data": {
      "text/html": [
       "<div>\n",
       "<style scoped>\n",
       "    .dataframe tbody tr th:only-of-type {\n",
       "        vertical-align: middle;\n",
       "    }\n",
       "\n",
       "    .dataframe tbody tr th {\n",
       "        vertical-align: top;\n",
       "    }\n",
       "\n",
       "    .dataframe thead th {\n",
       "        text-align: right;\n",
       "    }\n",
       "</style>\n",
       "<table border=\"1\" class=\"dataframe\">\n",
       "  <thead>\n",
       "    <tr style=\"text-align: right;\">\n",
       "      <th></th>\n",
       "      <th>label</th>\n",
       "      <th>PRI</th>\n",
       "      <th>NDVI 761</th>\n",
       "      <th>NDVI 850</th>\n",
       "      <th>NDVI 705</th>\n",
       "      <th>GNDVI</th>\n",
       "      <th>TVI Triangular VG ind</th>\n",
       "      <th>RVI</th>\n",
       "      <th>CRI 550</th>\n",
       "      <th>CRI 700</th>\n",
       "      <th>TVI Transformed veg ind</th>\n",
       "    </tr>\n",
       "  </thead>\n",
       "  <tbody>\n",
       "    <tr>\n",
       "      <th>0</th>\n",
       "      <td>0</td>\n",
       "      <td>-0.070534</td>\n",
       "      <td>0.728496</td>\n",
       "      <td>0.756927</td>\n",
       "      <td>0.263149</td>\n",
       "      <td>0.666534</td>\n",
       "      <td>14.8774</td>\n",
       "      <td>7.705382</td>\n",
       "      <td>13.006808</td>\n",
       "      <td>10.821075</td>\n",
       "      <td>1.108375</td>\n",
       "    </tr>\n",
       "    <tr>\n",
       "      <th>1</th>\n",
       "      <td>0</td>\n",
       "      <td>-0.074177</td>\n",
       "      <td>0.740989</td>\n",
       "      <td>0.769035</td>\n",
       "      <td>0.267875</td>\n",
       "      <td>0.679105</td>\n",
       "      <td>15.8752</td>\n",
       "      <td>8.230294</td>\n",
       "      <td>13.078137</td>\n",
       "      <td>10.778979</td>\n",
       "      <td>1.113997</td>\n",
       "    </tr>\n",
       "    <tr>\n",
       "      <th>2</th>\n",
       "      <td>0</td>\n",
       "      <td>-0.070585</td>\n",
       "      <td>0.763441</td>\n",
       "      <td>0.788329</td>\n",
       "      <td>0.277427</td>\n",
       "      <td>0.697424</td>\n",
       "      <td>17.3918</td>\n",
       "      <td>9.226846</td>\n",
       "      <td>13.315305</td>\n",
       "      <td>10.537926</td>\n",
       "      <td>1.124029</td>\n",
       "    </tr>\n",
       "    <tr>\n",
       "      <th>3</th>\n",
       "      <td>0</td>\n",
       "      <td>-0.069958</td>\n",
       "      <td>0.731135</td>\n",
       "      <td>0.758946</td>\n",
       "      <td>0.252463</td>\n",
       "      <td>0.669200</td>\n",
       "      <td>15.9400</td>\n",
       "      <td>7.906004</td>\n",
       "      <td>11.731370</td>\n",
       "      <td>9.366585</td>\n",
       "      <td>1.109565</td>\n",
       "    </tr>\n",
       "    <tr>\n",
       "      <th>4</th>\n",
       "      <td>0</td>\n",
       "      <td>-0.074269</td>\n",
       "      <td>0.613729</td>\n",
       "      <td>0.660931</td>\n",
       "      <td>0.197407</td>\n",
       "      <td>0.601273</td>\n",
       "      <td>9.4168</td>\n",
       "      <td>4.777538</td>\n",
       "      <td>10.641968</td>\n",
       "      <td>10.913149</td>\n",
       "      <td>1.055334</td>\n",
       "    </tr>\n",
       "  </tbody>\n",
       "</table>\n",
       "</div>"
      ],
      "text/plain": [
       "   label       PRI  NDVI 761  NDVI 850  NDVI 705     GNDVI  \\\n",
       "0      0 -0.070534  0.728496  0.756927  0.263149  0.666534   \n",
       "1      0 -0.074177  0.740989  0.769035  0.267875  0.679105   \n",
       "2      0 -0.070585  0.763441  0.788329  0.277427  0.697424   \n",
       "3      0 -0.069958  0.731135  0.758946  0.252463  0.669200   \n",
       "4      0 -0.074269  0.613729  0.660931  0.197407  0.601273   \n",
       "\n",
       "   TVI Triangular VG ind       RVI    CRI 550    CRI 700  \\\n",
       "0                14.8774  7.705382  13.006808  10.821075   \n",
       "1                15.8752  8.230294  13.078137  10.778979   \n",
       "2                17.3918  9.226846  13.315305  10.537926   \n",
       "3                15.9400  7.906004  11.731370   9.366585   \n",
       "4                 9.4168  4.777538  10.641968  10.913149   \n",
       "\n",
       "   TVI Transformed veg ind  \n",
       "0                 1.108375  \n",
       "1                 1.113997  \n",
       "2                 1.124029  \n",
       "3                 1.109565  \n",
       "4                 1.055334  "
      ]
     },
     "execution_count": 140,
     "metadata": {},
     "output_type": "execute_result"
    }
   ],
   "source": [
    "file = \"Vegegtation indices - wheat rust AnMin.xlsx\"\n",
    "full_data = pd.read_excel(file, sheet_name='Vege indices ')\n",
    "full_data.head()"
   ]
  },
  {
   "cell_type": "code",
   "execution_count": 141,
   "metadata": {},
   "outputs": [
    {
     "data": {
      "text/plain": [
       "array([0, 0, 0, ..., 6, 6, 6])"
      ]
     },
     "execution_count": 141,
     "metadata": {},
     "output_type": "execute_result"
    }
   ],
   "source": [
    "label = full_data['label'].tolist()\n",
    "label = np.asarray(label).reshape(-1,)\n",
    "label\n"
   ]
  },
  {
   "cell_type": "code",
   "execution_count": 142,
   "metadata": {},
   "outputs": [
    {
     "data": {
      "text/plain": [
       "['PRI',\n",
       " 'NDVI 761',\n",
       " 'NDVI 850',\n",
       " 'NDVI 705',\n",
       " 'GNDVI',\n",
       " 'TVI Triangular VG ind',\n",
       " 'RVI',\n",
       " 'CRI 550',\n",
       " 'CRI 700',\n",
       " 'TVI Transformed veg ind']"
      ]
     },
     "execution_count": 142,
     "metadata": {},
     "output_type": "execute_result"
    }
   ],
   "source": [
    "cols = full_data.columns.tolist()\n",
    "cols = cols[1:]\n",
    "cols"
   ]
  },
  {
   "cell_type": "markdown",
   "metadata": {},
   "source": [
    "## Put all data together to do classify"
   ]
  },
  {
   "cell_type": "code",
   "execution_count": 57,
   "metadata": {},
   "outputs": [],
   "source": [
    "x = full_data.iloc[:,1:]\n",
    "#x = x['PRI'].tolist()\n",
    "#x = np.asarray(x).reshape(-1,1)\n",
    "x_train, x_test, y_train, y_test = train_test_split(x, label, test_size=0.3, random_state=42)"
   ]
  },
  {
   "cell_type": "markdown",
   "metadata": {},
   "source": [
    "### SVM"
   ]
  },
  {
   "cell_type": "code",
   "execution_count": 59,
   "metadata": {},
   "outputs": [
    {
     "name": "stdout",
     "output_type": "stream",
     "text": [
      "Fitting the classifier to the training set\n",
      "Set Grid parameters\n",
      "Start to fit\n"
     ]
    },
    {
     "name": "stderr",
     "output_type": "stream",
     "text": [
      "e:\\Anaconda3\\envs\\py2\\lib\\site-packages\\sklearn\\model_selection\\_search.py:841: DeprecationWarning: The default of the `iid` parameter will change from True to False in version 0.22 and will be removed in 0.24. This will change numeric results when test-set sizes are unequal.\n",
      "  DeprecationWarning)\n"
     ]
    },
    {
     "name": "stdout",
     "output_type": "stream",
     "text": [
      "done in 508.769s\n",
      "Best estimator found by grid search:\n",
      "SVC(C=5000.0, cache_size=200, class_weight='balanced', coef0=0.0,\n",
      "  decision_function_shape='ovr', degree=3, gamma=0.01, kernel='rbf',\n",
      "  max_iter=-1, probability=True, random_state=None, shrinking=True,\n",
      "  tol=0.001, verbose=False)\n"
     ]
    }
   ],
   "source": [
    "# #############################################################################\n",
    "# Train a SVM classification model\n",
    "\n",
    "print(\"Fitting the classifier to the training set\")\n",
    "t0 = time()\n",
    "param_grid = {'kernel':['rbf','sigmoid'],'C': [1e2,5e2,1e3, 5e3, 1e4],\n",
    "              'gamma': [0.001, 0.005, 0.01,0.05,0.1,0.2]}\n",
    "print(\"Set Grid parameters\")\n",
    "clf = GridSearchCV(\n",
    "    SVC(class_weight='balanced',probability=True), param_grid, cv=10)\n",
    "print(\"Start to fit\")\n",
    "clf = clf.fit(x_train, y_train)\n",
    "print(\"done in %0.3fs\" % (time() - t0))\n",
    "print(\"Best estimator found by grid search:\")\n",
    "print(clf.best_estimator_)"
   ]
  },
  {
   "cell_type": "code",
   "execution_count": 60,
   "metadata": {},
   "outputs": [
    {
     "data": {
      "text/plain": [
       "0.4114441416893733"
      ]
     },
     "execution_count": 60,
     "metadata": {},
     "output_type": "execute_result"
    }
   ],
   "source": [
    "clf.score(x_test,y_test)"
   ]
  },
  {
   "cell_type": "markdown",
   "metadata": {},
   "source": [
    "### Decision Tree"
   ]
  },
  {
   "cell_type": "code",
   "execution_count": 61,
   "metadata": {},
   "outputs": [],
   "source": [
    "x_train, x_test, y_train, y_test = train_test_split(x, label, test_size=0.3, random_state=42)"
   ]
  },
  {
   "cell_type": "code",
   "execution_count": 62,
   "metadata": {},
   "outputs": [
    {
     "name": "stdout",
     "output_type": "stream",
     "text": [
      "Fitting the classifier to the training set\n",
      "Set Grid parameters\n",
      "Start to fit\n",
      "done in 4.608s\n",
      "Best estimator found by grid search:\n",
      "DecisionTreeClassifier(class_weight=None, criterion='entropy', max_depth=7,\n",
      "            max_features=None, max_leaf_nodes=None,\n",
      "            min_impurity_decrease=0.0, min_impurity_split=None,\n",
      "            min_samples_leaf=1, min_samples_split=2,\n",
      "            min_weight_fraction_leaf=0.0, presort=False, random_state=None,\n",
      "            splitter='best')\n"
     ]
    },
    {
     "name": "stderr",
     "output_type": "stream",
     "text": [
      "e:\\Anaconda3\\envs\\py2\\lib\\site-packages\\sklearn\\model_selection\\_search.py:841: DeprecationWarning: The default of the `iid` parameter will change from True to False in version 0.22 and will be removed in 0.24. This will change numeric results when test-set sizes are unequal.\n",
      "  DeprecationWarning)\n"
     ]
    }
   ],
   "source": [
    "print(\"Fitting the classifier to the training set\")\n",
    "t0 = time()\n",
    "param_grid = {'max_depth': range(1,20), 'criterion':['gini','entropy']}\n",
    "print(\"Set Grid parameters\")\n",
    "clf = GridSearchCV(\n",
    "    DecisionTreeClassifier(), param_grid, cv=10)\n",
    "print(\"Start to fit\")\n",
    "clf = clf.fit(x_train, y_train)\n",
    "print(\"done in %0.3fs\" % (time() - t0))\n",
    "print(\"Best estimator found by grid search:\")\n",
    "print(clf.best_estimator_)"
   ]
  },
  {
   "cell_type": "code",
   "execution_count": 63,
   "metadata": {},
   "outputs": [
    {
     "data": {
      "text/plain": [
       "0.44141689373297005"
      ]
     },
     "execution_count": 63,
     "metadata": {},
     "output_type": "execute_result"
    }
   ],
   "source": [
    "clf.score(x_test,y_test)"
   ]
  },
  {
   "cell_type": "markdown",
   "metadata": {},
   "source": [
    "## Classify by each Vegetation index"
   ]
  },
  {
   "cell_type": "markdown",
   "metadata": {},
   "source": [
    "### SVM"
   ]
  },
  {
   "cell_type": "code",
   "execution_count": 143,
   "metadata": {},
   "outputs": [],
   "source": [
    "x = full_data.iloc[:,1:]\n",
    "x = x[cols[4]].tolist()\n",
    "x = np.asarray(x).reshape(-1,1)\n",
    "x_train, x_test, y_train, y_test = train_test_split(x, label, test_size=0.3, random_state=42)"
   ]
  },
  {
   "cell_type": "code",
   "execution_count": 144,
   "metadata": {},
   "outputs": [
    {
     "name": "stdout",
     "output_type": "stream",
     "text": [
      "Fitting the classifier to the training set\n",
      "Set Grid parameters\n",
      "Start to fit\n",
      "done in 82.139s\n",
      "Best estimator found by grid search:\n",
      "SVC(C=10000.0, cache_size=200, class_weight='balanced', coef0=0.0,\n",
      "  decision_function_shape='ovr', degree=3, gamma=0.2, kernel='sigmoid',\n",
      "  max_iter=-1, probability=True, random_state=None, shrinking=True,\n",
      "  tol=0.001, verbose=False)\n"
     ]
    },
    {
     "name": "stderr",
     "output_type": "stream",
     "text": [
      "e:\\Anaconda3\\envs\\py2\\lib\\site-packages\\sklearn\\model_selection\\_search.py:841: DeprecationWarning: The default of the `iid` parameter will change from True to False in version 0.22 and will be removed in 0.24. This will change numeric results when test-set sizes are unequal.\n",
      "  DeprecationWarning)\n"
     ]
    }
   ],
   "source": [
    "# #############################################################################\n",
    "# Train a SVM classification model\n",
    "\n",
    "print(\"Fitting the classifier to the training set\")\n",
    "t0 = time()\n",
    "param_grid = {'kernel':['rbf','sigmoid'],'C': [1e2,5e2,1e3, 5e3, 1e4],\n",
    "              'gamma': [0.001, 0.005, 0.01,0.05,0.1,0.2]}\n",
    "print(\"Set Grid parameters\")\n",
    "clf = GridSearchCV(\n",
    "    SVC(class_weight='balanced',probability=True), param_grid, cv=10)\n",
    "print(\"Start to fit\")\n",
    "clf = clf.fit(x_train, y_train)\n",
    "print(\"done in %0.3fs\" % (time() - t0))\n",
    "print(\"Best estimator found by grid search:\")\n",
    "print(clf.best_estimator_)"
   ]
  },
  {
   "cell_type": "code",
   "execution_count": 145,
   "metadata": {},
   "outputs": [
    {
     "data": {
      "text/plain": [
       "0.3651226158038147"
      ]
     },
     "execution_count": 145,
     "metadata": {},
     "output_type": "execute_result"
    }
   ],
   "source": [
    "clf.score(x_test,y_test)"
   ]
  },
  {
   "cell_type": "code",
   "execution_count": 146,
   "metadata": {},
   "outputs": [],
   "source": [
    "result_scores = []\n",
    "for col in cols:\n",
    "    x = full_data.iloc[:,1:]\n",
    "    x = x[col].tolist()\n",
    "    x = np.asarray(x).reshape(-1,1)\n",
    "    x_train, x_test, y_train, y_test = train_test_split(x, label, test_size=0.3, random_state=42)\n",
    "          \n",
    "    clf = SVC(kernel='sigmoid', gamma='auto')\n",
    "    clf.fit(x_train, y_train)\n",
    "    result = dict()\n",
    "    result['Index'] = col\n",
    "    result['score'] = clf.score(x_test,y_test)\n",
    "    result_scores.append(result)"
   ]
  },
  {
   "cell_type": "code",
   "execution_count": 148,
   "metadata": {},
   "outputs": [],
   "source": [
    "result_pd = pd.DataFrame(result_scores)\n",
    "result_pd.to_excel(\"all stage each index scores.xlsx\")"
   ]
  },
  {
   "cell_type": "code",
   "execution_count": 149,
   "metadata": {},
   "outputs": [
    {
     "data": {
      "text/html": [
       "<div>\n",
       "<style scoped>\n",
       "    .dataframe tbody tr th:only-of-type {\n",
       "        vertical-align: middle;\n",
       "    }\n",
       "\n",
       "    .dataframe tbody tr th {\n",
       "        vertical-align: top;\n",
       "    }\n",
       "\n",
       "    .dataframe thead th {\n",
       "        text-align: right;\n",
       "    }\n",
       "</style>\n",
       "<table border=\"1\" class=\"dataframe\">\n",
       "  <thead>\n",
       "    <tr style=\"text-align: right;\">\n",
       "      <th></th>\n",
       "      <th>Index</th>\n",
       "      <th>score</th>\n",
       "    </tr>\n",
       "  </thead>\n",
       "  <tbody>\n",
       "    <tr>\n",
       "      <th>0</th>\n",
       "      <td>PRI</td>\n",
       "      <td>0.354223</td>\n",
       "    </tr>\n",
       "    <tr>\n",
       "      <th>1</th>\n",
       "      <td>NDVI 761</td>\n",
       "      <td>0.354223</td>\n",
       "    </tr>\n",
       "    <tr>\n",
       "      <th>2</th>\n",
       "      <td>NDVI 850</td>\n",
       "      <td>0.354223</td>\n",
       "    </tr>\n",
       "    <tr>\n",
       "      <th>3</th>\n",
       "      <td>NDVI 705</td>\n",
       "      <td>0.354223</td>\n",
       "    </tr>\n",
       "    <tr>\n",
       "      <th>4</th>\n",
       "      <td>GNDVI</td>\n",
       "      <td>0.354223</td>\n",
       "    </tr>\n",
       "    <tr>\n",
       "      <th>5</th>\n",
       "      <td>TVI Triangular VG ind</td>\n",
       "      <td>0.354223</td>\n",
       "    </tr>\n",
       "    <tr>\n",
       "      <th>6</th>\n",
       "      <td>RVI</td>\n",
       "      <td>0.354223</td>\n",
       "    </tr>\n",
       "    <tr>\n",
       "      <th>7</th>\n",
       "      <td>CRI 550</td>\n",
       "      <td>0.354223</td>\n",
       "    </tr>\n",
       "    <tr>\n",
       "      <th>8</th>\n",
       "      <td>CRI 700</td>\n",
       "      <td>0.354223</td>\n",
       "    </tr>\n",
       "    <tr>\n",
       "      <th>9</th>\n",
       "      <td>TVI Transformed veg ind</td>\n",
       "      <td>0.354223</td>\n",
       "    </tr>\n",
       "  </tbody>\n",
       "</table>\n",
       "</div>"
      ],
      "text/plain": [
       "                     Index     score\n",
       "0                      PRI  0.354223\n",
       "1                 NDVI 761  0.354223\n",
       "2                 NDVI 850  0.354223\n",
       "3                 NDVI 705  0.354223\n",
       "4                    GNDVI  0.354223\n",
       "5    TVI Triangular VG ind  0.354223\n",
       "6                      RVI  0.354223\n",
       "7                  CRI 550  0.354223\n",
       "8                  CRI 700  0.354223\n",
       "9  TVI Transformed veg ind  0.354223"
      ]
     },
     "execution_count": 149,
     "metadata": {},
     "output_type": "execute_result"
    }
   ],
   "source": [
    "result_pd"
   ]
  },
  {
   "cell_type": "markdown",
   "metadata": {},
   "source": [
    "### Random Forest"
   ]
  },
  {
   "cell_type": "code",
   "execution_count": 71,
   "metadata": {},
   "outputs": [
    {
     "name": "stderr",
     "output_type": "stream",
     "text": [
      "e:\\Anaconda3\\envs\\py2\\lib\\site-packages\\sklearn\\ensemble\\forest.py:248: FutureWarning: The default value of n_estimators will change from 10 in version 0.20 to 100 in 0.22.\n",
      "  \"10 in version 0.20 to 100 in 0.22.\", FutureWarning)\n",
      "e:\\Anaconda3\\envs\\py2\\lib\\site-packages\\sklearn\\ensemble\\forest.py:248: FutureWarning: The default value of n_estimators will change from 10 in version 0.20 to 100 in 0.22.\n",
      "  \"10 in version 0.20 to 100 in 0.22.\", FutureWarning)\n",
      "e:\\Anaconda3\\envs\\py2\\lib\\site-packages\\sklearn\\ensemble\\forest.py:248: FutureWarning: The default value of n_estimators will change from 10 in version 0.20 to 100 in 0.22.\n",
      "  \"10 in version 0.20 to 100 in 0.22.\", FutureWarning)\n",
      "e:\\Anaconda3\\envs\\py2\\lib\\site-packages\\sklearn\\ensemble\\forest.py:248: FutureWarning: The default value of n_estimators will change from 10 in version 0.20 to 100 in 0.22.\n",
      "  \"10 in version 0.20 to 100 in 0.22.\", FutureWarning)\n",
      "e:\\Anaconda3\\envs\\py2\\lib\\site-packages\\sklearn\\ensemble\\forest.py:248: FutureWarning: The default value of n_estimators will change from 10 in version 0.20 to 100 in 0.22.\n",
      "  \"10 in version 0.20 to 100 in 0.22.\", FutureWarning)\n",
      "e:\\Anaconda3\\envs\\py2\\lib\\site-packages\\sklearn\\ensemble\\forest.py:248: FutureWarning: The default value of n_estimators will change from 10 in version 0.20 to 100 in 0.22.\n",
      "  \"10 in version 0.20 to 100 in 0.22.\", FutureWarning)\n",
      "e:\\Anaconda3\\envs\\py2\\lib\\site-packages\\sklearn\\ensemble\\forest.py:248: FutureWarning: The default value of n_estimators will change from 10 in version 0.20 to 100 in 0.22.\n",
      "  \"10 in version 0.20 to 100 in 0.22.\", FutureWarning)\n",
      "e:\\Anaconda3\\envs\\py2\\lib\\site-packages\\sklearn\\ensemble\\forest.py:248: FutureWarning: The default value of n_estimators will change from 10 in version 0.20 to 100 in 0.22.\n",
      "  \"10 in version 0.20 to 100 in 0.22.\", FutureWarning)\n",
      "e:\\Anaconda3\\envs\\py2\\lib\\site-packages\\sklearn\\ensemble\\forest.py:248: FutureWarning: The default value of n_estimators will change from 10 in version 0.20 to 100 in 0.22.\n",
      "  \"10 in version 0.20 to 100 in 0.22.\", FutureWarning)\n",
      "e:\\Anaconda3\\envs\\py2\\lib\\site-packages\\sklearn\\ensemble\\forest.py:248: FutureWarning: The default value of n_estimators will change from 10 in version 0.20 to 100 in 0.22.\n",
      "  \"10 in version 0.20 to 100 in 0.22.\", FutureWarning)\n"
     ]
    }
   ],
   "source": [
    "result_scores = []\n",
    "for col in cols:\n",
    "    x = full_data.iloc[:,1:]\n",
    "    x = x[col].tolist()\n",
    "    x = np.asarray(x).reshape(-1,1)\n",
    "    x_train, x_test, y_train, y_test = train_test_split(x, label, test_size=0.3, random_state=42)\n",
    "          \n",
    "    clf = RandomForestClassifier()\n",
    "    clf.fit(x_train, y_train)\n",
    "    result = dict()\n",
    "    result['Index'] = col\n",
    "    result['score'] = clf.score(x_test,y_test)\n",
    "    result_scores.append(result)"
   ]
  },
  {
   "cell_type": "code",
   "execution_count": 72,
   "metadata": {},
   "outputs": [
    {
     "data": {
      "text/html": [
       "<div>\n",
       "<style scoped>\n",
       "    .dataframe tbody tr th:only-of-type {\n",
       "        vertical-align: middle;\n",
       "    }\n",
       "\n",
       "    .dataframe tbody tr th {\n",
       "        vertical-align: top;\n",
       "    }\n",
       "\n",
       "    .dataframe thead th {\n",
       "        text-align: right;\n",
       "    }\n",
       "</style>\n",
       "<table border=\"1\" class=\"dataframe\">\n",
       "  <thead>\n",
       "    <tr style=\"text-align: right;\">\n",
       "      <th></th>\n",
       "      <th>Index</th>\n",
       "      <th>score</th>\n",
       "    </tr>\n",
       "  </thead>\n",
       "  <tbody>\n",
       "    <tr>\n",
       "      <th>0</th>\n",
       "      <td>PRI</td>\n",
       "      <td>0.288828</td>\n",
       "    </tr>\n",
       "    <tr>\n",
       "      <th>1</th>\n",
       "      <td>NDVI 761</td>\n",
       "      <td>0.275204</td>\n",
       "    </tr>\n",
       "    <tr>\n",
       "      <th>2</th>\n",
       "      <td>NDVI 850</td>\n",
       "      <td>0.242507</td>\n",
       "    </tr>\n",
       "    <tr>\n",
       "      <th>3</th>\n",
       "      <td>NDVI 705</td>\n",
       "      <td>0.237057</td>\n",
       "    </tr>\n",
       "    <tr>\n",
       "      <th>4</th>\n",
       "      <td>GNDVI</td>\n",
       "      <td>0.247956</td>\n",
       "    </tr>\n",
       "    <tr>\n",
       "      <th>5</th>\n",
       "      <td>TVI Triangular VG ind</td>\n",
       "      <td>0.250681</td>\n",
       "    </tr>\n",
       "    <tr>\n",
       "      <th>6</th>\n",
       "      <td>RVI</td>\n",
       "      <td>0.302452</td>\n",
       "    </tr>\n",
       "    <tr>\n",
       "      <th>7</th>\n",
       "      <td>CRI 550</td>\n",
       "      <td>0.267030</td>\n",
       "    </tr>\n",
       "    <tr>\n",
       "      <th>8</th>\n",
       "      <td>CRI 700</td>\n",
       "      <td>0.250681</td>\n",
       "    </tr>\n",
       "    <tr>\n",
       "      <th>9</th>\n",
       "      <td>TVI Transformed veg ind</td>\n",
       "      <td>0.286104</td>\n",
       "    </tr>\n",
       "  </tbody>\n",
       "</table>\n",
       "</div>"
      ],
      "text/plain": [
       "                     Index     score\n",
       "0                      PRI  0.288828\n",
       "1                 NDVI 761  0.275204\n",
       "2                 NDVI 850  0.242507\n",
       "3                 NDVI 705  0.237057\n",
       "4                    GNDVI  0.247956\n",
       "5    TVI Triangular VG ind  0.250681\n",
       "6                      RVI  0.302452\n",
       "7                  CRI 550  0.267030\n",
       "8                  CRI 700  0.250681\n",
       "9  TVI Transformed veg ind  0.286104"
      ]
     },
     "execution_count": 72,
     "metadata": {},
     "output_type": "execute_result"
    }
   ],
   "source": [
    "result_pd = pd.DataFrame(result_scores)\n",
    "result_pd"
   ]
  },
  {
   "cell_type": "markdown",
   "metadata": {},
   "source": [
    "## To classify each stage"
   ]
  },
  {
   "cell_type": "code",
   "execution_count": 74,
   "metadata": {},
   "outputs": [],
   "source": [
    "health = full_data[full_data['label'] == 0]\n",
    "stage_1 = full_data[full_data['label'] == 1]\n",
    "stage_2 = full_data[full_data['label'] == 2]\n",
    "stage_3 = full_data[full_data['label'] == 3]\n",
    "stage_4 = full_data[full_data['label'] == 4]\n",
    "stage_5 = full_data[full_data['label'] == 5]\n",
    "stage_6 = full_data[full_data['label'] == 6]"
   ]
  },
  {
   "cell_type": "markdown",
   "metadata": {},
   "source": [
    "### process stage 1"
   ]
  },
  {
   "cell_type": "code",
   "execution_count": 78,
   "metadata": {},
   "outputs": [
    {
     "data": {
      "text/plain": [
       "276"
      ]
     },
     "execution_count": 78,
     "metadata": {},
     "output_type": "execute_result"
    }
   ],
   "source": [
    "length = len(stage_1)\n",
    "length"
   ]
  },
  {
   "cell_type": "code",
   "execution_count": 90,
   "metadata": {},
   "outputs": [],
   "source": [
    "health_1 = health.sample(length)\n",
    "stage_1 = pd.concat([health_1, stage_1])"
   ]
  },
  {
   "cell_type": "markdown",
   "metadata": {},
   "source": [
    "### SVM "
   ]
  },
  {
   "cell_type": "code",
   "execution_count": 136,
   "metadata": {},
   "outputs": [],
   "source": [
    "label = stage_1['label'].tolist()\n",
    "label = np.asarray(label).reshape(-1,)\n",
    "\n",
    "result_scores_1 = []\n",
    "for col in cols:\n",
    "    x = stage_1.iloc[:,1:]\n",
    "    x = x[col].tolist()\n",
    "    x = np.asarray(x).reshape(-1,1)\n",
    "    x_train, x_test, y_train, y_test = train_test_split(x, label, test_size=0.3, random_state=42)\n",
    "          \n",
    "    clf = SVC(kernel='sigmoid', gamma='auto')\n",
    "    clf.fit(x_train, y_train)\n",
    "    result = dict()\n",
    "    result['Index'] = col\n",
    "    result['score_1'] = clf.score(x_test,y_test)\n",
    "    result_scores_1.append(result)"
   ]
  },
  {
   "cell_type": "code",
   "execution_count": 137,
   "metadata": {},
   "outputs": [
    {
     "data": {
      "text/html": [
       "<div>\n",
       "<style scoped>\n",
       "    .dataframe tbody tr th:only-of-type {\n",
       "        vertical-align: middle;\n",
       "    }\n",
       "\n",
       "    .dataframe tbody tr th {\n",
       "        vertical-align: top;\n",
       "    }\n",
       "\n",
       "    .dataframe thead th {\n",
       "        text-align: right;\n",
       "    }\n",
       "</style>\n",
       "<table border=\"1\" class=\"dataframe\">\n",
       "  <thead>\n",
       "    <tr style=\"text-align: right;\">\n",
       "      <th></th>\n",
       "      <th>Index</th>\n",
       "      <th>score</th>\n",
       "    </tr>\n",
       "  </thead>\n",
       "  <tbody>\n",
       "    <tr>\n",
       "      <th>0</th>\n",
       "      <td>PRI</td>\n",
       "      <td>0.662651</td>\n",
       "    </tr>\n",
       "    <tr>\n",
       "      <th>1</th>\n",
       "      <td>NDVI 761</td>\n",
       "      <td>0.662651</td>\n",
       "    </tr>\n",
       "    <tr>\n",
       "      <th>2</th>\n",
       "      <td>NDVI 850</td>\n",
       "      <td>0.662651</td>\n",
       "    </tr>\n",
       "    <tr>\n",
       "      <th>3</th>\n",
       "      <td>NDVI 705</td>\n",
       "      <td>0.662651</td>\n",
       "    </tr>\n",
       "    <tr>\n",
       "      <th>4</th>\n",
       "      <td>GNDVI</td>\n",
       "      <td>0.662651</td>\n",
       "    </tr>\n",
       "    <tr>\n",
       "      <th>5</th>\n",
       "      <td>TVI Triangular VG ind</td>\n",
       "      <td>0.662651</td>\n",
       "    </tr>\n",
       "    <tr>\n",
       "      <th>6</th>\n",
       "      <td>RVI</td>\n",
       "      <td>0.662651</td>\n",
       "    </tr>\n",
       "    <tr>\n",
       "      <th>7</th>\n",
       "      <td>CRI 550</td>\n",
       "      <td>0.662651</td>\n",
       "    </tr>\n",
       "    <tr>\n",
       "      <th>8</th>\n",
       "      <td>CRI 700</td>\n",
       "      <td>0.662651</td>\n",
       "    </tr>\n",
       "    <tr>\n",
       "      <th>9</th>\n",
       "      <td>TVI Transformed veg ind</td>\n",
       "      <td>0.662651</td>\n",
       "    </tr>\n",
       "  </tbody>\n",
       "</table>\n",
       "</div>"
      ],
      "text/plain": [
       "                     Index     score\n",
       "0                      PRI  0.662651\n",
       "1                 NDVI 761  0.662651\n",
       "2                 NDVI 850  0.662651\n",
       "3                 NDVI 705  0.662651\n",
       "4                    GNDVI  0.662651\n",
       "5    TVI Triangular VG ind  0.662651\n",
       "6                      RVI  0.662651\n",
       "7                  CRI 550  0.662651\n",
       "8                  CRI 700  0.662651\n",
       "9  TVI Transformed veg ind  0.662651"
      ]
     },
     "execution_count": 137,
     "metadata": {},
     "output_type": "execute_result"
    }
   ],
   "source": [
    "result_pd1 = pd.DataFrame(result_scores_1)\n",
    "result_pd1"
   ]
  },
  {
   "cell_type": "markdown",
   "metadata": {},
   "source": [
    "### Random Forests"
   ]
  },
  {
   "cell_type": "code",
   "execution_count": 88,
   "metadata": {},
   "outputs": [
    {
     "name": "stderr",
     "output_type": "stream",
     "text": [
      "e:\\Anaconda3\\envs\\py2\\lib\\site-packages\\sklearn\\ensemble\\forest.py:248: FutureWarning: The default value of n_estimators will change from 10 in version 0.20 to 100 in 0.22.\n",
      "  \"10 in version 0.20 to 100 in 0.22.\", FutureWarning)\n",
      "e:\\Anaconda3\\envs\\py2\\lib\\site-packages\\sklearn\\ensemble\\forest.py:248: FutureWarning: The default value of n_estimators will change from 10 in version 0.20 to 100 in 0.22.\n",
      "  \"10 in version 0.20 to 100 in 0.22.\", FutureWarning)\n",
      "e:\\Anaconda3\\envs\\py2\\lib\\site-packages\\sklearn\\ensemble\\forest.py:248: FutureWarning: The default value of n_estimators will change from 10 in version 0.20 to 100 in 0.22.\n",
      "  \"10 in version 0.20 to 100 in 0.22.\", FutureWarning)\n",
      "e:\\Anaconda3\\envs\\py2\\lib\\site-packages\\sklearn\\ensemble\\forest.py:248: FutureWarning: The default value of n_estimators will change from 10 in version 0.20 to 100 in 0.22.\n",
      "  \"10 in version 0.20 to 100 in 0.22.\", FutureWarning)\n",
      "e:\\Anaconda3\\envs\\py2\\lib\\site-packages\\sklearn\\ensemble\\forest.py:248: FutureWarning: The default value of n_estimators will change from 10 in version 0.20 to 100 in 0.22.\n",
      "  \"10 in version 0.20 to 100 in 0.22.\", FutureWarning)\n",
      "e:\\Anaconda3\\envs\\py2\\lib\\site-packages\\sklearn\\ensemble\\forest.py:248: FutureWarning: The default value of n_estimators will change from 10 in version 0.20 to 100 in 0.22.\n",
      "  \"10 in version 0.20 to 100 in 0.22.\", FutureWarning)\n",
      "e:\\Anaconda3\\envs\\py2\\lib\\site-packages\\sklearn\\ensemble\\forest.py:248: FutureWarning: The default value of n_estimators will change from 10 in version 0.20 to 100 in 0.22.\n",
      "  \"10 in version 0.20 to 100 in 0.22.\", FutureWarning)\n",
      "e:\\Anaconda3\\envs\\py2\\lib\\site-packages\\sklearn\\ensemble\\forest.py:248: FutureWarning: The default value of n_estimators will change from 10 in version 0.20 to 100 in 0.22.\n",
      "  \"10 in version 0.20 to 100 in 0.22.\", FutureWarning)\n",
      "e:\\Anaconda3\\envs\\py2\\lib\\site-packages\\sklearn\\ensemble\\forest.py:248: FutureWarning: The default value of n_estimators will change from 10 in version 0.20 to 100 in 0.22.\n",
      "  \"10 in version 0.20 to 100 in 0.22.\", FutureWarning)\n",
      "e:\\Anaconda3\\envs\\py2\\lib\\site-packages\\sklearn\\ensemble\\forest.py:248: FutureWarning: The default value of n_estimators will change from 10 in version 0.20 to 100 in 0.22.\n",
      "  \"10 in version 0.20 to 100 in 0.22.\", FutureWarning)\n"
     ]
    }
   ],
   "source": [
    "label = stage_1['label'].tolist()\n",
    "label = np.asarray(label).reshape(-1,)\n",
    "\n",
    "result_scores = []\n",
    "for col in cols:\n",
    "    x = stage_1.iloc[:,1:]\n",
    "    x = x[col].tolist()\n",
    "    x = np.asarray(x).reshape(-1,1)\n",
    "    x_train, x_test, y_train, y_test = train_test_split(x, label, test_size=0.3, random_state=42)\n",
    "          \n",
    "    clf = RandomForestClassifier()\n",
    "    clf.fit(x_train, y_train)\n",
    "    result = dict()\n",
    "    result['Index'] = col\n",
    "    result['score'] = clf.score(x_test,y_test)\n",
    "    result_scores.append(result)"
   ]
  },
  {
   "cell_type": "code",
   "execution_count": 89,
   "metadata": {},
   "outputs": [
    {
     "data": {
      "text/html": [
       "<div>\n",
       "<style scoped>\n",
       "    .dataframe tbody tr th:only-of-type {\n",
       "        vertical-align: middle;\n",
       "    }\n",
       "\n",
       "    .dataframe tbody tr th {\n",
       "        vertical-align: top;\n",
       "    }\n",
       "\n",
       "    .dataframe thead th {\n",
       "        text-align: right;\n",
       "    }\n",
       "</style>\n",
       "<table border=\"1\" class=\"dataframe\">\n",
       "  <thead>\n",
       "    <tr style=\"text-align: right;\">\n",
       "      <th></th>\n",
       "      <th>Index</th>\n",
       "      <th>score</th>\n",
       "    </tr>\n",
       "  </thead>\n",
       "  <tbody>\n",
       "    <tr>\n",
       "      <th>0</th>\n",
       "      <td>PRI</td>\n",
       "      <td>0.518072</td>\n",
       "    </tr>\n",
       "    <tr>\n",
       "      <th>1</th>\n",
       "      <td>NDVI 761</td>\n",
       "      <td>0.572289</td>\n",
       "    </tr>\n",
       "    <tr>\n",
       "      <th>2</th>\n",
       "      <td>NDVI 850</td>\n",
       "      <td>0.560241</td>\n",
       "    </tr>\n",
       "    <tr>\n",
       "      <th>3</th>\n",
       "      <td>NDVI 705</td>\n",
       "      <td>0.548193</td>\n",
       "    </tr>\n",
       "    <tr>\n",
       "      <th>4</th>\n",
       "      <td>GNDVI</td>\n",
       "      <td>0.590361</td>\n",
       "    </tr>\n",
       "    <tr>\n",
       "      <th>5</th>\n",
       "      <td>TVI Triangular VG ind</td>\n",
       "      <td>0.554217</td>\n",
       "    </tr>\n",
       "    <tr>\n",
       "      <th>6</th>\n",
       "      <td>RVI</td>\n",
       "      <td>0.566265</td>\n",
       "    </tr>\n",
       "    <tr>\n",
       "      <th>7</th>\n",
       "      <td>CRI 550</td>\n",
       "      <td>0.506024</td>\n",
       "    </tr>\n",
       "    <tr>\n",
       "      <th>8</th>\n",
       "      <td>CRI 700</td>\n",
       "      <td>0.524096</td>\n",
       "    </tr>\n",
       "    <tr>\n",
       "      <th>9</th>\n",
       "      <td>TVI Transformed veg ind</td>\n",
       "      <td>0.578313</td>\n",
       "    </tr>\n",
       "  </tbody>\n",
       "</table>\n",
       "</div>"
      ],
      "text/plain": [
       "                     Index     score\n",
       "0                      PRI  0.518072\n",
       "1                 NDVI 761  0.572289\n",
       "2                 NDVI 850  0.560241\n",
       "3                 NDVI 705  0.548193\n",
       "4                    GNDVI  0.590361\n",
       "5    TVI Triangular VG ind  0.554217\n",
       "6                      RVI  0.566265\n",
       "7                  CRI 550  0.506024\n",
       "8                  CRI 700  0.524096\n",
       "9  TVI Transformed veg ind  0.578313"
      ]
     },
     "execution_count": 89,
     "metadata": {},
     "output_type": "execute_result"
    }
   ],
   "source": [
    "result_pd = pd.DataFrame(result_scores)\n",
    "result_pd"
   ]
  },
  {
   "cell_type": "markdown",
   "metadata": {},
   "source": [
    "### Process Stage 2"
   ]
  },
  {
   "cell_type": "code",
   "execution_count": 92,
   "metadata": {},
   "outputs": [
    {
     "data": {
      "text/plain": [
       "160"
      ]
     },
     "execution_count": 92,
     "metadata": {},
     "output_type": "execute_result"
    }
   ],
   "source": [
    "length = len(stage_2)\n",
    "length"
   ]
  },
  {
   "cell_type": "code",
   "execution_count": 93,
   "metadata": {},
   "outputs": [],
   "source": [
    "health_2 = health.sample(length)\n",
    "stage_2 = pd.concat([health_2, stage_2])"
   ]
  },
  {
   "cell_type": "markdown",
   "metadata": {},
   "source": [
    "### SVM"
   ]
  },
  {
   "cell_type": "code",
   "execution_count": 134,
   "metadata": {},
   "outputs": [],
   "source": [
    "label = stage_2['label'].tolist()\n",
    "label = np.asarray(label).reshape(-1,)\n",
    "\n",
    "result_scores_2 = []\n",
    "for col in cols:\n",
    "    x = stage_2.iloc[:,1:]\n",
    "    x = x[col].tolist()\n",
    "    x = np.asarray(x).reshape(-1,1)\n",
    "    x_train, x_test, y_train, y_test = train_test_split(x, label, test_size=0.3, random_state=42)\n",
    "          \n",
    "    clf = SVC(kernel='sigmoid', gamma='auto')\n",
    "    clf.fit(x_train, y_train)\n",
    "    result = dict()\n",
    "    result['Index'] = col\n",
    "    result['score_2'] = clf.score(x_test,y_test)\n",
    "    result_scores_2.append(result)"
   ]
  },
  {
   "cell_type": "code",
   "execution_count": 135,
   "metadata": {},
   "outputs": [
    {
     "data": {
      "text/html": [
       "<div>\n",
       "<style scoped>\n",
       "    .dataframe tbody tr th:only-of-type {\n",
       "        vertical-align: middle;\n",
       "    }\n",
       "\n",
       "    .dataframe tbody tr th {\n",
       "        vertical-align: top;\n",
       "    }\n",
       "\n",
       "    .dataframe thead th {\n",
       "        text-align: right;\n",
       "    }\n",
       "</style>\n",
       "<table border=\"1\" class=\"dataframe\">\n",
       "  <thead>\n",
       "    <tr style=\"text-align: right;\">\n",
       "      <th></th>\n",
       "      <th>Index</th>\n",
       "      <th>score</th>\n",
       "    </tr>\n",
       "  </thead>\n",
       "  <tbody>\n",
       "    <tr>\n",
       "      <th>0</th>\n",
       "      <td>PRI</td>\n",
       "      <td>0.479167</td>\n",
       "    </tr>\n",
       "    <tr>\n",
       "      <th>1</th>\n",
       "      <td>NDVI 761</td>\n",
       "      <td>0.677083</td>\n",
       "    </tr>\n",
       "    <tr>\n",
       "      <th>2</th>\n",
       "      <td>NDVI 850</td>\n",
       "      <td>0.666667</td>\n",
       "    </tr>\n",
       "    <tr>\n",
       "      <th>3</th>\n",
       "      <td>NDVI 705</td>\n",
       "      <td>0.479167</td>\n",
       "    </tr>\n",
       "    <tr>\n",
       "      <th>4</th>\n",
       "      <td>GNDVI</td>\n",
       "      <td>0.770833</td>\n",
       "    </tr>\n",
       "    <tr>\n",
       "      <th>5</th>\n",
       "      <td>TVI Triangular VG ind</td>\n",
       "      <td>0.479167</td>\n",
       "    </tr>\n",
       "    <tr>\n",
       "      <th>6</th>\n",
       "      <td>RVI</td>\n",
       "      <td>0.479167</td>\n",
       "    </tr>\n",
       "    <tr>\n",
       "      <th>7</th>\n",
       "      <td>CRI 550</td>\n",
       "      <td>0.479167</td>\n",
       "    </tr>\n",
       "    <tr>\n",
       "      <th>8</th>\n",
       "      <td>CRI 700</td>\n",
       "      <td>0.479167</td>\n",
       "    </tr>\n",
       "    <tr>\n",
       "      <th>9</th>\n",
       "      <td>TVI Transformed veg ind</td>\n",
       "      <td>0.479167</td>\n",
       "    </tr>\n",
       "  </tbody>\n",
       "</table>\n",
       "</div>"
      ],
      "text/plain": [
       "                     Index     score\n",
       "0                      PRI  0.479167\n",
       "1                 NDVI 761  0.677083\n",
       "2                 NDVI 850  0.666667\n",
       "3                 NDVI 705  0.479167\n",
       "4                    GNDVI  0.770833\n",
       "5    TVI Triangular VG ind  0.479167\n",
       "6                      RVI  0.479167\n",
       "7                  CRI 550  0.479167\n",
       "8                  CRI 700  0.479167\n",
       "9  TVI Transformed veg ind  0.479167"
      ]
     },
     "execution_count": 135,
     "metadata": {},
     "output_type": "execute_result"
    }
   ],
   "source": [
    "result_pd2 = pd.DataFrame(result_scores_2)\n",
    "result_pd2"
   ]
  },
  {
   "cell_type": "markdown",
   "metadata": {},
   "source": [
    "### Random Forest"
   ]
  },
  {
   "cell_type": "code",
   "execution_count": 96,
   "metadata": {},
   "outputs": [
    {
     "name": "stderr",
     "output_type": "stream",
     "text": [
      "e:\\Anaconda3\\envs\\py2\\lib\\site-packages\\sklearn\\ensemble\\forest.py:248: FutureWarning: The default value of n_estimators will change from 10 in version 0.20 to 100 in 0.22.\n",
      "  \"10 in version 0.20 to 100 in 0.22.\", FutureWarning)\n",
      "e:\\Anaconda3\\envs\\py2\\lib\\site-packages\\sklearn\\ensemble\\forest.py:248: FutureWarning: The default value of n_estimators will change from 10 in version 0.20 to 100 in 0.22.\n",
      "  \"10 in version 0.20 to 100 in 0.22.\", FutureWarning)\n",
      "e:\\Anaconda3\\envs\\py2\\lib\\site-packages\\sklearn\\ensemble\\forest.py:248: FutureWarning: The default value of n_estimators will change from 10 in version 0.20 to 100 in 0.22.\n",
      "  \"10 in version 0.20 to 100 in 0.22.\", FutureWarning)\n",
      "e:\\Anaconda3\\envs\\py2\\lib\\site-packages\\sklearn\\ensemble\\forest.py:248: FutureWarning: The default value of n_estimators will change from 10 in version 0.20 to 100 in 0.22.\n",
      "  \"10 in version 0.20 to 100 in 0.22.\", FutureWarning)\n",
      "e:\\Anaconda3\\envs\\py2\\lib\\site-packages\\sklearn\\ensemble\\forest.py:248: FutureWarning: The default value of n_estimators will change from 10 in version 0.20 to 100 in 0.22.\n",
      "  \"10 in version 0.20 to 100 in 0.22.\", FutureWarning)\n",
      "e:\\Anaconda3\\envs\\py2\\lib\\site-packages\\sklearn\\ensemble\\forest.py:248: FutureWarning: The default value of n_estimators will change from 10 in version 0.20 to 100 in 0.22.\n",
      "  \"10 in version 0.20 to 100 in 0.22.\", FutureWarning)\n",
      "e:\\Anaconda3\\envs\\py2\\lib\\site-packages\\sklearn\\ensemble\\forest.py:248: FutureWarning: The default value of n_estimators will change from 10 in version 0.20 to 100 in 0.22.\n",
      "  \"10 in version 0.20 to 100 in 0.22.\", FutureWarning)\n",
      "e:\\Anaconda3\\envs\\py2\\lib\\site-packages\\sklearn\\ensemble\\forest.py:248: FutureWarning: The default value of n_estimators will change from 10 in version 0.20 to 100 in 0.22.\n",
      "  \"10 in version 0.20 to 100 in 0.22.\", FutureWarning)\n",
      "e:\\Anaconda3\\envs\\py2\\lib\\site-packages\\sklearn\\ensemble\\forest.py:248: FutureWarning: The default value of n_estimators will change from 10 in version 0.20 to 100 in 0.22.\n",
      "  \"10 in version 0.20 to 100 in 0.22.\", FutureWarning)\n",
      "e:\\Anaconda3\\envs\\py2\\lib\\site-packages\\sklearn\\ensemble\\forest.py:248: FutureWarning: The default value of n_estimators will change from 10 in version 0.20 to 100 in 0.22.\n",
      "  \"10 in version 0.20 to 100 in 0.22.\", FutureWarning)\n"
     ]
    }
   ],
   "source": [
    "label = stage_2['label'].tolist()\n",
    "label = np.asarray(label).reshape(-1,)\n",
    "\n",
    "result_scores = []\n",
    "for col in cols:\n",
    "    x = stage_2.iloc[:,1:]\n",
    "    x = x[col].tolist()\n",
    "    x = np.asarray(x).reshape(-1,1)\n",
    "    x_train, x_test, y_train, y_test = train_test_split(x, label, test_size=0.3, random_state=42)\n",
    "          \n",
    "    clf = RandomForestClassifier()\n",
    "    clf.fit(x_train, y_train)\n",
    "    result = dict()\n",
    "    result['Index'] = col\n",
    "    result['score'] = clf.score(x_test,y_test)\n",
    "    result_scores.append(result)"
   ]
  },
  {
   "cell_type": "code",
   "execution_count": 97,
   "metadata": {},
   "outputs": [
    {
     "data": {
      "text/html": [
       "<div>\n",
       "<style scoped>\n",
       "    .dataframe tbody tr th:only-of-type {\n",
       "        vertical-align: middle;\n",
       "    }\n",
       "\n",
       "    .dataframe tbody tr th {\n",
       "        vertical-align: top;\n",
       "    }\n",
       "\n",
       "    .dataframe thead th {\n",
       "        text-align: right;\n",
       "    }\n",
       "</style>\n",
       "<table border=\"1\" class=\"dataframe\">\n",
       "  <thead>\n",
       "    <tr style=\"text-align: right;\">\n",
       "      <th></th>\n",
       "      <th>Index</th>\n",
       "      <th>score</th>\n",
       "    </tr>\n",
       "  </thead>\n",
       "  <tbody>\n",
       "    <tr>\n",
       "      <th>0</th>\n",
       "      <td>PRI</td>\n",
       "      <td>0.520833</td>\n",
       "    </tr>\n",
       "    <tr>\n",
       "      <th>1</th>\n",
       "      <td>NDVI 761</td>\n",
       "      <td>0.645833</td>\n",
       "    </tr>\n",
       "    <tr>\n",
       "      <th>2</th>\n",
       "      <td>NDVI 850</td>\n",
       "      <td>0.645833</td>\n",
       "    </tr>\n",
       "    <tr>\n",
       "      <th>3</th>\n",
       "      <td>NDVI 705</td>\n",
       "      <td>0.614583</td>\n",
       "    </tr>\n",
       "    <tr>\n",
       "      <th>4</th>\n",
       "      <td>GNDVI</td>\n",
       "      <td>0.708333</td>\n",
       "    </tr>\n",
       "    <tr>\n",
       "      <th>5</th>\n",
       "      <td>TVI Triangular VG ind</td>\n",
       "      <td>0.645833</td>\n",
       "    </tr>\n",
       "    <tr>\n",
       "      <th>6</th>\n",
       "      <td>RVI</td>\n",
       "      <td>0.656250</td>\n",
       "    </tr>\n",
       "    <tr>\n",
       "      <th>7</th>\n",
       "      <td>CRI 550</td>\n",
       "      <td>0.479167</td>\n",
       "    </tr>\n",
       "    <tr>\n",
       "      <th>8</th>\n",
       "      <td>CRI 700</td>\n",
       "      <td>0.479167</td>\n",
       "    </tr>\n",
       "    <tr>\n",
       "      <th>9</th>\n",
       "      <td>TVI Transformed veg ind</td>\n",
       "      <td>0.645833</td>\n",
       "    </tr>\n",
       "  </tbody>\n",
       "</table>\n",
       "</div>"
      ],
      "text/plain": [
       "                     Index     score\n",
       "0                      PRI  0.520833\n",
       "1                 NDVI 761  0.645833\n",
       "2                 NDVI 850  0.645833\n",
       "3                 NDVI 705  0.614583\n",
       "4                    GNDVI  0.708333\n",
       "5    TVI Triangular VG ind  0.645833\n",
       "6                      RVI  0.656250\n",
       "7                  CRI 550  0.479167\n",
       "8                  CRI 700  0.479167\n",
       "9  TVI Transformed veg ind  0.645833"
      ]
     },
     "execution_count": 97,
     "metadata": {},
     "output_type": "execute_result"
    }
   ],
   "source": [
    "result_pd = pd.DataFrame(result_scores)\n",
    "result_pd"
   ]
  },
  {
   "cell_type": "markdown",
   "metadata": {},
   "source": [
    "### Stage 3"
   ]
  },
  {
   "cell_type": "code",
   "execution_count": 98,
   "metadata": {},
   "outputs": [
    {
     "data": {
      "text/plain": [
       "129"
      ]
     },
     "execution_count": 98,
     "metadata": {},
     "output_type": "execute_result"
    }
   ],
   "source": [
    "length = len(stage_3)\n",
    "length"
   ]
  },
  {
   "cell_type": "code",
   "execution_count": 99,
   "metadata": {},
   "outputs": [],
   "source": [
    "health_3 = health.sample(length)\n",
    "stage_3 = pd.concat([health_3, stage_3])"
   ]
  },
  {
   "cell_type": "markdown",
   "metadata": {},
   "source": [
    "### SVM"
   ]
  },
  {
   "cell_type": "code",
   "execution_count": 130,
   "metadata": {},
   "outputs": [],
   "source": [
    "label = stage_3['label'].tolist()\n",
    "label = np.asarray(label).reshape(-1,)\n",
    "\n",
    "result_scores_3 = []\n",
    "for col in cols:\n",
    "    x = stage_3.iloc[:,1:]\n",
    "    x = x[col].tolist()\n",
    "    x = np.asarray(x).reshape(-1,1)\n",
    "    x_train, x_test, y_train, y_test = train_test_split(x, label, test_size=0.3, random_state=42)\n",
    "          \n",
    "    clf = SVC(kernel='sigmoid', gamma='auto')\n",
    "    clf.fit(x_train, y_train)\n",
    "    result = dict()\n",
    "    result['Index'] = col\n",
    "    result['score_3'] = clf.score(x_test,y_test)\n",
    "    result_scores_3.append(result)"
   ]
  },
  {
   "cell_type": "code",
   "execution_count": 131,
   "metadata": {},
   "outputs": [
    {
     "data": {
      "text/html": [
       "<div>\n",
       "<style scoped>\n",
       "    .dataframe tbody tr th:only-of-type {\n",
       "        vertical-align: middle;\n",
       "    }\n",
       "\n",
       "    .dataframe tbody tr th {\n",
       "        vertical-align: top;\n",
       "    }\n",
       "\n",
       "    .dataframe thead th {\n",
       "        text-align: right;\n",
       "    }\n",
       "</style>\n",
       "<table border=\"1\" class=\"dataframe\">\n",
       "  <thead>\n",
       "    <tr style=\"text-align: right;\">\n",
       "      <th></th>\n",
       "      <th>Index</th>\n",
       "      <th>score</th>\n",
       "    </tr>\n",
       "  </thead>\n",
       "  <tbody>\n",
       "    <tr>\n",
       "      <th>0</th>\n",
       "      <td>PRI</td>\n",
       "      <td>0.487179</td>\n",
       "    </tr>\n",
       "    <tr>\n",
       "      <th>1</th>\n",
       "      <td>NDVI 761</td>\n",
       "      <td>0.653846</td>\n",
       "    </tr>\n",
       "    <tr>\n",
       "      <th>2</th>\n",
       "      <td>NDVI 850</td>\n",
       "      <td>0.730769</td>\n",
       "    </tr>\n",
       "    <tr>\n",
       "      <th>3</th>\n",
       "      <td>NDVI 705</td>\n",
       "      <td>0.487179</td>\n",
       "    </tr>\n",
       "    <tr>\n",
       "      <th>4</th>\n",
       "      <td>GNDVI</td>\n",
       "      <td>0.653846</td>\n",
       "    </tr>\n",
       "    <tr>\n",
       "      <th>5</th>\n",
       "      <td>TVI Triangular VG ind</td>\n",
       "      <td>0.487179</td>\n",
       "    </tr>\n",
       "    <tr>\n",
       "      <th>6</th>\n",
       "      <td>RVI</td>\n",
       "      <td>0.487179</td>\n",
       "    </tr>\n",
       "    <tr>\n",
       "      <th>7</th>\n",
       "      <td>CRI 550</td>\n",
       "      <td>0.487179</td>\n",
       "    </tr>\n",
       "    <tr>\n",
       "      <th>8</th>\n",
       "      <td>CRI 700</td>\n",
       "      <td>0.487179</td>\n",
       "    </tr>\n",
       "    <tr>\n",
       "      <th>9</th>\n",
       "      <td>TVI Transformed veg ind</td>\n",
       "      <td>0.487179</td>\n",
       "    </tr>\n",
       "  </tbody>\n",
       "</table>\n",
       "</div>"
      ],
      "text/plain": [
       "                     Index     score\n",
       "0                      PRI  0.487179\n",
       "1                 NDVI 761  0.653846\n",
       "2                 NDVI 850  0.730769\n",
       "3                 NDVI 705  0.487179\n",
       "4                    GNDVI  0.653846\n",
       "5    TVI Triangular VG ind  0.487179\n",
       "6                      RVI  0.487179\n",
       "7                  CRI 550  0.487179\n",
       "8                  CRI 700  0.487179\n",
       "9  TVI Transformed veg ind  0.487179"
      ]
     },
     "execution_count": 131,
     "metadata": {},
     "output_type": "execute_result"
    }
   ],
   "source": [
    "result_pd3 = pd.DataFrame(result_scores_3)\n",
    "result_pd3"
   ]
  },
  {
   "cell_type": "markdown",
   "metadata": {},
   "source": [
    "### Stage 4"
   ]
  },
  {
   "cell_type": "code",
   "execution_count": 102,
   "metadata": {},
   "outputs": [
    {
     "data": {
      "text/plain": [
       "75"
      ]
     },
     "execution_count": 102,
     "metadata": {},
     "output_type": "execute_result"
    }
   ],
   "source": [
    "length = len(stage_4)\n",
    "length"
   ]
  },
  {
   "cell_type": "code",
   "execution_count": 103,
   "metadata": {},
   "outputs": [],
   "source": [
    "health_4 = health.sample(length)\n",
    "stage_4 = pd.concat([health_4, stage_4])"
   ]
  },
  {
   "cell_type": "markdown",
   "metadata": {},
   "source": [
    "### SVM"
   ]
  },
  {
   "cell_type": "code",
   "execution_count": 132,
   "metadata": {},
   "outputs": [],
   "source": [
    "label = stage_4['label'].tolist()\n",
    "label = np.asarray(label).reshape(-1,)\n",
    "\n",
    "result_scores_4 = []\n",
    "for col in cols:\n",
    "    x = stage_4.iloc[:,1:]\n",
    "    x = x[col].tolist()\n",
    "    x = np.asarray(x).reshape(-1,1)\n",
    "    x_train, x_test, y_train, y_test = train_test_split(x, label, test_size=0.3, random_state=42)\n",
    "          \n",
    "    clf = SVC(kernel='sigmoid', gamma='auto')\n",
    "    clf.fit(x_train, y_train)\n",
    "    result = dict()\n",
    "    result['Index'] = col\n",
    "    result['score_4'] = clf.score(x_test,y_test)\n",
    "    result_scores_4.append(result)"
   ]
  },
  {
   "cell_type": "code",
   "execution_count": 133,
   "metadata": {},
   "outputs": [
    {
     "data": {
      "text/html": [
       "<div>\n",
       "<style scoped>\n",
       "    .dataframe tbody tr th:only-of-type {\n",
       "        vertical-align: middle;\n",
       "    }\n",
       "\n",
       "    .dataframe tbody tr th {\n",
       "        vertical-align: top;\n",
       "    }\n",
       "\n",
       "    .dataframe thead th {\n",
       "        text-align: right;\n",
       "    }\n",
       "</style>\n",
       "<table border=\"1\" class=\"dataframe\">\n",
       "  <thead>\n",
       "    <tr style=\"text-align: right;\">\n",
       "      <th></th>\n",
       "      <th>Index</th>\n",
       "      <th>score</th>\n",
       "    </tr>\n",
       "  </thead>\n",
       "  <tbody>\n",
       "    <tr>\n",
       "      <th>0</th>\n",
       "      <td>PRI</td>\n",
       "      <td>0.4</td>\n",
       "    </tr>\n",
       "    <tr>\n",
       "      <th>1</th>\n",
       "      <td>NDVI 761</td>\n",
       "      <td>0.4</td>\n",
       "    </tr>\n",
       "    <tr>\n",
       "      <th>2</th>\n",
       "      <td>NDVI 850</td>\n",
       "      <td>0.4</td>\n",
       "    </tr>\n",
       "    <tr>\n",
       "      <th>3</th>\n",
       "      <td>NDVI 705</td>\n",
       "      <td>0.4</td>\n",
       "    </tr>\n",
       "    <tr>\n",
       "      <th>4</th>\n",
       "      <td>GNDVI</td>\n",
       "      <td>0.4</td>\n",
       "    </tr>\n",
       "    <tr>\n",
       "      <th>5</th>\n",
       "      <td>TVI Triangular VG ind</td>\n",
       "      <td>0.4</td>\n",
       "    </tr>\n",
       "    <tr>\n",
       "      <th>6</th>\n",
       "      <td>RVI</td>\n",
       "      <td>0.4</td>\n",
       "    </tr>\n",
       "    <tr>\n",
       "      <th>7</th>\n",
       "      <td>CRI 550</td>\n",
       "      <td>0.4</td>\n",
       "    </tr>\n",
       "    <tr>\n",
       "      <th>8</th>\n",
       "      <td>CRI 700</td>\n",
       "      <td>0.4</td>\n",
       "    </tr>\n",
       "    <tr>\n",
       "      <th>9</th>\n",
       "      <td>TVI Transformed veg ind</td>\n",
       "      <td>0.4</td>\n",
       "    </tr>\n",
       "  </tbody>\n",
       "</table>\n",
       "</div>"
      ],
      "text/plain": [
       "                     Index  score\n",
       "0                      PRI    0.4\n",
       "1                 NDVI 761    0.4\n",
       "2                 NDVI 850    0.4\n",
       "3                 NDVI 705    0.4\n",
       "4                    GNDVI    0.4\n",
       "5    TVI Triangular VG ind    0.4\n",
       "6                      RVI    0.4\n",
       "7                  CRI 550    0.4\n",
       "8                  CRI 700    0.4\n",
       "9  TVI Transformed veg ind    0.4"
      ]
     },
     "execution_count": 133,
     "metadata": {},
     "output_type": "execute_result"
    }
   ],
   "source": [
    "result_pd4 = pd.DataFrame(result_scores_4)\n",
    "result_pd4"
   ]
  },
  {
   "cell_type": "markdown",
   "metadata": {},
   "source": [
    "### Stage 5"
   ]
  },
  {
   "cell_type": "code",
   "execution_count": 106,
   "metadata": {},
   "outputs": [
    {
     "data": {
      "text/plain": [
       "94"
      ]
     },
     "execution_count": 106,
     "metadata": {},
     "output_type": "execute_result"
    }
   ],
   "source": [
    "length = len(stage_5)\n",
    "length"
   ]
  },
  {
   "cell_type": "code",
   "execution_count": 107,
   "metadata": {},
   "outputs": [],
   "source": [
    "health_5 = health.sample(length)\n",
    "stage_5 = pd.concat([health_5, stage_5])"
   ]
  },
  {
   "cell_type": "markdown",
   "metadata": {},
   "source": [
    "### SVM"
   ]
  },
  {
   "cell_type": "code",
   "execution_count": 124,
   "metadata": {},
   "outputs": [],
   "source": [
    "label = stage_5['label'].tolist()\n",
    "label = np.asarray(label).reshape(-1,)\n",
    "\n",
    "result_scores_5 = []\n",
    "for col in cols:\n",
    "    x = stage_5.iloc[:,1:]\n",
    "    x = x[col].tolist()\n",
    "    x = np.asarray(x).reshape(-1,1)\n",
    "    x_train, x_test, y_train, y_test = train_test_split(x, label, test_size=0.3, random_state=66)\n",
    "          \n",
    "    clf = SVC(kernel='sigmoid', gamma='auto')\n",
    "    clf.fit(x_train, y_train)\n",
    "    result = dict()\n",
    "    result['Index'] = col\n",
    "    result['score_5'] = clf.score(x_test,y_test)\n",
    "    result_scores_5.append(result)"
   ]
  },
  {
   "cell_type": "code",
   "execution_count": 127,
   "metadata": {},
   "outputs": [
    {
     "data": {
      "text/html": [
       "<div>\n",
       "<style scoped>\n",
       "    .dataframe tbody tr th:only-of-type {\n",
       "        vertical-align: middle;\n",
       "    }\n",
       "\n",
       "    .dataframe tbody tr th {\n",
       "        vertical-align: top;\n",
       "    }\n",
       "\n",
       "    .dataframe thead th {\n",
       "        text-align: right;\n",
       "    }\n",
       "</style>\n",
       "<table border=\"1\" class=\"dataframe\">\n",
       "  <thead>\n",
       "    <tr style=\"text-align: right;\">\n",
       "      <th></th>\n",
       "      <th>Index</th>\n",
       "      <th>score_5</th>\n",
       "    </tr>\n",
       "  </thead>\n",
       "  <tbody>\n",
       "    <tr>\n",
       "      <th>0</th>\n",
       "      <td>PRI</td>\n",
       "      <td>0.473684</td>\n",
       "    </tr>\n",
       "    <tr>\n",
       "      <th>1</th>\n",
       "      <td>NDVI 761</td>\n",
       "      <td>0.473684</td>\n",
       "    </tr>\n",
       "    <tr>\n",
       "      <th>2</th>\n",
       "      <td>NDVI 850</td>\n",
       "      <td>0.473684</td>\n",
       "    </tr>\n",
       "    <tr>\n",
       "      <th>3</th>\n",
       "      <td>NDVI 705</td>\n",
       "      <td>0.473684</td>\n",
       "    </tr>\n",
       "    <tr>\n",
       "      <th>4</th>\n",
       "      <td>GNDVI</td>\n",
       "      <td>0.473684</td>\n",
       "    </tr>\n",
       "    <tr>\n",
       "      <th>5</th>\n",
       "      <td>TVI Triangular VG ind</td>\n",
       "      <td>0.473684</td>\n",
       "    </tr>\n",
       "    <tr>\n",
       "      <th>6</th>\n",
       "      <td>RVI</td>\n",
       "      <td>0.473684</td>\n",
       "    </tr>\n",
       "    <tr>\n",
       "      <th>7</th>\n",
       "      <td>CRI 550</td>\n",
       "      <td>0.473684</td>\n",
       "    </tr>\n",
       "    <tr>\n",
       "      <th>8</th>\n",
       "      <td>CRI 700</td>\n",
       "      <td>0.473684</td>\n",
       "    </tr>\n",
       "    <tr>\n",
       "      <th>9</th>\n",
       "      <td>TVI Transformed veg ind</td>\n",
       "      <td>0.473684</td>\n",
       "    </tr>\n",
       "  </tbody>\n",
       "</table>\n",
       "</div>"
      ],
      "text/plain": [
       "                     Index   score_5\n",
       "0                      PRI  0.473684\n",
       "1                 NDVI 761  0.473684\n",
       "2                 NDVI 850  0.473684\n",
       "3                 NDVI 705  0.473684\n",
       "4                    GNDVI  0.473684\n",
       "5    TVI Triangular VG ind  0.473684\n",
       "6                      RVI  0.473684\n",
       "7                  CRI 550  0.473684\n",
       "8                  CRI 700  0.473684\n",
       "9  TVI Transformed veg ind  0.473684"
      ]
     },
     "execution_count": 127,
     "metadata": {},
     "output_type": "execute_result"
    }
   ],
   "source": [
    "result_pd5 = pd.DataFrame(result_scores_5)\n",
    "result_pd5"
   ]
  },
  {
   "cell_type": "markdown",
   "metadata": {},
   "source": [
    "### Stage 6"
   ]
  },
  {
   "cell_type": "code",
   "execution_count": 114,
   "metadata": {},
   "outputs": [
    {
     "data": {
      "text/plain": [
       "74"
      ]
     },
     "execution_count": 114,
     "metadata": {},
     "output_type": "execute_result"
    }
   ],
   "source": [
    "length = len(stage_6)\n",
    "length"
   ]
  },
  {
   "cell_type": "code",
   "execution_count": 115,
   "metadata": {},
   "outputs": [],
   "source": [
    "health_6 = health.sample(length)\n",
    "stage_6 = pd.concat([health_6, stage_6])"
   ]
  },
  {
   "cell_type": "markdown",
   "metadata": {},
   "source": [
    "### SVM"
   ]
  },
  {
   "cell_type": "code",
   "execution_count": 122,
   "metadata": {},
   "outputs": [],
   "source": [
    "label = stage_6['label'].tolist()\n",
    "label = np.asarray(label).reshape(-1,)\n",
    "\n",
    "result_scores_6 = []\n",
    "for col in cols:\n",
    "    x = stage_6.iloc[:,1:]\n",
    "    x = x[col].tolist()\n",
    "    x = np.asarray(x).reshape(-1,1)\n",
    "    x_train, x_test, y_train, y_test = train_test_split(x, label, test_size=0.3, random_state=11)\n",
    "          \n",
    "    clf = SVC(kernel='sigmoid', gamma='auto')\n",
    "    clf.fit(x_train, y_train)\n",
    "    result = dict()\n",
    "    result['Index'] = col\n",
    "    result['score_6'] = clf.score(x_test,y_test)\n",
    "    result_scores_6.append(result)"
   ]
  },
  {
   "cell_type": "code",
   "execution_count": 126,
   "metadata": {},
   "outputs": [
    {
     "data": {
      "text/html": [
       "<div>\n",
       "<style scoped>\n",
       "    .dataframe tbody tr th:only-of-type {\n",
       "        vertical-align: middle;\n",
       "    }\n",
       "\n",
       "    .dataframe tbody tr th {\n",
       "        vertical-align: top;\n",
       "    }\n",
       "\n",
       "    .dataframe thead th {\n",
       "        text-align: right;\n",
       "    }\n",
       "</style>\n",
       "<table border=\"1\" class=\"dataframe\">\n",
       "  <thead>\n",
       "    <tr style=\"text-align: right;\">\n",
       "      <th></th>\n",
       "      <th>Index</th>\n",
       "      <th>score_6</th>\n",
       "    </tr>\n",
       "  </thead>\n",
       "  <tbody>\n",
       "    <tr>\n",
       "      <th>0</th>\n",
       "      <td>PRI</td>\n",
       "      <td>0.488889</td>\n",
       "    </tr>\n",
       "    <tr>\n",
       "      <th>1</th>\n",
       "      <td>NDVI 761</td>\n",
       "      <td>0.888889</td>\n",
       "    </tr>\n",
       "    <tr>\n",
       "      <th>2</th>\n",
       "      <td>NDVI 850</td>\n",
       "      <td>0.866667</td>\n",
       "    </tr>\n",
       "    <tr>\n",
       "      <th>3</th>\n",
       "      <td>NDVI 705</td>\n",
       "      <td>0.488889</td>\n",
       "    </tr>\n",
       "    <tr>\n",
       "      <th>4</th>\n",
       "      <td>GNDVI</td>\n",
       "      <td>0.844444</td>\n",
       "    </tr>\n",
       "    <tr>\n",
       "      <th>5</th>\n",
       "      <td>TVI Triangular VG ind</td>\n",
       "      <td>0.488889</td>\n",
       "    </tr>\n",
       "    <tr>\n",
       "      <th>6</th>\n",
       "      <td>RVI</td>\n",
       "      <td>0.488889</td>\n",
       "    </tr>\n",
       "    <tr>\n",
       "      <th>7</th>\n",
       "      <td>CRI 550</td>\n",
       "      <td>0.488889</td>\n",
       "    </tr>\n",
       "    <tr>\n",
       "      <th>8</th>\n",
       "      <td>CRI 700</td>\n",
       "      <td>0.488889</td>\n",
       "    </tr>\n",
       "    <tr>\n",
       "      <th>9</th>\n",
       "      <td>TVI Transformed veg ind</td>\n",
       "      <td>0.488889</td>\n",
       "    </tr>\n",
       "  </tbody>\n",
       "</table>\n",
       "</div>"
      ],
      "text/plain": [
       "                     Index   score_6\n",
       "0                      PRI  0.488889\n",
       "1                 NDVI 761  0.888889\n",
       "2                 NDVI 850  0.866667\n",
       "3                 NDVI 705  0.488889\n",
       "4                    GNDVI  0.844444\n",
       "5    TVI Triangular VG ind  0.488889\n",
       "6                      RVI  0.488889\n",
       "7                  CRI 550  0.488889\n",
       "8                  CRI 700  0.488889\n",
       "9  TVI Transformed veg ind  0.488889"
      ]
     },
     "execution_count": 126,
     "metadata": {},
     "output_type": "execute_result"
    }
   ],
   "source": [
    "result_pd6 = pd.DataFrame(result_scores_6)\n",
    "result_pd6"
   ]
  },
  {
   "cell_type": "code",
   "execution_count": 138,
   "metadata": {},
   "outputs": [
    {
     "data": {
      "text/html": [
       "<div>\n",
       "<style scoped>\n",
       "    .dataframe tbody tr th:only-of-type {\n",
       "        vertical-align: middle;\n",
       "    }\n",
       "\n",
       "    .dataframe tbody tr th {\n",
       "        vertical-align: top;\n",
       "    }\n",
       "\n",
       "    .dataframe thead th {\n",
       "        text-align: right;\n",
       "    }\n",
       "</style>\n",
       "<table border=\"1\" class=\"dataframe\">\n",
       "  <thead>\n",
       "    <tr style=\"text-align: right;\">\n",
       "      <th></th>\n",
       "      <th>Index</th>\n",
       "      <th>score</th>\n",
       "      <th>Index</th>\n",
       "      <th>score</th>\n",
       "      <th>Index</th>\n",
       "      <th>score</th>\n",
       "      <th>Index</th>\n",
       "      <th>score</th>\n",
       "      <th>Index</th>\n",
       "      <th>score_5</th>\n",
       "      <th>Index</th>\n",
       "      <th>score_6</th>\n",
       "    </tr>\n",
       "  </thead>\n",
       "  <tbody>\n",
       "    <tr>\n",
       "      <th>0</th>\n",
       "      <td>PRI</td>\n",
       "      <td>0.662651</td>\n",
       "      <td>PRI</td>\n",
       "      <td>0.479167</td>\n",
       "      <td>PRI</td>\n",
       "      <td>0.487179</td>\n",
       "      <td>PRI</td>\n",
       "      <td>0.4</td>\n",
       "      <td>PRI</td>\n",
       "      <td>0.473684</td>\n",
       "      <td>PRI</td>\n",
       "      <td>0.488889</td>\n",
       "    </tr>\n",
       "    <tr>\n",
       "      <th>1</th>\n",
       "      <td>NDVI 761</td>\n",
       "      <td>0.662651</td>\n",
       "      <td>NDVI 761</td>\n",
       "      <td>0.677083</td>\n",
       "      <td>NDVI 761</td>\n",
       "      <td>0.653846</td>\n",
       "      <td>NDVI 761</td>\n",
       "      <td>0.4</td>\n",
       "      <td>NDVI 761</td>\n",
       "      <td>0.473684</td>\n",
       "      <td>NDVI 761</td>\n",
       "      <td>0.888889</td>\n",
       "    </tr>\n",
       "    <tr>\n",
       "      <th>2</th>\n",
       "      <td>NDVI 850</td>\n",
       "      <td>0.662651</td>\n",
       "      <td>NDVI 850</td>\n",
       "      <td>0.666667</td>\n",
       "      <td>NDVI 850</td>\n",
       "      <td>0.730769</td>\n",
       "      <td>NDVI 850</td>\n",
       "      <td>0.4</td>\n",
       "      <td>NDVI 850</td>\n",
       "      <td>0.473684</td>\n",
       "      <td>NDVI 850</td>\n",
       "      <td>0.866667</td>\n",
       "    </tr>\n",
       "    <tr>\n",
       "      <th>3</th>\n",
       "      <td>NDVI 705</td>\n",
       "      <td>0.662651</td>\n",
       "      <td>NDVI 705</td>\n",
       "      <td>0.479167</td>\n",
       "      <td>NDVI 705</td>\n",
       "      <td>0.487179</td>\n",
       "      <td>NDVI 705</td>\n",
       "      <td>0.4</td>\n",
       "      <td>NDVI 705</td>\n",
       "      <td>0.473684</td>\n",
       "      <td>NDVI 705</td>\n",
       "      <td>0.488889</td>\n",
       "    </tr>\n",
       "    <tr>\n",
       "      <th>4</th>\n",
       "      <td>GNDVI</td>\n",
       "      <td>0.662651</td>\n",
       "      <td>GNDVI</td>\n",
       "      <td>0.770833</td>\n",
       "      <td>GNDVI</td>\n",
       "      <td>0.653846</td>\n",
       "      <td>GNDVI</td>\n",
       "      <td>0.4</td>\n",
       "      <td>GNDVI</td>\n",
       "      <td>0.473684</td>\n",
       "      <td>GNDVI</td>\n",
       "      <td>0.844444</td>\n",
       "    </tr>\n",
       "    <tr>\n",
       "      <th>5</th>\n",
       "      <td>TVI Triangular VG ind</td>\n",
       "      <td>0.662651</td>\n",
       "      <td>TVI Triangular VG ind</td>\n",
       "      <td>0.479167</td>\n",
       "      <td>TVI Triangular VG ind</td>\n",
       "      <td>0.487179</td>\n",
       "      <td>TVI Triangular VG ind</td>\n",
       "      <td>0.4</td>\n",
       "      <td>TVI Triangular VG ind</td>\n",
       "      <td>0.473684</td>\n",
       "      <td>TVI Triangular VG ind</td>\n",
       "      <td>0.488889</td>\n",
       "    </tr>\n",
       "    <tr>\n",
       "      <th>6</th>\n",
       "      <td>RVI</td>\n",
       "      <td>0.662651</td>\n",
       "      <td>RVI</td>\n",
       "      <td>0.479167</td>\n",
       "      <td>RVI</td>\n",
       "      <td>0.487179</td>\n",
       "      <td>RVI</td>\n",
       "      <td>0.4</td>\n",
       "      <td>RVI</td>\n",
       "      <td>0.473684</td>\n",
       "      <td>RVI</td>\n",
       "      <td>0.488889</td>\n",
       "    </tr>\n",
       "    <tr>\n",
       "      <th>7</th>\n",
       "      <td>CRI 550</td>\n",
       "      <td>0.662651</td>\n",
       "      <td>CRI 550</td>\n",
       "      <td>0.479167</td>\n",
       "      <td>CRI 550</td>\n",
       "      <td>0.487179</td>\n",
       "      <td>CRI 550</td>\n",
       "      <td>0.4</td>\n",
       "      <td>CRI 550</td>\n",
       "      <td>0.473684</td>\n",
       "      <td>CRI 550</td>\n",
       "      <td>0.488889</td>\n",
       "    </tr>\n",
       "    <tr>\n",
       "      <th>8</th>\n",
       "      <td>CRI 700</td>\n",
       "      <td>0.662651</td>\n",
       "      <td>CRI 700</td>\n",
       "      <td>0.479167</td>\n",
       "      <td>CRI 700</td>\n",
       "      <td>0.487179</td>\n",
       "      <td>CRI 700</td>\n",
       "      <td>0.4</td>\n",
       "      <td>CRI 700</td>\n",
       "      <td>0.473684</td>\n",
       "      <td>CRI 700</td>\n",
       "      <td>0.488889</td>\n",
       "    </tr>\n",
       "    <tr>\n",
       "      <th>9</th>\n",
       "      <td>TVI Transformed veg ind</td>\n",
       "      <td>0.662651</td>\n",
       "      <td>TVI Transformed veg ind</td>\n",
       "      <td>0.479167</td>\n",
       "      <td>TVI Transformed veg ind</td>\n",
       "      <td>0.487179</td>\n",
       "      <td>TVI Transformed veg ind</td>\n",
       "      <td>0.4</td>\n",
       "      <td>TVI Transformed veg ind</td>\n",
       "      <td>0.473684</td>\n",
       "      <td>TVI Transformed veg ind</td>\n",
       "      <td>0.488889</td>\n",
       "    </tr>\n",
       "  </tbody>\n",
       "</table>\n",
       "</div>"
      ],
      "text/plain": [
       "                     Index     score                    Index     score  \\\n",
       "0                      PRI  0.662651                      PRI  0.479167   \n",
       "1                 NDVI 761  0.662651                 NDVI 761  0.677083   \n",
       "2                 NDVI 850  0.662651                 NDVI 850  0.666667   \n",
       "3                 NDVI 705  0.662651                 NDVI 705  0.479167   \n",
       "4                    GNDVI  0.662651                    GNDVI  0.770833   \n",
       "5    TVI Triangular VG ind  0.662651    TVI Triangular VG ind  0.479167   \n",
       "6                      RVI  0.662651                      RVI  0.479167   \n",
       "7                  CRI 550  0.662651                  CRI 550  0.479167   \n",
       "8                  CRI 700  0.662651                  CRI 700  0.479167   \n",
       "9  TVI Transformed veg ind  0.662651  TVI Transformed veg ind  0.479167   \n",
       "\n",
       "                     Index     score                    Index  score  \\\n",
       "0                      PRI  0.487179                      PRI    0.4   \n",
       "1                 NDVI 761  0.653846                 NDVI 761    0.4   \n",
       "2                 NDVI 850  0.730769                 NDVI 850    0.4   \n",
       "3                 NDVI 705  0.487179                 NDVI 705    0.4   \n",
       "4                    GNDVI  0.653846                    GNDVI    0.4   \n",
       "5    TVI Triangular VG ind  0.487179    TVI Triangular VG ind    0.4   \n",
       "6                      RVI  0.487179                      RVI    0.4   \n",
       "7                  CRI 550  0.487179                  CRI 550    0.4   \n",
       "8                  CRI 700  0.487179                  CRI 700    0.4   \n",
       "9  TVI Transformed veg ind  0.487179  TVI Transformed veg ind    0.4   \n",
       "\n",
       "                     Index   score_5                    Index   score_6  \n",
       "0                      PRI  0.473684                      PRI  0.488889  \n",
       "1                 NDVI 761  0.473684                 NDVI 761  0.888889  \n",
       "2                 NDVI 850  0.473684                 NDVI 850  0.866667  \n",
       "3                 NDVI 705  0.473684                 NDVI 705  0.488889  \n",
       "4                    GNDVI  0.473684                    GNDVI  0.844444  \n",
       "5    TVI Triangular VG ind  0.473684    TVI Triangular VG ind  0.488889  \n",
       "6                      RVI  0.473684                      RVI  0.488889  \n",
       "7                  CRI 550  0.473684                  CRI 550  0.488889  \n",
       "8                  CRI 700  0.473684                  CRI 700  0.488889  \n",
       "9  TVI Transformed veg ind  0.473684  TVI Transformed veg ind  0.488889  "
      ]
     },
     "execution_count": 138,
     "metadata": {},
     "output_type": "execute_result"
    }
   ],
   "source": [
    "full_score = pd.concat([result_pd1,result_pd2,result_pd3,result_pd4,result_pd5,result_pd6], axis=1)\n",
    "full_score"
   ]
  },
  {
   "cell_type": "code",
   "execution_count": 139,
   "metadata": {},
   "outputs": [],
   "source": [
    "full_score.to_excel('Vegegtation indices SVM scores.xlsx')"
   ]
  },
  {
   "cell_type": "code",
   "execution_count": null,
   "metadata": {},
   "outputs": [],
   "source": []
  }
 ],
 "metadata": {
  "kernelspec": {
   "display_name": "hsi",
   "language": "python",
   "name": "hsi"
  },
  "language_info": {
   "codemirror_mode": {
    "name": "ipython",
    "version": 3
   },
   "file_extension": ".py",
   "mimetype": "text/x-python",
   "name": "python",
   "nbconvert_exporter": "python",
   "pygments_lexer": "ipython3",
   "version": "3.7.11"
  }
 },
 "nbformat": 4,
 "nbformat_minor": 2
}
