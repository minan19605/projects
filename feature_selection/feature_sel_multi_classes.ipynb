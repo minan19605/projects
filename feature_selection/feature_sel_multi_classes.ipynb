{
 "cells": [
  {
   "cell_type": "code",
   "execution_count": 5,
   "id": "6154d114",
   "metadata": {},
   "outputs": [],
   "source": [
    "import numpy as np\n",
    "#import pickle\n",
    "import pandas as pd\n",
    "from time import time\n",
    "from datetime import datetime\n",
    "from itertools import combinations\n",
    "import csv\n",
    "\n",
    "from sklearn.model_selection import train_test_split\n",
    "#from sklearn.preprocessing import StandardScaler\n",
    "from sklearn.model_selection import GridSearchCV\n",
    "from sklearn.model_selection import RepeatedKFold\n",
    "from sklearn.model_selection import cross_val_score\n",
    "from sklearn.metrics import accuracy_score, f1_score\n",
    "from sklearn.metrics import make_scorer\n",
    "from sklearn.preprocessing import MinMaxScaler\n",
    "\n",
    "#from sklearn.neighbors import KNeighborsClassifier\n",
    "from sklearn.svm import SVC\n",
    "#from sklearn.gaussian_process import GaussianProcessClassifier\n",
    "#from sklearn.gaussian_process.kernels import RBF\n",
    "from sklearn.tree import DecisionTreeClassifier\n",
    "from sklearn.ensemble import RandomForestClassifier, AdaBoostClassifier\n",
    "from sklearn.naive_bayes import GaussianNB\n",
    "from sklearn.discriminant_analysis import QuadraticDiscriminantAnalysis\n",
    "from sklearn.feature_selection import SelectKBest,f_classif,chi2\n",
    "\n",
    "from sklearn.linear_model import RidgeClassifier,Lasso\n",
    "\n",
    "#from sklearn.ensemble import StackingClassifier\n",
    "#from sklearn.linear_model import LogisticRegression\n",
    "from sklearn.linear_model import SGDClassifier\n",
    "\n",
    "from sklearn.ensemble import ExtraTreesClassifier\n",
    "from sklearn.feature_selection import SelectFromModel\n",
    "from sklearn.feature_selection import r_regression\n",
    "from sklearn.feature_selection import RFE"
   ]
  },
  {
   "cell_type": "code",
   "execution_count": 6,
   "id": "7572bf78",
   "metadata": {},
   "outputs": [],
   "source": [
    "def get_f1_score_by_method(clf, _input, label, selected_bands):\n",
    "    X = _input[selected_bands].to_numpy()\n",
    "    y = label\n",
    "    rkf = RepeatedKFold(n_splits=4, n_repeats=4, random_state=2652124)\n",
    "    f1_scores = []\n",
    "    for train_index, test_index in rkf.split(X):\n",
    "        #print(\"TRAIN:\", train_index, \"TEST:\", test_index)\n",
    "        X_train, X_test = X[train_index], X[test_index]\n",
    "        y_train, y_test = y[train_index], y[test_index]\n",
    "        clf.fit(X_train,y_train)\n",
    "        y_pred = clf.predict(X_test)\n",
    "        _score = f1_score(y_test, y_pred, average=None)\n",
    "        f1_scores.append(_score)\n",
    "        \n",
    "    return f1_scores"
   ]
  },
  {
   "cell_type": "code",
   "execution_count": 7,
   "id": "bca5fbde",
   "metadata": {},
   "outputs": [],
   "source": [
    "def _my_f1_scorer(y_true, y_pred):\n",
    "    _score = f1_score(y_true, y_pred, average=None)\n",
    "    return _score[1]\n",
    "\n",
    "my_f1_scorer = make_scorer(_my_f1_scorer)"
   ]
  },
  {
   "cell_type": "code",
   "execution_count": 8,
   "id": "da54a477",
   "metadata": {},
   "outputs": [],
   "source": [
    "def get_top_bands_comb(best_band,remain_bands, _input, label, model):\n",
    "\n",
    "    print(\"Start to process bands selection .....................\")\n",
    "    print(\"#######################################################\")\n",
    "    t0 = time()\n",
    "    results = list()\n",
    "    _best_score = 0.0\n",
    "    cv = RepeatedKFold(n_splits=4,n_repeats=4, random_state=46)\n",
    "\n",
    "    for i in range(len(remain_bands)):\n",
    "        #t1 = time()\n",
    "        _best_band = ' '\n",
    "        result = dict()\n",
    "        _count = 0\n",
    "        for item in remain_bands:\n",
    "            _count += 1\n",
    "            selected_bands = best_band.copy()\n",
    "            selected_bands.append(item)\n",
    "            _new_input = _input[selected_bands]\n",
    "            scores = cross_val_score(model, _new_input, label, scoring=my_f1_scorer, cv=cv, n_jobs=-1)\n",
    "            _score = np.mean(scores)\n",
    "\n",
    "            if _score > _best_score:\n",
    "                _best_score = _score\n",
    "                _best_band = item\n",
    "\n",
    "        if _best_band == ' ':  # Can't find more bands to increase score, then exit \n",
    "            break\n",
    "\n",
    "        best_band.append(_best_band)\n",
    "        remain_bands.remove(_best_band)\n",
    "        result['score'] = _best_score\n",
    "        result['bands'] = best_band.copy()\n",
    "\n",
    "        results.append(result)\n",
    "        #print(\"Round {} process {} bands, get score {} using {} seconds \".format(i, _count, _best_score, time()-t1))\n",
    "\n",
    "    print(\"Using {} sec\".format(time()-t0))\n",
    "    return results"
   ]
  },
  {
   "cell_type": "markdown",
   "id": "5d8853ca",
   "metadata": {},
   "source": [
    "### Note: Here don't use maxminScale() for _input "
   ]
  },
  {
   "cell_type": "code",
   "execution_count": 2,
   "id": "180553c3",
   "metadata": {},
   "outputs": [
    {
     "name": "stdout",
     "output_type": "stream",
     "text": [
      "Start time is 2022-02-16 10:44:58.298000\n",
      "Load data success\n"
     ]
    }
   ],
   "source": [
    "_file_name = 'Adjusted categorization - 1-5,16-30, 35-70.xlsx'\n",
    "full_data = pd.read_excel(_file_name, sheet_name='Multiclasses')\n",
    "\n",
    "print(\"Start time is {}\".format(datetime.now()))\n",
    "start = datetime.now()\n",
    "\n",
    "print(\"Load data success\")\n",
    "\n",
    "str_cols = full_data.columns.astype(str)\n",
    "full_data.columns = str_cols\n",
    "cols = str_cols.tolist()\n",
    "cols = cols[1:]\n",
    "\n",
    "_input = full_data[cols]\n",
    "label = full_data['label'].tolist()\n",
    "label = np.asarray(label).reshape(-1,)"
   ]
  },
  {
   "cell_type": "code",
   "execution_count": 3,
   "id": "f97a1322",
   "metadata": {},
   "outputs": [],
   "source": [
    "model =  QuadraticDiscriminantAnalysis()"
   ]
  },
  {
   "cell_type": "code",
   "execution_count": 42,
   "id": "2391a396",
   "metadata": {},
   "outputs": [
    {
     "name": "stdout",
     "output_type": "stream",
     "text": [
      "Top bands: ['677.9', '673.8', '679.9', '682', '684', '688.1', '659.4', '692.3', '657.4', '655.3']\n",
      "Start to process bands selection .....................\n",
      "#######################################################\n",
      "Using 70.6292371749878 sec\n",
      "0.8487244897959183\n",
      "['677.9', '762.1', '745.6', '731.3', '415.1', '723', '606', '716.9', '622.5', '877', '659.4', '643', '497.2', '472.6', '825.7', '454.1', '573.2', '402.8', '696.4', '776.4', '550.6', '513.7', '530.1', '411']\n"
     ]
    }
   ],
   "source": [
    "# f_classif\n",
    "clf = SelectKBest(f_classif, k=2)\n",
    "X_new = clf.fit_transform(_input, label)\n",
    "indices = np.argsort(clf.scores_)[::-1]\n",
    "top_bands = list(_input.columns.values[indices])\n",
    "print(\"Top bands: {}\".format(top_bands[:10]))\n",
    "best_band = [top_bands[0]]\n",
    "remain_bands = top_bands[1:]\n",
    "results = get_top_bands_comb(best_band, remain_bands, _input, label, model)\n",
    "print(results[-1]['score'])\n",
    "print(results[-1]['bands'])\n",
    "\n",
    "_result = pd.DataFrame(results)"
   ]
  },
  {
   "cell_type": "code",
   "execution_count": 43,
   "id": "66348bb7",
   "metadata": {},
   "outputs": [
    {
     "name": "stdout",
     "output_type": "stream",
     "text": [
      "Top bands: ['762.1', '784.6', '760', '778.5', '817.5', '796.9', '811.3', '757.9', '766.2', '819.5']\n",
      "Start to process bands selection .....................\n",
      "#######################################################\n",
      "Using 75.93051385879517 sec\n",
      "0.8543367346938775\n",
      "['762.1', '737.4', '721', '579.4', '409', '827.7', '774.4', '817.5', '458.2', '511.6', '413.1', '872.9', '521.9', '550.6', '398.7', '614.2', '796.9', '778.5', '751.8', '702.5', '499.3', '640.9', '684', '745.6', '423.3', '565']\n"
     ]
    }
   ],
   "source": [
    "# chi2\n",
    "clf = SelectKBest(chi2, k=2)\n",
    "X_new = clf.fit_transform(_input, label)\n",
    "indices = np.argsort(clf.scores_)[::-1]\n",
    "top_bands = list(_input.columns.values[indices])\n",
    "print(\"Top bands: {}\".format(top_bands[:10]))\n",
    "best_band = [top_bands[0]]\n",
    "remain_bands = top_bands[1:]\n",
    "results = get_top_bands_comb(best_band, remain_bands, _input, label, model)\n",
    "print(results[-1]['score'])\n",
    "print(results[-1]['bands'])\n",
    "\n",
    "_result = pd.DataFrame(results)"
   ]
  },
  {
   "cell_type": "code",
   "execution_count": 44,
   "id": "84af4f6c",
   "metadata": {},
   "outputs": [
    {
     "name": "stdout",
     "output_type": "stream",
     "text": [
      "['885.2', '507.5', '513.7', '515.7', '521.9', '523.9', '530.1', '536.2', '538.3', '542.4']\n",
      "Start to process bands selection .....................\n",
      "#######################################################\n",
      "Using 61.28950762748718 sec\n",
      "0.8499149659863946\n",
      "['885.2', '817.5', '749.7', '558.8', '757.9', '400.8', '421.3', '507.5', '825.7', '445.9', '731.3', '721', '858.5', '657.4', '542.4', '521.9', '692.3', '577.3', '741.5', '409', '478.8']\n"
     ]
    }
   ],
   "source": [
    "# Lasso\n",
    "lasso = Lasso(alpha=1).fit(_input, label)\n",
    "indices = np.argsort(lasso.coef_)[::-1]\n",
    "top_bands = list(_input.columns.values[indices])\n",
    "print(top_bands[:10])\n",
    "best_band = [top_bands[0]]\n",
    "remain_bands = top_bands[1:]\n",
    "results = get_top_bands_comb(best_band, remain_bands, _input, label, model)\n",
    "print(results[-1]['score'])\n",
    "print(results[-1]['bands'])\n",
    "\n",
    "_result = pd.DataFrame(results)"
   ]
  },
  {
   "cell_type": "code",
   "execution_count": 45,
   "id": "9959e2d3",
   "metadata": {},
   "outputs": [
    {
     "name": "stdout",
     "output_type": "stream",
     "text": [
      "['772.3', '774.4', '749.7', '751.8', '766.2', '757.9', '776.4', '755.9', '760', '745.6']\n",
      "Start to process bands selection .....................\n",
      "#######################################################\n",
      "Using 78.91263937950134 sec\n",
      "0.8659863945578231\n",
      "['772.3', '766.2', '725.1', '819.5', '708.7', '618.4', '493.1', '513.7', '583.5', '415.1', '456.2', '406.9', '784.6', '542.4', '636.8', '523.9', '735.4', '694.3', '394.6', '881.1', '472.6', '803.1', '679.9', '848.3', '445.9', '423.3', '595.8']\n"
     ]
    }
   ],
   "source": [
    "# RidgeClassifier\n",
    "rcf = RidgeClassifier(alpha=1).fit(_input, label)\n",
    "indices = np.argsort(rcf.coef_)[::-1]\n",
    "top_bands = list(_input.columns.values[indices][0])\n",
    "print(top_bands[:10])\n",
    "\n",
    "best_band = [top_bands[0]]\n",
    "remain_bands = top_bands[1:]\n",
    "results = get_top_bands_comb(best_band, remain_bands, _input, label, model)\n",
    "print(results[-1]['score'])\n",
    "print(results[-1]['bands'])\n",
    "\n",
    "_result = pd.DataFrame(results)"
   ]
  },
  {
   "cell_type": "code",
   "execution_count": 46,
   "id": "ab2479ec",
   "metadata": {},
   "outputs": [
    {
     "name": "stdout",
     "output_type": "stream",
     "text": [
      "['677.9', '679.9', '684', '682', '673.8', '692.3', '688.1', '659.4', '694.3', '657.4']\n",
      "Start to process bands selection .....................\n",
      "#######################################################\n",
      "Using 70.61459946632385 sec\n",
      "0.8487244897959183\n",
      "['677.9', '762.1', '745.6', '731.3', '415.1', '723', '606', '716.9', '622.5', '877', '659.4', '643', '497.2', '472.6', '825.7', '454.1', '573.2', '402.8', '696.4', '776.4', '550.6', '513.7', '530.1', '411']\n"
     ]
    }
   ],
   "source": [
    "# R_regression\n",
    "_corr = r_regression(_input, label)\n",
    "indices = np.argsort(_corr)[::-1]\n",
    "top_bands = list(_input.columns.values[indices])\n",
    "print(top_bands[:10])\n",
    "\n",
    "best_band = [top_bands[0]]\n",
    "remain_bands = top_bands[1:]\n",
    "results = get_top_bands_comb(best_band, remain_bands, _input, label, model)\n",
    "print(results[-1]['score'])\n",
    "print(results[-1]['bands'])\n",
    "\n",
    "_result = pd.DataFrame(results)"
   ]
  },
  {
   "cell_type": "code",
   "execution_count": 47,
   "id": "d60f9ee4",
   "metadata": {},
   "outputs": [
    {
     "name": "stdout",
     "output_type": "stream",
     "text": [
      "['411', '694.3', '762.1']\n",
      "Start to process bands selection .....................\n",
      "#######################################################\n",
      "Using 85.99544334411621 sec\n",
      "0.858078231292517\n",
      "['411', '757.9', '772.3', '727.2', '721', '817.5', '511.6', '484.9', '577.3', '860.6', '445.9', '521.9', '417.2', '655.3', '398.7', '803.1', '536.2', '454.1', '556.8', '751.8', '673.8', '743.6', '833.9', '688.1', '883.2', '630.7', '406.9', '429.5', '468.5']\n"
     ]
    }
   ],
   "source": [
    "# RFE with Random Forest\n",
    "clf = RandomForestClassifier(random_state=46)\n",
    "\n",
    "rfe = RFE(estimator=clf, step=1, n_features_to_select=3)\n",
    "rfe.fit(_input, label)\n",
    "\n",
    "_mask = np.ma.masked_where(rfe.ranking_ == 1, rfe.ranking_)\n",
    "top_bands = list(_input.columns.values[_mask.mask])\n",
    "print(top_bands[:10])\n",
    "\n",
    "best_band = [top_bands[0]]\n",
    "remain_bands = cols.copy()\n",
    "remain_bands.remove(best_band[0])\n",
    "\n",
    "results = get_top_bands_comb(best_band, remain_bands, _input, label, model)\n",
    "print(results[-1]['score'])\n",
    "print(results[-1]['bands'])\n",
    "\n",
    "_result = pd.DataFrame(results)"
   ]
  },
  {
   "cell_type": "code",
   "execution_count": 48,
   "id": "569fcaa7",
   "metadata": {},
   "outputs": [
    {
     "name": "stdout",
     "output_type": "stream",
     "text": [
      "['706.6', '760', '762.1']\n",
      "Start to process bands selection .....................\n",
      "#######################################################\n",
      "Using 71.4791829586029 sec\n",
      "0.8606292517006803\n",
      "['706.6', '755.9', '737.4', '731.3', '413.1', '622.5', '659.4', '850.3', '803.1', '825.7', '638.9', '774.4', '406.9', '433.6', '515.7', '538.3', '493.1', '575.2', '811.3', '864.7', '417.2', '396.7', '556.8', '694.3']\n"
     ]
    }
   ],
   "source": [
    "# RFE with SVC linear\n",
    "\n",
    "clf = SVC(kernel=\"linear\")\n",
    "rfe = RFE(estimator=clf, step=1, n_features_to_select=3)\n",
    "rfe.fit(_input, label)\n",
    "\n",
    "_mask = np.ma.masked_where(rfe.ranking_ == 1, rfe.ranking_)\n",
    "top_bands = list(_input.columns.values[_mask.mask])\n",
    "print(top_bands[:10])\n",
    "\n",
    "best_band = [top_bands[0]]\n",
    "remain_bands = cols.copy()\n",
    "remain_bands.remove(best_band[0])\n",
    "\n",
    "results = get_top_bands_comb(best_band, remain_bands, _input, label, model)\n",
    "print(results[-1]['score'])\n",
    "print(results[-1]['bands'])\n",
    "\n",
    "_result = pd.DataFrame(results)"
   ]
  },
  {
   "cell_type": "code",
   "execution_count": 49,
   "id": "8e07ede2",
   "metadata": {},
   "outputs": [
    {
     "name": "stdout",
     "output_type": "stream",
     "text": [
      "Start to get bands via Tree method\n",
      "Start to cal best bands\n",
      "['762.1', '673.8', '696.4', '682', '402.8', '692.3', '411', '706.6', '413.1', '702.5']\n",
      "Start to process bands selection .....................\n",
      "#######################################################\n",
      "Using 77.10193943977356 sec\n",
      "0.8543367346938775\n",
      "['762.1', '737.4', '721', '579.4', '409', '827.7', '774.4', '817.5', '458.2', '511.6', '413.1', '872.9', '521.9', '550.6', '398.7', '614.2', '796.9', '778.5', '751.8', '702.5', '499.3', '640.9', '684', '745.6', '423.3', '565']\n"
     ]
    }
   ],
   "source": [
    "#Tree method\n",
    "print(\"Start to get bands via Tree method\")\n",
    "etc = ExtraTreesClassifier(n_estimators=100, n_jobs=-1)\n",
    "etc = etc.fit(_input, label)\n",
    "#indices = np.argsort(etc.feature_importances_)[::-1]\n",
    "#sfm = SelectFromModel(etc)\n",
    "#X_new = sfm.fit_transform(_input, label)\n",
    "\n",
    "# Model selected 93 bands\n",
    "col_importance = []\n",
    "\n",
    "for col, importance in zip(cols,etc.feature_importances_):\n",
    "    item= dict()\n",
    "    item['col'] = col\n",
    "    item['importance'] = importance\n",
    "    col_importance.append(item)\n",
    "\n",
    "pd_col_imp = pd.DataFrame(col_importance)\n",
    "print(\"Start to cal best bands\")\n",
    "#_number = X_new.shape[1]\n",
    "_number = 80\n",
    "top_bands = pd_col_imp.sort_values(by=['importance'], ascending=False).head(_number)['col'].tolist()\n",
    "print(top_bands[:10])\n",
    "\n",
    "best_band = [top_bands[0]]\n",
    "remain_bands = cols.copy()\n",
    "remain_bands.remove(best_band[0])\n",
    "results = get_top_bands_comb(best_band, remain_bands, _input, label, model)\n",
    "print(results[-1]['score'])\n",
    "print(results[-1]['bands'])\n",
    "\n",
    "_result = pd.DataFrame(results)"
   ]
  },
  {
   "cell_type": "markdown",
   "id": "8efd0c56",
   "metadata": {},
   "source": [
    "### Process selected bands from different methods"
   ]
  },
  {
   "cell_type": "code",
   "execution_count": 4,
   "id": "9905d6dd",
   "metadata": {},
   "outputs": [],
   "source": [
    "rfe_svc = ['706.6', '755.9', '737.4', '731.3', '413.1', '622.5', '659.4', '850.3', '803.1', '825.7', '638.9', \n",
    "               '774.4', '406.9', '433.6', '515.7', '538.3', '493.1', '575.2', '811.3', '864.7', '417.2', '396.7', \n",
    "               '556.8', '694.3']\n",
    "\n",
    "rfe_random = ['411', '757.9', '772.3', '727.2', '721', '817.5', '511.6', '484.9', '577.3', '860.6', '445.9', \n",
    "                  '521.9', '417.2', '655.3', '398.7', '803.1', '536.2', '454.1', '556.8', '751.8', '673.8', \n",
    "                  '743.6', '833.9', '688.1', '883.2', '630.7', '406.9', '429.5', '468.5']\n",
    "\n",
    "tree = ['402.8', '760', '737.4', '733.3', '796.9', '417.2', '821.6', '573.2', '515.7', '774.4', '542.4', \n",
    "            '659.4', '501.3', '448', '696.4', '885.2', '530.1', '622.5', '682', '776.4', '411', '877', '706.6', \n",
    "            '472.6', '848.3']\n",
    "\n",
    "R_regression = ['677.9', '762.1', '745.6', '731.3', '415.1', '723', '606', '716.9', '622.5', '877', '659.4', \n",
    "                    '643', '497.2', '472.6', '825.7', '454.1', '573.2', '402.8', '696.4', '776.4', '550.6', '513.7',\n",
    "                    '530.1', '411']\n",
    "\n",
    "Ridge_Classifier = ['772.3', '766.2', '725.1', '819.5', '708.7', '618.4', '493.1', '513.7', '583.5', '415.1', \n",
    "                       '456.2', '406.9', '784.6', '542.4', '636.8', '523.9', '735.4', '694.3', '394.6', '881.1', \n",
    "                       '472.6', '803.1', '679.9', '848.3', '445.9', '423.3', '595.8']\n",
    "\n",
    "lasso = ['885.2', '817.5', '749.7', '558.8', '757.9', '400.8', '421.3', '507.5', '825.7', '445.9', '731.3', \n",
    "             '721', '858.5', '657.4', '542.4', '521.9', '692.3', '577.3', '741.5', '409', '478.8']\n",
    "\n",
    "chi2 = ['762.1', '737.4', '721', '579.4', '409', '827.7', '774.4', '817.5', '458.2', '511.6', '413.1', '872.9', \n",
    "            '521.9', '550.6', '398.7', '614.2', '796.9', '778.5', '751.8', '702.5', '499.3', '640.9', '684', \n",
    "            '745.6', '423.3', '565']\n",
    "\n",
    "f_classif = ['677.9', '762.1', '745.6', '731.3', '415.1', '723', '606', '716.9', '622.5', '877', '659.4', \n",
    "                 '643', '497.2', '472.6', '825.7', '454.1', '573.2', '402.8', '696.4', '776.4', '550.6', '513.7', \n",
    "                 '530.1', '411']"
   ]
  },
  {
   "cell_type": "code",
   "execution_count": 5,
   "id": "619924a0",
   "metadata": {},
   "outputs": [],
   "source": [
    "bands_lists = [rfe_svc, rfe_random, tree, R_regression, Ridge_Classifier, lasso, chi2, f_classif]\n",
    "bands_name = ['rfe_svc', 'rfe_random', 'tree', 'R_regression', 'RidgeClassifier', 'lasso', 'chi2', 'f_classif']"
   ]
  },
  {
   "cell_type": "code",
   "execution_count": 39,
   "id": "ae9d6ab3",
   "metadata": {},
   "outputs": [],
   "source": [
    "set_lists = [set(item) for item in bands_lists]\n",
    "u = set.intersection(*set_lists)"
   ]
  },
  {
   "cell_type": "code",
   "execution_count": 40,
   "id": "fd82a43f",
   "metadata": {},
   "outputs": [
    {
     "data": {
      "text/plain": [
       "set()"
      ]
     },
     "execution_count": 40,
     "metadata": {},
     "output_type": "execute_result"
    }
   ],
   "source": [
    "u"
   ]
  },
  {
   "cell_type": "code",
   "execution_count": 6,
   "id": "cc36fe68",
   "metadata": {},
   "outputs": [],
   "source": [
    "full_lists = set()\n",
    "for item in bands_lists:\n",
    "    full_lists = set.union(full_lists, set(item))\n",
    "\n",
    "full_lists = list(full_lists)\n"
   ]
  },
  {
   "cell_type": "code",
   "execution_count": 7,
   "id": "0b098617",
   "metadata": {},
   "outputs": [
    {
     "data": {
      "text/plain": [
       "115"
      ]
     },
     "execution_count": 7,
     "metadata": {},
     "output_type": "execute_result"
    }
   ],
   "source": [
    "full_lists.sort()\n",
    "len(full_lists)"
   ]
  },
  {
   "cell_type": "code",
   "execution_count": 8,
   "id": "9edae5a6",
   "metadata": {},
   "outputs": [
    {
     "name": "stdout",
     "output_type": "stream",
     "text": [
      "24\n",
      "29\n",
      "25\n",
      "24\n",
      "27\n",
      "21\n",
      "26\n",
      "24\n"
     ]
    }
   ],
   "source": [
    "for item in bands_lists:\n",
    "    print(len(item))"
   ]
  },
  {
   "cell_type": "code",
   "execution_count": 36,
   "id": "23516ee9",
   "metadata": {},
   "outputs": [],
   "source": [
    "_tmp = ['737.4', '811.3', '762.1', '706.6', '774.4', '803.1']\n",
    "for item in _tmp:\n",
    "    if item not in full_lists:\n",
    "        print(item)"
   ]
  },
  {
   "cell_type": "code",
   "execution_count": 37,
   "id": "42c14618",
   "metadata": {},
   "outputs": [
    {
     "ename": "NameError",
     "evalue": "name 'name' is not defined",
     "output_type": "error",
     "traceback": [
      "\u001b[1;31m---------------------------------------------------------------------------\u001b[0m",
      "\u001b[1;31mNameError\u001b[0m                                 Traceback (most recent call last)",
      "\u001b[1;32m~\\AppData\\Local\\Temp/ipykernel_3868/1028368233.py\u001b[0m in \u001b[0;36m<module>\u001b[1;34m\u001b[0m\n\u001b[0;32m      1\u001b[0m \u001b[0mqda\u001b[0m \u001b[1;33m=\u001b[0m  \u001b[0mQuadraticDiscriminantAnalysis\u001b[0m\u001b[1;33m(\u001b[0m\u001b[1;33m)\u001b[0m\u001b[1;33m\u001b[0m\u001b[1;33m\u001b[0m\u001b[0m\n\u001b[0;32m      2\u001b[0m \u001b[0mf1_scores\u001b[0m \u001b[1;33m=\u001b[0m \u001b[0mget_f1_score_by_method\u001b[0m\u001b[1;33m(\u001b[0m\u001b[0mqda\u001b[0m\u001b[1;33m,\u001b[0m \u001b[0m_input\u001b[0m\u001b[1;33m,\u001b[0m \u001b[0mlabel\u001b[0m\u001b[1;33m,\u001b[0m \u001b[0m_tmp\u001b[0m\u001b[1;33m)\u001b[0m\u001b[1;33m\u001b[0m\u001b[1;33m\u001b[0m\u001b[0m\n\u001b[1;32m----> 3\u001b[1;33m \u001b[0mprint\u001b[0m\u001b[1;33m(\u001b[0m\u001b[0mname\u001b[0m\u001b[1;33m,\u001b[0m\u001b[0mnp\u001b[0m\u001b[1;33m.\u001b[0m\u001b[0mmean\u001b[0m\u001b[1;33m(\u001b[0m\u001b[0mf1_scores\u001b[0m\u001b[1;33m,\u001b[0m \u001b[0maxis\u001b[0m\u001b[1;33m=\u001b[0m\u001b[1;36m0\u001b[0m\u001b[1;33m)\u001b[0m\u001b[1;33m,\u001b[0m \u001b[0mnp\u001b[0m\u001b[1;33m.\u001b[0m\u001b[0mmean\u001b[0m\u001b[1;33m(\u001b[0m\u001b[0mf1_scores\u001b[0m\u001b[1;33m)\u001b[0m\u001b[1;33m)\u001b[0m\u001b[1;33m\u001b[0m\u001b[1;33m\u001b[0m\u001b[0m\n\u001b[0m",
      "\u001b[1;31mNameError\u001b[0m: name 'name' is not defined"
     ]
    }
   ],
   "source": [
    "qda =  QuadraticDiscriminantAnalysis()\n",
    "f1_scores = get_f1_score_by_method(qda, _input, label, _tmp)\n",
    "print(name,np.mean(f1_scores, axis=0), np.mean(f1_scores))"
   ]
  },
  {
   "cell_type": "code",
   "execution_count": 52,
   "id": "9c846f23",
   "metadata": {},
   "outputs": [
    {
     "name": "stdout",
     "output_type": "stream",
     "text": [
      "rfe_svc [0.73140091 0.74414827 0.98034746 0.87719491] 0.8332728904433704\n",
      "rfe_random [0.72715708 0.74605254 0.98298511 0.87661251] 0.8332018119736346\n",
      "tree [0.76487356 0.77539737 0.97896653 0.88370299] 0.8507351094073198\n",
      "R_regression [0.7671842  0.77256138 0.97894392 0.87914492] 0.8494586039720897\n",
      "RidgeClassifier [0.71562716 0.73129722 0.9798544  0.87784783] 0.8261566513446781\n",
      "lasso [0.71667576 0.73531386 0.98381064 0.8738935 ] 0.8274234402779692\n",
      "chi2 [0.74849328 0.75748352 0.97996535 0.87726804] 0.8408025495980089\n",
      "f_classif [0.7671842  0.77256138 0.97894392 0.87914492] 0.8494586039720897\n"
     ]
    }
   ],
   "source": [
    "rfc = RandomForestClassifier(max_depth=16, n_estimators=200, random_state=46)\n",
    "qda =  QuadraticDiscriminantAnalysis()\n",
    "for name,bands in zip(bands_name,bands_lists):\n",
    "    f1_scores = get_f1_score_by_method(rfc, _input, label, bands)\n",
    "    print(name,np.mean(f1_scores, axis=0), np.mean(f1_scores))"
   ]
  },
  {
   "cell_type": "code",
   "execution_count": 114,
   "id": "2fb63411",
   "metadata": {},
   "outputs": [
    {
     "data": {
      "text/plain": [
       "RandomForestClassifier(criterion='entropy', max_depth=16, n_estimators=300,\n",
       "                       random_state=46)"
      ]
     },
     "execution_count": 114,
     "metadata": {},
     "output_type": "execute_result"
    }
   ],
   "source": [
    "parameters = { 'n_estimators':[100, 200, 50, 300],\n",
    "              'max_depth':[6,10,16],\n",
    "              'criterion': ['gini', 'entropy'],\n",
    "              'max_features': ['auto', 'sqrt', 'log2']}\n",
    "model = RandomForestClassifier(random_state=46)\n",
    "clf = GridSearchCV(model, parameters, cv=10, n_jobs = -1)\n",
    "_new_input = _input[sel_bands]\n",
    "clf.fit(_new_input, label)\n",
    "clf.best_estimator_"
   ]
  },
  {
   "cell_type": "code",
   "execution_count": 71,
   "id": "3e0435be",
   "metadata": {},
   "outputs": [
    {
     "data": {
      "text/plain": [
       "[394.6,\n",
       " 396.7,\n",
       " 398.7,\n",
       " 400.8,\n",
       " 402.8,\n",
       " 406.9,\n",
       " 409,\n",
       " 411,\n",
       " 413.1,\n",
       " 415.1,\n",
       " 417.2,\n",
       " 421.3,\n",
       " 423.3,\n",
       " 429.5,\n",
       " 433.6,\n",
       " 445.9,\n",
       " 448,\n",
       " 454.1,\n",
       " 456.2,\n",
       " 458.2,\n",
       " 468.5,\n",
       " 472.6,\n",
       " 478.8,\n",
       " 484.9,\n",
       " 493.1,\n",
       " 497.2,\n",
       " 499.3,\n",
       " 501.3,\n",
       " 507.5,\n",
       " 511.6,\n",
       " 513.7,\n",
       " 515.7,\n",
       " 521.9,\n",
       " 523.9,\n",
       " 530.1,\n",
       " 536.2,\n",
       " 538.3,\n",
       " 542.4,\n",
       " 550.6,\n",
       " 556.8,\n",
       " 558.8,\n",
       " 565,\n",
       " 573.2,\n",
       " 575.2,\n",
       " 577.3,\n",
       " 579.4,\n",
       " 583.5,\n",
       " 595.8,\n",
       " 606,\n",
       " 614.2,\n",
       " 618.4,\n",
       " 622.5,\n",
       " 630.7,\n",
       " 636.8,\n",
       " 638.9,\n",
       " 640.9,\n",
       " 643,\n",
       " 655.3,\n",
       " 657.4,\n",
       " 659.4,\n",
       " 673.8,\n",
       " 677.9,\n",
       " 679.9,\n",
       " 682,\n",
       " 684,\n",
       " 688.1,\n",
       " 692.3,\n",
       " 694.3,\n",
       " 696.4,\n",
       " 702.5,\n",
       " 706.6,\n",
       " 708.7,\n",
       " 716.9,\n",
       " 721,\n",
       " 723,\n",
       " 725.1,\n",
       " 727.2,\n",
       " 731.3,\n",
       " 733.3,\n",
       " 735.4,\n",
       " 737.4,\n",
       " 741.5,\n",
       " 743.6,\n",
       " 745.6,\n",
       " 749.7,\n",
       " 751.8,\n",
       " 755.9,\n",
       " 757.9,\n",
       " 760,\n",
       " 762.1,\n",
       " 766.2,\n",
       " 772.3,\n",
       " 774.4,\n",
       " 776.4,\n",
       " 778.5,\n",
       " 784.6,\n",
       " 796.9,\n",
       " 803.1,\n",
       " 811.3,\n",
       " 817.5,\n",
       " 819.5,\n",
       " 821.6,\n",
       " 825.7,\n",
       " 827.7,\n",
       " 833.9,\n",
       " 848.3,\n",
       " 850.3,\n",
       " 858.5,\n",
       " 860.6,\n",
       " 864.7,\n",
       " 872.9,\n",
       " 877,\n",
       " 881.1,\n",
       " 883.2,\n",
       " 885.2]"
      ]
     },
     "execution_count": 71,
     "metadata": {},
     "output_type": "execute_result"
    }
   ],
   "source": [
    "full_list_float = [float(item) if '.' in item else int(item) for item in full_lists]\n",
    "full_list_float"
   ]
  },
  {
   "cell_type": "code",
   "execution_count": 72,
   "id": "b29c5424",
   "metadata": {},
   "outputs": [],
   "source": [
    "group_list = list()\n",
    "_max_distance = 2.281\n",
    "\n",
    "sub_list = full_list_float[0]\n",
    "_pre = full_list_float[0]\n",
    "_sub = [_pre]\n",
    "for item in full_list_float[1:]:\n",
    "    if (item - _pre) <= _max_distance:\n",
    "        _sub.append(item)\n",
    "        _pre = item\n",
    "    else:\n",
    "        group_list.append(_sub)\n",
    "        _pre = item\n",
    "        _sub = [_pre]\n",
    "        \n",
    "_str_group_list = []\n",
    "for _list in group_list:\n",
    "    str_list = [str(item) for item in _list]\n",
    "    _str_group_list.append(str_list)"
   ]
  },
  {
   "cell_type": "code",
   "execution_count": 79,
   "id": "9abf51d3",
   "metadata": {},
   "outputs": [
    {
     "data": {
      "text/plain": [
       "[['394.6', '396.7', '398.7', '400.8', '402.8'],\n",
       " ['406.9', '409', '411', '413.1', '415.1', '417.2'],\n",
       " ['421.3', '423.3'],\n",
       " ['429.5'],\n",
       " ['433.6'],\n",
       " ['445.9', '448'],\n",
       " ['454.1', '456.2', '458.2'],\n",
       " ['468.5'],\n",
       " ['472.6'],\n",
       " ['478.8'],\n",
       " ['484.9'],\n",
       " ['493.1'],\n",
       " ['497.2', '499.3', '501.3'],\n",
       " ['507.5'],\n",
       " ['511.6', '513.7', '515.7'],\n",
       " ['521.9', '523.9'],\n",
       " ['530.1'],\n",
       " ['536.2', '538.3'],\n",
       " ['542.4'],\n",
       " ['550.6'],\n",
       " ['556.8', '558.8'],\n",
       " ['565'],\n",
       " ['573.2', '575.2', '577.3', '579.4'],\n",
       " ['583.5'],\n",
       " ['595.8'],\n",
       " ['606'],\n",
       " ['614.2'],\n",
       " ['618.4'],\n",
       " ['622.5'],\n",
       " ['630.7'],\n",
       " ['636.8', '638.9', '640.9', '643'],\n",
       " ['655.3', '657.4', '659.4'],\n",
       " ['673.8'],\n",
       " ['677.9', '679.9', '682', '684'],\n",
       " ['688.1'],\n",
       " ['692.3', '694.3', '696.4'],\n",
       " ['702.5'],\n",
       " ['706.6', '708.7'],\n",
       " ['716.9'],\n",
       " ['721', '723', '725.1', '727.2'],\n",
       " ['731.3', '733.3', '735.4', '737.4'],\n",
       " ['741.5', '743.6', '745.6'],\n",
       " ['749.7', '751.8'],\n",
       " ['755.9', '757.9', '760', '762.1'],\n",
       " ['766.2'],\n",
       " ['772.3', '774.4', '776.4', '778.5'],\n",
       " ['784.6'],\n",
       " ['796.9'],\n",
       " ['803.1'],\n",
       " ['811.3'],\n",
       " ['817.5', '819.5', '821.6'],\n",
       " ['825.7', '827.7'],\n",
       " ['833.9'],\n",
       " ['848.3', '850.3'],\n",
       " ['858.5', '860.6'],\n",
       " ['864.7'],\n",
       " ['872.9'],\n",
       " ['877']]"
      ]
     },
     "execution_count": 79,
     "metadata": {},
     "output_type": "execute_result"
    }
   ],
   "source": [
    "_str_group_list"
   ]
  },
  {
   "cell_type": "code",
   "execution_count": 74,
   "id": "89132d1d",
   "metadata": {},
   "outputs": [
    {
     "name": "stdout",
     "output_type": "stream",
     "text": [
      "['429.5', '433.6', '468.5', '472.6', '478.8', '484.9', '493.1', '507.5', '530.1', '542.4', '550.6', '565', '583.5', '595.8', '606', '614.2', '618.4', '622.5', '630.7', '673.8', '688.1', '702.5', '716.9', '766.2', '784.6', '796.9', '803.1', '811.3', '833.9', '864.7', '872.9', '877']\n"
     ]
    }
   ],
   "source": [
    "single_list = []\n",
    "for item in _str_group_list:\n",
    "    if len(item) == 1:\n",
    "        single_list += item\n",
    "print(single_list)"
   ]
  },
  {
   "cell_type": "code",
   "execution_count": 88,
   "id": "d925e994",
   "metadata": {},
   "outputs": [
    {
     "name": "stdout",
     "output_type": "stream",
     "text": [
      "['398.7', '413.1', '423.3', '448', '456.2', '499.3', '513.7', '523.9', '538.3', '558.8', '577.3', '640.9', '657.4', '682', '694.3', '708.7', '725.1', '735.4', '743.6', '751.8', '760', '776.4', '819.5', '827.7', '850.3', '860.6']\n"
     ]
    }
   ],
   "source": [
    "multi_list = []\n",
    "for item in _str_group_list:\n",
    "    if len(item) > 1:\n",
    "        _idx = int(len(item)/2)\n",
    "        multi_list.append(item[_idx])\n",
    "        \n",
    "print(multi_list)"
   ]
  },
  {
   "cell_type": "code",
   "execution_count": 89,
   "id": "86794dc1",
   "metadata": {},
   "outputs": [],
   "source": [
    "_full = single_list + multi_list"
   ]
  },
  {
   "cell_type": "code",
   "execution_count": 11,
   "id": "6b05cef7",
   "metadata": {},
   "outputs": [],
   "source": [
    "import xgboost as xgb"
   ]
  },
  {
   "cell_type": "code",
   "execution_count": 126,
   "id": "36f650eb",
   "metadata": {},
   "outputs": [],
   "source": [
    "parameters = {\n",
    "    'max_depth': [8,16,20,32],\n",
    "    'learning_rate': [0.01,0.1,0.001],\n",
    "    'n_estimators': [50, 100, 150,200,300,400]\n",
    "}"
   ]
  },
  {
   "cell_type": "code",
   "execution_count": null,
   "id": "d3c6ebb6",
   "metadata": {},
   "outputs": [],
   "source": [
    "xgb_model = xgb.XGBClassifier(tree_method='gpu_hist', gpu_id=0 ,use_label_encoder=False,n_jobs=-1)\n",
    "clf = GridSearchCV(xgb_model, parameters, cv=6)\n",
    "clf.fit(_input[sel_bands], label)\n",
    "print(clf.best_score_)\n",
    "print(clf.best_params_)"
   ]
  },
  {
   "cell_type": "code",
   "execution_count": 11,
   "id": "7d295490",
   "metadata": {},
   "outputs": [],
   "source": [
    "def get_score(sel_bands):\n",
    "    qda =  QuadraticDiscriminantAnalysis()\n",
    "    rfc = RandomForestClassifier(criterion='entropy', max_depth=16, n_estimators=300,random_state=46)\n",
    "    # xgb_model = xgb.XGBClassifier(tree_method='gpu_hist', gpu_id=0 ,learning_rate=0.1,\n",
    "    #                           verbosity=0, max_depth=8,n_estimators=300, use_label_encoder=False,n_jobs=-1)\n",
    "    f1_scores = get_f1_score_by_method(qda, _input, label, sel_bands)\n",
    "    print('QDA',np.mean(f1_scores, axis=0), np.mean(f1_scores))\n",
    "    f1_scores = get_f1_score_by_method(rfc, _input, label, sel_bands)\n",
    "    print('RandomForest',np.mean(f1_scores, axis=0), np.mean(f1_scores))\n",
    "#     f1_scores = get_f1_score_by_method(xgb_model, _input, label, sel_bands)\n",
    "#     print('XGB',np.mean(f1_scores, axis=0), np.mean(f1_scores))"
   ]
  },
  {
   "cell_type": "code",
   "execution_count": 26,
   "id": "79f05498",
   "metadata": {},
   "outputs": [
    {
     "name": "stdout",
     "output_type": "stream",
     "text": [
      "QDA [0.73164826 0.51940857 0.68732597 0.72926436] 0.6669117905376192\n",
      "RandomForest [0.83960202 0.7879042  0.96993668 0.87098366] 0.8671066397748258\n"
     ]
    }
   ],
   "source": [
    "_sel_bands = ['762.1', '885.2', '755.9', '749.7', '733.3', '766.2'] #['772.3','402.8', '706.6','411', '762.1', '885.2','677.9']\n",
    "get_score(_sel_bands)"
   ]
  },
  {
   "cell_type": "code",
   "execution_count": 25,
   "id": "ae1a7339",
   "metadata": {},
   "outputs": [
    {
     "name": "stdout",
     "output_type": "stream",
     "text": [
      "7 ['762.1', '706.6', '677.9', '772.3', '411', '885.2', '402.8']\n",
      "QDA [0.76649053 0.59104842 0.67547209 0.71272698] 0.6864345058426511\n",
      "RandomForest [0.79804461 0.77984681 0.97439578 0.86494065] 0.8543069591866416\n"
     ]
    }
   ],
   "source": [
    "_sel_bands = []\n",
    "for _list in bands_lists:\n",
    "    _sel_bands += _list[:1]\n",
    "#_sel_bands += ['737.4', '811.3', '762.1', '706.6', '774.4', '803.1']\n",
    "sel_bands = list(set(_sel_bands))\n",
    "print(len(sel_bands), sel_bands)\n",
    "get_score(sel_bands)"
   ]
  },
  {
   "cell_type": "code",
   "execution_count": 36,
   "id": "63908f46",
   "metadata": {},
   "outputs": [
    {
     "name": "stdout",
     "output_type": "stream",
     "text": [
      "Start to process bands selection .....................\n",
      "#######################################################\n",
      "Using 1181.4677901268005 sec\n",
      "0.8759353741496598\n",
      "['762.1', '885.2', '749.7', '735.4', '755.9', '774.4', '766.2', '858.5']\n"
     ]
    }
   ],
   "source": [
    "best_band = ['762.1', '885.2']\n",
    "remain_bands = full_lists.copy()\n",
    "for item in best_band:\n",
    "    remain_bands.remove(item)\n",
    "\n",
    "#qda =  QuadraticDiscriminantAnalysis()\n",
    "rfc = RandomForestClassifier(criterion='entropy', max_depth=16, n_estimators=300,random_state=46)\n",
    "\n",
    "results = get_top_bands_comb(best_band, remain_bands, _input, label, rfc)\n",
    "print(results[-1]['score'])\n",
    "print(results[-1]['bands'])"
   ]
  },
  {
   "cell_type": "code",
   "execution_count": 40,
   "id": "40dc96fa",
   "metadata": {},
   "outputs": [
    {
     "name": "stdout",
     "output_type": "stream",
     "text": [
      "6\n",
      "QDA [0.80760307 0.50305818 0.69499693 0.7012319 ] 0.6767225193022981\n",
      "RandomForest [0.84424391 0.79315115 0.96624625 0.86077893] 0.8661050586718385\n"
     ]
    }
   ],
   "source": [
    "#_sel = results[-1]['bands']\n",
    "_sel = ['762.1', '735.4', '749.7', '755.9', '774.4', '885.2']\n",
    "print(len(_sel))\n",
    "get_score(_sel)"
   ]
  },
  {
   "cell_type": "code",
   "execution_count": 41,
   "id": "42060420",
   "metadata": {},
   "outputs": [
    {
     "data": {
      "text/plain": [
       "['762.1', '706.6', '677.9', '772.3', '411', '885.2', '402.8']"
      ]
     },
     "execution_count": 41,
     "metadata": {},
     "output_type": "execute_result"
    }
   ],
   "source": [
    "sel_bands"
   ]
  },
  {
   "cell_type": "code",
   "execution_count": 51,
   "id": "8cf85eee",
   "metadata": {},
   "outputs": [
    {
     "data": {
      "text/plain": [
       "array([0.80978261, 0.86956522, 0.80978261, 0.76630435, 0.82065217,\n",
       "       0.63043478, 0.72826087, 0.82065217, 0.96195652, 0.91304348,\n",
       "       0.79891304, 0.91847826, 0.86338798, 0.86885246, 1.        ,\n",
       "       1.        ])"
      ]
     },
     "execution_count": 51,
     "metadata": {},
     "output_type": "execute_result"
    },
    {
     "name": "stderr",
     "output_type": "stream",
     "text": [
      "/home/ceyang/anaconda3/envs/mmdet/lib/python3.7/site-packages/sklearn/model_selection/_validation.py:775: UserWarning: Scoring failed. The score on this train-test partition for these parameters will be set to nan. Details: \n",
      "Traceback (most recent call last):\n",
      "  File \"/home/ceyang/anaconda3/envs/mmdet/lib/python3.7/site-packages/sklearn/model_selection/_validation.py\", line 762, in _score\n",
      "    scores = scorer(estimator, X_test, y_test)\n",
      "  File \"/home/ceyang/anaconda3/envs/mmdet/lib/python3.7/site-packages/sklearn/metrics/_scorer.py\", line 103, in __call__\n",
      "    score = scorer._score(cached_call, estimator, *args, **kwargs)\n",
      "  File \"/home/ceyang/anaconda3/envs/mmdet/lib/python3.7/site-packages/sklearn/metrics/_scorer.py\", line 264, in _score\n",
      "    return self._sign * self._score_func(y_true, y_pred, **self._kwargs)\n",
      "  File \"/home/ceyang/anaconda3/envs/mmdet/lib/python3.7/site-packages/sklearn/metrics/_classification.py\", line 1121, in f1_score\n",
      "    zero_division=zero_division,\n",
      "  File \"/home/ceyang/anaconda3/envs/mmdet/lib/python3.7/site-packages/sklearn/metrics/_classification.py\", line 1260, in fbeta_score\n",
      "    zero_division=zero_division,\n",
      "  File \"/home/ceyang/anaconda3/envs/mmdet/lib/python3.7/site-packages/sklearn/metrics/_classification.py\", line 1534, in precision_recall_fscore_support\n",
      "    labels = _check_set_wise_labels(y_true, y_pred, average, labels, pos_label)\n",
      "  File \"/home/ceyang/anaconda3/envs/mmdet/lib/python3.7/site-packages/sklearn/metrics/_classification.py\", line 1357, in _check_set_wise_labels\n",
      "    \"choose another average setting, one of %r.\" % (y_type, average_options)\n",
      "ValueError: Target is multiclass but average='binary'. Please choose another average setting, one of [None, 'micro', 'macro', 'weighted'].\n",
      "\n",
      "  UserWarning,\n",
      "/home/ceyang/anaconda3/envs/mmdet/lib/python3.7/site-packages/sklearn/model_selection/_validation.py:775: UserWarning: Scoring failed. The score on this train-test partition for these parameters will be set to nan. Details: \n",
      "Traceback (most recent call last):\n",
      "  File \"/home/ceyang/anaconda3/envs/mmdet/lib/python3.7/site-packages/sklearn/model_selection/_validation.py\", line 762, in _score\n",
      "    scores = scorer(estimator, X_test, y_test)\n",
      "  File \"/home/ceyang/anaconda3/envs/mmdet/lib/python3.7/site-packages/sklearn/metrics/_scorer.py\", line 103, in __call__\n",
      "    score = scorer._score(cached_call, estimator, *args, **kwargs)\n",
      "  File \"/home/ceyang/anaconda3/envs/mmdet/lib/python3.7/site-packages/sklearn/metrics/_scorer.py\", line 264, in _score\n",
      "    return self._sign * self._score_func(y_true, y_pred, **self._kwargs)\n",
      "  File \"/home/ceyang/anaconda3/envs/mmdet/lib/python3.7/site-packages/sklearn/metrics/_classification.py\", line 1121, in f1_score\n",
      "    zero_division=zero_division,\n",
      "  File \"/home/ceyang/anaconda3/envs/mmdet/lib/python3.7/site-packages/sklearn/metrics/_classification.py\", line 1260, in fbeta_score\n",
      "    zero_division=zero_division,\n",
      "  File \"/home/ceyang/anaconda3/envs/mmdet/lib/python3.7/site-packages/sklearn/metrics/_classification.py\", line 1534, in precision_recall_fscore_support\n",
      "    labels = _check_set_wise_labels(y_true, y_pred, average, labels, pos_label)\n",
      "  File \"/home/ceyang/anaconda3/envs/mmdet/lib/python3.7/site-packages/sklearn/metrics/_classification.py\", line 1357, in _check_set_wise_labels\n",
      "    \"choose another average setting, one of %r.\" % (y_type, average_options)\n",
      "ValueError: Target is multiclass but average='binary'. Please choose another average setting, one of [None, 'micro', 'macro', 'weighted'].\n",
      "\n",
      "  UserWarning,\n",
      "/home/ceyang/anaconda3/envs/mmdet/lib/python3.7/site-packages/sklearn/model_selection/_validation.py:775: UserWarning: Scoring failed. The score on this train-test partition for these parameters will be set to nan. Details: \n",
      "Traceback (most recent call last):\n",
      "  File \"/home/ceyang/anaconda3/envs/mmdet/lib/python3.7/site-packages/sklearn/model_selection/_validation.py\", line 762, in _score\n",
      "    scores = scorer(estimator, X_test, y_test)\n",
      "  File \"/home/ceyang/anaconda3/envs/mmdet/lib/python3.7/site-packages/sklearn/metrics/_scorer.py\", line 103, in __call__\n",
      "    score = scorer._score(cached_call, estimator, *args, **kwargs)\n",
      "  File \"/home/ceyang/anaconda3/envs/mmdet/lib/python3.7/site-packages/sklearn/metrics/_scorer.py\", line 264, in _score\n",
      "    return self._sign * self._score_func(y_true, y_pred, **self._kwargs)\n",
      "  File \"/home/ceyang/anaconda3/envs/mmdet/lib/python3.7/site-packages/sklearn/metrics/_classification.py\", line 1121, in f1_score\n",
      "    zero_division=zero_division,\n",
      "  File \"/home/ceyang/anaconda3/envs/mmdet/lib/python3.7/site-packages/sklearn/metrics/_classification.py\", line 1260, in fbeta_score\n",
      "    zero_division=zero_division,\n",
      "  File \"/home/ceyang/anaconda3/envs/mmdet/lib/python3.7/site-packages/sklearn/metrics/_classification.py\", line 1534, in precision_recall_fscore_support\n",
      "    labels = _check_set_wise_labels(y_true, y_pred, average, labels, pos_label)\n",
      "  File \"/home/ceyang/anaconda3/envs/mmdet/lib/python3.7/site-packages/sklearn/metrics/_classification.py\", line 1357, in _check_set_wise_labels\n",
      "    \"choose another average setting, one of %r.\" % (y_type, average_options)\n",
      "ValueError: Target is multiclass but average='binary'. Please choose another average setting, one of [None, 'micro', 'macro', 'weighted'].\n",
      "\n",
      "  UserWarning,\n",
      "/home/ceyang/anaconda3/envs/mmdet/lib/python3.7/site-packages/sklearn/model_selection/_validation.py:775: UserWarning: Scoring failed. The score on this train-test partition for these parameters will be set to nan. Details: \n",
      "Traceback (most recent call last):\n",
      "  File \"/home/ceyang/anaconda3/envs/mmdet/lib/python3.7/site-packages/sklearn/model_selection/_validation.py\", line 762, in _score\n",
      "    scores = scorer(estimator, X_test, y_test)\n",
      "  File \"/home/ceyang/anaconda3/envs/mmdet/lib/python3.7/site-packages/sklearn/metrics/_scorer.py\", line 103, in __call__\n",
      "    score = scorer._score(cached_call, estimator, *args, **kwargs)\n",
      "  File \"/home/ceyang/anaconda3/envs/mmdet/lib/python3.7/site-packages/sklearn/metrics/_scorer.py\", line 264, in _score\n",
      "    return self._sign * self._score_func(y_true, y_pred, **self._kwargs)\n",
      "  File \"/home/ceyang/anaconda3/envs/mmdet/lib/python3.7/site-packages/sklearn/metrics/_classification.py\", line 1121, in f1_score\n",
      "    zero_division=zero_division,\n",
      "  File \"/home/ceyang/anaconda3/envs/mmdet/lib/python3.7/site-packages/sklearn/metrics/_classification.py\", line 1260, in fbeta_score\n",
      "    zero_division=zero_division,\n",
      "  File \"/home/ceyang/anaconda3/envs/mmdet/lib/python3.7/site-packages/sklearn/metrics/_classification.py\", line 1534, in precision_recall_fscore_support\n",
      "    labels = _check_set_wise_labels(y_true, y_pred, average, labels, pos_label)\n",
      "  File \"/home/ceyang/anaconda3/envs/mmdet/lib/python3.7/site-packages/sklearn/metrics/_classification.py\", line 1357, in _check_set_wise_labels\n",
      "    \"choose another average setting, one of %r.\" % (y_type, average_options)\n",
      "ValueError: Target is multiclass but average='binary'. Please choose another average setting, one of [None, 'micro', 'macro', 'weighted'].\n",
      "\n",
      "  UserWarning,\n",
      "/home/ceyang/anaconda3/envs/mmdet/lib/python3.7/site-packages/sklearn/model_selection/_validation.py:775: UserWarning: Scoring failed. The score on this train-test partition for these parameters will be set to nan. Details: \n",
      "Traceback (most recent call last):\n",
      "  File \"/home/ceyang/anaconda3/envs/mmdet/lib/python3.7/site-packages/sklearn/model_selection/_validation.py\", line 762, in _score\n",
      "    scores = scorer(estimator, X_test, y_test)\n",
      "  File \"/home/ceyang/anaconda3/envs/mmdet/lib/python3.7/site-packages/sklearn/metrics/_scorer.py\", line 103, in __call__\n",
      "    score = scorer._score(cached_call, estimator, *args, **kwargs)\n",
      "  File \"/home/ceyang/anaconda3/envs/mmdet/lib/python3.7/site-packages/sklearn/metrics/_scorer.py\", line 264, in _score\n",
      "    return self._sign * self._score_func(y_true, y_pred, **self._kwargs)\n",
      "  File \"/home/ceyang/anaconda3/envs/mmdet/lib/python3.7/site-packages/sklearn/metrics/_classification.py\", line 1121, in f1_score\n",
      "    zero_division=zero_division,\n",
      "  File \"/home/ceyang/anaconda3/envs/mmdet/lib/python3.7/site-packages/sklearn/metrics/_classification.py\", line 1260, in fbeta_score\n",
      "    zero_division=zero_division,\n",
      "  File \"/home/ceyang/anaconda3/envs/mmdet/lib/python3.7/site-packages/sklearn/metrics/_classification.py\", line 1534, in precision_recall_fscore_support\n",
      "    labels = _check_set_wise_labels(y_true, y_pred, average, labels, pos_label)\n",
      "  File \"/home/ceyang/anaconda3/envs/mmdet/lib/python3.7/site-packages/sklearn/metrics/_classification.py\", line 1357, in _check_set_wise_labels\n",
      "    \"choose another average setting, one of %r.\" % (y_type, average_options)\n",
      "ValueError: Target is multiclass but average='binary'. Please choose another average setting, one of [None, 'micro', 'macro', 'weighted'].\n",
      "\n",
      "  UserWarning,\n",
      "/home/ceyang/anaconda3/envs/mmdet/lib/python3.7/site-packages/sklearn/model_selection/_validation.py:775: UserWarning: Scoring failed. The score on this train-test partition for these parameters will be set to nan. Details: \n",
      "Traceback (most recent call last):\n",
      "  File \"/home/ceyang/anaconda3/envs/mmdet/lib/python3.7/site-packages/sklearn/model_selection/_validation.py\", line 762, in _score\n",
      "    scores = scorer(estimator, X_test, y_test)\n",
      "  File \"/home/ceyang/anaconda3/envs/mmdet/lib/python3.7/site-packages/sklearn/metrics/_scorer.py\", line 103, in __call__\n",
      "    score = scorer._score(cached_call, estimator, *args, **kwargs)\n",
      "  File \"/home/ceyang/anaconda3/envs/mmdet/lib/python3.7/site-packages/sklearn/metrics/_scorer.py\", line 264, in _score\n",
      "    return self._sign * self._score_func(y_true, y_pred, **self._kwargs)\n",
      "  File \"/home/ceyang/anaconda3/envs/mmdet/lib/python3.7/site-packages/sklearn/metrics/_classification.py\", line 1121, in f1_score\n",
      "    zero_division=zero_division,\n",
      "  File \"/home/ceyang/anaconda3/envs/mmdet/lib/python3.7/site-packages/sklearn/metrics/_classification.py\", line 1260, in fbeta_score\n",
      "    zero_division=zero_division,\n",
      "  File \"/home/ceyang/anaconda3/envs/mmdet/lib/python3.7/site-packages/sklearn/metrics/_classification.py\", line 1534, in precision_recall_fscore_support\n",
      "    labels = _check_set_wise_labels(y_true, y_pred, average, labels, pos_label)\n",
      "  File \"/home/ceyang/anaconda3/envs/mmdet/lib/python3.7/site-packages/sklearn/metrics/_classification.py\", line 1357, in _check_set_wise_labels\n",
      "    \"choose another average setting, one of %r.\" % (y_type, average_options)\n",
      "ValueError: Target is multiclass but average='binary'. Please choose another average setting, one of [None, 'micro', 'macro', 'weighted'].\n",
      "\n",
      "  UserWarning,\n"
     ]
    },
    {
     "name": "stderr",
     "output_type": "stream",
     "text": [
      "/home/ceyang/anaconda3/envs/mmdet/lib/python3.7/site-packages/sklearn/model_selection/_validation.py:775: UserWarning: Scoring failed. The score on this train-test partition for these parameters will be set to nan. Details: \n",
      "Traceback (most recent call last):\n",
      "  File \"/home/ceyang/anaconda3/envs/mmdet/lib/python3.7/site-packages/sklearn/model_selection/_validation.py\", line 762, in _score\n",
      "    scores = scorer(estimator, X_test, y_test)\n",
      "  File \"/home/ceyang/anaconda3/envs/mmdet/lib/python3.7/site-packages/sklearn/metrics/_scorer.py\", line 103, in __call__\n",
      "    score = scorer._score(cached_call, estimator, *args, **kwargs)\n",
      "  File \"/home/ceyang/anaconda3/envs/mmdet/lib/python3.7/site-packages/sklearn/metrics/_scorer.py\", line 264, in _score\n",
      "    return self._sign * self._score_func(y_true, y_pred, **self._kwargs)\n",
      "  File \"/home/ceyang/anaconda3/envs/mmdet/lib/python3.7/site-packages/sklearn/metrics/_classification.py\", line 1121, in f1_score\n",
      "    zero_division=zero_division,\n",
      "  File \"/home/ceyang/anaconda3/envs/mmdet/lib/python3.7/site-packages/sklearn/metrics/_classification.py\", line 1260, in fbeta_score\n",
      "    zero_division=zero_division,\n",
      "  File \"/home/ceyang/anaconda3/envs/mmdet/lib/python3.7/site-packages/sklearn/metrics/_classification.py\", line 1534, in precision_recall_fscore_support\n",
      "    labels = _check_set_wise_labels(y_true, y_pred, average, labels, pos_label)\n",
      "  File \"/home/ceyang/anaconda3/envs/mmdet/lib/python3.7/site-packages/sklearn/metrics/_classification.py\", line 1357, in _check_set_wise_labels\n",
      "    \"choose another average setting, one of %r.\" % (y_type, average_options)\n",
      "ValueError: Target is multiclass but average='binary'. Please choose another average setting, one of [None, 'micro', 'macro', 'weighted'].\n",
      "\n",
      "  UserWarning,\n",
      "/home/ceyang/anaconda3/envs/mmdet/lib/python3.7/site-packages/sklearn/model_selection/_validation.py:775: UserWarning: Scoring failed. The score on this train-test partition for these parameters will be set to nan. Details: \n",
      "Traceback (most recent call last):\n",
      "  File \"/home/ceyang/anaconda3/envs/mmdet/lib/python3.7/site-packages/sklearn/model_selection/_validation.py\", line 762, in _score\n",
      "    scores = scorer(estimator, X_test, y_test)\n",
      "  File \"/home/ceyang/anaconda3/envs/mmdet/lib/python3.7/site-packages/sklearn/metrics/_scorer.py\", line 103, in __call__\n",
      "    score = scorer._score(cached_call, estimator, *args, **kwargs)\n",
      "  File \"/home/ceyang/anaconda3/envs/mmdet/lib/python3.7/site-packages/sklearn/metrics/_scorer.py\", line 264, in _score\n",
      "    return self._sign * self._score_func(y_true, y_pred, **self._kwargs)\n",
      "  File \"/home/ceyang/anaconda3/envs/mmdet/lib/python3.7/site-packages/sklearn/metrics/_classification.py\", line 1121, in f1_score\n",
      "    zero_division=zero_division,\n",
      "  File \"/home/ceyang/anaconda3/envs/mmdet/lib/python3.7/site-packages/sklearn/metrics/_classification.py\", line 1260, in fbeta_score\n",
      "    zero_division=zero_division,\n",
      "  File \"/home/ceyang/anaconda3/envs/mmdet/lib/python3.7/site-packages/sklearn/metrics/_classification.py\", line 1543, in precision_recall_fscore_support\n",
      "    samplewise=samplewise,\n",
      "  File \"/home/ceyang/anaconda3/envs/mmdet/lib/python3.7/site-packages/sklearn/metrics/_classification.py\", line 495, in multilabel_confusion_matrix\n",
      "    \"Samplewise metrics are not available outside of \"\n",
      "ValueError: Samplewise metrics are not available outside of multilabel classification.\n",
      "\n",
      "  UserWarning,\n",
      "/home/ceyang/anaconda3/envs/mmdet/lib/python3.7/site-packages/sklearn/model_selection/_validation.py:775: UserWarning: Scoring failed. The score on this train-test partition for these parameters will be set to nan. Details: \n",
      "Traceback (most recent call last):\n",
      "  File \"/home/ceyang/anaconda3/envs/mmdet/lib/python3.7/site-packages/sklearn/model_selection/_validation.py\", line 762, in _score\n",
      "    scores = scorer(estimator, X_test, y_test)\n",
      "  File \"/home/ceyang/anaconda3/envs/mmdet/lib/python3.7/site-packages/sklearn/metrics/_scorer.py\", line 103, in __call__\n",
      "    score = scorer._score(cached_call, estimator, *args, **kwargs)\n",
      "  File \"/home/ceyang/anaconda3/envs/mmdet/lib/python3.7/site-packages/sklearn/metrics/_scorer.py\", line 264, in _score\n",
      "    return self._sign * self._score_func(y_true, y_pred, **self._kwargs)\n",
      "  File \"/home/ceyang/anaconda3/envs/mmdet/lib/python3.7/site-packages/sklearn/metrics/_classification.py\", line 1121, in f1_score\n",
      "    zero_division=zero_division,\n",
      "  File \"/home/ceyang/anaconda3/envs/mmdet/lib/python3.7/site-packages/sklearn/metrics/_classification.py\", line 1260, in fbeta_score\n",
      "    zero_division=zero_division,\n",
      "  File \"/home/ceyang/anaconda3/envs/mmdet/lib/python3.7/site-packages/sklearn/metrics/_classification.py\", line 1543, in precision_recall_fscore_support\n",
      "    samplewise=samplewise,\n",
      "  File \"/home/ceyang/anaconda3/envs/mmdet/lib/python3.7/site-packages/sklearn/metrics/_classification.py\", line 495, in multilabel_confusion_matrix\n",
      "    \"Samplewise metrics are not available outside of \"\n",
      "ValueError: Samplewise metrics are not available outside of multilabel classification.\n",
      "\n",
      "  UserWarning,\n",
      "/home/ceyang/anaconda3/envs/mmdet/lib/python3.7/site-packages/sklearn/model_selection/_validation.py:775: UserWarning: Scoring failed. The score on this train-test partition for these parameters will be set to nan. Details: \n",
      "Traceback (most recent call last):\n",
      "  File \"/home/ceyang/anaconda3/envs/mmdet/lib/python3.7/site-packages/sklearn/model_selection/_validation.py\", line 762, in _score\n",
      "    scores = scorer(estimator, X_test, y_test)\n",
      "  File \"/home/ceyang/anaconda3/envs/mmdet/lib/python3.7/site-packages/sklearn/metrics/_scorer.py\", line 103, in __call__\n",
      "    score = scorer._score(cached_call, estimator, *args, **kwargs)\n",
      "  File \"/home/ceyang/anaconda3/envs/mmdet/lib/python3.7/site-packages/sklearn/metrics/_scorer.py\", line 264, in _score\n",
      "    return self._sign * self._score_func(y_true, y_pred, **self._kwargs)\n",
      "  File \"/home/ceyang/anaconda3/envs/mmdet/lib/python3.7/site-packages/sklearn/metrics/_classification.py\", line 1121, in f1_score\n",
      "    zero_division=zero_division,\n",
      "  File \"/home/ceyang/anaconda3/envs/mmdet/lib/python3.7/site-packages/sklearn/metrics/_classification.py\", line 1260, in fbeta_score\n",
      "    zero_division=zero_division,\n",
      "  File \"/home/ceyang/anaconda3/envs/mmdet/lib/python3.7/site-packages/sklearn/metrics/_classification.py\", line 1534, in precision_recall_fscore_support\n",
      "    labels = _check_set_wise_labels(y_true, y_pred, average, labels, pos_label)\n",
      "  File \"/home/ceyang/anaconda3/envs/mmdet/lib/python3.7/site-packages/sklearn/metrics/_classification.py\", line 1357, in _check_set_wise_labels\n",
      "    \"choose another average setting, one of %r.\" % (y_type, average_options)\n",
      "ValueError: Target is multiclass but average='binary'. Please choose another average setting, one of [None, 'micro', 'macro', 'weighted'].\n",
      "\n",
      "  UserWarning,\n",
      "/home/ceyang/anaconda3/envs/mmdet/lib/python3.7/site-packages/sklearn/model_selection/_validation.py:775: UserWarning: Scoring failed. The score on this train-test partition for these parameters will be set to nan. Details: \n",
      "Traceback (most recent call last):\n",
      "  File \"/home/ceyang/anaconda3/envs/mmdet/lib/python3.7/site-packages/sklearn/model_selection/_validation.py\", line 762, in _score\n",
      "    scores = scorer(estimator, X_test, y_test)\n",
      "  File \"/home/ceyang/anaconda3/envs/mmdet/lib/python3.7/site-packages/sklearn/metrics/_scorer.py\", line 103, in __call__\n",
      "    score = scorer._score(cached_call, estimator, *args, **kwargs)\n",
      "  File \"/home/ceyang/anaconda3/envs/mmdet/lib/python3.7/site-packages/sklearn/metrics/_scorer.py\", line 264, in _score\n",
      "    return self._sign * self._score_func(y_true, y_pred, **self._kwargs)\n",
      "  File \"/home/ceyang/anaconda3/envs/mmdet/lib/python3.7/site-packages/sklearn/metrics/_classification.py\", line 1121, in f1_score\n",
      "    zero_division=zero_division,\n",
      "  File \"/home/ceyang/anaconda3/envs/mmdet/lib/python3.7/site-packages/sklearn/metrics/_classification.py\", line 1260, in fbeta_score\n",
      "    zero_division=zero_division,\n",
      "  File \"/home/ceyang/anaconda3/envs/mmdet/lib/python3.7/site-packages/sklearn/metrics/_classification.py\", line 1543, in precision_recall_fscore_support\n",
      "    samplewise=samplewise,\n",
      "  File \"/home/ceyang/anaconda3/envs/mmdet/lib/python3.7/site-packages/sklearn/metrics/_classification.py\", line 495, in multilabel_confusion_matrix\n",
      "    \"Samplewise metrics are not available outside of \"\n",
      "ValueError: Samplewise metrics are not available outside of multilabel classification.\n",
      "\n",
      "  UserWarning,\n"
     ]
    },
    {
     "name": "stderr",
     "output_type": "stream",
     "text": [
      "/home/ceyang/anaconda3/envs/mmdet/lib/python3.7/site-packages/sklearn/model_selection/_validation.py:775: UserWarning: Scoring failed. The score on this train-test partition for these parameters will be set to nan. Details: \n",
      "Traceback (most recent call last):\n",
      "  File \"/home/ceyang/anaconda3/envs/mmdet/lib/python3.7/site-packages/sklearn/model_selection/_validation.py\", line 762, in _score\n",
      "    scores = scorer(estimator, X_test, y_test)\n",
      "  File \"/home/ceyang/anaconda3/envs/mmdet/lib/python3.7/site-packages/sklearn/metrics/_scorer.py\", line 103, in __call__\n",
      "    score = scorer._score(cached_call, estimator, *args, **kwargs)\n",
      "  File \"/home/ceyang/anaconda3/envs/mmdet/lib/python3.7/site-packages/sklearn/metrics/_scorer.py\", line 264, in _score\n",
      "    return self._sign * self._score_func(y_true, y_pred, **self._kwargs)\n",
      "  File \"/home/ceyang/anaconda3/envs/mmdet/lib/python3.7/site-packages/sklearn/metrics/_classification.py\", line 1121, in f1_score\n",
      "    zero_division=zero_division,\n",
      "  File \"/home/ceyang/anaconda3/envs/mmdet/lib/python3.7/site-packages/sklearn/metrics/_classification.py\", line 1260, in fbeta_score\n",
      "    zero_division=zero_division,\n",
      "  File \"/home/ceyang/anaconda3/envs/mmdet/lib/python3.7/site-packages/sklearn/metrics/_classification.py\", line 1543, in precision_recall_fscore_support\n",
      "    samplewise=samplewise,\n",
      "  File \"/home/ceyang/anaconda3/envs/mmdet/lib/python3.7/site-packages/sklearn/metrics/_classification.py\", line 495, in multilabel_confusion_matrix\n",
      "    \"Samplewise metrics are not available outside of \"\n",
      "ValueError: Samplewise metrics are not available outside of multilabel classification.\n",
      "\n",
      "  UserWarning,\n",
      "/home/ceyang/anaconda3/envs/mmdet/lib/python3.7/site-packages/sklearn/model_selection/_validation.py:775: UserWarning: Scoring failed. The score on this train-test partition for these parameters will be set to nan. Details: \n",
      "Traceback (most recent call last):\n",
      "  File \"/home/ceyang/anaconda3/envs/mmdet/lib/python3.7/site-packages/sklearn/model_selection/_validation.py\", line 762, in _score\n",
      "    scores = scorer(estimator, X_test, y_test)\n",
      "  File \"/home/ceyang/anaconda3/envs/mmdet/lib/python3.7/site-packages/sklearn/metrics/_scorer.py\", line 103, in __call__\n",
      "    score = scorer._score(cached_call, estimator, *args, **kwargs)\n",
      "  File \"/home/ceyang/anaconda3/envs/mmdet/lib/python3.7/site-packages/sklearn/metrics/_scorer.py\", line 264, in _score\n",
      "    return self._sign * self._score_func(y_true, y_pred, **self._kwargs)\n",
      "  File \"/home/ceyang/anaconda3/envs/mmdet/lib/python3.7/site-packages/sklearn/metrics/_classification.py\", line 1121, in f1_score\n",
      "    zero_division=zero_division,\n",
      "  File \"/home/ceyang/anaconda3/envs/mmdet/lib/python3.7/site-packages/sklearn/metrics/_classification.py\", line 1260, in fbeta_score\n",
      "    zero_division=zero_division,\n",
      "  File \"/home/ceyang/anaconda3/envs/mmdet/lib/python3.7/site-packages/sklearn/metrics/_classification.py\", line 1534, in precision_recall_fscore_support\n",
      "    labels = _check_set_wise_labels(y_true, y_pred, average, labels, pos_label)\n",
      "  File \"/home/ceyang/anaconda3/envs/mmdet/lib/python3.7/site-packages/sklearn/metrics/_classification.py\", line 1357, in _check_set_wise_labels\n",
      "    \"choose another average setting, one of %r.\" % (y_type, average_options)\n",
      "ValueError: Target is multiclass but average='binary'. Please choose another average setting, one of [None, 'micro', 'macro', 'weighted'].\n",
      "\n",
      "  UserWarning,\n",
      "/home/ceyang/anaconda3/envs/mmdet/lib/python3.7/site-packages/sklearn/model_selection/_validation.py:775: UserWarning: Scoring failed. The score on this train-test partition for these parameters will be set to nan. Details: \n",
      "Traceback (most recent call last):\n",
      "  File \"/home/ceyang/anaconda3/envs/mmdet/lib/python3.7/site-packages/sklearn/model_selection/_validation.py\", line 762, in _score\n",
      "    scores = scorer(estimator, X_test, y_test)\n",
      "  File \"/home/ceyang/anaconda3/envs/mmdet/lib/python3.7/site-packages/sklearn/metrics/_scorer.py\", line 103, in __call__\n",
      "    score = scorer._score(cached_call, estimator, *args, **kwargs)\n",
      "  File \"/home/ceyang/anaconda3/envs/mmdet/lib/python3.7/site-packages/sklearn/metrics/_scorer.py\", line 264, in _score\n",
      "    return self._sign * self._score_func(y_true, y_pred, **self._kwargs)\n",
      "  File \"/home/ceyang/anaconda3/envs/mmdet/lib/python3.7/site-packages/sklearn/metrics/_classification.py\", line 1121, in f1_score\n",
      "    zero_division=zero_division,\n",
      "  File \"/home/ceyang/anaconda3/envs/mmdet/lib/python3.7/site-packages/sklearn/metrics/_classification.py\", line 1260, in fbeta_score\n",
      "    zero_division=zero_division,\n",
      "  File \"/home/ceyang/anaconda3/envs/mmdet/lib/python3.7/site-packages/sklearn/metrics/_classification.py\", line 1543, in precision_recall_fscore_support\n",
      "    samplewise=samplewise,\n",
      "  File \"/home/ceyang/anaconda3/envs/mmdet/lib/python3.7/site-packages/sklearn/metrics/_classification.py\", line 495, in multilabel_confusion_matrix\n",
      "    \"Samplewise metrics are not available outside of \"\n",
      "ValueError: Samplewise metrics are not available outside of multilabel classification.\n",
      "\n",
      "  UserWarning,\n",
      "/home/ceyang/anaconda3/envs/mmdet/lib/python3.7/site-packages/sklearn/model_selection/_validation.py:775: UserWarning: Scoring failed. The score on this train-test partition for these parameters will be set to nan. Details: \n",
      "Traceback (most recent call last):\n",
      "  File \"/home/ceyang/anaconda3/envs/mmdet/lib/python3.7/site-packages/sklearn/model_selection/_validation.py\", line 762, in _score\n",
      "    scores = scorer(estimator, X_test, y_test)\n",
      "  File \"/home/ceyang/anaconda3/envs/mmdet/lib/python3.7/site-packages/sklearn/metrics/_scorer.py\", line 103, in __call__\n",
      "    score = scorer._score(cached_call, estimator, *args, **kwargs)\n",
      "  File \"/home/ceyang/anaconda3/envs/mmdet/lib/python3.7/site-packages/sklearn/metrics/_scorer.py\", line 264, in _score\n",
      "    return self._sign * self._score_func(y_true, y_pred, **self._kwargs)\n",
      "  File \"/home/ceyang/anaconda3/envs/mmdet/lib/python3.7/site-packages/sklearn/metrics/_classification.py\", line 1121, in f1_score\n",
      "    zero_division=zero_division,\n",
      "  File \"/home/ceyang/anaconda3/envs/mmdet/lib/python3.7/site-packages/sklearn/metrics/_classification.py\", line 1260, in fbeta_score\n",
      "    zero_division=zero_division,\n",
      "  File \"/home/ceyang/anaconda3/envs/mmdet/lib/python3.7/site-packages/sklearn/metrics/_classification.py\", line 1543, in precision_recall_fscore_support\n",
      "    samplewise=samplewise,\n",
      "  File \"/home/ceyang/anaconda3/envs/mmdet/lib/python3.7/site-packages/sklearn/metrics/_classification.py\", line 495, in multilabel_confusion_matrix\n",
      "    \"Samplewise metrics are not available outside of \"\n",
      "ValueError: Samplewise metrics are not available outside of multilabel classification.\n",
      "\n",
      "  UserWarning,\n",
      "/home/ceyang/anaconda3/envs/mmdet/lib/python3.7/site-packages/sklearn/model_selection/_validation.py:775: UserWarning: Scoring failed. The score on this train-test partition for these parameters will be set to nan. Details: \n",
      "Traceback (most recent call last):\n",
      "  File \"/home/ceyang/anaconda3/envs/mmdet/lib/python3.7/site-packages/sklearn/model_selection/_validation.py\", line 762, in _score\n",
      "    scores = scorer(estimator, X_test, y_test)\n",
      "  File \"/home/ceyang/anaconda3/envs/mmdet/lib/python3.7/site-packages/sklearn/metrics/_scorer.py\", line 103, in __call__\n",
      "    score = scorer._score(cached_call, estimator, *args, **kwargs)\n",
      "  File \"/home/ceyang/anaconda3/envs/mmdet/lib/python3.7/site-packages/sklearn/metrics/_scorer.py\", line 264, in _score\n",
      "    return self._sign * self._score_func(y_true, y_pred, **self._kwargs)\n",
      "  File \"/home/ceyang/anaconda3/envs/mmdet/lib/python3.7/site-packages/sklearn/metrics/_classification.py\", line 1121, in f1_score\n",
      "    zero_division=zero_division,\n",
      "  File \"/home/ceyang/anaconda3/envs/mmdet/lib/python3.7/site-packages/sklearn/metrics/_classification.py\", line 1260, in fbeta_score\n",
      "    zero_division=zero_division,\n",
      "  File \"/home/ceyang/anaconda3/envs/mmdet/lib/python3.7/site-packages/sklearn/metrics/_classification.py\", line 1534, in precision_recall_fscore_support\n",
      "    labels = _check_set_wise_labels(y_true, y_pred, average, labels, pos_label)\n",
      "  File \"/home/ceyang/anaconda3/envs/mmdet/lib/python3.7/site-packages/sklearn/metrics/_classification.py\", line 1357, in _check_set_wise_labels\n",
      "    \"choose another average setting, one of %r.\" % (y_type, average_options)\n",
      "ValueError: Target is multiclass but average='binary'. Please choose another average setting, one of [None, 'micro', 'macro', 'weighted'].\n",
      "\n",
      "  UserWarning,\n"
     ]
    }
   ],
   "source": [
    "_new_input = _input[sel_bands]\n",
    "rfc = RandomForestClassifier(criterion='entropy', max_depth=16, n_estimators=300,random_state=46)\n",
    "scores = cross_val_score(rfc, _new_input, label, scoring='accuracy', cv=16, n_jobs=-1)\n",
    "scores"
   ]
  },
  {
   "cell_type": "code",
   "execution_count": 28,
   "id": "b8538c46",
   "metadata": {},
   "outputs": [
    {
     "name": "stdout",
     "output_type": "stream",
     "text": [
      "Start to process bands selection .....................\n",
      "#######################################################\n",
      "Using 48.75765252113342 sec\n",
      "0.8574829931972789\n",
      "['762.1', '706.6', '677.9', '772.3', '411', '860.6', '725.1', '696.4', '811.3', '630.7', '825.7', '396.7', '515.7', '484.9', '573.2', '429.5', '877', '776.4', '530.1', '622.5', '499.3']\n",
      "\n",
      "21\n",
      "QDA [0.83623498 0.80315653 0.93145157 0.84757199] 0.8546037688345192\n",
      "RandomForest [0.74703682 0.75955491 0.9823412  0.88131716] 0.8425625206068437\n",
      "\n",
      "Start to process bands selection .....................\n",
      "#######################################################\n",
      "Using 42.138232707977295 sec\n",
      "0.8495748299319728\n",
      "['762.1', '706.6', '677.9', '772.3', '885.2', '696.4', '606', '735.4', '409', '848.3', '755.9', '630.7', '423.3', '803.1', '493.1', '513.7', '573.2', '448', '819.5']\n",
      "\n",
      "19\n",
      "QDA [0.82943433 0.79964322 0.90830311 0.84216999] 0.8448876614424017\n",
      "RandomForest [0.74586626 0.75015604 0.98009009 0.88161321] 0.8394313984367336\n",
      "\n",
      "Start to process bands selection .....................\n",
      "#######################################################\n",
      "Using 47.77937459945679 sec\n",
      "0.8552721088435373\n",
      "['762.1', '706.6', '677.9', '772.3', '402.8', '848.3', '737.4', '583.5', '458.2', '511.6', '784.6', '622.5', '530.1', '558.8', '811.3', '694.3', '825.7', '417.2', '885.2', '409', '501.3']\n",
      "\n",
      "21\n",
      "QDA [0.83369793 0.80526933 0.93385252 0.83307219] 0.8514729927718401\n",
      "RandomForest [0.76757882 0.77037479 0.98096738 0.88098944] 0.8499776084360224\n",
      "\n",
      "Start to process bands selection .....................\n",
      "#######################################################\n",
      "Using 48.11686635017395 sec\n",
      "0.8576530612244898\n",
      "['762.1', '706.6', '677.9', '411', '885.2', '737.4', '618.4', '733.3', '774.4', '659.4', '493.1', '511.6', '595.8', '454.1', '530.1', '825.7', '558.8', '688.1', '751.8', '398.7', '415.1']\n",
      "\n",
      "21\n",
      "QDA [0.82085152 0.80831227 0.93893776 0.83570525] 0.8509517000714444\n",
      "RandomForest [0.7494716  0.75891304 0.98046355 0.87792932] 0.8416943785003748\n",
      "\n",
      "Start to process bands selection .....................\n",
      "#######################################################\n",
      "Using 52.3667151927948 sec\n",
      "0.8603741496598639\n",
      "['762.1', '706.6', '677.9', '411', '402.8', '741.5', '618.4', '827.7', '772.3', '659.4', '696.4', '417.2', '860.6', '556.8', '513.7', '493.1', '579.4', '445.9', '538.3', '883.2', '751.8', '638.9']\n",
      "\n",
      "22\n",
      "QDA [0.82095786 0.80638435 0.94582592 0.83702498] 0.8525482759738877\n",
      "RandomForest [0.77115626 0.77463662 0.9802912  0.87992167] 0.8515014362843469\n",
      "\n",
      "Start to process bands selection .....................\n",
      "#######################################################\n",
      "Using 42.57127070426941 sec\n",
      "0.8562074829931973\n",
      "['762.1', '706.6', '677.9', '885.2', '402.8', '737.4', '774.4', '696.4', '622.5', '415.1', '499.3', '484.9', '579.4', '515.7', '411', '827.7', '803.1', '530.1', '636.8']\n",
      "\n",
      "19\n",
      "QDA [0.8275913  0.81105908 0.92061825 0.83672524] 0.8489984694256705\n",
      "RandomForest [0.77860636 0.78091174 0.98128601 0.88105215] 0.8554640628573759\n",
      "\n",
      "Start to process bands selection .....................\n",
      "#######################################################\n",
      "Using 60.42809247970581 sec\n",
      "0.8605442176870748\n",
      "['762.1', '706.6', '772.3', '411', '885.2', '606', '735.4', '778.5', '864.7', '696.4', '677.9', '445.9', '507.5', '659.4', '530.1', '827.7', '478.8', '573.2', '423.3', '803.1', '723', '618.4', '406.9', '550.6', '776.4']\n",
      "\n",
      "25\n",
      "QDA [0.82571762 0.80343888 0.9516276  0.8574172 ] 0.85955032565979\n",
      "RandomForest [0.76078927 0.76446313 0.97904164 0.88344135] 0.8469338472287767\n",
      "\n",
      "Start to process bands selection .....................\n",
      "#######################################################\n",
      "Using 51.431798219680786 sec\n",
      "0.8547619047619047\n",
      "['762.1', '706.6', '772.3', '411', '402.8', '622.5', '827.7', '737.4', '640.9', '784.6', '478.8', '515.7', '577.3', '872.9', '497.2', '558.8', '415.1', '536.2', '694.3', '454.1', '684', '655.3']\n",
      "\n",
      "22\n",
      "QDA [0.82220024 0.80427835 0.9414484  0.8337839 ] 0.8504277242671974\n",
      "RandomForest [0.77042912 0.77228856 0.97995449 0.87831424] 0.8502466047611343\n",
      "\n",
      "Start to process bands selection .....................\n",
      "#######################################################\n",
      "Using 48.828439474105835 sec\n",
      "0.8458333333333334\n",
      "['762.1', '706.6', '772.3', '885.2', '402.8', '614.2', '737.4', '478.8', '499.3', '579.4', '423.3', '848.3', '521.9', '755.9', '454.1', '542.4', '796.9', '409', '827.7', '864.7', '702.5']\n",
      "\n",
      "21\n",
      "QDA [0.81057743 0.7750371  0.93219225 0.83815242] 0.8389897995109327\n",
      "RandomForest [0.76882247 0.77530525 0.98501413 0.88324821] 0.8530975146282014\n",
      "\n",
      "Start to process bands selection .....................\n",
      "#######################################################\n",
      "Using 48.78274178504944 sec\n",
      "0.8543367346938776\n",
      "['762.1', '706.6', '411', '885.2', '402.8', '737.4', '595.8', '499.3', '774.4', '433.6', '472.6', '725.1', '825.7', '778.5', '515.7', '538.3', '556.8', '622.5', '694.3', '659.4', '848.3']\n",
      "\n",
      "21\n",
      "QDA [0.82295548 0.79665787 0.93153737 0.83618837] 0.8468347714957354\n",
      "RandomForest [0.78194919 0.78599331 0.98171958 0.88539607] 0.8587645400164241\n",
      "\n",
      "Start to process bands selection .....................\n",
      "#######################################################\n",
      "Using 45.86027431488037 sec\n",
      "0.8573979591836735\n",
      "['762.1', '677.9', '772.3', '411', '885.2', '725.1', '708.7', '694.3', '583.5', '454.1', '511.6', '825.7', '536.2', '501.3', '776.4', '493.1', '523.9', '606', '737.4', '655.3']\n",
      "\n",
      "20\n",
      "QDA [0.8232207  0.81327229 0.91982191 0.85530121] 0.8529040281943836\n",
      "RandomForest [0.74993738 0.75574449 0.978246   0.87785806] 0.8404464829803364\n",
      "\n",
      "Start to process bands selection .....................\n",
      "#######################################################\n",
      "Using 49.93578577041626 sec\n",
      "0.8480442176870748\n",
      "['762.1', '677.9', '772.3', '411', '402.8', '733.3', '819.5', '575.2', '721', '694.3', '558.8', '415.1', '881.1', '776.4', '521.9', '458.2', '501.3', '622.5', '542.4', '825.7', '655.3']\n",
      "\n",
      "21\n",
      "QDA [0.80593245 0.79207736 0.92863539 0.84092614] 0.8418928379605051\n",
      "RandomForest [0.77280552 0.7814001  0.98173265 0.87821981] 0.8535395227248048\n",
      "\n",
      "Start to process bands selection .....................\n",
      "#######################################################\n",
      "Using 43.929311752319336 sec\n",
      "0.8482993197278912\n",
      "['762.1', '677.9', '772.3', '885.2', '402.8', '731.3', '735.4', '692.3', '415.1', '583.5', '825.7', '556.8', '708.7', '521.9', '472.6', '622.5', '499.3', '409', '433.6']\n",
      "\n",
      "19\n",
      "QDA [0.82078689 0.79372507 0.92838944 0.84004674] 0.8457370356591598\n",
      "RandomForest [0.76903348 0.77834966 0.98221984 0.879069  ] 0.8521679923044838\n",
      "\n",
      "Start to process bands selection .....................\n",
      "#######################################################\n",
      "Using 55.48846745491028 sec\n",
      "0.8488945578231292\n",
      "['762.1', '677.9', '411', '885.2', '402.8', '731.3', '784.6', '774.4', '417.2', '796.9', '575.2', '511.6', '484.9', '827.7', '454.1', '860.6', '614.2', '542.4', '702.5', '530.1', '655.3', '751.8', '848.3']\n",
      "\n",
      "23\n",
      "QDA [0.81236156 0.78854675 0.92140055 0.84040677] 0.8406789060651891\n",
      "RandomForest [0.77246749 0.78031872 0.98191592 0.88153998] 0.8540605276740794\n",
      "\n",
      "Start to process bands selection .....................\n",
      "#######################################################\n",
      "Using 64.41852045059204 sec\n",
      "0.8630102040816326\n",
      "['762.1', '772.3', '411', '885.2', '402.8', '745.6', '558.8', '423.3', '523.9', '803.1', '694.3', '848.3', '577.3', '723', '751.8', '677.9', '536.2', '784.6', '472.6', '827.7', '622.5', '454.1', '872.9', '733.3', '640.9', '507.5']\n",
      "\n",
      "26\n",
      "QDA [0.8216746  0.80096932 0.95162204 0.85728372] 0.8578874181274385\n",
      "RandomForest [0.77286512 0.78132134 0.97910486 0.88006715] 0.853339620108493\n",
      "\n",
      "Start to process bands selection .....................\n",
      "#######################################################\n",
      "Using 50.81208682060242 sec\n",
      "0.8511054421768708\n",
      "['706.6', '677.9', '772.3', '411', '885.2', '827.7', '694.3', '762.1', '622.5', '725.1', '755.9', '493.1', '583.5', '515.7', '445.9', '413.1', '530.1', '400.8', '433.6', '565', '550.6']\n",
      "\n",
      "21\n",
      "QDA [0.82833526 0.80285162 0.93573025 0.83330939] 0.8500566290514373\n",
      "RandomForest [0.76516695 0.76847538 0.97972669 0.8835202 ] 0.8492223061093032\n",
      "\n",
      "Start to process bands selection .....................\n",
      "#######################################################\n",
      "Using 64.92425227165222 sec\n",
      "0.8613945578231292\n",
      "['706.6', '677.9', '772.3', '411', '402.8', '784.6', '622.5', '688.1', '850.3', '417.2', '757.9', '745.6', '657.4', '565', '796.9', '550.6', '885.2', '811.3', '409', '501.3', '472.6', '725.1', '577.3', '825.7', '776.4', '858.5']\n",
      "\n",
      "26\n",
      "QDA [0.8256604  0.80890991 0.95081327 0.83345017] 0.854708435134514\n"
     ]
    },
    {
     "name": "stdout",
     "output_type": "stream",
     "text": [
      "RandomForest [0.76940402 0.77231522 0.97999058 0.87483657] 0.8491365959577017\n",
      "\n",
      "Start to process bands selection .....................\n",
      "#######################################################\n",
      "Using 40.96124768257141 sec\n",
      "0.8464285714285714\n",
      "['706.6', '677.9', '772.3', '885.2', '402.8', '762.1', '737.4', '583.5', '458.2', '513.7', '825.7', '622.5', '803.1', '565', '702.5', '417.2', '776.4', '501.3']\n",
      "\n",
      "18\n",
      "QDA [0.82761844 0.7952358  0.90352031 0.83582277] 0.8405493297323013\n",
      "RandomForest [0.77232783 0.77458803 0.98065669 0.87952174] 0.8517735719688196\n",
      "\n",
      "Start to process bands selection .....................\n",
      "#######################################################\n",
      "Using 59.556145668029785 sec\n",
      "0.8613095238095239\n",
      "['706.6', '677.9', '411', '885.2', '402.8', '784.6', '688.1', '760', '421.3', '583.5', '821.6', '757.9', '727.2', '515.7', '493.1', '622.5', '774.4', '803.1', '536.2', '737.4', '556.8', '657.4', '445.9', '864.7']\n",
      "\n",
      "24\n",
      "QDA [0.82983531 0.7992268  0.93554155 0.85412816] 0.854682955510832\n",
      "RandomForest [0.76897645 0.77307594 0.9825933  0.8806666 ] 0.8513280694460108\n",
      "\n",
      "Start to process bands selection .....................\n",
      "#######################################################\n",
      "Using 48.61128330230713 sec\n",
      "0.8622448979591837\n",
      "['706.6', '772.3', '411', '885.2', '402.8', '622.5', '762.1', '737.4', '433.6', '579.4', '511.6', '493.1', '696.4', '803.1', '825.7', '679.9', '530.1', '415.1', '776.4', '725.1']\n",
      "\n",
      "20\n",
      "QDA [0.83441107 0.81732907 0.93481623 0.85418095] 0.8601843288821314\n",
      "RandomForest [0.78530817 0.78755917 0.97881604 0.88108663] 0.8581925022075558\n",
      "\n",
      "Start to process bands selection .....................\n",
      "#######################################################\n",
      "Using 38.703288555145264 sec\n",
      "0.8551020408163265\n",
      "['677.9', '772.3', '411', '885.2', '402.8', '796.9', '735.4', '784.6', '583.5', '421.3', '497.2', '757.9', '542.4', '445.9', '513.7', '716.9', '630.7']\n",
      "\n",
      "17\n",
      "QDA [0.84223161 0.81093137 0.9135507  0.82677976] 0.8483733615432762\n",
      "RandomForest [0.76786904 0.77634409 0.98333091 0.88109459] 0.8521596595376679\n",
      "\n"
     ]
    }
   ],
   "source": [
    "comb = combinations(['762.1', '885.2', '749.7', '735.4', '755.9', '774.4', '766.2', '858.5'], 6)\n",
    "for item in comb:\n",
    "    best_band = list(item) # item is tuple\n",
    "    remain_bands = full_lists.copy()\n",
    "    for _item in best_band:\n",
    "        remain_bands.remove(_item)\n",
    "        \n",
    "    results = get_top_bands_comb(best_band, remain_bands, _input, label, model)\n",
    "    print(results[-1]['score'])\n",
    "    print(results[-1]['bands'])\n",
    "    print()\n",
    "    \n",
    "    _sel = results[-1]['bands']\n",
    "    print(len(_sel))\n",
    "    get_score(_sel)\n",
    "    print()"
   ]
  },
  {
   "cell_type": "code",
   "execution_count": 38,
   "id": "e6f548b6",
   "metadata": {},
   "outputs": [
    {
     "name": "stdout",
     "output_type": "stream",
     "text": [
      "Using 43.0068244934082 sec to do combination 2\n",
      "{'762.1', '735.4', '749.7', '755.9', '774.4', '885.2'}\n",
      "0.8731292517006802\n"
     ]
    }
   ],
   "source": [
    "\n",
    "#sel_bands = ['762.1', '706.6', '677.9', '772.3', '411', '885.2', '402.8']\n",
    "#clf = RandomForestClassifier(criterion='entropy', max_depth=16, n_estimators=300,random_state=46)\n",
    "#qda =  QuadraticDiscriminantAnalysis()\n",
    "rfc = RandomForestClassifier(criterion='entropy', max_depth=16, n_estimators=300,random_state=46)\n",
    "cv = RepeatedKFold(n_splits=4,n_repeats=4, random_state=46)\n",
    "\n",
    "_best_score = 0.0\n",
    "_best_band = set()\n",
    "\n",
    "\n",
    "t2 = time()\n",
    "comb = combinations(['762.1', '885.2', '749.7', '735.4', '755.9', '774.4', '766.2', '858.5'], 6)\n",
    "for item in comb:\n",
    "    _bands = set(item) # item is tuple, convert to set\n",
    "    #result = dict()\n",
    "    #print(bands_set)\n",
    "    _new_input = _input[_bands]\n",
    "    scores = cross_val_score(rfc, _new_input, label, scoring='accuracy', cv=cv, n_jobs=-1)\n",
    "    _score = np.mean(scores)\n",
    "    if _score > _best_score:\n",
    "        _best_score = _score\n",
    "        _best_band = _bands\n",
    "\n",
    "print(\"Using {} sec to do combination 2\".format(time()-t2))\n",
    "print(_best_band)\n",
    "print(_best_score)\n"
   ]
  },
  {
   "cell_type": "raw",
   "id": "8c207e78",
   "metadata": {},
   "source": [
    "Using 12572.200964927673 sec to do combination\n",
    "{'762.1', '737.4', '885.2', '774.4', '757.9', '817.5'}\n",
    "0.8710034013605442\n",
    "\n",
    "QDA [0.78277212 0.52004324 0.65951473 0.71209496] 0.6686062621129083\n",
    "RandomForest [0.84004124 0.79552284 0.96552528 0.86675073] 0.8669600233358968\n",
    "XGB [0.82235229 0.77543633 0.96191142 0.86582433] 0.8563810916570188\n",
    "\n",
    "\n",
    "Using 155816.57057118416 sec to do combination\n",
    "{'762.1', '885.2', '755.9', '749.7', '733.3', '766.2'}\n",
    "0.8735544217687075\n",
    "QDA [0.73164826 0.51940857 0.68732597 0.72926436] 0.6669117905376192\n",
    "RandomForest [0.83960202 0.7879042  0.96993668 0.87098366] 0.8671066397748258\n",
    "XGB [0.82272278 0.76274417 0.96819213 0.86667109] 0.8550825420166286"
   ]
  },
  {
   "cell_type": "markdown",
   "id": "2c0a9851",
   "metadata": {},
   "source": [
    "#### Ignore this part "
   ]
  },
  {
   "cell_type": "code",
   "execution_count": 41,
   "id": "94232c8f",
   "metadata": {},
   "outputs": [],
   "source": [
    "_lst = [['749.7', '762.1', '772.3', '885.2', '755.9', '796.9', '745.6', '760'],\n",
    "['749.7', '766.2', '885.2', '762.1', '772.3', '760', '774.4', '745.6', '819.5', '751.8', '402.8', '817.5'],\n",
    "['749.7', '772.3', '885.2', '762.1', '755.9', '796.9', '745.6', '757.9'],\n",
    "['755.9', '766.2', '885.2', '774.4', '749.7', '796.9', '762.1', '760', '772.3'],\n",
    "['755.9', '772.3', '885.2', '796.9', '757.9', '751.8', '762.1', '776.4', '749.7', '850.3', '745.6', '766.2', '872.9'],\n",
    "['762.1', '772.3', '885.2', '749.7', '755.9', '733.3', '819.5', '423.3', '774.4', '400.8', '757.9'],\n",
    "['766.2', '885.2', '774.4', '745.6', '757.9', '762.1', '784.6', '749.7', '796.9'],\n",
    "['772.3', '885.2', '757.9', '819.5', '751.8', '774.4', '803.1', '755.9']]"
   ]
  },
  {
   "cell_type": "code",
   "execution_count": 42,
   "id": "fe01ddc3",
   "metadata": {},
   "outputs": [],
   "source": [
    "_full_lst = set()\n",
    "for _sub_lst in _lst:\n",
    "    _full_lst = set.union(_full_lst, set(_sub_lst))"
   ]
  },
  {
   "cell_type": "code",
   "execution_count": 43,
   "id": "48923cb5",
   "metadata": {},
   "outputs": [
    {
     "data": {
      "text/plain": [
       "23"
      ]
     },
     "execution_count": 43,
     "metadata": {},
     "output_type": "execute_result"
    }
   ],
   "source": [
    "len(_full_lst)"
   ]
  },
  {
   "cell_type": "code",
   "execution_count": 45,
   "id": "e8962074",
   "metadata": {},
   "outputs": [
    {
     "name": "stdout",
     "output_type": "stream",
     "text": [
      "['400.8', '402.8', '423.3', '733.3', '745.6', '749.7', '751.8', '755.9', '757.9', '760', '762.1', '766.2', '772.3', '774.4', '776.4', '784.6', '796.9', '803.1', '817.5', '819.5', '850.3', '872.9', '885.2']\n"
     ]
    }
   ],
   "source": [
    "_full_lst = list(_full_lst)\n",
    "_full_lst.sort()\n",
    "print(_full_lst)"
   ]
  },
  {
   "cell_type": "markdown",
   "id": "e245214a",
   "metadata": {},
   "source": [
    "## Veg Index"
   ]
  },
  {
   "cell_type": "code",
   "execution_count": 9,
   "id": "92d38587",
   "metadata": {},
   "outputs": [
    {
     "name": "stdout",
     "output_type": "stream",
     "text": [
      "Start time is 2022-02-25 09:21:11.422233\n",
      "Load data success\n"
     ]
    }
   ],
   "source": [
    "_file_name = 'Adjusted categorization - 1-5,16-30, 35-70.xlsx'\n",
    "full_data = pd.read_excel(_file_name, sheet_name='SPSS multi VEG adjusted')\n",
    "\n",
    "print(\"Start time is {}\".format(datetime.now()))\n",
    "start = datetime.now()\n",
    "\n",
    "print(\"Load data success\")\n",
    "\n",
    "str_cols = full_data.columns.astype(str)\n",
    "full_data.columns = str_cols\n",
    "cols = str_cols.tolist()\n",
    "cols = cols[1:]\n",
    "\n",
    "_input = full_data[cols]\n",
    "label = full_data['label'].tolist()\n",
    "label = np.asarray(label).reshape(-1,)"
   ]
  },
  {
   "cell_type": "code",
   "execution_count": 12,
   "id": "0be8f041",
   "metadata": {},
   "outputs": [
    {
     "name": "stdout",
     "output_type": "stream",
     "text": [
      "QDA [0.71249245 0.43285711 0.59357323 0.6053298 ] 0.5860631478804075\n",
      "RandomForest [0.80100511 0.79028101 0.97405418 0.87277684] 0.8595292854427963\n"
     ]
    }
   ],
   "source": [
    "_sel_vegidx = ['RARSc', 'Chl green ', 'CI green', 'NPQI', 'CI rededge 710', 'RVSI'] #['772.3','402.8', '706.6','411', '762.1', '885.2','677.9']\n",
    "get_score(_sel_vegidx)"
   ]
  },
  {
   "cell_type": "code",
   "execution_count": null,
   "id": "756911e1",
   "metadata": {},
   "outputs": [],
   "source": []
  },
  {
   "cell_type": "code",
   "execution_count": null,
   "id": "f5804497",
   "metadata": {},
   "outputs": [],
   "source": []
  },
  {
   "cell_type": "markdown",
   "id": "6d127d80",
   "metadata": {},
   "source": [
    "## Compare Classifiers"
   ]
  },
  {
   "cell_type": "code",
   "execution_count": 46,
   "id": "13c07883",
   "metadata": {},
   "outputs": [],
   "source": [
    "from sklearn.neural_network import MLPClassifier\n",
    "from sklearn.neighbors import KNeighborsClassifier\n",
    "from sklearn.svm import SVC\n",
    "from sklearn.gaussian_process import GaussianProcessClassifier\n",
    "from sklearn.gaussian_process.kernels import RBF\n",
    "from sklearn.tree import DecisionTreeClassifier\n",
    "from sklearn.ensemble import RandomForestClassifier, AdaBoostClassifier\n",
    "from sklearn.naive_bayes import GaussianNB\n",
    "from sklearn.discriminant_analysis import QuadraticDiscriminantAnalysis"
   ]
  },
  {
   "cell_type": "code",
   "execution_count": 50,
   "id": "da57374c",
   "metadata": {},
   "outputs": [],
   "source": [
    "classifiers = [\n",
    "    KNeighborsClassifier(3),\n",
    "    SVC(kernel=\"linear\", C=0.025),\n",
    "    SVC(gamma=2, C=1),\n",
    "    GaussianProcessClassifier(1.0 * RBF(1.0)),\n",
    "    DecisionTreeClassifier(max_depth=5),\n",
    "    RandomForestClassifier(max_depth=5, n_estimators=10, max_features=1),\n",
    "    MLPClassifier(alpha=1, max_iter=1000),\n",
    "    AdaBoostClassifier(),\n",
    "    GaussianNB(),\n",
    "    QuadraticDiscriminantAnalysis(),\n",
    "]\n",
    "\n",
    "names = [\n",
    "    \"Nearest Neighbors\",\n",
    "    \"Linear SVM\",\n",
    "    \"RBF SVM\",\n",
    "    \"Gaussian Process\",\n",
    "    \"Decision Tree\",\n",
    "    \"Random Forest\",\n",
    "    \"Neural Net\",\n",
    "    \"AdaBoost\",\n",
    "    \"Naive Bayes\",\n",
    "    \"QDA\",\n",
    "]"
   ]
  },
  {
   "cell_type": "code",
   "execution_count": 51,
   "id": "9724b151",
   "metadata": {},
   "outputs": [],
   "source": [
    "sel_bands =['423.3', '733.3', '749.7', '762.1', '772.3', '819.5']"
   ]
  },
  {
   "cell_type": "code",
   "execution_count": 52,
   "id": "f485d895",
   "metadata": {},
   "outputs": [
    {
     "name": "stdout",
     "output_type": "stream",
     "text": [
      "Nearest Neighbors [0.75910923 0.70503823 0.92651334 0.80040442] 0.7977663065223625\n",
      "Linear SVM [0.         0.42093323 0.         0.        ] 0.10523330656121446\n",
      "RBF SVM [0.47265159 0.27164267 0.37190181 0.39397988] 0.3775439896921354\n"
     ]
    },
    {
     "name": "stderr",
     "output_type": "stream",
     "text": [
      "E:\\anaconda3\\envs\\hsi\\lib\\site-packages\\sklearn\\gaussian_process\\kernels.py:437: ConvergenceWarning: The optimal value found for dimension 0 of parameter k1__constant_value is close to the specified upper bound 100000.0. Increasing the bound and calling fit again may find a better value.\n",
      "  ConvergenceWarning,\n",
      "E:\\anaconda3\\envs\\hsi\\lib\\site-packages\\sklearn\\gaussian_process\\kernels.py:437: ConvergenceWarning: The optimal value found for dimension 0 of parameter k1__constant_value is close to the specified upper bound 100000.0. Increasing the bound and calling fit again may find a better value.\n",
      "  ConvergenceWarning,\n",
      "E:\\anaconda3\\envs\\hsi\\lib\\site-packages\\sklearn\\gaussian_process\\kernels.py:437: ConvergenceWarning: The optimal value found for dimension 0 of parameter k1__constant_value is close to the specified upper bound 100000.0. Increasing the bound and calling fit again may find a better value.\n",
      "  ConvergenceWarning,\n",
      "E:\\anaconda3\\envs\\hsi\\lib\\site-packages\\sklearn\\gaussian_process\\kernels.py:437: ConvergenceWarning: The optimal value found for dimension 0 of parameter k1__constant_value is close to the specified upper bound 100000.0. Increasing the bound and calling fit again may find a better value.\n",
      "  ConvergenceWarning,\n",
      "E:\\anaconda3\\envs\\hsi\\lib\\site-packages\\sklearn\\gaussian_process\\kernels.py:437: ConvergenceWarning: The optimal value found for dimension 0 of parameter k1__constant_value is close to the specified upper bound 100000.0. Increasing the bound and calling fit again may find a better value.\n",
      "  ConvergenceWarning,\n",
      "E:\\anaconda3\\envs\\hsi\\lib\\site-packages\\sklearn\\gaussian_process\\_gpc.py:452: RuntimeWarning: overflow encountered in exp\n",
      "  - np.log(np.diag(L)).sum()\n",
      "E:\\anaconda3\\envs\\hsi\\lib\\site-packages\\sklearn\\gaussian_process\\kernels.py:437: ConvergenceWarning: The optimal value found for dimension 0 of parameter k1__constant_value is close to the specified upper bound 100000.0. Increasing the bound and calling fit again may find a better value.\n",
      "  ConvergenceWarning,\n",
      "E:\\anaconda3\\envs\\hsi\\lib\\site-packages\\sklearn\\gaussian_process\\kernels.py:437: ConvergenceWarning: The optimal value found for dimension 0 of parameter k1__constant_value is close to the specified upper bound 100000.0. Increasing the bound and calling fit again may find a better value.\n",
      "  ConvergenceWarning,\n",
      "E:\\anaconda3\\envs\\hsi\\lib\\site-packages\\sklearn\\gaussian_process\\kernels.py:437: ConvergenceWarning: The optimal value found for dimension 0 of parameter k1__constant_value is close to the specified upper bound 100000.0. Increasing the bound and calling fit again may find a better value.\n",
      "  ConvergenceWarning,\n",
      "E:\\anaconda3\\envs\\hsi\\lib\\site-packages\\sklearn\\gaussian_process\\kernels.py:437: ConvergenceWarning: The optimal value found for dimension 0 of parameter k1__constant_value is close to the specified upper bound 100000.0. Increasing the bound and calling fit again may find a better value.\n",
      "  ConvergenceWarning,\n",
      "E:\\anaconda3\\envs\\hsi\\lib\\site-packages\\sklearn\\gaussian_process\\kernels.py:437: ConvergenceWarning: The optimal value found for dimension 0 of parameter k1__constant_value is close to the specified upper bound 100000.0. Increasing the bound and calling fit again may find a better value.\n",
      "  ConvergenceWarning,\n",
      "E:\\anaconda3\\envs\\hsi\\lib\\site-packages\\sklearn\\gaussian_process\\kernels.py:437: ConvergenceWarning: The optimal value found for dimension 0 of parameter k1__constant_value is close to the specified upper bound 100000.0. Increasing the bound and calling fit again may find a better value.\n",
      "  ConvergenceWarning,\n",
      "E:\\anaconda3\\envs\\hsi\\lib\\site-packages\\sklearn\\gaussian_process\\kernels.py:437: ConvergenceWarning: The optimal value found for dimension 0 of parameter k1__constant_value is close to the specified upper bound 100000.0. Increasing the bound and calling fit again may find a better value.\n",
      "  ConvergenceWarning,\n"
     ]
    },
    {
     "name": "stdout",
     "output_type": "stream",
     "text": [
      "Gaussian Process [0.80841218 0.77271782 0.92799887 0.87876421] 0.8469732695079816\n",
      "Decision Tree [0.53634501 0.2440316  0.56749922 0.49720617] 0.4612704997928899\n",
      "Random Forest [0.59637337 0.34202178 0.65107858 0.54580624] 0.533819991981179\n",
      "Neural Net [0.0204219  0.32797653 0.11523813 0.00460526] 0.11706045555715952\n",
      "AdaBoost [0.53791327 0.38320279 0.55002494 0.55308586] 0.5060567129945169\n",
      "Naive Bayes [0.43230666 0.05364834 0.41690772 0.41855874] 0.3303553632145534\n",
      "QDA [0.78080622 0.47838998 0.65638082 0.75568822] 0.6678163088823045\n"
     ]
    }
   ],
   "source": [
    "for clf, name in zip(classifiers, names):\n",
    "    f1_scores = get_f1_score_by_method(clf, _input, label, sel_bands)\n",
    "    print(name,np.mean(f1_scores, axis=0), np.mean(f1_scores))"
   ]
  }
 ],
 "metadata": {
  "kernelspec": {
   "display_name": "Python 3 (ipykernel)",
   "language": "python",
   "name": "python3"
  },
  "language_info": {
   "codemirror_mode": {
    "name": "ipython",
    "version": 3
   },
   "file_extension": ".py",
   "mimetype": "text/x-python",
   "name": "python",
   "nbconvert_exporter": "python",
   "pygments_lexer": "ipython3",
   "version": "3.7.11"
  }
 },
 "nbformat": 4,
 "nbformat_minor": 5
}
