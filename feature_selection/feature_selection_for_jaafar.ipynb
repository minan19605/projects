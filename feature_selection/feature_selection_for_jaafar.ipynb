{
 "cells": [
  {
   "cell_type": "code",
   "execution_count": 29,
   "id": "c1821fe5",
   "metadata": {},
   "outputs": [],
   "source": [
    "import numpy as np\n",
    "import os\n",
    "import pandas as pd\n",
    "from time import time\n",
    "import pickle\n",
    "from itertools import combinations\n",
    "\n",
    "from sklearn.model_selection import train_test_split\n",
    "\n",
    "from sklearn.preprocessing import MinMaxScaler\n",
    "from sklearn.model_selection import GridSearchCV\n",
    "from sklearn.model_selection import RepeatedKFold\n",
    "from sklearn.metrics import f1_score\n",
    "from sklearn.model_selection import cross_val_score\n",
    "from sklearn.feature_selection import SelectKBest,f_classif,chi2\n",
    "\n",
    "#from sklearn.datasets import make_moons, make_circles, make_classification\n",
    "from sklearn.neural_network import MLPClassifier\n",
    "from sklearn.neighbors import KNeighborsClassifier\n",
    "from sklearn.svm import SVC\n",
    "from sklearn.gaussian_process import GaussianProcessClassifier\n",
    "from sklearn.gaussian_process.kernels import RBF\n",
    "from sklearn.tree import DecisionTreeClassifier\n",
    "from sklearn.ensemble import RandomForestClassifier, AdaBoostClassifier\n",
    "from sklearn.naive_bayes import GaussianNB\n",
    "from sklearn.discriminant_analysis import QuadraticDiscriminantAnalysis\n",
    "\n",
    "from sklearn.ensemble import StackingClassifier\n",
    "from sklearn.linear_model import LogisticRegression\n",
    "from sklearn.linear_model import SGDClassifier\n",
    "\n",
    "from sklearn.ensemble import ExtraTreesClassifier\n",
    "from sklearn.feature_selection import SelectFromModel\n",
    "\n",
    "from sklearn.feature_selection import RFECV"
   ]
  },
  {
   "cell_type": "code",
   "execution_count": 2,
   "id": "eae0d02c",
   "metadata": {},
   "outputs": [],
   "source": [
    "def build_model():\n",
    "    estimators = [\n",
    "    ('rf', RandomForestClassifier(n_estimators=10, random_state=42)),\n",
    "    ('svc', SVC(kernel = 'sigmoid',gamma='auto')),\n",
    "    ('knc',KNeighborsClassifier(n_neighbors=3)),\n",
    "    ('GNB',GaussianNB()),\n",
    "    ('QDA',QuadraticDiscriminantAnalysis()),\n",
    "    ('DTC',DecisionTreeClassifier())\n",
    "    ]\n",
    "    clf = StackingClassifier(\n",
    "        estimators=estimators, final_estimator= SGDClassifier(), cv=10, #LogisticRegression\n",
    "        n_jobs = 18\n",
    "    )\n",
    "    \n",
    "    return clf"
   ]
  },
  {
   "cell_type": "code",
   "execution_count": 2,
   "id": "2a9b48bc",
   "metadata": {},
   "outputs": [],
   "source": [
    "_file_name = 'Adjusted categorization - 1-5,16-30, 35-70.xlsx'"
   ]
  },
  {
   "cell_type": "code",
   "execution_count": 3,
   "id": "10e2d82b",
   "metadata": {},
   "outputs": [
    {
     "data": {
      "text/plain": [
       "['H vs. 1-15',\n",
       " 'H vs. Sc35-70',\n",
       " 'H vs. Sc 16-34',\n",
       " 'Multiclasses',\n",
       " 'All categories',\n",
       " 'VEG index',\n",
       " 'spss Veg class1',\n",
       " 'Spss veg class 2',\n",
       " 'Spss veg class 3',\n",
       " 'SPSS multi VEG adjusted']"
      ]
     },
     "execution_count": 3,
     "metadata": {},
     "output_type": "execute_result"
    }
   ],
   "source": [
    "xl = pd.ExcelFile(_file_name)\n",
    "xl.sheet_names"
   ]
  },
  {
   "cell_type": "code",
   "execution_count": 4,
   "id": "29dedec1",
   "metadata": {},
   "outputs": [
    {
     "data": {
      "text/html": [
       "<div>\n",
       "<style scoped>\n",
       "    .dataframe tbody tr th:only-of-type {\n",
       "        vertical-align: middle;\n",
       "    }\n",
       "\n",
       "    .dataframe tbody tr th {\n",
       "        vertical-align: top;\n",
       "    }\n",
       "\n",
       "    .dataframe thead th {\n",
       "        text-align: right;\n",
       "    }\n",
       "</style>\n",
       "<table border=\"1\" class=\"dataframe\">\n",
       "  <thead>\n",
       "    <tr style=\"text-align: right;\">\n",
       "      <th></th>\n",
       "      <th>label</th>\n",
       "      <th>394.6</th>\n",
       "      <th>396.7</th>\n",
       "      <th>398.7</th>\n",
       "      <th>400.8</th>\n",
       "      <th>402.8</th>\n",
       "      <th>404.9</th>\n",
       "      <th>406.9</th>\n",
       "      <th>409</th>\n",
       "      <th>411</th>\n",
       "      <th>...</th>\n",
       "      <th>866.7</th>\n",
       "      <th>868.8</th>\n",
       "      <th>870.9</th>\n",
       "      <th>872.9</th>\n",
       "      <th>875</th>\n",
       "      <th>877</th>\n",
       "      <th>879.1</th>\n",
       "      <th>881.1</th>\n",
       "      <th>883.2</th>\n",
       "      <th>885.2</th>\n",
       "    </tr>\n",
       "  </thead>\n",
       "  <tbody>\n",
       "    <tr>\n",
       "      <th>0</th>\n",
       "      <td>0</td>\n",
       "      <td>0.04827</td>\n",
       "      <td>0.04468</td>\n",
       "      <td>0.04008</td>\n",
       "      <td>0.03521</td>\n",
       "      <td>0.03030</td>\n",
       "      <td>0.02578</td>\n",
       "      <td>0.02212</td>\n",
       "      <td>0.01985</td>\n",
       "      <td>0.01826</td>\n",
       "      <td>...</td>\n",
       "      <td>0.3162</td>\n",
       "      <td>0.3168</td>\n",
       "      <td>0.3175</td>\n",
       "      <td>0.3180</td>\n",
       "      <td>0.3184</td>\n",
       "      <td>0.3187</td>\n",
       "      <td>0.3190</td>\n",
       "      <td>0.3194</td>\n",
       "      <td>0.3195</td>\n",
       "      <td>0.3194</td>\n",
       "    </tr>\n",
       "    <tr>\n",
       "      <th>1</th>\n",
       "      <td>0</td>\n",
       "      <td>0.05322</td>\n",
       "      <td>0.04898</td>\n",
       "      <td>0.04387</td>\n",
       "      <td>0.03805</td>\n",
       "      <td>0.03224</td>\n",
       "      <td>0.02683</td>\n",
       "      <td>0.02242</td>\n",
       "      <td>0.01950</td>\n",
       "      <td>0.01754</td>\n",
       "      <td>...</td>\n",
       "      <td>0.3379</td>\n",
       "      <td>0.3388</td>\n",
       "      <td>0.3393</td>\n",
       "      <td>0.3402</td>\n",
       "      <td>0.3408</td>\n",
       "      <td>0.3412</td>\n",
       "      <td>0.3415</td>\n",
       "      <td>0.3417</td>\n",
       "      <td>0.3419</td>\n",
       "      <td>0.3416</td>\n",
       "    </tr>\n",
       "    <tr>\n",
       "      <th>2</th>\n",
       "      <td>0</td>\n",
       "      <td>0.04710</td>\n",
       "      <td>0.04375</td>\n",
       "      <td>0.03963</td>\n",
       "      <td>0.03504</td>\n",
       "      <td>0.03022</td>\n",
       "      <td>0.02590</td>\n",
       "      <td>0.02229</td>\n",
       "      <td>0.01998</td>\n",
       "      <td>0.01833</td>\n",
       "      <td>...</td>\n",
       "      <td>0.3627</td>\n",
       "      <td>0.3634</td>\n",
       "      <td>0.3638</td>\n",
       "      <td>0.3643</td>\n",
       "      <td>0.3648</td>\n",
       "      <td>0.3651</td>\n",
       "      <td>0.3651</td>\n",
       "      <td>0.3649</td>\n",
       "      <td>0.3651</td>\n",
       "      <td>0.3648</td>\n",
       "    </tr>\n",
       "    <tr>\n",
       "      <th>3</th>\n",
       "      <td>0</td>\n",
       "      <td>0.04965</td>\n",
       "      <td>0.04648</td>\n",
       "      <td>0.04230</td>\n",
       "      <td>0.03775</td>\n",
       "      <td>0.03321</td>\n",
       "      <td>0.02890</td>\n",
       "      <td>0.02520</td>\n",
       "      <td>0.02265</td>\n",
       "      <td>0.02040</td>\n",
       "      <td>...</td>\n",
       "      <td>0.3373</td>\n",
       "      <td>0.3383</td>\n",
       "      <td>0.3390</td>\n",
       "      <td>0.3399</td>\n",
       "      <td>0.3406</td>\n",
       "      <td>0.3412</td>\n",
       "      <td>0.3419</td>\n",
       "      <td>0.3423</td>\n",
       "      <td>0.3429</td>\n",
       "      <td>0.3432</td>\n",
       "    </tr>\n",
       "    <tr>\n",
       "      <th>4</th>\n",
       "      <td>0</td>\n",
       "      <td>0.04562</td>\n",
       "      <td>0.04221</td>\n",
       "      <td>0.03784</td>\n",
       "      <td>0.03332</td>\n",
       "      <td>0.02895</td>\n",
       "      <td>0.02493</td>\n",
       "      <td>0.02176</td>\n",
       "      <td>0.02012</td>\n",
       "      <td>0.01829</td>\n",
       "      <td>...</td>\n",
       "      <td>0.2413</td>\n",
       "      <td>0.2420</td>\n",
       "      <td>0.2431</td>\n",
       "      <td>0.2438</td>\n",
       "      <td>0.2444</td>\n",
       "      <td>0.2452</td>\n",
       "      <td>0.2458</td>\n",
       "      <td>0.2463</td>\n",
       "      <td>0.2465</td>\n",
       "      <td>0.2471</td>\n",
       "    </tr>\n",
       "  </tbody>\n",
       "</table>\n",
       "<p>5 rows × 241 columns</p>\n",
       "</div>"
      ],
      "text/plain": [
       "   label    394.6    396.7    398.7    400.8    402.8    404.9    406.9  \\\n",
       "0      0  0.04827  0.04468  0.04008  0.03521  0.03030  0.02578  0.02212   \n",
       "1      0  0.05322  0.04898  0.04387  0.03805  0.03224  0.02683  0.02242   \n",
       "2      0  0.04710  0.04375  0.03963  0.03504  0.03022  0.02590  0.02229   \n",
       "3      0  0.04965  0.04648  0.04230  0.03775  0.03321  0.02890  0.02520   \n",
       "4      0  0.04562  0.04221  0.03784  0.03332  0.02895  0.02493  0.02176   \n",
       "\n",
       "       409      411  ...   866.7   868.8   870.9   872.9     875     877  \\\n",
       "0  0.01985  0.01826  ...  0.3162  0.3168  0.3175  0.3180  0.3184  0.3187   \n",
       "1  0.01950  0.01754  ...  0.3379  0.3388  0.3393  0.3402  0.3408  0.3412   \n",
       "2  0.01998  0.01833  ...  0.3627  0.3634  0.3638  0.3643  0.3648  0.3651   \n",
       "3  0.02265  0.02040  ...  0.3373  0.3383  0.3390  0.3399  0.3406  0.3412   \n",
       "4  0.02012  0.01829  ...  0.2413  0.2420  0.2431  0.2438  0.2444  0.2452   \n",
       "\n",
       "    879.1   881.1   883.2   885.2  \n",
       "0  0.3190  0.3194  0.3195  0.3194  \n",
       "1  0.3415  0.3417  0.3419  0.3416  \n",
       "2  0.3651  0.3649  0.3651  0.3648  \n",
       "3  0.3419  0.3423  0.3429  0.3432  \n",
       "4  0.2458  0.2463  0.2465  0.2471  \n",
       "\n",
       "[5 rows x 241 columns]"
      ]
     },
     "execution_count": 4,
     "metadata": {},
     "output_type": "execute_result"
    }
   ],
   "source": [
    "full_data = pd.read_excel(_file_name, sheet_name='Multiclasses')\n",
    "full_data.head()"
   ]
  },
  {
   "cell_type": "code",
   "execution_count": 45,
   "id": "c4a62cf9",
   "metadata": {},
   "outputs": [],
   "source": [
    "str_cols = full_data.columns.astype(str)\n",
    "full_data.columns = str_cols\n",
    "cols = str_cols.tolist()\n",
    "cols = cols[1:]\n",
    "\n",
    "__input = full_data[cols]\n",
    "label = full_data['label'].tolist()\n",
    "label = np.asarray(label).reshape(-1,)"
   ]
  },
  {
   "cell_type": "code",
   "execution_count": 47,
   "id": "74e94a27",
   "metadata": {},
   "outputs": [
    {
     "data": {
      "text/html": [
       "<div>\n",
       "<style scoped>\n",
       "    .dataframe tbody tr th:only-of-type {\n",
       "        vertical-align: middle;\n",
       "    }\n",
       "\n",
       "    .dataframe tbody tr th {\n",
       "        vertical-align: top;\n",
       "    }\n",
       "\n",
       "    .dataframe thead th {\n",
       "        text-align: right;\n",
       "    }\n",
       "</style>\n",
       "<table border=\"1\" class=\"dataframe\">\n",
       "  <thead>\n",
       "    <tr style=\"text-align: right;\">\n",
       "      <th></th>\n",
       "      <th>394.6</th>\n",
       "      <th>396.7</th>\n",
       "      <th>398.7</th>\n",
       "      <th>400.8</th>\n",
       "      <th>402.8</th>\n",
       "      <th>404.9</th>\n",
       "      <th>406.9</th>\n",
       "      <th>409</th>\n",
       "      <th>411</th>\n",
       "      <th>413.1</th>\n",
       "      <th>...</th>\n",
       "      <th>866.7</th>\n",
       "      <th>868.8</th>\n",
       "      <th>870.9</th>\n",
       "      <th>872.9</th>\n",
       "      <th>875</th>\n",
       "      <th>877</th>\n",
       "      <th>879.1</th>\n",
       "      <th>881.1</th>\n",
       "      <th>883.2</th>\n",
       "      <th>885.2</th>\n",
       "    </tr>\n",
       "  </thead>\n",
       "  <tbody>\n",
       "    <tr>\n",
       "      <th>0</th>\n",
       "      <td>0.370963</td>\n",
       "      <td>0.405076</td>\n",
       "      <td>0.345565</td>\n",
       "      <td>0.396703</td>\n",
       "      <td>0.404955</td>\n",
       "      <td>0.373281</td>\n",
       "      <td>0.365420</td>\n",
       "      <td>0.326933</td>\n",
       "      <td>0.279768</td>\n",
       "      <td>0.268328</td>\n",
       "      <td>...</td>\n",
       "      <td>0.673293</td>\n",
       "      <td>0.672524</td>\n",
       "      <td>0.672910</td>\n",
       "      <td>0.672889</td>\n",
       "      <td>0.673541</td>\n",
       "      <td>0.673346</td>\n",
       "      <td>0.673178</td>\n",
       "      <td>0.673247</td>\n",
       "      <td>0.672903</td>\n",
       "      <td>0.672594</td>\n",
       "    </tr>\n",
       "    <tr>\n",
       "      <th>1</th>\n",
       "      <td>0.439866</td>\n",
       "      <td>0.475939</td>\n",
       "      <td>0.404747</td>\n",
       "      <td>0.457504</td>\n",
       "      <td>0.451167</td>\n",
       "      <td>0.402750</td>\n",
       "      <td>0.374617</td>\n",
       "      <td>0.315345</td>\n",
       "      <td>0.255203</td>\n",
       "      <td>0.278832</td>\n",
       "      <td>...</td>\n",
       "      <td>0.738454</td>\n",
       "      <td>0.738378</td>\n",
       "      <td>0.738029</td>\n",
       "      <td>0.739086</td>\n",
       "      <td>0.740202</td>\n",
       "      <td>0.740040</td>\n",
       "      <td>0.739665</td>\n",
       "      <td>0.738951</td>\n",
       "      <td>0.738793</td>\n",
       "      <td>0.737840</td>\n",
       "    </tr>\n",
       "    <tr>\n",
       "      <th>2</th>\n",
       "      <td>0.354677</td>\n",
       "      <td>0.389750</td>\n",
       "      <td>0.338538</td>\n",
       "      <td>0.393064</td>\n",
       "      <td>0.403049</td>\n",
       "      <td>0.376649</td>\n",
       "      <td>0.370632</td>\n",
       "      <td>0.331237</td>\n",
       "      <td>0.282156</td>\n",
       "      <td>0.289336</td>\n",
       "      <td>...</td>\n",
       "      <td>0.812924</td>\n",
       "      <td>0.812015</td>\n",
       "      <td>0.811214</td>\n",
       "      <td>0.810949</td>\n",
       "      <td>0.811624</td>\n",
       "      <td>0.810885</td>\n",
       "      <td>0.809403</td>\n",
       "      <td>0.807307</td>\n",
       "      <td>0.807036</td>\n",
       "      <td>0.806025</td>\n",
       "    </tr>\n",
       "    <tr>\n",
       "      <th>3</th>\n",
       "      <td>0.390173</td>\n",
       "      <td>0.434740</td>\n",
       "      <td>0.380231</td>\n",
       "      <td>0.451081</td>\n",
       "      <td>0.474273</td>\n",
       "      <td>0.460848</td>\n",
       "      <td>0.459841</td>\n",
       "      <td>0.419633</td>\n",
       "      <td>0.352781</td>\n",
       "      <td>0.367937</td>\n",
       "      <td>...</td>\n",
       "      <td>0.736652</td>\n",
       "      <td>0.736881</td>\n",
       "      <td>0.737133</td>\n",
       "      <td>0.738192</td>\n",
       "      <td>0.739607</td>\n",
       "      <td>0.740040</td>\n",
       "      <td>0.740847</td>\n",
       "      <td>0.740719</td>\n",
       "      <td>0.741734</td>\n",
       "      <td>0.742542</td>\n",
       "    </tr>\n",
       "    <tr>\n",
       "      <th>4</th>\n",
       "      <td>0.334076</td>\n",
       "      <td>0.364370</td>\n",
       "      <td>0.310587</td>\n",
       "      <td>0.356241</td>\n",
       "      <td>0.372797</td>\n",
       "      <td>0.349425</td>\n",
       "      <td>0.354384</td>\n",
       "      <td>0.335872</td>\n",
       "      <td>0.280792</td>\n",
       "      <td>0.291147</td>\n",
       "      <td>...</td>\n",
       "      <td>0.448381</td>\n",
       "      <td>0.448619</td>\n",
       "      <td>0.450668</td>\n",
       "      <td>0.451634</td>\n",
       "      <td>0.453323</td>\n",
       "      <td>0.455478</td>\n",
       "      <td>0.456872</td>\n",
       "      <td>0.457867</td>\n",
       "      <td>0.458172</td>\n",
       "      <td>0.460103</td>\n",
       "    </tr>\n",
       "    <tr>\n",
       "      <th>...</th>\n",
       "      <td>...</td>\n",
       "      <td>...</td>\n",
       "      <td>...</td>\n",
       "      <td>...</td>\n",
       "      <td>...</td>\n",
       "      <td>...</td>\n",
       "      <td>...</td>\n",
       "      <td>...</td>\n",
       "      <td>...</td>\n",
       "      <td>...</td>\n",
       "      <td>...</td>\n",
       "      <td>...</td>\n",
       "      <td>...</td>\n",
       "      <td>...</td>\n",
       "      <td>...</td>\n",
       "      <td>...</td>\n",
       "      <td>...</td>\n",
       "      <td>...</td>\n",
       "      <td>...</td>\n",
       "      <td>...</td>\n",
       "      <td>...</td>\n",
       "    </tr>\n",
       "    <tr>\n",
       "      <th>2935</th>\n",
       "      <td>0.606069</td>\n",
       "      <td>0.626071</td>\n",
       "      <td>0.513117</td>\n",
       "      <td>0.574609</td>\n",
       "      <td>0.562887</td>\n",
       "      <td>0.541959</td>\n",
       "      <td>0.565297</td>\n",
       "      <td>0.604370</td>\n",
       "      <td>0.544524</td>\n",
       "      <td>0.574761</td>\n",
       "      <td>...</td>\n",
       "      <td>0.438772</td>\n",
       "      <td>0.439638</td>\n",
       "      <td>0.440511</td>\n",
       "      <td>0.440899</td>\n",
       "      <td>0.441419</td>\n",
       "      <td>0.443621</td>\n",
       "      <td>0.446529</td>\n",
       "      <td>0.449912</td>\n",
       "      <td>0.451700</td>\n",
       "      <td>0.453049</td>\n",
       "    </tr>\n",
       "    <tr>\n",
       "      <th>2936</th>\n",
       "      <td>0.578229</td>\n",
       "      <td>0.630356</td>\n",
       "      <td>0.539350</td>\n",
       "      <td>0.633483</td>\n",
       "      <td>0.633397</td>\n",
       "      <td>0.608476</td>\n",
       "      <td>0.586757</td>\n",
       "      <td>0.538487</td>\n",
       "      <td>0.483453</td>\n",
       "      <td>0.504491</td>\n",
       "      <td>...</td>\n",
       "      <td>0.353793</td>\n",
       "      <td>0.354028</td>\n",
       "      <td>0.354781</td>\n",
       "      <td>0.353829</td>\n",
       "      <td>0.354522</td>\n",
       "      <td>0.354992</td>\n",
       "      <td>0.355811</td>\n",
       "      <td>0.356806</td>\n",
       "      <td>0.358454</td>\n",
       "      <td>0.359882</td>\n",
       "    </tr>\n",
       "    <tr>\n",
       "      <th>2937</th>\n",
       "      <td>0.450167</td>\n",
       "      <td>0.525544</td>\n",
       "      <td>0.486727</td>\n",
       "      <td>0.618069</td>\n",
       "      <td>0.671987</td>\n",
       "      <td>0.697165</td>\n",
       "      <td>0.718271</td>\n",
       "      <td>0.672571</td>\n",
       "      <td>0.636984</td>\n",
       "      <td>0.650101</td>\n",
       "      <td>...</td>\n",
       "      <td>0.354093</td>\n",
       "      <td>0.355824</td>\n",
       "      <td>0.356872</td>\n",
       "      <td>0.359196</td>\n",
       "      <td>0.361367</td>\n",
       "      <td>0.362106</td>\n",
       "      <td>0.363198</td>\n",
       "      <td>0.362994</td>\n",
       "      <td>0.361984</td>\n",
       "      <td>0.360176</td>\n",
       "    </tr>\n",
       "    <tr>\n",
       "      <th>2938</th>\n",
       "      <td>0.485523</td>\n",
       "      <td>0.563777</td>\n",
       "      <td>0.514366</td>\n",
       "      <td>0.653607</td>\n",
       "      <td>0.720581</td>\n",
       "      <td>0.765366</td>\n",
       "      <td>0.800123</td>\n",
       "      <td>0.776196</td>\n",
       "      <td>0.743773</td>\n",
       "      <td>0.757317</td>\n",
       "      <td>...</td>\n",
       "      <td>0.394331</td>\n",
       "      <td>0.394139</td>\n",
       "      <td>0.395107</td>\n",
       "      <td>0.395575</td>\n",
       "      <td>0.396482</td>\n",
       "      <td>0.397380</td>\n",
       "      <td>0.397476</td>\n",
       "      <td>0.397171</td>\n",
       "      <td>0.397576</td>\n",
       "      <td>0.397502</td>\n",
       "    </tr>\n",
       "    <tr>\n",
       "      <th>2939</th>\n",
       "      <td>0.508769</td>\n",
       "      <td>0.566744</td>\n",
       "      <td>0.498126</td>\n",
       "      <td>0.604796</td>\n",
       "      <td>0.626251</td>\n",
       "      <td>0.632052</td>\n",
       "      <td>0.643470</td>\n",
       "      <td>0.620593</td>\n",
       "      <td>0.547253</td>\n",
       "      <td>0.582005</td>\n",
       "      <td>...</td>\n",
       "      <td>0.225572</td>\n",
       "      <td>0.223516</td>\n",
       "      <td>0.222750</td>\n",
       "      <td>0.223223</td>\n",
       "      <td>0.223581</td>\n",
       "      <td>0.223678</td>\n",
       "      <td>0.223723</td>\n",
       "      <td>0.224514</td>\n",
       "      <td>0.224909</td>\n",
       "      <td>0.224982</td>\n",
       "    </tr>\n",
       "  </tbody>\n",
       "</table>\n",
       "<p>2940 rows × 240 columns</p>\n",
       "</div>"
      ],
      "text/plain": [
       "         394.6     396.7     398.7     400.8     402.8     404.9     406.9  \\\n",
       "0     0.370963  0.405076  0.345565  0.396703  0.404955  0.373281  0.365420   \n",
       "1     0.439866  0.475939  0.404747  0.457504  0.451167  0.402750  0.374617   \n",
       "2     0.354677  0.389750  0.338538  0.393064  0.403049  0.376649  0.370632   \n",
       "3     0.390173  0.434740  0.380231  0.451081  0.474273  0.460848  0.459841   \n",
       "4     0.334076  0.364370  0.310587  0.356241  0.372797  0.349425  0.354384   \n",
       "...        ...       ...       ...       ...       ...       ...       ...   \n",
       "2935  0.606069  0.626071  0.513117  0.574609  0.562887  0.541959  0.565297   \n",
       "2936  0.578229  0.630356  0.539350  0.633483  0.633397  0.608476  0.586757   \n",
       "2937  0.450167  0.525544  0.486727  0.618069  0.671987  0.697165  0.718271   \n",
       "2938  0.485523  0.563777  0.514366  0.653607  0.720581  0.765366  0.800123   \n",
       "2939  0.508769  0.566744  0.498126  0.604796  0.626251  0.632052  0.643470   \n",
       "\n",
       "           409       411     413.1  ...     866.7     868.8     870.9  \\\n",
       "0     0.326933  0.279768  0.268328  ...  0.673293  0.672524  0.672910   \n",
       "1     0.315345  0.255203  0.278832  ...  0.738454  0.738378  0.738029   \n",
       "2     0.331237  0.282156  0.289336  ...  0.812924  0.812015  0.811214   \n",
       "3     0.419633  0.352781  0.367937  ...  0.736652  0.736881  0.737133   \n",
       "4     0.335872  0.280792  0.291147  ...  0.448381  0.448619  0.450668   \n",
       "...        ...       ...       ...  ...       ...       ...       ...   \n",
       "2935  0.604370  0.544524  0.574761  ...  0.438772  0.439638  0.440511   \n",
       "2936  0.538487  0.483453  0.504491  ...  0.353793  0.354028  0.354781   \n",
       "2937  0.672571  0.636984  0.650101  ...  0.354093  0.355824  0.356872   \n",
       "2938  0.776196  0.743773  0.757317  ...  0.394331  0.394139  0.395107   \n",
       "2939  0.620593  0.547253  0.582005  ...  0.225572  0.223516  0.222750   \n",
       "\n",
       "         872.9       875       877     879.1     881.1     883.2     885.2  \n",
       "0     0.672889  0.673541  0.673346  0.673178  0.673247  0.672903  0.672594  \n",
       "1     0.739086  0.740202  0.740040  0.739665  0.738951  0.738793  0.737840  \n",
       "2     0.810949  0.811624  0.810885  0.809403  0.807307  0.807036  0.806025  \n",
       "3     0.738192  0.739607  0.740040  0.740847  0.740719  0.741734  0.742542  \n",
       "4     0.451634  0.453323  0.455478  0.456872  0.457867  0.458172  0.460103  \n",
       "...        ...       ...       ...       ...       ...       ...       ...  \n",
       "2935  0.440899  0.441419  0.443621  0.446529  0.449912  0.451700  0.453049  \n",
       "2936  0.353829  0.354522  0.354992  0.355811  0.356806  0.358454  0.359882  \n",
       "2937  0.359196  0.361367  0.362106  0.363198  0.362994  0.361984  0.360176  \n",
       "2938  0.395575  0.396482  0.397380  0.397476  0.397171  0.397576  0.397502  \n",
       "2939  0.223223  0.223581  0.223678  0.223723  0.224514  0.224909  0.224982  \n",
       "\n",
       "[2940 rows x 240 columns]"
      ]
     },
     "execution_count": 47,
     "metadata": {},
     "output_type": "execute_result"
    }
   ],
   "source": [
    "_input"
   ]
  },
  {
   "cell_type": "code",
   "execution_count": 46,
   "id": "cf2887b5",
   "metadata": {},
   "outputs": [],
   "source": [
    "scaler = MinMaxScaler()\n",
    "_std = scaler.fit_transform(__input)\n",
    "_input = pd.DataFrame(_std,columns=cols)"
   ]
  },
  {
   "cell_type": "markdown",
   "id": "2f7cd239",
   "metadata": {},
   "source": [
    "### Tree based feature selection"
   ]
  },
  {
   "cell_type": "code",
   "execution_count": 8,
   "id": "5628335c",
   "metadata": {},
   "outputs": [],
   "source": [
    "etc = ExtraTreesClassifier(n_estimators=200)\n",
    "etc = etc.fit(_input, label)"
   ]
  },
  {
   "cell_type": "code",
   "execution_count": 64,
   "id": "d53cfc72",
   "metadata": {},
   "outputs": [
    {
     "data": {
      "text/plain": [
       "array([0.00475482, 0.00484353, 0.00637623, 0.00849145, 0.0195514 ,\n",
       "       0.01564198, 0.00731358, 0.00677097, 0.01219501, 0.00868838,\n",
       "       0.00535836, 0.00400797, 0.00407264, 0.00483207, 0.00404343,\n",
       "       0.00396532, 0.00348179, 0.00372575, 0.00334861, 0.00344157,\n",
       "       0.0036709 , 0.00358186, 0.00403337, 0.0035024 , 0.00394557,\n",
       "       0.00387732, 0.00384655, 0.00358605, 0.00397003, 0.00365523,\n",
       "       0.00368488, 0.00374159, 0.00351681, 0.00357455, 0.00363041,\n",
       "       0.00317823, 0.00318667, 0.00318389, 0.00344295, 0.00338372,\n",
       "       0.00337333, 0.00324544, 0.00392854, 0.00354275, 0.00316823,\n",
       "       0.00322568, 0.00349376, 0.00342628, 0.0032341 , 0.00314491,\n",
       "       0.00274759, 0.00325994, 0.00325885, 0.00365836, 0.00313877,\n",
       "       0.00343774, 0.00353453, 0.00387444, 0.00383852, 0.0037033 ,\n",
       "       0.00352736, 0.0036081 , 0.00418425, 0.00358516, 0.00362783,\n",
       "       0.00383498, 0.00443673, 0.00352319, 0.00348622, 0.00396532,\n",
       "       0.00354332, 0.00379292, 0.00364864, 0.00369031, 0.0032803 ,\n",
       "       0.00369678, 0.00384962, 0.00384863, 0.00373379, 0.00339298,\n",
       "       0.00325912, 0.0039636 , 0.00292018, 0.00269483, 0.00319044,\n",
       "       0.00293108, 0.00282076, 0.00318347, 0.00379239, 0.00330037,\n",
       "       0.00312789, 0.00278606, 0.00310308, 0.00340256, 0.00333144,\n",
       "       0.00432568, 0.00322688, 0.00319386, 0.00323151, 0.00291113,\n",
       "       0.00311243, 0.00359954, 0.00336033, 0.00374326, 0.00334337,\n",
       "       0.00395957, 0.00325651, 0.00391821, 0.00299775, 0.00336282,\n",
       "       0.00265321, 0.00356053, 0.00377302, 0.00278203, 0.00308842,\n",
       "       0.0035235 , 0.00372307, 0.00361475, 0.00349149, 0.00357788,\n",
       "       0.00382322, 0.00413126, 0.00375588, 0.0044523 , 0.00433956,\n",
       "       0.00442208, 0.00354878, 0.00471057, 0.00447314, 0.00346593,\n",
       "       0.00427496, 0.00475225, 0.00487581, 0.00458225, 0.0040192 ,\n",
       "       0.00469687, 0.00435348, 0.00414319, 0.00377142, 0.00445176,\n",
       "       0.00392009, 0.00426195, 0.00401861, 0.0046603 , 0.00423428,\n",
       "       0.0059148 , 0.00487728, 0.00452042, 0.00487888, 0.00468938,\n",
       "       0.00483463, 0.00423709, 0.00480607, 0.00415947, 0.00371997,\n",
       "       0.00470256, 0.00517535, 0.0045825 , 0.00328058, 0.00514274,\n",
       "       0.00386632, 0.00622381, 0.00429613, 0.00418438, 0.00384217,\n",
       "       0.00467761, 0.00583538, 0.00489938, 0.00366697, 0.00375784,\n",
       "       0.00367448, 0.00361386, 0.00396239, 0.00349119, 0.0032513 ,\n",
       "       0.00458668, 0.00471176, 0.0055953 , 0.00694303, 0.01311723,\n",
       "       0.00952616, 0.0044297 , 0.00380352, 0.00423855, 0.00450074,\n",
       "       0.00540583, 0.00365121, 0.00432085, 0.0038462 , 0.00350072,\n",
       "       0.00354586, 0.00376626, 0.00424731, 0.0041868 , 0.00393664,\n",
       "       0.00389977, 0.00400875, 0.00319315, 0.00379598, 0.00369753,\n",
       "       0.00366795, 0.00374198, 0.00417412, 0.00396073, 0.0049311 ,\n",
       "       0.0041989 , 0.00494464, 0.0062486 , 0.00435198, 0.0034826 ,\n",
       "       0.00368693, 0.00432283, 0.00350208, 0.00351983, 0.00419673,\n",
       "       0.00418278, 0.00373874, 0.00343691, 0.00399607, 0.00340298,\n",
       "       0.0034673 , 0.00343235, 0.00381476, 0.0043886 , 0.00379721,\n",
       "       0.00408025, 0.00417099, 0.00373084, 0.00384815, 0.00338999,\n",
       "       0.00403903, 0.00345932, 0.00364997, 0.00343751, 0.00402669,\n",
       "       0.00395349, 0.00356729, 0.00405022, 0.00399308, 0.00392749])"
      ]
     },
     "execution_count": 64,
     "metadata": {},
     "output_type": "execute_result"
    }
   ],
   "source": [
    "etc.feature_importances_"
   ]
  },
  {
   "cell_type": "code",
   "execution_count": 65,
   "id": "972800b3",
   "metadata": {},
   "outputs": [
    {
     "data": {
      "text/plain": [
       "array([  4,   5, 179,   8, 180,   9,   3,   6, 178,   7,   2, 207, 161,\n",
       "       145, 166, 177, 185,  10, 156, 159, 206, 204, 167, 148, 146, 132,\n",
       "         1, 150,  13, 152,   0, 131, 176, 127, 155, 135, 149, 165, 143,\n",
       "       175, 157, 133, 147, 184, 128, 123, 139,  66, 181, 125, 223, 136,\n",
       "       208, 124,  95, 211, 187, 162, 130, 141, 192, 183, 151, 144, 205,\n",
       "       214, 193, 163,  62, 215, 202, 226, 153, 137, 121, 225,  12, 237,\n",
       "        14, 230,  22, 234, 134, 142, 196,  11, 218, 238,  28,  69,  15,\n",
       "        81, 172, 203, 105, 235,  24, 194,  42, 239, 140, 107, 195,  25,\n",
       "        57, 160,  76,  77, 228,  26, 188, 164,  58,  65, 120, 222, 182,\n",
       "       224, 198,  71,  88, 112, 138, 191, 169, 122, 103, 201,  31, 216,\n",
       "        78, 227,  17, 116, 154,  59, 199,  75,  73, 210,  30, 170,  20,\n",
       "       200, 168,  53,  29, 186, 232,  72,  34,  64, 117, 171,  61, 101,\n",
       "        27,  63,  21, 119,  33, 236, 111, 126, 190,  70,  43,  56,  60,\n",
       "       115,  67, 213,  32,  23, 212, 189,  46, 118, 173,  68, 209,  16,\n",
       "       220, 129, 231,  38,  19,  55, 233, 217, 221,  47, 219,  93,  79,\n",
       "       229,  39,  40, 109, 102,  18, 104,  94,  89, 158,  74,  51,  80,\n",
       "        52, 106, 174,  41,  48,  98,  96,  45,  97, 197,  84,  36,  37,\n",
       "        87,  35,  44,  49,  54,  90, 100,  92, 114, 108,  85,  82,  99,\n",
       "        86,  91, 113,  50,  83, 110], dtype=int64)"
      ]
     },
     "execution_count": 65,
     "metadata": {},
     "output_type": "execute_result"
    }
   ],
   "source": [
    "indices = np.argsort(etc.feature_importances_)[::-1]\n",
    "indices"
   ]
  },
  {
   "cell_type": "code",
   "execution_count": 67,
   "id": "727f7fd3",
   "metadata": {},
   "outputs": [
    {
     "data": {
      "text/plain": [
       "['402.8',\n",
       " '404.9',\n",
       " '762.1',\n",
       " '411',\n",
       " '764.1',\n",
       " '413.1',\n",
       " '400.8',\n",
       " '406.9',\n",
       " '760',\n",
       " '409']"
      ]
     },
     "execution_count": 67,
     "metadata": {},
     "output_type": "execute_result"
    }
   ],
   "source": [
    "top_bands = list(_input.columns.values[indices])\n",
    "top_bands[:10]"
   ]
  },
  {
   "cell_type": "code",
   "execution_count": 9,
   "id": "d930e94e",
   "metadata": {},
   "outputs": [
    {
     "data": {
      "text/plain": [
       "(1483, 72)"
      ]
     },
     "execution_count": 9,
     "metadata": {},
     "output_type": "execute_result"
    }
   ],
   "source": [
    "sfm = SelectFromModel(etc)\n",
    "X_new = sfm.fit_transform(_input, label)\n",
    "X_new.shape  "
   ]
  },
  {
   "cell_type": "code",
   "execution_count": 45,
   "id": "3bd93496",
   "metadata": {},
   "outputs": [
    {
     "name": "stdout",
     "output_type": "stream",
     "text": [
      "['402.8', '404.9', '762.1', '411', '764.1', '413.1', '400.8', '406.9', '760', '409']\n"
     ]
    }
   ],
   "source": [
    "# Model selected 93 bands\n",
    "col_importance = []\n",
    "\n",
    "for col, importance in zip(cols,etc.feature_importances_):\n",
    "    item= dict()\n",
    "    item['col'] = col\n",
    "    item['importance'] = importance\n",
    "    col_importance.append(item)\n",
    "\n",
    "pd_col_imp = pd.DataFrame(col_importance)\n",
    "_number = X_new.shape[1]\n",
    "top_bands = pd_col_imp.sort_values(by=['importance'], ascending=False).head(_number)['col'].tolist()\n",
    "print(top_bands[:10])"
   ]
  },
  {
   "cell_type": "code",
   "execution_count": 191,
   "id": "31e4d08c",
   "metadata": {},
   "outputs": [],
   "source": [
    "def get_top_bands_comb(best_band,remain_bands, _input, label):\n",
    "    clf = QuadraticDiscriminantAnalysis()\n",
    "    cv = RepeatedKFold(n_splits=4,n_repeats=4, random_state=46)\n",
    "\n",
    "    #best_band = [top_bands[0]]\n",
    "    #remain_bands = top_bands[1:]\n",
    "\n",
    "    print(\"Start to process bands combanation.....................\")\n",
    "    print(\"#######################################################\")\n",
    "    t0 = time()\n",
    "    results = list()\n",
    "    _best_score = 0.0\n",
    "\n",
    "    for i in range(len(remain_bands)):\n",
    "        _best_band = ' '\n",
    "        result = dict()\n",
    "        for item in remain_bands:\n",
    "            selected_bands = best_band.copy()\n",
    "            selected_bands.append(item)\n",
    "            _new_input = _input[selected_bands]\n",
    "            scores = cross_val_score(clf, _new_input, label, scoring='accuracy', cv=cv, n_jobs=-1)\n",
    "            _score = np.mean(scores)\n",
    "\n",
    "            if _score > _best_score:\n",
    "                _best_score = _score\n",
    "                _best_band = item\n",
    "\n",
    "        if _best_band == ' ':  # Can't find more bands to increase score, then exit \n",
    "            break\n",
    "\n",
    "        best_band.append(_best_band)\n",
    "        remain_bands.remove(_best_band)\n",
    "        result['score'] = _best_score\n",
    "        result['bands'] = best_band.copy()\n",
    "\n",
    "        results.append(result)\n",
    "\n",
    "    print(\"Using {} sec\".format(time()-t0))\n",
    "    return results"
   ]
  },
  {
   "cell_type": "code",
   "execution_count": 192,
   "id": "e7076d83",
   "metadata": {},
   "outputs": [
    {
     "name": "stdout",
     "output_type": "stream",
     "text": [
      "Start to process bands combanation.....................\n",
      "#######################################################\n"
     ]
    },
    {
     "ename": "KeyError",
     "evalue": "\"None of [Index(['Chl green ', 'CI green'], dtype='object')] are in the [columns]\"",
     "output_type": "error",
     "traceback": [
      "\u001b[1;31m---------------------------------------------------------------------------\u001b[0m",
      "\u001b[1;31mKeyError\u001b[0m                                  Traceback (most recent call last)",
      "\u001b[1;32m~\\AppData\\Local\\Temp/ipykernel_18836/2756249174.py\u001b[0m in \u001b[0;36m<module>\u001b[1;34m\u001b[0m\n\u001b[0;32m      1\u001b[0m \u001b[0mbest_band\u001b[0m \u001b[1;33m=\u001b[0m \u001b[1;33m[\u001b[0m\u001b[0mtop_bands\u001b[0m\u001b[1;33m[\u001b[0m\u001b[1;36m0\u001b[0m\u001b[1;33m]\u001b[0m\u001b[1;33m]\u001b[0m\u001b[1;33m\u001b[0m\u001b[1;33m\u001b[0m\u001b[0m\n\u001b[0;32m      2\u001b[0m \u001b[0mremain_bands\u001b[0m \u001b[1;33m=\u001b[0m \u001b[0mtop_bands\u001b[0m\u001b[1;33m[\u001b[0m\u001b[1;36m1\u001b[0m\u001b[1;33m:\u001b[0m\u001b[1;33m]\u001b[0m\u001b[1;33m\u001b[0m\u001b[1;33m\u001b[0m\u001b[0m\n\u001b[1;32m----> 3\u001b[1;33m \u001b[0mresults\u001b[0m \u001b[1;33m=\u001b[0m \u001b[0mget_top_bands_comb\u001b[0m\u001b[1;33m(\u001b[0m\u001b[0mbest_band\u001b[0m\u001b[1;33m,\u001b[0m \u001b[0mremain_bands\u001b[0m\u001b[1;33m,\u001b[0m \u001b[0m_input\u001b[0m\u001b[1;33m,\u001b[0m \u001b[0mlabel\u001b[0m\u001b[1;33m)\u001b[0m\u001b[1;33m\u001b[0m\u001b[1;33m\u001b[0m\u001b[0m\n\u001b[0m",
      "\u001b[1;32m~\\AppData\\Local\\Temp/ipykernel_18836/4265339421.py\u001b[0m in \u001b[0;36mget_top_bands_comb\u001b[1;34m(best_band, remain_bands, _input, label)\u001b[0m\n\u001b[0;32m     18\u001b[0m             \u001b[0mselected_bands\u001b[0m \u001b[1;33m=\u001b[0m \u001b[0mbest_band\u001b[0m\u001b[1;33m.\u001b[0m\u001b[0mcopy\u001b[0m\u001b[1;33m(\u001b[0m\u001b[1;33m)\u001b[0m\u001b[1;33m\u001b[0m\u001b[1;33m\u001b[0m\u001b[0m\n\u001b[0;32m     19\u001b[0m             \u001b[0mselected_bands\u001b[0m\u001b[1;33m.\u001b[0m\u001b[0mappend\u001b[0m\u001b[1;33m(\u001b[0m\u001b[0mitem\u001b[0m\u001b[1;33m)\u001b[0m\u001b[1;33m\u001b[0m\u001b[1;33m\u001b[0m\u001b[0m\n\u001b[1;32m---> 20\u001b[1;33m             \u001b[0m_new_input\u001b[0m \u001b[1;33m=\u001b[0m \u001b[0m_input\u001b[0m\u001b[1;33m[\u001b[0m\u001b[0mselected_bands\u001b[0m\u001b[1;33m]\u001b[0m\u001b[1;33m\u001b[0m\u001b[1;33m\u001b[0m\u001b[0m\n\u001b[0m\u001b[0;32m     21\u001b[0m             \u001b[0mscores\u001b[0m \u001b[1;33m=\u001b[0m \u001b[0mcross_val_score\u001b[0m\u001b[1;33m(\u001b[0m\u001b[0mclf\u001b[0m\u001b[1;33m,\u001b[0m \u001b[0m_new_input\u001b[0m\u001b[1;33m,\u001b[0m \u001b[0mlabel\u001b[0m\u001b[1;33m,\u001b[0m \u001b[0mscoring\u001b[0m\u001b[1;33m=\u001b[0m\u001b[1;34m'accuracy'\u001b[0m\u001b[1;33m,\u001b[0m \u001b[0mcv\u001b[0m\u001b[1;33m=\u001b[0m\u001b[0mcv\u001b[0m\u001b[1;33m,\u001b[0m \u001b[0mn_jobs\u001b[0m\u001b[1;33m=\u001b[0m\u001b[1;33m-\u001b[0m\u001b[1;36m1\u001b[0m\u001b[1;33m)\u001b[0m\u001b[1;33m\u001b[0m\u001b[1;33m\u001b[0m\u001b[0m\n\u001b[0;32m     22\u001b[0m             \u001b[0m_score\u001b[0m \u001b[1;33m=\u001b[0m \u001b[0mnp\u001b[0m\u001b[1;33m.\u001b[0m\u001b[0mmean\u001b[0m\u001b[1;33m(\u001b[0m\u001b[0mscores\u001b[0m\u001b[1;33m)\u001b[0m\u001b[1;33m\u001b[0m\u001b[1;33m\u001b[0m\u001b[0m\n",
      "\u001b[1;32mE:\\anaconda3\\envs\\hsi\\lib\\site-packages\\pandas\\core\\frame.py\u001b[0m in \u001b[0;36m__getitem__\u001b[1;34m(self, key)\u001b[0m\n\u001b[0;32m   3462\u001b[0m             \u001b[1;32mif\u001b[0m \u001b[0mis_iterator\u001b[0m\u001b[1;33m(\u001b[0m\u001b[0mkey\u001b[0m\u001b[1;33m)\u001b[0m\u001b[1;33m:\u001b[0m\u001b[1;33m\u001b[0m\u001b[1;33m\u001b[0m\u001b[0m\n\u001b[0;32m   3463\u001b[0m                 \u001b[0mkey\u001b[0m \u001b[1;33m=\u001b[0m \u001b[0mlist\u001b[0m\u001b[1;33m(\u001b[0m\u001b[0mkey\u001b[0m\u001b[1;33m)\u001b[0m\u001b[1;33m\u001b[0m\u001b[1;33m\u001b[0m\u001b[0m\n\u001b[1;32m-> 3464\u001b[1;33m             \u001b[0mindexer\u001b[0m \u001b[1;33m=\u001b[0m \u001b[0mself\u001b[0m\u001b[1;33m.\u001b[0m\u001b[0mloc\u001b[0m\u001b[1;33m.\u001b[0m\u001b[0m_get_listlike_indexer\u001b[0m\u001b[1;33m(\u001b[0m\u001b[0mkey\u001b[0m\u001b[1;33m,\u001b[0m \u001b[0maxis\u001b[0m\u001b[1;33m=\u001b[0m\u001b[1;36m1\u001b[0m\u001b[1;33m)\u001b[0m\u001b[1;33m[\u001b[0m\u001b[1;36m1\u001b[0m\u001b[1;33m]\u001b[0m\u001b[1;33m\u001b[0m\u001b[1;33m\u001b[0m\u001b[0m\n\u001b[0m\u001b[0;32m   3465\u001b[0m \u001b[1;33m\u001b[0m\u001b[0m\n\u001b[0;32m   3466\u001b[0m         \u001b[1;31m# take() does not accept boolean indexers\u001b[0m\u001b[1;33m\u001b[0m\u001b[1;33m\u001b[0m\u001b[1;33m\u001b[0m\u001b[0m\n",
      "\u001b[1;32mE:\\anaconda3\\envs\\hsi\\lib\\site-packages\\pandas\\core\\indexing.py\u001b[0m in \u001b[0;36m_get_listlike_indexer\u001b[1;34m(self, key, axis)\u001b[0m\n\u001b[0;32m   1312\u001b[0m             \u001b[0mkeyarr\u001b[0m\u001b[1;33m,\u001b[0m \u001b[0mindexer\u001b[0m\u001b[1;33m,\u001b[0m \u001b[0mnew_indexer\u001b[0m \u001b[1;33m=\u001b[0m \u001b[0max\u001b[0m\u001b[1;33m.\u001b[0m\u001b[0m_reindex_non_unique\u001b[0m\u001b[1;33m(\u001b[0m\u001b[0mkeyarr\u001b[0m\u001b[1;33m)\u001b[0m\u001b[1;33m\u001b[0m\u001b[1;33m\u001b[0m\u001b[0m\n\u001b[0;32m   1313\u001b[0m \u001b[1;33m\u001b[0m\u001b[0m\n\u001b[1;32m-> 1314\u001b[1;33m         \u001b[0mself\u001b[0m\u001b[1;33m.\u001b[0m\u001b[0m_validate_read_indexer\u001b[0m\u001b[1;33m(\u001b[0m\u001b[0mkeyarr\u001b[0m\u001b[1;33m,\u001b[0m \u001b[0mindexer\u001b[0m\u001b[1;33m,\u001b[0m \u001b[0maxis\u001b[0m\u001b[1;33m)\u001b[0m\u001b[1;33m\u001b[0m\u001b[1;33m\u001b[0m\u001b[0m\n\u001b[0m\u001b[0;32m   1315\u001b[0m \u001b[1;33m\u001b[0m\u001b[0m\n\u001b[0;32m   1316\u001b[0m         if needs_i8_conversion(ax.dtype) or isinstance(\n",
      "\u001b[1;32mE:\\anaconda3\\envs\\hsi\\lib\\site-packages\\pandas\\core\\indexing.py\u001b[0m in \u001b[0;36m_validate_read_indexer\u001b[1;34m(self, key, indexer, axis)\u001b[0m\n\u001b[0;32m   1372\u001b[0m                 \u001b[1;32mif\u001b[0m \u001b[0muse_interval_msg\u001b[0m\u001b[1;33m:\u001b[0m\u001b[1;33m\u001b[0m\u001b[1;33m\u001b[0m\u001b[0m\n\u001b[0;32m   1373\u001b[0m                     \u001b[0mkey\u001b[0m \u001b[1;33m=\u001b[0m \u001b[0mlist\u001b[0m\u001b[1;33m(\u001b[0m\u001b[0mkey\u001b[0m\u001b[1;33m)\u001b[0m\u001b[1;33m\u001b[0m\u001b[1;33m\u001b[0m\u001b[0m\n\u001b[1;32m-> 1374\u001b[1;33m                 \u001b[1;32mraise\u001b[0m \u001b[0mKeyError\u001b[0m\u001b[1;33m(\u001b[0m\u001b[1;34mf\"None of [{key}] are in the [{axis_name}]\"\u001b[0m\u001b[1;33m)\u001b[0m\u001b[1;33m\u001b[0m\u001b[1;33m\u001b[0m\u001b[0m\n\u001b[0m\u001b[0;32m   1375\u001b[0m \u001b[1;33m\u001b[0m\u001b[0m\n\u001b[0;32m   1376\u001b[0m             \u001b[0mnot_found\u001b[0m \u001b[1;33m=\u001b[0m \u001b[0mlist\u001b[0m\u001b[1;33m(\u001b[0m\u001b[0mensure_index\u001b[0m\u001b[1;33m(\u001b[0m\u001b[0mkey\u001b[0m\u001b[1;33m)\u001b[0m\u001b[1;33m[\u001b[0m\u001b[0mmissing_mask\u001b[0m\u001b[1;33m.\u001b[0m\u001b[0mnonzero\u001b[0m\u001b[1;33m(\u001b[0m\u001b[1;33m)\u001b[0m\u001b[1;33m[\u001b[0m\u001b[1;36m0\u001b[0m\u001b[1;33m]\u001b[0m\u001b[1;33m]\u001b[0m\u001b[1;33m.\u001b[0m\u001b[0munique\u001b[0m\u001b[1;33m(\u001b[0m\u001b[1;33m)\u001b[0m\u001b[1;33m)\u001b[0m\u001b[1;33m\u001b[0m\u001b[1;33m\u001b[0m\u001b[0m\n",
      "\u001b[1;31mKeyError\u001b[0m: \"None of [Index(['Chl green ', 'CI green'], dtype='object')] are in the [columns]\""
     ]
    }
   ],
   "source": [
    "best_band = [top_bands[0]]\n",
    "remain_bands = top_bands[1:]\n",
    "results = get_top_bands_comb(best_band, remain_bands, _input, label)"
   ]
  },
  {
   "cell_type": "code",
   "execution_count": 71,
   "id": "9cefd2ad",
   "metadata": {},
   "outputs": [
    {
     "name": "stdout",
     "output_type": "stream",
     "text": [
      "['402.8', '411', '764.1', '749.7', '774.4', '778.5', '745.6', '565', '552.7', '811.3', '801.1', '671.7', '870.9', '626.6']\n"
     ]
    }
   ],
   "source": [
    "print(results[-1]['bands'])"
   ]
  },
  {
   "cell_type": "code",
   "execution_count": 19,
   "id": "d66b67d2",
   "metadata": {},
   "outputs": [
    {
     "data": {
      "text/html": [
       "<div>\n",
       "<style scoped>\n",
       "    .dataframe tbody tr th:only-of-type {\n",
       "        vertical-align: middle;\n",
       "    }\n",
       "\n",
       "    .dataframe tbody tr th {\n",
       "        vertical-align: top;\n",
       "    }\n",
       "\n",
       "    .dataframe thead th {\n",
       "        text-align: right;\n",
       "    }\n",
       "</style>\n",
       "<table border=\"1\" class=\"dataframe\">\n",
       "  <thead>\n",
       "    <tr style=\"text-align: right;\">\n",
       "      <th></th>\n",
       "      <th>score</th>\n",
       "      <th>bands</th>\n",
       "    </tr>\n",
       "  </thead>\n",
       "  <tbody>\n",
       "    <tr>\n",
       "      <th>0</th>\n",
       "      <td>0.729103</td>\n",
       "      <td>[402.8, 411]</td>\n",
       "    </tr>\n",
       "    <tr>\n",
       "      <th>1</th>\n",
       "      <td>0.754384</td>\n",
       "      <td>[402.8, 411, 764.1]</td>\n",
       "    </tr>\n",
       "    <tr>\n",
       "      <th>2</th>\n",
       "      <td>0.810527</td>\n",
       "      <td>[402.8, 411, 764.1, 772.3]</td>\n",
       "    </tr>\n",
       "    <tr>\n",
       "      <th>3</th>\n",
       "      <td>0.848783</td>\n",
       "      <td>[402.8, 411, 764.1, 772.3, 737.4]</td>\n",
       "    </tr>\n",
       "    <tr>\n",
       "      <th>4</th>\n",
       "      <td>0.874577</td>\n",
       "      <td>[402.8, 411, 764.1, 772.3, 737.4, 706.6]</td>\n",
       "    </tr>\n",
       "    <tr>\n",
       "      <th>5</th>\n",
       "      <td>0.892281</td>\n",
       "      <td>[402.8, 411, 764.1, 772.3, 737.4, 706.6, 753.8]</td>\n",
       "    </tr>\n",
       "    <tr>\n",
       "      <th>6</th>\n",
       "      <td>0.898013</td>\n",
       "      <td>[402.8, 411, 764.1, 772.3, 737.4, 706.6, 753.8...</td>\n",
       "    </tr>\n",
       "    <tr>\n",
       "      <th>7</th>\n",
       "      <td>0.901216</td>\n",
       "      <td>[402.8, 411, 764.1, 772.3, 737.4, 706.6, 753.8...</td>\n",
       "    </tr>\n",
       "  </tbody>\n",
       "</table>\n",
       "</div>"
      ],
      "text/plain": [
       "      score                                              bands\n",
       "0  0.729103                                       [402.8, 411]\n",
       "1  0.754384                                [402.8, 411, 764.1]\n",
       "2  0.810527                         [402.8, 411, 764.1, 772.3]\n",
       "3  0.848783                  [402.8, 411, 764.1, 772.3, 737.4]\n",
       "4  0.874577           [402.8, 411, 764.1, 772.3, 737.4, 706.6]\n",
       "5  0.892281    [402.8, 411, 764.1, 772.3, 737.4, 706.6, 753.8]\n",
       "6  0.898013  [402.8, 411, 764.1, 772.3, 737.4, 706.6, 753.8...\n",
       "7  0.901216  [402.8, 411, 764.1, 772.3, 737.4, 706.6, 753.8..."
      ]
     },
     "execution_count": 19,
     "metadata": {},
     "output_type": "execute_result"
    }
   ],
   "source": [
    "bands_pd = pd.DataFrame(results)\n",
    "bands_pd"
   ]
  },
  {
   "cell_type": "code",
   "execution_count": 47,
   "id": "6b4601e4",
   "metadata": {},
   "outputs": [
    {
     "data": {
      "text/plain": [
       "['402.8', '411', '764.1', '772.3', '737.4', '706.6', '753.8', '813.4', '690.2']"
      ]
     },
     "execution_count": 47,
     "metadata": {},
     "output_type": "execute_result"
    }
   ],
   "source": [
    "results[-1]['bands']"
   ]
  },
  {
   "cell_type": "code",
   "execution_count": 48,
   "id": "1adfc2e4",
   "metadata": {},
   "outputs": [
    {
     "data": {
      "text/plain": [
       "9"
      ]
     },
     "execution_count": 48,
     "metadata": {},
     "output_type": "execute_result"
    }
   ],
   "source": [
    "len(results[-1]['bands'])"
   ]
  },
  {
   "cell_type": "code",
   "execution_count": null,
   "id": "8c19abce",
   "metadata": {},
   "outputs": [],
   "source": [
    "bands_pd.loc[15]['bands']"
   ]
  },
  {
   "cell_type": "code",
   "execution_count": null,
   "id": "0d8b7504",
   "metadata": {},
   "outputs": [],
   "source": [
    "len(bands_pd.loc[15]['bands'])"
   ]
  },
  {
   "cell_type": "code",
   "execution_count": null,
   "id": "d69a83db",
   "metadata": {},
   "outputs": [],
   "source": [
    "clf = build_model()"
   ]
  },
  {
   "cell_type": "code",
   "execution_count": null,
   "id": "05bdd250",
   "metadata": {},
   "outputs": [],
   "source": [
    "selected_bands =bands_pd.iloc[-1,:]['bands']"
   ]
  },
  {
   "cell_type": "code",
   "execution_count": null,
   "id": "f05d85a2",
   "metadata": {},
   "outputs": [],
   "source": [
    "X = _input[selected_bands].to_numpy()\n",
    "y = label\n",
    "\n",
    "rkf = RepeatedKFold(n_splits=4, n_repeats=4, random_state=2652124)\n",
    "f1_scores = []\n",
    "for train_index, test_index in rkf.split(X):\n",
    "    #print(\"TRAIN:\", train_index, \"TEST:\", test_index)\n",
    "    X_train, X_test = X[train_index], X[test_index]\n",
    "    y_train, y_test = y[train_index], y[test_index]\n",
    "    clf.fit(X_train,y_train)\n",
    "    y_pred = clf.predict(X_test)\n",
    "    _score = f1_score(y_test, y_pred, average=None)\n",
    "    f1_scores.append(_score)"
   ]
  },
  {
   "cell_type": "code",
   "execution_count": null,
   "id": "8fa197a8",
   "metadata": {},
   "outputs": [],
   "source": [
    "f1_scores = np.asarray(f1_scores)\n",
    "f1_scores"
   ]
  },
  {
   "cell_type": "code",
   "execution_count": null,
   "id": "54f7bc92",
   "metadata": {},
   "outputs": [],
   "source": [
    "np.mean(f1_scores, axis = 0), np.mean(f1_scores)"
   ]
  },
  {
   "cell_type": "code",
   "execution_count": null,
   "id": "893ddb2e",
   "metadata": {},
   "outputs": [],
   "source": [
    "np.std(f1_scores, axis = 0), np.std(f1_scores)"
   ]
  },
  {
   "cell_type": "code",
   "execution_count": 72,
   "id": "d25c6f60",
   "metadata": {},
   "outputs": [],
   "source": [
    "from itertools import combinations"
   ]
  },
  {
   "cell_type": "code",
   "execution_count": null,
   "id": "d15dcca1",
   "metadata": {},
   "outputs": [],
   "source": [
    "import operator as op\n",
    "from functools import reduce\n",
    "\n",
    "def ncr(n, r):\n",
    "    r = min(r, n-r)\n",
    "    numer = reduce(op.mul, range(n, n-r, -1), 1)\n",
    "    denom = reduce(op.mul, range(1, r+1), 1)\n",
    "    return numer // denom  # or / in Python 2"
   ]
  },
  {
   "cell_type": "code",
   "execution_count": null,
   "id": "6716ad78",
   "metadata": {},
   "outputs": [],
   "source": [
    "num = ncr(20,6)\n",
    "num"
   ]
  },
  {
   "cell_type": "code",
   "execution_count": null,
   "id": "ec149048",
   "metadata": {},
   "outputs": [],
   "source": [
    "clf = QuadraticDiscriminantAnalysis()\n",
    "cv = RepeatedKFold(n_splits=4,n_repeats=4, random_state=46)"
   ]
  },
  {
   "cell_type": "code",
   "execution_count": null,
   "id": "f5f2dd68",
   "metadata": {},
   "outputs": [],
   "source": [
    "results = list()\n",
    "_best_score = 0.0\n",
    "_best_band = set()\n",
    "\n",
    "comb = combinations(selected_bands, 6)\n",
    "count = 0\n",
    "for item in comb:\n",
    "    count += 1\n",
    "    if count == 50:\n",
    "        break\n",
    "    _bands = set(item) # item is tuple, convert to set\n",
    "    result = dict()\n",
    "    #print(bands_set)\n",
    "    _new_input = _input[_bands]\n",
    "    scores = cross_val_score(clf, _new_input, label, scoring='accuracy', cv=cv, n_jobs=-1)\n",
    "    _score = np.mean(scores)\n",
    "    if _score > _best_score:\n",
    "        _best_score = _score\n",
    "        _best_band = _bands\n",
    "        print(_best_score, _best_band)"
   ]
  },
  {
   "cell_type": "code",
   "execution_count": null,
   "id": "607563b1",
   "metadata": {},
   "outputs": [],
   "source": [
    "_best_score"
   ]
  },
  {
   "cell_type": "code",
   "execution_count": null,
   "id": "88b53547",
   "metadata": {},
   "outputs": [],
   "source": [
    "_best_band"
   ]
  },
  {
   "cell_type": "markdown",
   "id": "9e14694b",
   "metadata": {},
   "source": [
    "## Univariate feature selection"
   ]
  },
  {
   "cell_type": "code",
   "execution_count": 57,
   "id": "1de6943c",
   "metadata": {},
   "outputs": [
    {
     "data": {
      "text/plain": [
       "(1483, 2)"
      ]
     },
     "execution_count": 57,
     "metadata": {},
     "output_type": "execute_result"
    }
   ],
   "source": [
    "# chi2\n",
    "clf = SelectKBest(chi2, k=2)\n",
    "X_new = clf.fit_transform(_input, label)\n",
    "X_new.shape"
   ]
  },
  {
   "cell_type": "code",
   "execution_count": 58,
   "id": "fc0f7c60",
   "metadata": {},
   "outputs": [
    {
     "data": {
      "text/plain": [
       "array(['762.1', '817.5'], dtype=object)"
      ]
     },
     "execution_count": 58,
     "metadata": {},
     "output_type": "execute_result"
    }
   ],
   "source": [
    "clf.get_feature_names_out()"
   ]
  },
  {
   "cell_type": "code",
   "execution_count": 42,
   "id": "6fde88dd",
   "metadata": {},
   "outputs": [
    {
     "data": {
      "text/plain": [
       "array([179, 206, 207, 180, 208, 205, 204, 211, 203, 209, 210, 224, 202,\n",
       "       194, 223, 201, 193, 213, 214, 200, 225, 226, 189, 195, 181, 188,\n",
       "       196, 215, 192, 199, 233, 227, 222, 197, 190, 191, 198, 239, 221,\n",
       "       238, 232, 237, 216, 235, 236, 220, 229, 234, 212, 178, 228, 187,\n",
       "       230, 218, 231, 219, 217, 177, 176, 182, 175, 186, 183, 184, 185,\n",
       "       174, 173, 172, 171, 170, 169, 168, 141, 140, 139, 138, 131, 142,\n",
       "       137, 130, 134, 132, 133, 136, 135, 127, 129, 148, 146, 145, 128,\n",
       "       143, 147, 120, 126, 167, 119, 121, 144, 122, 118, 123, 149, 125,\n",
       "       117, 124, 116, 115, 114, 111, 112, 113, 110, 109, 108, 104, 105,\n",
       "       103, 107, 150, 106, 102,   8, 166, 101, 165, 100, 151,  99,  98,\n",
       "        93,  94,   9,  51,  92, 152,  52,  56,  57,  97,  50,  95,  49,\n",
       "        43, 164,  55,  58,  42,  44,  53,  54,  96,  91,  48,  45,  59,\n",
       "        41,  90,  46,  47,   7,  40,  35,  34,  89,  33, 153,  60,  63,\n",
       "        36,  88,  39,  64,  37,  62,  29,  28,  26,  38,  27,  61,  32,\n",
       "        25,  87,  65,  13,  30,  66,  10,  86,  31,  11,  85,  14,  67,\n",
       "        12,  24,  84,  22, 154,  19,  20,  21,  68,  18,  15,  16,  83,\n",
       "       163,  23,  69,   1,  70,  79, 155,  17,  78,  82,  71,  74,  76,\n",
       "        75,  77,  80,  81,  73,  72, 156,   2, 162,   0,   6, 159, 157,\n",
       "         4,   3, 160, 161, 158,   5], dtype=int64)"
      ]
     },
     "execution_count": 42,
     "metadata": {},
     "output_type": "execute_result"
    }
   ],
   "source": [
    "indices = np.argsort(clf.scores_)[::-1]\n",
    "indices"
   ]
  },
  {
   "cell_type": "code",
   "execution_count": 61,
   "id": "043f52cd",
   "metadata": {},
   "outputs": [
    {
     "data": {
      "text/plain": [
       "240"
      ]
     },
     "execution_count": 61,
     "metadata": {},
     "output_type": "execute_result"
    }
   ],
   "source": [
    "k=2\n",
    "top_bands = list(_input.columns.values[indices])\n",
    "len(top_bands)\n",
    "#print(top_bands[:10])"
   ]
  },
  {
   "cell_type": "code",
   "execution_count": 62,
   "id": "95b9db4c",
   "metadata": {},
   "outputs": [
    {
     "name": "stdout",
     "output_type": "stream",
     "text": [
      "Start to process bands combanation.....................\n",
      "#######################################################\n",
      "Using 113.2526307106018 sec\n"
     ]
    }
   ],
   "source": [
    "results = get_top_bands_comb(top_bands, _input, label)"
   ]
  },
  {
   "cell_type": "code",
   "execution_count": 86,
   "id": "eca386e0",
   "metadata": {},
   "outputs": [
    {
     "name": "stdout",
     "output_type": "stream",
     "text": [
      "['762.1', '747.7', '753.8', '788.7', '655.3', '879.1', '774.4', '540.3', '823.6', '565', '597.8', '394.6']\n"
     ]
    }
   ],
   "source": [
    "print(results[-1]['bands'])"
   ]
  },
  {
   "cell_type": "code",
   "execution_count": 80,
   "id": "8e1be827",
   "metadata": {},
   "outputs": [
    {
     "data": {
      "text/plain": [
       "(1483, 2)"
      ]
     },
     "execution_count": 80,
     "metadata": {},
     "output_type": "execute_result"
    }
   ],
   "source": [
    "clf = SelectKBest(f_classif, k=2)\n",
    "X_new = clf.fit_transform(_input, label)\n",
    "X_new.shape"
   ]
  },
  {
   "cell_type": "code",
   "execution_count": 81,
   "id": "c0e9910e",
   "metadata": {},
   "outputs": [
    {
     "data": {
      "text/plain": [
       "array([179,   8, 180, 206,   9, 207, 208, 205, 204, 211, 203, 181, 209,\n",
       "       194, 224, 210, 178, 193, 223, 202, 189, 201, 225, 213, 200, 188,\n",
       "       195, 214, 226, 192, 196, 190, 191, 215, 177, 227, 233, 239, 197,\n",
       "       222, 199, 198, 176, 221, 238, 237, 235, 232, 216, 236, 220, 229,\n",
       "       187, 234, 228, 140, 141, 212, 139, 138, 230, 218, 231, 131, 219,\n",
       "       217, 130, 175, 142, 137, 132, 134, 133, 182, 127, 136, 135, 129,\n",
       "       128,   7, 120, 119, 121, 126, 148, 146, 145, 143, 122, 186, 118,\n",
       "       147,  13, 123, 144, 183, 117, 174, 125, 116,  43,  51, 149, 184,\n",
       "       124,  10, 115,  42, 111, 112, 114, 185, 110, 113,  50,  52,  44,\n",
       "        11,  49,  14, 173,  12,  26, 109,  34,  56, 104,  25,  27, 172,\n",
       "       108,  35, 103,  57,  33, 105,  28,  41, 107,  29,  45, 106,  55,\n",
       "        53,  48, 102,  54,  36,  19, 171,  15,  40, 101,  58,  16,  18,\n",
       "        46,  20,  47,  37,  39, 100,  32,  22,  30, 170,  21,  24, 150,\n",
       "        99,  38,  59,  17,  23,  31,  98,  93, 169,  94,  92,  97, 151,\n",
       "        60,  95,  96,  63,  91,  62,  61,  64, 168, 152,  90,  89,  65,\n",
       "         1,  88,  66,  87,   2,  67, 167,   6, 153,  86,  85,  68,  84,\n",
       "        69,  83,  70, 165, 166,  79,  71,  78,  82,  74, 154,   0,  75,\n",
       "        76,  77,  80, 164,  73,  72,  81, 155, 156, 163,   4, 162, 159,\n",
       "       157,   3, 160, 161, 158,   5], dtype=int64)"
      ]
     },
     "execution_count": 81,
     "metadata": {},
     "output_type": "execute_result"
    }
   ],
   "source": [
    "indices = np.argsort(clf.scores_)[::-1]\n",
    "indices"
   ]
  },
  {
   "cell_type": "code",
   "execution_count": 83,
   "id": "69cfe11f",
   "metadata": {},
   "outputs": [
    {
     "name": "stdout",
     "output_type": "stream",
     "text": [
      "['762.1', '411', '764.1', '817.5', '413.1', '819.5', '821.6', '815.4', '813.4', '827.7', '811.3', '766.2', '823.6', '792.8', '854.4', '825.7', '760', '790.8', '852.4', '809.3', '782.6', '807.2', '856.5', '831.8', '805.2', '780.5', '794.9', '833.9', '858.5', '788.7', '796.9', '784.6', '786.7', '836', '757.9', '860.6', '872.9', '885.2', '799', '850.3', '803.1', '801.1', '755.9', '848.3', '883.2', '881.1', '877', '870.9', '838', '879.1', '846.2', '864.7', '778.5', '875', '862.6', '682', '684', '829.8', '679.9', '677.9', '866.7', '842.1', '868.8', '663.5', '844.2', '840.1', '661.5', '753.8', '686.1', '675.8', '665.6', '669.7', '667.6', '768.2', '655.3', '673.8', '671.7', '659.4', '657.4', '409', '640.9', '638.9', '643', '653.3', '698.4', '694.3', '692.3', '688.1', '645', '776.4', '636.8', '696.4', '421.3', '647.1', '690.2', '770.3', '634.8', '751.8', '651.2', '632.7', '482.9', '499.3', '700.5', '772.3', '649.1', '415.1', '630.7', '480.8', '622.5', '624.5', '628.6', '774.4', '620.4', '626.6', '497.2', '501.3', '484.9', '417.2', '495.2', '423.3', '749.7', '419.2', '448', '618.4', '464.4', '509.6', '608.1', '445.9', '450', '747.7', '616.3', '466.4', '606', '511.6', '462.3', '610.1', '452.1', '478.8', '614.2', '454.1', '487', '612.2', '507.5', '503.4', '493.1', '604', '505.5', '468.5', '433.6', '745.6', '425.4', '476.7', '601.9', '513.7', '427.4', '431.6', '489', '435.7', '491.1', '470.6', '474.7', '599.9', '460.3', '439.8', '456.2', '743.6', '437.7', '443.9', '702.5', '597.8', '472.6', '515.7', '429.5', '441.8', '458.2', '595.8', '585.5', '741.5', '587.6', '583.5', '593.7', '704.6', '517.8', '589.6', '591.7', '523.9', '581.4', '521.9', '519.8', '526', '739.5', '706.6', '579.4', '577.3', '528', '396.7', '575.2', '530.1', '573.2', '398.7', '532.1', '737.4', '406.9', '708.7', '571.1', '569.1', '534.2', '567', '536.2', '565', '538.3', '733.3', '735.4', '556.8', '540.3', '554.7', '562.9', '546.5', '710.7', '394.6', '548.6', '550.6', '552.7', '558.8', '731.3', '544.5', '542.4', '560.9', '712.8', '714.8', '729.2', '402.8', '727.2', '721', '716.9', '400.8', '723', '725.1', '718.9', '404.9']\n"
     ]
    }
   ],
   "source": [
    "#k=60\n",
    "top_bands = list(_input.columns.values[indices])\n",
    "print(top_bands)"
   ]
  },
  {
   "cell_type": "code",
   "execution_count": 84,
   "id": "6660f036",
   "metadata": {},
   "outputs": [
    {
     "name": "stdout",
     "output_type": "stream",
     "text": [
      "Start to process bands combanation.....................\n",
      "#######################################################\n",
      "Using 164.68579983711243 sec\n"
     ]
    }
   ],
   "source": [
    "results = get_top_bands_comb(top_bands, _input, label)"
   ]
  },
  {
   "cell_type": "code",
   "execution_count": 89,
   "id": "d7a29e86",
   "metadata": {},
   "outputs": [
    {
     "name": "stdout",
     "output_type": "stream",
     "text": [
      "['762.1', '747.7', '753.8', '788.7', '655.3', '879.1', '774.4', '540.3', '823.6', '565', '597.8', '394.6']\n"
     ]
    }
   ],
   "source": [
    "print(results[-1]['bands'])"
   ]
  },
  {
   "cell_type": "markdown",
   "id": "4afcfef0",
   "metadata": {},
   "source": [
    "### RFECV"
   ]
  },
  {
   "cell_type": "code",
   "execution_count": 171,
   "id": "3dc421e9",
   "metadata": {},
   "outputs": [],
   "source": [
    "from sklearn.model_selection import StratifiedKFold"
   ]
  },
  {
   "cell_type": "code",
   "execution_count": 236,
   "id": "4dc67855",
   "metadata": {},
   "outputs": [
    {
     "name": "stderr",
     "output_type": "stream",
     "text": [
      "E:\\anaconda3\\envs\\hsi\\lib\\site-packages\\sklearn\\base.py:446: UserWarning: X does not have valid feature names, but RFECV was fitted with feature names\n",
      "  \"X does not have valid feature names, but\"\n"
     ]
    },
    {
     "data": {
      "text/plain": [
       "RFECV(cv=StratifiedKFold(n_splits=4, random_state=None, shuffle=False),\n",
       "      estimator=SVC(kernel='linear'), min_features_to_select=6,\n",
       "      scoring='accuracy')"
      ]
     },
     "execution_count": 236,
     "metadata": {},
     "output_type": "execute_result"
    }
   ],
   "source": [
    "svc = SVC(kernel=\"linear\")\n",
    "min_features_to_select = 6\n",
    "rfecv = RFECV(\n",
    "    estimator=svc,\n",
    "    step=1,\n",
    "    cv=StratifiedKFold(4),\n",
    "    scoring=\"accuracy\",\n",
    "    min_features_to_select=min_features_to_select,\n",
    ")\n",
    "rfecv.fit(_input, label)"
   ]
  },
  {
   "cell_type": "code",
   "execution_count": 237,
   "id": "8e678a3f",
   "metadata": {},
   "outputs": [
    {
     "data": {
      "text/plain": [
       "array([28,  1, 16,  1,  1,  1,  1,  1,  1,  1,  1,  9,  1,  1,  1,  1,  1,\n",
       "        6,  1,  1,  1,  1,  1,  1,  1,  1,  1,  1,  1,  1,  1,  1,  1,  1,\n",
       "        1,  1,  1,  1,  1,  1,  1,  1,  1,  1,  1,  1,  1,  1,  1,  1,  1,\n",
       "        1,  1,  1,  1,  1,  1,  1,  1,  1,  1,  1,  1,  1,  1,  1,  1,  1,\n",
       "        1,  1,  1,  1,  1,  1,  1,  1,  1,  1,  1,  1,  1,  1,  1,  1,  1,\n",
       "        1,  1,  1,  1,  1,  1,  1,  1,  1,  1,  1,  1,  1,  1,  1,  1,  1,\n",
       "        1,  1,  1,  1,  1,  1,  1,  1,  1,  1,  1,  1,  7,  4, 10,  1,  1,\n",
       "        1,  1, 12, 22, 23,  1,  1, 21, 29, 19, 20, 30, 25, 13,  2,  1,  1,\n",
       "        1,  1,  1,  1,  1,  8,  1,  1,  1, 11, 31,  1,  1,  1,  1,  1,  1,\n",
       "        1,  1,  1,  1,  1,  1, 27,  1,  1,  1,  1,  1,  1,  1,  1,  1,  1,\n",
       "        1,  1,  1,  1,  1,  1,  1,  1,  1,  1,  1,  1,  3,  1,  1,  1,  1,\n",
       "       14,  1,  1,  1,  1,  1,  1,  1,  1,  1,  1,  1,  1,  1,  1,  1,  1,\n",
       "        1,  1,  1,  1,  1,  1,  1,  1, 32,  1,  1,  1,  1, 15, 26, 17,  1,\n",
       "        1,  1,  1,  1,  1,  1,  1, 18,  1, 33, 24,  1,  1,  5,  1,  1,  1,\n",
       "        1,  1])"
      ]
     },
     "execution_count": 237,
     "metadata": {},
     "output_type": "execute_result"
    }
   ],
   "source": [
    "rfecv.ranking_"
   ]
  },
  {
   "cell_type": "code",
   "execution_count": 240,
   "id": "c5fa2866",
   "metadata": {},
   "outputs": [
    {
     "data": {
      "text/plain": [
       "(208,)"
      ]
     },
     "execution_count": 240,
     "metadata": {},
     "output_type": "execute_result"
    }
   ],
   "source": [
    "_mask = np.ma.masked_where(rfecv.ranking_ == 1, rfecv.ranking_)\n",
    "selected_bands = _input.columns.values[_mask.mask]\n",
    "selected_bands.shape"
   ]
  },
  {
   "cell_type": "code",
   "execution_count": 242,
   "id": "252c3f66",
   "metadata": {},
   "outputs": [
    {
     "name": "stdout",
     "output_type": "stream",
     "text": [
      "Start to process bands combanation.....................\n",
      "#######################################################\n",
      "Using 101.1007628440857 sec\n"
     ]
    },
    {
     "data": {
      "text/plain": [
       "{'score': 0.9040854702411306,\n",
       " 'bands': ['747.7',\n",
       "  '762.1',\n",
       "  '753.8',\n",
       "  '788.7',\n",
       "  '655.3',\n",
       "  '879.1',\n",
       "  '774.4',\n",
       "  '540.3',\n",
       "  '823.6',\n",
       "  '565',\n",
       "  '597.8',\n",
       "  '394.6']}"
      ]
     },
     "execution_count": 242,
     "metadata": {},
     "output_type": "execute_result"
    }
   ],
   "source": [
    "best_band = ['747.7', '762.1']\n",
    "remain_bands = cols.copy()\n",
    "remain_bands.remove('762.1')\n",
    "remain_bands.remove('747.7')\n",
    "results = get_top_bands_comb(best_band, remain_bands, _input, label)\n",
    "results[-1]"
   ]
  },
  {
   "cell_type": "code",
   "execution_count": 175,
   "id": "2228a7a8",
   "metadata": {},
   "outputs": [],
   "source": [
    "from sklearn.ensemble import RandomForestClassifier"
   ]
  },
  {
   "cell_type": "code",
   "execution_count": 176,
   "id": "7be5de44",
   "metadata": {},
   "outputs": [
    {
     "name": "stderr",
     "output_type": "stream",
     "text": [
      "E:\\anaconda3\\envs\\hsi\\lib\\site-packages\\sklearn\\base.py:446: UserWarning: X does not have valid feature names, but RFECV was fitted with feature names\n",
      "  \"X does not have valid feature names, but\"\n"
     ]
    },
    {
     "data": {
      "text/plain": [
       "RFECV(cv=StratifiedKFold(n_splits=4, random_state=None, shuffle=False),\n",
       "      estimator=RandomForestClassifier(random_state=46),\n",
       "      min_features_to_select=6, scoring='accuracy')"
      ]
     },
     "execution_count": 176,
     "metadata": {},
     "output_type": "execute_result"
    }
   ],
   "source": [
    "clf = RandomForestClassifier(random_state=46)\n",
    "min_features_to_select = 6\n",
    "rfecv = RFECV(\n",
    "    estimator=clf,\n",
    "    step=1,\n",
    "    cv=StratifiedKFold(4),\n",
    "    scoring=\"accuracy\",\n",
    "    min_features_to_select=min_features_to_select,\n",
    ")\n",
    "rfecv.fit(_input, label)"
   ]
  },
  {
   "cell_type": "code",
   "execution_count": 177,
   "id": "54a84c27",
   "metadata": {},
   "outputs": [
    {
     "data": {
      "text/plain": [
       "array([  1,   1,   1,   1,   1,   1,   1,   1,   1,   1,   1,   1,   1,\n",
       "         1,   1,  30,  15,  21,  65,   1,   1,  10,  97,  27,  67,  34,\n",
       "         1,   5, 118, 125,  90, 184,  58, 151, 148,  68, 170, 140,  84,\n",
       "       132, 114, 162, 105,  42,  98, 157,  48, 144,  75, 154, 183, 155,\n",
       "        95,   1,  45, 116,  55,  80, 187, 143,   1,  87, 138,  59,   7,\n",
       "        41,  56,   1,  99,  82, 107,   1, 142,  29,  36, 127,  92,  66,\n",
       "         9,  20, 139, 131, 145, 176,  89, 165, 119,  73, 124, 134,   6,\n",
       "       163,  23,  43, 102, 133,  53,  86, 174, 149, 147, 175, 181, 160,\n",
       "        78, 168, 153, 172, 169, 130, 191, 161,  60, 100, 150, 113,  26,\n",
       "       190, 110, 111, 137,  93,   1,  70,  12,   1,  64, 101, 112,  22,\n",
       "        31,   1,  77,  74,  54,   1,  33,  28,  18,  39,   1,   1,  38,\n",
       "        52,   1,  83,  85,   1,   1,   1,   1,   2,   1,  57,  76,  37,\n",
       "         3,  11, 109,  17, 108,   1,  47,  14,  24,   4,   1,   1,  71,\n",
       "       128, 106,  63,  51,  40, 156, 120,   1,   1,   1,   1,   1,   1,\n",
       "        72,  25,   1,   1, 122, 173, 180, 104, 103,  91,  79,  50,  94,\n",
       "        13, 117, 166, 123, 185, 177,  46, 126,   1,  32,  44,   1,   1,\n",
       "         1, 159,  16,   1, 171,  81, 129, 136, 179, 141, 182, 158, 188,\n",
       "       178, 152,   8,  61, 189,  88, 164, 167, 186, 135,  62,  35, 146,\n",
       "        49, 121,  96, 115,  69,  19])"
      ]
     },
     "execution_count": 177,
     "metadata": {},
     "output_type": "execute_result"
    }
   ],
   "source": [
    "rfecv.ranking_"
   ]
  },
  {
   "cell_type": "code",
   "execution_count": 181,
   "id": "6e3c161d",
   "metadata": {},
   "outputs": [
    {
     "data": {
      "text/plain": [
       "masked_array(data=[--, --, --, --, --, --, --, --, --, --, --, --, --, --,\n",
       "                   --, 30, 15, 21, 65, --, --, 10, 97, 27, 67, 34, --, 5,\n",
       "                   118, 125, 90, 184, 58, 151, 148, 68, 170, 140, 84, 132,\n",
       "                   114, 162, 105, 42, 98, 157, 48, 144, 75, 154, 183, 155,\n",
       "                   95, --, 45, 116, 55, 80, 187, 143, --, 87, 138, 59, 7,\n",
       "                   41, 56, --, 99, 82, 107, --, 142, 29, 36, 127, 92, 66,\n",
       "                   9, 20, 139, 131, 145, 176, 89, 165, 119, 73, 124, 134,\n",
       "                   6, 163, 23, 43, 102, 133, 53, 86, 174, 149, 147, 175,\n",
       "                   181, 160, 78, 168, 153, 172, 169, 130, 191, 161, 60,\n",
       "                   100, 150, 113, 26, 190, 110, 111, 137, 93, --, 70, 12,\n",
       "                   --, 64, 101, 112, 22, 31, --, 77, 74, 54, --, 33, 28,\n",
       "                   18, 39, --, --, 38, 52, --, 83, 85, --, --, --, --, 2,\n",
       "                   --, 57, 76, 37, 3, 11, 109, 17, 108, --, 47, 14, 24, 4,\n",
       "                   --, --, 71, 128, 106, 63, 51, 40, 156, 120, --, --, --,\n",
       "                   --, --, --, 72, 25, --, --, 122, 173, 180, 104, 103,\n",
       "                   91, 79, 50, 94, 13, 117, 166, 123, 185, 177, 46, 126,\n",
       "                   --, 32, 44, --, --, --, 159, 16, --, 171, 81, 129, 136,\n",
       "                   179, 141, 182, 158, 188, 178, 152, 8, 61, 189, 88, 164,\n",
       "                   167, 186, 135, 62, 35, 146, 49, 121, 96, 115, 69, 19],\n",
       "             mask=[ True,  True,  True,  True,  True,  True,  True,  True,\n",
       "                    True,  True,  True,  True,  True,  True,  True, False,\n",
       "                   False, False, False,  True,  True, False, False, False,\n",
       "                   False, False,  True, False, False, False, False, False,\n",
       "                   False, False, False, False, False, False, False, False,\n",
       "                   False, False, False, False, False, False, False, False,\n",
       "                   False, False, False, False, False,  True, False, False,\n",
       "                   False, False, False, False,  True, False, False, False,\n",
       "                   False, False, False,  True, False, False, False,  True,\n",
       "                   False, False, False, False, False, False, False, False,\n",
       "                   False, False, False, False, False, False, False, False,\n",
       "                   False, False, False, False, False, False, False, False,\n",
       "                   False, False, False, False, False, False, False, False,\n",
       "                   False, False, False, False, False, False, False, False,\n",
       "                   False, False, False, False, False, False, False, False,\n",
       "                   False, False,  True, False, False,  True, False, False,\n",
       "                   False, False, False,  True, False, False, False,  True,\n",
       "                   False, False, False, False,  True,  True, False, False,\n",
       "                    True, False, False,  True,  True,  True,  True, False,\n",
       "                    True, False, False, False, False, False, False, False,\n",
       "                   False,  True, False, False, False, False,  True,  True,\n",
       "                   False, False, False, False, False, False, False, False,\n",
       "                    True,  True,  True,  True,  True,  True, False, False,\n",
       "                    True,  True, False, False, False, False, False, False,\n",
       "                   False, False, False, False, False, False, False, False,\n",
       "                   False, False, False,  True, False, False,  True,  True,\n",
       "                    True, False, False,  True, False, False, False, False,\n",
       "                   False, False, False, False, False, False, False, False,\n",
       "                   False, False, False, False, False, False, False, False,\n",
       "                   False, False, False, False, False, False, False, False],\n",
       "       fill_value=999999)"
      ]
     },
     "execution_count": 181,
     "metadata": {},
     "output_type": "execute_result"
    }
   ],
   "source": [
    "_mask = np.ma.masked_where(rfecv.ranking_ == 1, rfecv.ranking_)\n",
    "_mask"
   ]
  },
  {
   "cell_type": "code",
   "execution_count": 189,
   "id": "913d6243",
   "metadata": {},
   "outputs": [
    {
     "data": {
      "text/plain": [
       "array(['394.6', '396.7', '398.7', '400.8', '402.8', '404.9', '406.9',\n",
       "       '409', '411', '413.1', '415.1', '417.2', '419.2', '421.3', '423.3',\n",
       "       '433.6', '435.7', '448', '503.4', '517.8', '532.1', '540.3', '645',\n",
       "       '651.2', '663.5', '671.7', '682', '684', '690.2', '696.4', '698.4',\n",
       "       '700.5', '702.5', '706.6', '725.1', '735.4', '737.4', '755.9',\n",
       "       '757.9', '760', '762.1', '764.1', '766.2', '772.3', '774.4',\n",
       "       '811.3', '817.5', '819.5', '821.6', '827.7'], dtype=object)"
      ]
     },
     "execution_count": 189,
     "metadata": {},
     "output_type": "execute_result"
    }
   ],
   "source": [
    "\n",
    "selected_bands = _input.columns.values[_mask.mask]\n",
    "selected_bands"
   ]
  },
  {
   "cell_type": "code",
   "execution_count": 239,
   "id": "1eb162db",
   "metadata": {},
   "outputs": [
    {
     "name": "stdout",
     "output_type": "stream",
     "text": [
      "Now is 1000 and using 40.543601751327515 seconds\n",
      "Now is 2000 and using 78.5659704208374 seconds\n",
      "Now is 3000 and using 118.34248280525208 seconds\n",
      "Now is 4000 and using 157.10329580307007 seconds\n",
      "Now is 5000 and using 197.92251014709473 seconds\n",
      "Now is 6000 and using 236.92824983596802 seconds\n",
      "Now is 7000 and using 277.50479078292847 seconds\n",
      "Now is 8000 and using 316.76883912086487 seconds\n",
      "Now is 9000 and using 355.3656716346741 seconds\n",
      "Now is 10000 and using 393.32819962501526 seconds\n",
      "Now is 11000 and using 434.4811990261078 seconds\n",
      "Now is 12000 and using 473.8469753265381 seconds\n",
      "Now is 13000 and using 514.4673991203308 seconds\n",
      "Now is 14000 and using 552.6433572769165 seconds\n",
      "Now is 15000 and using 589.8399314880371 seconds\n",
      "Now is 16000 and using 626.6924264431 seconds\n",
      "Now is 17000 and using 663.2746429443359 seconds\n",
      "Now is 18000 and using 701.9103715419769 seconds\n",
      "Now is 19000 and using 740.3566064834595 seconds\n",
      "Now is 20000 and using 778.7350234985352 seconds\n",
      "Now is 21000 and using 817.1762707233429 seconds\n",
      "Using 836.5006182193756 sec to do combination\n",
      "{'747.7', '762.1'}\n",
      "0.8417125009106141\n"
     ]
    }
   ],
   "source": [
    "t2 = time()\n",
    "\n",
    "clf = QuadraticDiscriminantAnalysis()\n",
    "cv = RepeatedKFold(n_splits=4,n_repeats=4, random_state=46)\n",
    "\n",
    "_best_score = 0.0\n",
    "_best_band = set()\n",
    "\n",
    "comb = combinations(selected_bands, 2)\n",
    "count = 0\n",
    "for item in comb:\n",
    "    _bands = set(item) # item is tuple, convert to set\n",
    "    #result = dict()\n",
    "    #print(bands_set)\n",
    "    _new_input = _input[_bands]\n",
    "    scores = cross_val_score(clf, _new_input, label, scoring='accuracy', cv=cv, n_jobs=-1)\n",
    "    _score = np.mean(scores)\n",
    "    if _score > _best_score:\n",
    "        _best_score = _score\n",
    "        _best_band = _bands\n",
    "\n",
    "    count += 1\n",
    "    if count % 1000 == 0:\n",
    "        print(\"Now is {} and using {} seconds\".format(count, time()-t2))\n",
    "\n",
    "print(\"Using {} sec to do combination\".format(time()-t2))\n",
    "print(_best_band)\n",
    "print(_best_score)"
   ]
  },
  {
   "cell_type": "code",
   "execution_count": 194,
   "id": "050e5a6c",
   "metadata": {},
   "outputs": [
    {
     "name": "stdout",
     "output_type": "stream",
     "text": [
      "Start to process bands combanation.....................\n",
      "#######################################################\n",
      "Using 47.15196466445923 sec\n"
     ]
    }
   ],
   "source": [
    "best_band = ['762.1', '737.4']\n",
    "remain_bands = cols.copy()\n",
    "remain_bands.remove('762.1')\n",
    "remain_bands.remove('737.4')\n",
    "results = get_top_bands_comb(best_band, remain_bands, _input, label)"
   ]
  },
  {
   "cell_type": "code",
   "execution_count": 195,
   "id": "19a40947",
   "metadata": {},
   "outputs": [
    {
     "data": {
      "text/plain": [
       "{'score': 0.8819989801121877,\n",
       " 'bands': ['762.1', '737.4', '721', '770.3', '753.8', '396.7']}"
      ]
     },
     "execution_count": 195,
     "metadata": {},
     "output_type": "execute_result"
    }
   ],
   "source": [
    "results[-1]"
   ]
  },
  {
   "cell_type": "markdown",
   "id": "961efb87",
   "metadata": {},
   "source": [
    "### Lasso"
   ]
  },
  {
   "cell_type": "code",
   "execution_count": 225,
   "id": "f48baa6a",
   "metadata": {},
   "outputs": [],
   "source": [
    "from sklearn.linear_model import RidgeClassifier\n",
    "from sklearn import linear_model"
   ]
  },
  {
   "cell_type": "code",
   "execution_count": 197,
   "id": "f055cf32",
   "metadata": {},
   "outputs": [
    {
     "data": {
      "text/plain": [
       "RidgeClassifier(alpha=0.0001)"
      ]
     },
     "execution_count": 197,
     "metadata": {},
     "output_type": "execute_result"
    }
   ],
   "source": [
    "parameters = { 'alpha':[1, 0.1, 0.01, 0.001, 0.0001]}\n",
    "rcf = RidgeClassifier()\n",
    "clf = GridSearchCV(rcf, parameters, cv=10)\n",
    "clf.fit(_input, label)\n",
    "clf.best_estimator_"
   ]
  },
  {
   "cell_type": "code",
   "execution_count": 226,
   "id": "5d553c38",
   "metadata": {},
   "outputs": [
    {
     "name": "stderr",
     "output_type": "stream",
     "text": [
      "E:\\anaconda3\\envs\\hsi\\lib\\site-packages\\sklearn\\linear_model\\_coordinate_descent.py:648: ConvergenceWarning: Objective did not converge. You might want to increase the number of iterations, check the scale of the features or consider increasing regularisation. Duality gap: 4.318e+00, tolerance: 3.232e-02\n",
      "  coef_, l1_reg, l2_reg, X, y, max_iter, tol, rng, random, positive\n",
      "E:\\anaconda3\\envs\\hsi\\lib\\site-packages\\sklearn\\linear_model\\_coordinate_descent.py:648: ConvergenceWarning: Objective did not converge. You might want to increase the number of iterations, check the scale of the features or consider increasing regularisation. Duality gap: 3.163e+00, tolerance: 3.232e-02\n",
      "  coef_, l1_reg, l2_reg, X, y, max_iter, tol, rng, random, positive\n",
      "E:\\anaconda3\\envs\\hsi\\lib\\site-packages\\sklearn\\linear_model\\_coordinate_descent.py:648: ConvergenceWarning: Objective did not converge. You might want to increase the number of iterations, check the scale of the features or consider increasing regularisation. Duality gap: 2.537e+00, tolerance: 3.232e-02\n",
      "  coef_, l1_reg, l2_reg, X, y, max_iter, tol, rng, random, positive\n",
      "E:\\anaconda3\\envs\\hsi\\lib\\site-packages\\sklearn\\linear_model\\_coordinate_descent.py:648: ConvergenceWarning: Objective did not converge. You might want to increase the number of iterations, check the scale of the features or consider increasing regularisation. Duality gap: 2.565e+00, tolerance: 3.236e-02\n",
      "  coef_, l1_reg, l2_reg, X, y, max_iter, tol, rng, random, positive\n",
      "E:\\anaconda3\\envs\\hsi\\lib\\site-packages\\sklearn\\linear_model\\_coordinate_descent.py:648: ConvergenceWarning: Objective did not converge. You might want to increase the number of iterations, check the scale of the features or consider increasing regularisation. Duality gap: 3.814e+00, tolerance: 3.298e-02\n",
      "  coef_, l1_reg, l2_reg, X, y, max_iter, tol, rng, random, positive\n",
      "E:\\anaconda3\\envs\\hsi\\lib\\site-packages\\sklearn\\linear_model\\_coordinate_descent.py:648: ConvergenceWarning: Objective did not converge. You might want to increase the number of iterations, check the scale of the features or consider increasing regularisation. Duality gap: 2.935e+00, tolerance: 3.330e-02\n",
      "  coef_, l1_reg, l2_reg, X, y, max_iter, tol, rng, random, positive\n",
      "E:\\anaconda3\\envs\\hsi\\lib\\site-packages\\sklearn\\linear_model\\_coordinate_descent.py:648: ConvergenceWarning: Objective did not converge. You might want to increase the number of iterations, check the scale of the features or consider increasing regularisation. Duality gap: 5.661e+00, tolerance: 3.330e-02\n",
      "  coef_, l1_reg, l2_reg, X, y, max_iter, tol, rng, random, positive\n",
      "E:\\anaconda3\\envs\\hsi\\lib\\site-packages\\sklearn\\linear_model\\_coordinate_descent.py:648: ConvergenceWarning: Objective did not converge. You might want to increase the number of iterations, check the scale of the features or consider increasing regularisation. Duality gap: 7.166e+00, tolerance: 3.330e-02\n",
      "  coef_, l1_reg, l2_reg, X, y, max_iter, tol, rng, random, positive\n",
      "E:\\anaconda3\\envs\\hsi\\lib\\site-packages\\sklearn\\linear_model\\_coordinate_descent.py:648: ConvergenceWarning: Objective did not converge. You might want to increase the number of iterations, check the scale of the features or consider increasing regularisation. Duality gap: 4.300e+00, tolerance: 3.330e-02\n",
      "  coef_, l1_reg, l2_reg, X, y, max_iter, tol, rng, random, positive\n",
      "E:\\anaconda3\\envs\\hsi\\lib\\site-packages\\sklearn\\linear_model\\_coordinate_descent.py:648: ConvergenceWarning: Objective did not converge. You might want to increase the number of iterations, check the scale of the features or consider increasing regularisation. Duality gap: 3.229e+00, tolerance: 3.330e-02\n",
      "  coef_, l1_reg, l2_reg, X, y, max_iter, tol, rng, random, positive\n",
      "E:\\anaconda3\\envs\\hsi\\lib\\site-packages\\sklearn\\linear_model\\_coordinate_descent.py:648: ConvergenceWarning: Objective did not converge. You might want to increase the number of iterations, check the scale of the features or consider increasing regularisation. Duality gap: 4.493e+00, tolerance: 3.695e-02\n",
      "  coef_, l1_reg, l2_reg, X, y, max_iter, tol, rng, random, positive\n"
     ]
    },
    {
     "data": {
      "text/plain": [
       "Lasso(alpha=0.0001)"
      ]
     },
     "execution_count": 226,
     "metadata": {},
     "output_type": "execute_result"
    }
   ],
   "source": [
    "parameters = { 'alpha':[1, 0.1, 0.01, 0.001, 0.0001]}\n",
    "lasso = linear_model.Lasso()\n",
    "clf = GridSearchCV(lasso, parameters, cv=10)\n",
    "clf.fit(_input, label)\n",
    "clf.best_estimator_"
   ]
  },
  {
   "cell_type": "code",
   "execution_count": 227,
   "id": "3e02a6a6",
   "metadata": {},
   "outputs": [
    {
     "name": "stderr",
     "output_type": "stream",
     "text": [
      "E:\\anaconda3\\envs\\hsi\\lib\\site-packages\\sklearn\\linear_model\\_coordinate_descent.py:648: ConvergenceWarning: Objective did not converge. You might want to increase the number of iterations, check the scale of the features or consider increasing regularisation. Duality gap: 4.493e+00, tolerance: 3.695e-02\n",
      "  coef_, l1_reg, l2_reg, X, y, max_iter, tol, rng, random, positive\n"
     ]
    },
    {
     "data": {
      "text/plain": [
       "array([  0.        ,   0.        ,   0.        ,  -0.        ,\n",
       "        -1.9305835 ,  -0.        ,   0.        ,   0.        ,\n",
       "         2.06472234,   0.        ,   0.        ,   0.        ,\n",
       "         0.        ,   0.        ,   0.        ,   0.        ,\n",
       "         0.        ,   0.        ,   0.        ,   0.        ,\n",
       "         0.        ,   0.        ,   0.        ,   0.        ,\n",
       "         0.        ,   0.        ,   0.        ,   0.        ,\n",
       "         0.        ,   0.        ,   0.        ,   0.        ,\n",
       "         0.        ,   0.        ,   0.        ,   0.        ,\n",
       "         0.        ,   0.        ,   0.        ,   0.        ,\n",
       "         0.        ,   0.        ,   0.        ,   0.        ,\n",
       "         0.        ,   0.        ,   0.        ,   0.        ,\n",
       "         0.        ,   0.        ,   0.        ,   0.        ,\n",
       "         0.        ,   0.        ,   0.        ,   0.        ,\n",
       "         0.        ,   0.        ,   0.        ,   0.        ,\n",
       "         0.        ,   0.        ,   0.        ,   0.        ,\n",
       "         0.        ,   0.        ,   0.        ,   0.        ,\n",
       "         0.        ,   0.        ,   0.        ,   0.        ,\n",
       "         0.        ,   0.        ,   0.        ,   0.        ,\n",
       "         0.        ,   0.        ,   0.        ,   0.        ,\n",
       "         0.        ,  -0.        ,  -0.        ,  -0.        ,\n",
       "        -0.        ,  -0.        ,  -0.        ,  -0.        ,\n",
       "        -0.        ,  -0.        ,  -0.        ,  -0.        ,\n",
       "        -0.        ,  -0.        ,  -0.        ,  -0.        ,\n",
       "        -0.        ,  -0.        ,  -0.        ,  -0.        ,\n",
       "        -0.        ,  -0.        ,  -0.        ,  -0.        ,\n",
       "        -0.        ,  -0.        ,  -0.        ,  -0.        ,\n",
       "        -0.        ,  -0.        ,  -0.        ,  -0.        ,\n",
       "        -0.        ,  -0.        ,  -0.        ,  -0.        ,\n",
       "        -0.        ,  -0.        ,  -0.        ,  -0.        ,\n",
       "        -0.        ,  -0.        ,  -0.        ,  -0.        ,\n",
       "        -0.        ,  -0.        ,  -0.        ,  -0.        ,\n",
       "        -0.        ,  -0.        ,  -0.        ,  -0.        ,\n",
       "        -0.        ,  -0.        ,  -0.        ,  -0.        ,\n",
       "        -0.        ,  -0.        ,  -0.        ,  -0.        ,\n",
       "        -0.        ,  -0.        ,  -0.        ,  -0.        ,\n",
       "        -0.        ,  -0.        ,  -3.98900235,  -0.38607796,\n",
       "        -0.        ,  -0.        ,  -0.        ,  -0.        ,\n",
       "        -0.        ,  -0.        ,  -0.        ,  -0.        ,\n",
       "        -0.        ,   0.        ,  -0.        ,  -0.70558636,\n",
       "        -0.        ,   0.        ,   0.        ,   0.        ,\n",
       "         0.        ,   0.        ,  19.76531102,   8.90362244,\n",
       "         0.        ,   0.        ,  -0.        ,   0.        ,\n",
       "         0.        ,  -0.        ,  -0.        ,  -0.        ,\n",
       "        -0.        ,   0.        ,   0.        , -17.8749748 ,\n",
       "        -7.80503526, -29.68077695,  -0.        ,   4.48005241,\n",
       "        29.10069653,   0.51631446,   0.        ,   0.        ,\n",
       "        -0.        ,   0.        ,   0.        ,   0.        ,\n",
       "         0.        ,   0.        ,  -0.        ,   0.        ,\n",
       "         0.        ,   0.        ,  -0.        ,  -0.        ,\n",
       "        -0.        ,  -0.        ,   0.        ,   0.        ,\n",
       "         0.        ,   0.        ,  -0.        ,  -0.        ,\n",
       "        -0.        ,  -0.        ,   0.        ,  -0.92765211,\n",
       "         0.        ,  -0.        ,  -0.        ,  -0.        ,\n",
       "        -0.        ,  -0.        ,  -0.        ,  -0.        ,\n",
       "        -0.        ,  -0.        ,  -0.        ,  -0.        ,\n",
       "        -0.        ,  -0.        ,  -0.        ,  -0.        ,\n",
       "         0.        ,  -0.        ,   0.        ,   0.        ,\n",
       "         0.        ,  -0.        ,   0.        ,   0.        ,\n",
       "         0.        ,   0.        ,   0.        ,   0.        ])"
      ]
     },
     "execution_count": 227,
     "metadata": {},
     "output_type": "execute_result"
    }
   ],
   "source": [
    "lasso = linear_model.Lasso(alpha=0.0001).fit(_input, label)\n",
    "lasso.coef_"
   ]
  },
  {
   "cell_type": "code",
   "execution_count": 232,
   "id": "b1465734",
   "metadata": {},
   "outputs": [
    {
     "data": {
      "text/plain": [
       "array(['772.3', '735.4', '737.4', '770.3', '411', '774.4', '556.8',\n",
       "       '548.6', '550.6', '552.7'], dtype=object)"
      ]
     },
     "execution_count": 232,
     "metadata": {},
     "output_type": "execute_result"
    }
   ],
   "source": [
    "indices = np.argsort(lasso.coef_)[::-1]\n",
    "top_bands = _input.columns.values[indices]\n",
    "top_bands[:10]"
   ]
  },
  {
   "cell_type": "code",
   "execution_count": 233,
   "id": "cf6bcb15",
   "metadata": {},
   "outputs": [
    {
     "name": "stdout",
     "output_type": "stream",
     "text": [
      "Start to process bands combanation.....................\n",
      "#######################################################\n",
      "Using 57.11829400062561 sec\n"
     ]
    },
    {
     "data": {
      "text/plain": [
       "{'score': 0.9045872186202375,\n",
       " 'bands': ['772.3', '792.8', '757.9', '766.2', '875', '823.6']}"
      ]
     },
     "execution_count": 233,
     "metadata": {},
     "output_type": "execute_result"
    }
   ],
   "source": [
    "best_band = ['772.3']\n",
    "remain_bands = cols.copy()\n",
    "remain_bands.remove('772.3')\n",
    "results = get_top_bands_comb(best_band, remain_bands, _input, label)\n",
    "results[-1]"
   ]
  },
  {
   "cell_type": "code",
   "execution_count": 1,
   "id": "70154c3f",
   "metadata": {},
   "outputs": [
    {
     "ename": "NameError",
     "evalue": "name 'RidgeClassifier' is not defined",
     "output_type": "error",
     "traceback": [
      "\u001b[1;31m---------------------------------------------------------------------------\u001b[0m",
      "\u001b[1;31mNameError\u001b[0m                                 Traceback (most recent call last)",
      "\u001b[1;32m~\\AppData\\Local\\Temp/ipykernel_31468/1487645031.py\u001b[0m in \u001b[0;36m<module>\u001b[1;34m\u001b[0m\n\u001b[1;32m----> 1\u001b[1;33m \u001b[0mrcf\u001b[0m \u001b[1;33m=\u001b[0m \u001b[0mRidgeClassifier\u001b[0m\u001b[1;33m(\u001b[0m\u001b[0malpha\u001b[0m\u001b[1;33m=\u001b[0m\u001b[1;36m1\u001b[0m\u001b[1;33m)\u001b[0m\u001b[1;33m.\u001b[0m\u001b[0mfit\u001b[0m\u001b[1;33m(\u001b[0m\u001b[0m_input\u001b[0m\u001b[1;33m,\u001b[0m \u001b[0mlabel\u001b[0m\u001b[1;33m)\u001b[0m\u001b[1;33m\u001b[0m\u001b[1;33m\u001b[0m\u001b[0m\n\u001b[0m",
      "\u001b[1;31mNameError\u001b[0m: name 'RidgeClassifier' is not defined"
     ]
    }
   ],
   "source": [
    "rcf = RidgeClassifier(alpha=1).fit(_input, label)"
   ]
  },
  {
   "cell_type": "code",
   "execution_count": 219,
   "id": "ec3baf0f",
   "metadata": {},
   "outputs": [
    {
     "data": {
      "text/plain": [
       "array(['562.9', '710.7', '778.5', '805.2', '532.1', '827.7', '567',\n",
       "       '649.1', '743.6', '801.1'], dtype=object)"
      ]
     },
     "execution_count": 219,
     "metadata": {},
     "output_type": "execute_result"
    }
   ],
   "source": [
    "indices = np.argsort(rcf.coef_)[::-1]\n",
    "top_bands = _input.columns.values[indices][0]\n",
    "top_bands[:10]"
   ]
  },
  {
   "cell_type": "code",
   "execution_count": 220,
   "id": "d9b702c4",
   "metadata": {},
   "outputs": [
    {
     "name": "stdout",
     "output_type": "stream",
     "text": [
      "Start to process bands combanation.....................\n",
      "#######################################################\n",
      "Using 94.1483166217804 sec\n"
     ]
    }
   ],
   "source": [
    "best_band = ['562.9']\n",
    "remain_bands = cols.copy()\n",
    "remain_bands.remove('562.9')\n",
    "results = get_top_bands_comb(best_band, remain_bands, _input, label)"
   ]
  },
  {
   "cell_type": "code",
   "execution_count": 223,
   "id": "6062cd24",
   "metadata": {
    "scrolled": true
   },
   "outputs": [
    {
     "name": "stdout",
     "output_type": "stream",
     "text": [
      "['562.9', '762.1', '747.7', '768.2', '776.4', '538.3', '827.7', '872.9', '690.2', '575.2']\n"
     ]
    }
   ],
   "source": [
    "print(results[-1]['bands'])"
   ]
  },
  {
   "cell_type": "markdown",
   "id": "6f525f1f",
   "metadata": {},
   "source": [
    "### R_regression"
   ]
  },
  {
   "cell_type": "code",
   "execution_count": 243,
   "id": "0874041b",
   "metadata": {},
   "outputs": [],
   "source": [
    "from sklearn.feature_selection import r_regression"
   ]
  },
  {
   "cell_type": "code",
   "execution_count": 244,
   "id": "16006f7c",
   "metadata": {},
   "outputs": [],
   "source": [
    "_corr = r_regression(_input, label)"
   ]
  },
  {
   "cell_type": "code",
   "execution_count": 247,
   "id": "f9e9b723",
   "metadata": {},
   "outputs": [
    {
     "data": {
      "text/plain": [
       "array([ 0.09440759,  0.12867053,  0.11733782,  0.04997425, -0.05903167,\n",
       "       -0.00771339,  0.11583198,  0.20277391,  0.27120537,  0.24283762,\n",
       "        0.18747352,  0.18367728,  0.1825396 ,  0.1960098 ,  0.18315604,\n",
       "        0.1724648 ,  0.17148123,  0.16181763,  0.17015251,  0.17280389,\n",
       "        0.16967571,  0.16724355,  0.16773493,  0.16090204,  0.16713735,\n",
       "        0.17937236,  0.18225478,  0.17919408,  0.17822999,  0.17706177,\n",
       "        0.16756474,  0.16027438,  0.16807373,  0.17844175,  0.18023552,\n",
       "        0.17875347,  0.17327414,  0.16857848,  0.16274609,  0.16826941,\n",
       "        0.17191681,  0.17760222,  0.18674359,  0.18824558,  0.18408333,\n",
       "        0.17666896,  0.17000303,  0.16868014,  0.17492899,  0.18317473,\n",
       "        0.18518291,  0.18792145,  0.18415016,  0.17547044,  0.17393167,\n",
       "        0.17558801,  0.17977394,  0.17847786,  0.17159356,  0.16242187,\n",
       "        0.14920136,  0.1397673 ,  0.1417104 ,  0.14311398,  0.13928734,\n",
       "        0.12957646,  0.12403603,  0.11702498,  0.11016569,  0.10624375,\n",
       "        0.10408594,  0.09870362,  0.09204559,  0.09210666,  0.09529138,\n",
       "        0.09426127,  0.09399025,  0.09362378,  0.09792813,  0.09881688,\n",
       "        0.09239649,  0.09109204,  0.09655583,  0.10426106,  0.10764004,\n",
       "        0.11211731,  0.11467708,  0.12088893,  0.12841019,  0.13161137,\n",
       "        0.13558401,  0.14192195,  0.1526271 ,  0.15786439,  0.15497046,\n",
       "        0.148954  ,  0.14499711,  0.15127248,  0.15902056,  0.16307725,\n",
       "        0.16819965,  0.17161279,  0.17474495,  0.17864958,  0.17949529,\n",
       "        0.17823283,  0.17609324,  0.17726187,  0.17876846,  0.1812354 ,\n",
       "        0.18569816,  0.18673196,  0.18614105,  0.1856155 ,  0.18604315,\n",
       "        0.18745716,  0.18830002,  0.1921866 ,  0.19652433,  0.20141619,\n",
       "        0.20192947,  0.20060163,  0.19796803,  0.19435317,  0.18751379,\n",
       "        0.19087113,  0.20036027,  0.20879917,  0.20450612,  0.20669607,\n",
       "        0.21405869,  0.2150299 ,  0.2117509 ,  0.2109803 ,  0.21118417,\n",
       "        0.20803753,  0.20849065,  0.21177139,  0.21605448,  0.21622866,\n",
       "        0.21672614,  0.21669857,  0.21218936,  0.19805122,  0.1936388 ,\n",
       "        0.20008569,  0.20008691,  0.19639355,  0.20017177,  0.18778884,\n",
       "        0.16539527,  0.15040432,  0.13687248,  0.11510895,  0.09484181,\n",
       "        0.08691287,  0.07519617,  0.05125924, -0.00948099, -0.05289853,\n",
       "       -0.026761  , -0.02168991, -0.05544491, -0.06936777, -0.09211297,\n",
       "       -0.10079016, -0.10047221, -0.11596463, -0.13875423, -0.15554058,\n",
       "       -0.16731222, -0.17260424, -0.17885232, -0.18265062, -0.19116734,\n",
       "       -0.21314929, -0.2216974 , -0.22272145, -0.22675859, -0.27270654,\n",
       "       -0.25158096, -0.23045566, -0.21049237, -0.19308285, -0.18772497,\n",
       "       -0.18594133, -0.19720563, -0.21755523, -0.22494878, -0.22609259,\n",
       "       -0.22336446, -0.22287533, -0.22409688, -0.22668826, -0.22733314,\n",
       "       -0.22488548, -0.22368876, -0.22247413, -0.2217921 , -0.22227135,\n",
       "       -0.22496988, -0.22546563, -0.22644565, -0.23097536, -0.23334269,\n",
       "       -0.23438132, -0.2432022 , -0.24210315, -0.23626538, -0.2287411 ,\n",
       "       -0.22709369, -0.23164291, -0.21639825, -0.22504716, -0.22488181,\n",
       "       -0.22274793, -0.22005764, -0.21418767, -0.21526295, -0.21470909,\n",
       "       -0.21855962, -0.22142804, -0.22233014, -0.22648734, -0.22725865,\n",
       "       -0.22519887, -0.22480513, -0.22264828, -0.216756  , -0.2179936 ,\n",
       "       -0.21548521, -0.21508071, -0.22042212, -0.2225757 , -0.21727403,\n",
       "       -0.22047276, -0.22004427, -0.22102116, -0.22140768, -0.22256541])"
      ]
     },
     "execution_count": 247,
     "metadata": {},
     "output_type": "execute_result"
    }
   ],
   "source": [
    "_corr"
   ]
  },
  {
   "cell_type": "code",
   "execution_count": 248,
   "id": "6b8a5468",
   "metadata": {},
   "outputs": [
    {
     "data": {
      "text/plain": [
       "array([  8,   9, 140, 141, 139, 138, 131, 130, 142, 137, 132, 134, 133,\n",
       "       127, 136, 135, 129, 128,   7, 120, 119, 121, 126, 148, 146, 145,\n",
       "       143, 122, 118, 147,  13, 123, 144, 117, 125, 116,  43,  51, 149,\n",
       "       124,  10, 115,  42, 111, 112, 114, 110, 113,  50,  52,  44,  11,\n",
       "        49,  14,  12,  26, 109,  34,  56, 104,  25,  27, 108,  35, 103,\n",
       "        57,  33, 105,  28,  41, 107,  29,  45, 106,  55,  53,  48, 102,\n",
       "        54,  36,  19,  15,  40, 101,  58,  16,  18,  46,  20,  47,  37,\n",
       "        39, 100,  32,  22,  30,  21,  24, 150,  99,  38,  59,  17,  23,\n",
       "        31,  98,  93,  94,  92,  97, 151,  60,  95,  96,  63,  91,  62,\n",
       "        61,  64, 152,  90,  89,  65,   1,  88,  66,  87,   2,  67,   6,\n",
       "       153,  86,  85,  68,  84,  69,  83,  70,  79,  71,  78,  82,  74,\n",
       "       154,   0,  75,  76,  77,  80,  73,  72,  81, 155, 156, 157,   3,\n",
       "         5, 158, 161, 160, 159, 162,   4, 163, 164, 166, 165, 167, 168,\n",
       "       169, 170, 171, 172, 173, 185, 184, 174, 183, 186, 182, 175, 217,\n",
       "       219, 231, 218, 230, 212, 228, 234, 187, 229, 220, 236, 216, 232,\n",
       "       235, 237, 238, 221, 176, 198, 199, 222, 197, 239, 233, 227, 177,\n",
       "       215, 191, 190, 196, 192, 226, 214, 195, 188, 200, 213, 225, 201,\n",
       "       189, 202, 223, 193, 178, 210, 224, 194, 209, 181, 203, 211, 204,\n",
       "       205, 208, 207, 206, 180, 179], dtype=int64)"
      ]
     },
     "execution_count": 248,
     "metadata": {},
     "output_type": "execute_result"
    }
   ],
   "source": [
    "indices = np.argsort(_corr)[::-1]\n",
    "indices"
   ]
  },
  {
   "cell_type": "code",
   "execution_count": 252,
   "id": "483ae8b5",
   "metadata": {},
   "outputs": [
    {
     "name": "stdout",
     "output_type": "stream",
     "text": [
      "['411', '413.1', '682', '684', '679.9', '677.9', '663.5', '661.5', '686.1', '675.8']\n"
     ]
    }
   ],
   "source": [
    "top_bands = list(_input.columns.values[indices])\n",
    "print(top_bands[:10])"
   ]
  },
  {
   "cell_type": "code",
   "execution_count": 250,
   "id": "f2ad5e31",
   "metadata": {},
   "outputs": [
    {
     "name": "stdout",
     "output_type": "stream",
     "text": [
      "Start to process bands combanation.....................\n",
      "#######################################################\n",
      "Using 173.30756521224976 sec\n"
     ]
    }
   ],
   "source": [
    "best_band = ['411']\n",
    "remain_bands = cols.copy()\n",
    "remain_bands.remove('411')\n",
    "results = get_top_bands_comb(best_band, remain_bands, _input, label)"
   ]
  },
  {
   "cell_type": "code",
   "execution_count": 254,
   "id": "957d5ea7",
   "metadata": {},
   "outputs": [
    {
     "name": "stdout",
     "output_type": "stream",
     "text": [
      "['411', '404.9', '762.1', '749.7', '774.4', '778.5', '731.3', '696.4', '817.5', '885.2', '803.1', '675.8']\n"
     ]
    }
   ],
   "source": [
    "print(results[-1]['bands'])"
   ]
  },
  {
   "cell_type": "markdown",
   "id": "ede7ebfd",
   "metadata": {},
   "source": [
    "## SFS"
   ]
  },
  {
   "cell_type": "code",
   "execution_count": 255,
   "id": "098e0427",
   "metadata": {},
   "outputs": [],
   "source": [
    "from sklearn.feature_selection import SequentialFeatureSelector"
   ]
  },
  {
   "cell_type": "code",
   "execution_count": 256,
   "id": "0f967de3",
   "metadata": {},
   "outputs": [],
   "source": [
    "clf = QuadraticDiscriminantAnalysis()"
   ]
  },
  {
   "cell_type": "code",
   "execution_count": 258,
   "id": "ed431d87",
   "metadata": {},
   "outputs": [
    {
     "data": {
      "text/plain": [
       "SequentialFeatureSelector(cv=6, estimator=QuadraticDiscriminantAnalysis(),\n",
       "                          n_features_to_select=3)"
      ]
     },
     "execution_count": 258,
     "metadata": {},
     "output_type": "execute_result"
    }
   ],
   "source": [
    "sfs = SequentialFeatureSelector(clf, n_features_to_select=3, cv=6)\n",
    "sfs.fit(_input, label)"
   ]
  },
  {
   "cell_type": "code",
   "execution_count": 263,
   "id": "7c59e94b",
   "metadata": {},
   "outputs": [
    {
     "data": {
      "text/plain": [
       "array([False, False, False, False, False,  True, False, False,  True,\n",
       "       False, False, False, False, False, False, False, False, False,\n",
       "       False, False, False, False, False, False, False, False, False,\n",
       "       False, False, False, False, False, False, False, False, False,\n",
       "       False, False, False, False, False, False, False, False, False,\n",
       "       False, False, False, False, False, False, False, False, False,\n",
       "       False, False, False, False, False, False, False, False, False,\n",
       "       False, False, False, False, False, False, False, False, False,\n",
       "       False, False, False, False, False, False, False, False, False,\n",
       "       False, False, False, False, False, False, False, False, False,\n",
       "       False, False, False, False, False, False, False, False, False,\n",
       "       False, False, False, False, False, False, False, False, False,\n",
       "       False, False, False, False, False, False, False, False, False,\n",
       "       False, False, False, False, False, False, False, False, False,\n",
       "       False, False, False, False, False, False, False, False, False,\n",
       "       False, False, False, False, False, False, False, False, False,\n",
       "       False, False, False, False, False, False, False, False, False,\n",
       "       False, False, False, False, False, False, False, False, False,\n",
       "       False, False, False, False, False, False, False, False, False,\n",
       "       False, False, False, False, False, False, False, False,  True,\n",
       "       False, False, False, False, False, False, False, False, False,\n",
       "       False, False, False, False, False, False, False, False, False,\n",
       "       False, False, False, False, False, False, False, False, False,\n",
       "       False, False, False, False, False, False, False, False, False,\n",
       "       False, False, False, False, False, False, False, False, False,\n",
       "       False, False, False, False, False, False, False, False, False,\n",
       "       False, False, False, False, False, False])"
      ]
     },
     "execution_count": 263,
     "metadata": {},
     "output_type": "execute_result"
    }
   ],
   "source": [
    "sfs.get_support()"
   ]
  },
  {
   "cell_type": "code",
   "execution_count": 260,
   "id": "fd2e3e11",
   "metadata": {},
   "outputs": [
    {
     "data": {
      "text/plain": [
       "(1483, 3)"
      ]
     },
     "execution_count": 260,
     "metadata": {},
     "output_type": "execute_result"
    }
   ],
   "source": [
    "sfs.transform(_input).shape"
   ]
  },
  {
   "cell_type": "code",
   "execution_count": 264,
   "id": "72d0c2ae",
   "metadata": {},
   "outputs": [
    {
     "data": {
      "text/plain": [
       "array(['404.9', '411', '762.1'], dtype=object)"
      ]
     },
     "execution_count": 264,
     "metadata": {},
     "output_type": "execute_result"
    }
   ],
   "source": [
    "_input.columns.values[sfs.get_support()]"
   ]
  },
  {
   "cell_type": "code",
   "execution_count": 265,
   "id": "b5871fd8",
   "metadata": {},
   "outputs": [
    {
     "name": "stdout",
     "output_type": "stream",
     "text": [
      "Start to process bands combanation.....................\n",
      "#######################################################\n",
      "Using 111.87994909286499 sec\n"
     ]
    }
   ],
   "source": [
    "best_band = ['404.9']\n",
    "remain_bands = cols.copy()\n",
    "remain_bands.remove('404.9')\n",
    "results = get_top_bands_comb(best_band, remain_bands, _input, label)"
   ]
  },
  {
   "cell_type": "code",
   "execution_count": 268,
   "id": "7d319f1f",
   "metadata": {},
   "outputs": [
    {
     "name": "stdout",
     "output_type": "stream",
     "text": [
      "['404.9', '411', '762.1', '749.7', '774.4', '778.5', '731.3', '696.4', '817.5', '885.2', '803.1', '675.8']\n"
     ]
    }
   ],
   "source": [
    "print(results[-1]['bands'])"
   ]
  },
  {
   "cell_type": "markdown",
   "id": "ff061a49",
   "metadata": {},
   "source": [
    "## Use Combination"
   ]
  },
  {
   "cell_type": "code",
   "execution_count": 73,
   "id": "84c7a6dc",
   "metadata": {},
   "outputs": [],
   "source": [
    "all_bands = _input.columns.values"
   ]
  },
  {
   "cell_type": "code",
   "execution_count": 74,
   "id": "e1bce573",
   "metadata": {},
   "outputs": [
    {
     "name": "stdout",
     "output_type": "stream",
     "text": [
      "Start to find best 2 bands via combination method ................\n",
      "Using 1059.0038137435913 sec to do combination\n",
      "{'747.7', '762.1'}\n",
      "0.8417125009106141\n"
     ]
    }
   ],
   "source": [
    "print(\"Start to find best 2 bands via combination method ................\")\n",
    "\n",
    "t2 = time()\n",
    "\n",
    "clf = QuadraticDiscriminantAnalysis()\n",
    "cv = RepeatedKFold(n_splits=4,n_repeats=4, random_state=46)\n",
    "\n",
    "_best_score = 0.0\n",
    "_best_band = set()\n",
    "\n",
    "comb = combinations(all_bands, 2)\n",
    "for item in comb:\n",
    "    _bands = set(item) # item is tuple, convert to set\n",
    "    result = dict()\n",
    "    #print(bands_set)\n",
    "    _new_input = _input[_bands]\n",
    "    scores = cross_val_score(clf, _new_input, label, scoring='accuracy', cv=cv, n_jobs=-1)\n",
    "    _score = np.mean(scores)\n",
    "    if _score > _best_score:\n",
    "        _best_score = _score\n",
    "        _best_band = _bands\n",
    "\n",
    "print(\"Using {} sec to do combination\".format(time()-t2))\n",
    "print(_best_band)\n",
    "print(_best_score)"
   ]
  },
  {
   "cell_type": "code",
   "execution_count": 76,
   "id": "cea5f3be",
   "metadata": {},
   "outputs": [
    {
     "name": "stdout",
     "output_type": "stream",
     "text": [
      "Start to process bands selection.....................\n",
      "#######################################################\n"
     ]
    }
   ],
   "source": [
    "clf = QuadraticDiscriminantAnalysis()\n",
    "cv = RepeatedKFold(n_splits=4,n_repeats=4, random_state=46)\n",
    "\n",
    "best_band = ['747.7', '762.1']\n",
    "remain_bands = all_bands.tolist().copy()\n",
    "remain_bands.remove('747.7')\n",
    "remain_bands.remove('762.1')\n",
    "\n",
    "print(\"Start to process bands selection.....................\")\n",
    "print(\"#######################################################\")\n",
    "t0 = time()\n",
    "results = list()\n",
    "_best_score = 0.0\n",
    "\n",
    "for i in range(len(remain_bands)):\n",
    "    _best_band = ' '\n",
    "    result = dict()\n",
    "    for item in remain_bands:\n",
    "        selected_bands = best_band.copy()\n",
    "        selected_bands.append(item)\n",
    "        _new_input = _input[selected_bands]\n",
    "        scores = cross_val_score(clf, _new_input, label, scoring='accuracy', cv=cv, n_jobs=-1)\n",
    "        _score = np.mean(scores)\n",
    "\n",
    "        if _score > _best_score:\n",
    "            _best_score = _score\n",
    "            _best_band = item\n",
    "\n",
    "    if _best_band == ' ':  # Can't find more bands to increase score, then exit \n",
    "        break\n",
    "\n",
    "    best_band.append(_best_band)\n",
    "    remain_bands.remove(_best_band)\n",
    "    result['score'] = _best_score\n",
    "    result['bands'] = best_band.copy()\n",
    "\n",
    "    results.append(result)"
   ]
  },
  {
   "cell_type": "code",
   "execution_count": 79,
   "id": "c110c77a",
   "metadata": {},
   "outputs": [
    {
     "name": "stdout",
     "output_type": "stream",
     "text": [
      "['747.7', '762.1', '753.8', '788.7', '655.3', '879.1', '774.4', '540.3', '823.6', '565', '597.8', '394.6']\n"
     ]
    }
   ],
   "source": [
    "print(results[-1]['bands'])"
   ]
  },
  {
   "cell_type": "code",
   "execution_count": 5,
   "id": "d08360d2",
   "metadata": {},
   "outputs": [],
   "source": [
    "tree_short = set(['402.8', '411', '764.1', '772.3', '737.4', '706.6', '753.8', '813.4', '690.2'])\n",
    "tree_lists = set(['402.8', '411', '764.1', '749.7', '774.4', '778.5', '745.6', '565', '552.7', '811.3', '801.1', '671.7', '870.9', '626.6'])\n",
    "ch2_lists = set(['762.1', '747.7', '753.8', '788.7', '655.3', '879.1', '774.4', '540.3', '823.6', '565', '597.8', '394.6'])\n",
    "comb_lists = set(['747.7', '762.1', '753.8', '788.7', '655.3', '879.1', '774.4', '540.3', '823.6', '565', '597.8', '394.6'])\n",
    "rfe_randomforest_lists = set(['762.1', '737.4', '721', '770.3', '753.8', '396.7'])\n",
    "rfe_svc_lists = set(['747.7', '762.1', '753.8', '788.7', '655.3', '879.1', '774.4', '540.3', '823.6', '565', '597.8', '394.6'])\n",
    "corr_pr_lists = set(['411', '404.9', '762.1', '749.7', '774.4', '778.5', '731.3', '696.4', '817.5', '885.2', '803.1', '675.8'])\n",
    "sfs_forward_lists = set(['404.9', '411', '762.1', '749.7', '774.4', '778.5', '731.3', '696.4', '817.5', '885.2', '803.1', '675.8'])\n",
    "ridge_lists = set(['562.9', '762.1', '747.7', '768.2', '776.4', '538.3', '827.7', '872.9', '690.2', '575.2'])\n",
    "lasso_lists = set(['772.3', '792.8', '757.9', '766.2', '875', '823.6'])\n",
    "\n",
    "full_lists = set.union(tree_short,tree_lists,ch2_lists,comb_lists, \n",
    "                rfe_randomforest_lists, rfe_svc_lists, corr_pr_lists, \n",
    "                sfs_forward_lists, ridge_lists, lasso_lists)"
   ]
  },
  {
   "cell_type": "code",
   "execution_count": 6,
   "id": "a8ba222e",
   "metadata": {},
   "outputs": [
    {
     "data": {
      "text/plain": [
       "50"
      ]
     },
     "execution_count": 6,
     "metadata": {},
     "output_type": "execute_result"
    }
   ],
   "source": [
    "len(full_lists)"
   ]
  },
  {
   "cell_type": "code",
   "execution_count": 7,
   "id": "ed62c259",
   "metadata": {},
   "outputs": [],
   "source": [
    "full_lists = list(full_lists)"
   ]
  },
  {
   "cell_type": "code",
   "execution_count": 286,
   "id": "24efea2f",
   "metadata": {},
   "outputs": [],
   "source": [
    "_len = len(full_lists)\n",
    "_index_list = [i for i in range(_len)]\n",
    "\n",
    "comb = combinations(_index_list, 6)\n",
    "count = 0\n",
    "for item in comb:\n",
    "    _bands = [full_lists[idx] for idx in item] #set(item) # item is tuple, convert to set\n",
    "    break"
   ]
  },
  {
   "cell_type": "code",
   "execution_count": 288,
   "id": "aa25e29e",
   "metadata": {},
   "outputs": [
    {
     "data": {
      "text/plain": [
       "(['696.4', '801.1', '811.3', '768.2', '885.2', '870.9'], (0, 1, 2, 3, 4, 5))"
      ]
     },
     "execution_count": 288,
     "metadata": {},
     "output_type": "execute_result"
    }
   ],
   "source": [
    "_bands, item"
   ]
  },
  {
   "cell_type": "code",
   "execution_count": 289,
   "id": "6814163f",
   "metadata": {},
   "outputs": [],
   "source": [
    "_new = _input[_bands]"
   ]
  },
  {
   "cell_type": "code",
   "execution_count": 290,
   "id": "f2ae27f8",
   "metadata": {},
   "outputs": [
    {
     "data": {
      "text/html": [
       "<div>\n",
       "<style scoped>\n",
       "    .dataframe tbody tr th:only-of-type {\n",
       "        vertical-align: middle;\n",
       "    }\n",
       "\n",
       "    .dataframe tbody tr th {\n",
       "        vertical-align: top;\n",
       "    }\n",
       "\n",
       "    .dataframe thead th {\n",
       "        text-align: right;\n",
       "    }\n",
       "</style>\n",
       "<table border=\"1\" class=\"dataframe\">\n",
       "  <thead>\n",
       "    <tr style=\"text-align: right;\">\n",
       "      <th></th>\n",
       "      <th>696.4</th>\n",
       "      <th>801.1</th>\n",
       "      <th>811.3</th>\n",
       "      <th>768.2</th>\n",
       "      <th>885.2</th>\n",
       "      <th>870.9</th>\n",
       "    </tr>\n",
       "  </thead>\n",
       "  <tbody>\n",
       "    <tr>\n",
       "      <th>0</th>\n",
       "      <td>0.05203</td>\n",
       "      <td>0.2992</td>\n",
       "      <td>0.3029</td>\n",
       "      <td>0.2793</td>\n",
       "      <td>0.3194</td>\n",
       "      <td>0.3175</td>\n",
       "    </tr>\n",
       "    <tr>\n",
       "      <th>1</th>\n",
       "      <td>0.05237</td>\n",
       "      <td>0.3195</td>\n",
       "      <td>0.3238</td>\n",
       "      <td>0.2975</td>\n",
       "      <td>0.3416</td>\n",
       "      <td>0.3393</td>\n",
       "    </tr>\n",
       "    <tr>\n",
       "      <th>2</th>\n",
       "      <td>0.05096</td>\n",
       "      <td>0.3437</td>\n",
       "      <td>0.3476</td>\n",
       "      <td>0.3209</td>\n",
       "      <td>0.3648</td>\n",
       "      <td>0.3638</td>\n",
       "    </tr>\n",
       "    <tr>\n",
       "      <th>3</th>\n",
       "      <td>0.05404</td>\n",
       "      <td>0.3213</td>\n",
       "      <td>0.3255</td>\n",
       "      <td>0.2995</td>\n",
       "      <td>0.3432</td>\n",
       "      <td>0.3390</td>\n",
       "    </tr>\n",
       "    <tr>\n",
       "      <th>4</th>\n",
       "      <td>0.05635</td>\n",
       "      <td>0.2212</td>\n",
       "      <td>0.2275</td>\n",
       "      <td>0.2047</td>\n",
       "      <td>0.2471</td>\n",
       "      <td>0.2431</td>\n",
       "    </tr>\n",
       "    <tr>\n",
       "      <th>...</th>\n",
       "      <td>...</td>\n",
       "      <td>...</td>\n",
       "      <td>...</td>\n",
       "      <td>...</td>\n",
       "      <td>...</td>\n",
       "      <td>...</td>\n",
       "    </tr>\n",
       "    <tr>\n",
       "      <th>1478</th>\n",
       "      <td>0.06635</td>\n",
       "      <td>0.1798</td>\n",
       "      <td>0.1809</td>\n",
       "      <td>0.1698</td>\n",
       "      <td>0.1964</td>\n",
       "      <td>0.1907</td>\n",
       "    </tr>\n",
       "    <tr>\n",
       "      <th>1479</th>\n",
       "      <td>0.07391</td>\n",
       "      <td>0.2053</td>\n",
       "      <td>0.2078</td>\n",
       "      <td>0.1934</td>\n",
       "      <td>0.2168</td>\n",
       "      <td>0.2208</td>\n",
       "    </tr>\n",
       "    <tr>\n",
       "      <th>1480</th>\n",
       "      <td>0.06157</td>\n",
       "      <td>0.2002</td>\n",
       "      <td>0.2020</td>\n",
       "      <td>0.1903</td>\n",
       "      <td>0.2161</td>\n",
       "      <td>0.2150</td>\n",
       "    </tr>\n",
       "    <tr>\n",
       "      <th>1481</th>\n",
       "      <td>0.07138</td>\n",
       "      <td>0.2581</td>\n",
       "      <td>0.2592</td>\n",
       "      <td>0.2457</td>\n",
       "      <td>0.2735</td>\n",
       "      <td>0.2725</td>\n",
       "    </tr>\n",
       "    <tr>\n",
       "      <th>1482</th>\n",
       "      <td>0.05722</td>\n",
       "      <td>0.2509</td>\n",
       "      <td>0.2533</td>\n",
       "      <td>0.2364</td>\n",
       "      <td>0.2735</td>\n",
       "      <td>0.2690</td>\n",
       "    </tr>\n",
       "  </tbody>\n",
       "</table>\n",
       "<p>1483 rows × 6 columns</p>\n",
       "</div>"
      ],
      "text/plain": [
       "        696.4   801.1   811.3   768.2   885.2   870.9\n",
       "0     0.05203  0.2992  0.3029  0.2793  0.3194  0.3175\n",
       "1     0.05237  0.3195  0.3238  0.2975  0.3416  0.3393\n",
       "2     0.05096  0.3437  0.3476  0.3209  0.3648  0.3638\n",
       "3     0.05404  0.3213  0.3255  0.2995  0.3432  0.3390\n",
       "4     0.05635  0.2212  0.2275  0.2047  0.2471  0.2431\n",
       "...       ...     ...     ...     ...     ...     ...\n",
       "1478  0.06635  0.1798  0.1809  0.1698  0.1964  0.1907\n",
       "1479  0.07391  0.2053  0.2078  0.1934  0.2168  0.2208\n",
       "1480  0.06157  0.2002  0.2020  0.1903  0.2161  0.2150\n",
       "1481  0.07138  0.2581  0.2592  0.2457  0.2735  0.2725\n",
       "1482  0.05722  0.2509  0.2533  0.2364  0.2735  0.2690\n",
       "\n",
       "[1483 rows x 6 columns]"
      ]
     },
     "execution_count": 290,
     "metadata": {},
     "output_type": "execute_result"
    }
   ],
   "source": [
    "_new"
   ]
  },
  {
   "cell_type": "code",
   "execution_count": 271,
   "id": "e75e50e1",
   "metadata": {},
   "outputs": [],
   "source": [
    "from datetime import datetime"
   ]
  },
  {
   "cell_type": "code",
   "execution_count": 272,
   "id": "03eeb22d",
   "metadata": {},
   "outputs": [
    {
     "name": "stdout",
     "output_type": "stream",
     "text": [
      "now = 2021-12-29 09:51:43.625080\n"
     ]
    }
   ],
   "source": [
    "now = datetime.now()\n",
    " \n",
    "print(\"now =\", now)"
   ]
  },
  {
   "cell_type": "code",
   "execution_count": 2,
   "id": "d11a62cf",
   "metadata": {},
   "outputs": [],
   "source": [
    "import csv"
   ]
  },
  {
   "cell_type": "code",
   "execution_count": 278,
   "id": "268fe7aa",
   "metadata": {},
   "outputs": [
    {
     "name": "stdout",
     "output_type": "stream",
     "text": [
      "15890700\n"
     ]
    }
   ],
   "source": [
    "index_list = [i for i in range(50)]\n",
    "index_comb = combinations(index_list, 6)\n",
    "count = 0\n",
    "with open(\"comb_6_test.csv\", 'w', newline='') as f:\n",
    "    f_writer = csv.writer(f, delimiter=',')\n",
    "    for item in index_comb:\n",
    "        f_writer.writerow(item)\n",
    "        count +=1\n",
    "\n",
    "print(count)"
   ]
  },
  {
   "cell_type": "code",
   "execution_count": 10,
   "id": "6147972f",
   "metadata": {},
   "outputs": [
    {
     "name": "stdout",
     "output_type": "stream",
     "text": [
      "['0', '1', '2', '3', '4', '5']\n",
      "[0, 1, 2, 3, 4, 5]\n",
      "['552.7', '801.1', '575.2', '690.2', '675.8', '776.4']\n"
     ]
    }
   ],
   "source": [
    "with open(\"comb_6_test.csv\", newline='') as f:\n",
    "    f_reader = csv.reader(f, delimiter=',')\n",
    "    for row in f_reader:\n",
    "        print(row)\n",
    "        print([int(i) for i in row])\n",
    "        print([full_lists[int(i)] for i in row])\n",
    "        break"
   ]
  },
  {
   "cell_type": "markdown",
   "id": "4f9c3ab4",
   "metadata": {},
   "source": [
    "### Select best six bands from 24"
   ]
  },
  {
   "cell_type": "code",
   "execution_count": 153,
   "id": "af6b6b39",
   "metadata": {},
   "outputs": [
    {
     "data": {
      "text/plain": [
       "{'706.6', '737.4', '764.1', '774.4', '801.1', '813.4'}"
      ]
     },
     "execution_count": 153,
     "metadata": {},
     "output_type": "execute_result"
    }
   ],
   "source": [
    "# Use combination method to try all six bands combations\n",
    "output = './output/'\n",
    "bands_file = output + 'tree_chi_comb_6_bands.pkl'\n",
    "_bands = pickle.load(open(bands_file, 'rb'))\n",
    "_bands"
   ]
  },
  {
   "cell_type": "markdown",
   "id": "6c17424a",
   "metadata": {},
   "source": [
    "#### Use those bands to test other stage "
   ]
  },
  {
   "cell_type": "code",
   "execution_count": 159,
   "id": "4c40ef37",
   "metadata": {},
   "outputs": [],
   "source": [
    "def process_data(file_name, sheet_name, selected_bands):\n",
    "    full_data = pd.read_excel(file_name, sheet_name= sheet_name)\n",
    "\n",
    "    str_cols = full_data.columns.astype(str)\n",
    "    full_data.columns = str_cols\n",
    "    cols = str_cols.tolist()\n",
    "    cols = cols[1:]\n",
    "\n",
    "    _input = full_data[cols]\n",
    "    label = full_data['label'].tolist()\n",
    "    label = np.asarray(label).reshape(-1,)\n",
    "\n",
    "    clf = QuadraticDiscriminantAnalysis()\n",
    "    \n",
    "    X = _input[selected_bands].to_numpy()\n",
    "    y = label\n",
    "\n",
    "    print(\"Start to cal best_bands f1 score .....................\")\n",
    "    print(\"#######################################################\")\n",
    "    t1 = time()\n",
    "    rkf = RepeatedKFold(n_splits=4, n_repeats=4, random_state=46)\n",
    "    f1_scores = []\n",
    "    for train_index, test_index in rkf.split(X):\n",
    "        #print(\"TRAIN:\", train_index, \"TEST:\", test_index)\n",
    "        X_train, X_test = X[train_index], X[test_index]\n",
    "        y_train, y_test = y[train_index], y[test_index]\n",
    "        clf.fit(X_train,y_train)\n",
    "        y_pred = clf.predict(X_test)\n",
    "        _score = f1_score(y_test, y_pred, average=None)\n",
    "        f1_scores.append(_score)\n",
    "\n",
    "    f1_scores = np.asarray(f1_scores)\n",
    "    print(sheet_name)\n",
    "    print(np.mean(f1_scores, axis=0))"
   ]
  },
  {
   "cell_type": "code",
   "execution_count": 160,
   "id": "373074b5",
   "metadata": {},
   "outputs": [
    {
     "name": "stdout",
     "output_type": "stream",
     "text": [
      "Start to cal best_bands f1 score .....................\n",
      "#######################################################\n",
      "H vs. Sc 16-34\n",
      "[0.93001856 0.96209848]\n",
      "Start to cal best_bands f1 score .....................\n",
      "#######################################################\n",
      "H vs. Sc35-70\n",
      "[0.95338444 0.9351629 ]\n",
      "Start to cal best_bands f1 score .....................\n",
      "#######################################################\n",
      "Multiclasses\n",
      "[0.85302569 0.52955449 0.66397869 0.70371625]\n"
     ]
    }
   ],
   "source": [
    "file_name = 'Adjusted categorization - 1-5,16-30, 35-70.xlsx'\n",
    "sheet_list = ['H vs. Sc 16-34', 'H vs. Sc35-70','Multiclasses']\n",
    "\n",
    "selected_bands = ['706.6', '737.4', '764.1', '774.4', '801.1', '813.4']\n",
    "\n",
    "for sheet_name in sheet_list:\n",
    "    process_data(file_name, sheet_name, selected_bands)"
   ]
  },
  {
   "cell_type": "markdown",
   "id": "70f7bcbc",
   "metadata": {},
   "source": [
    "### Results of selected bands"
   ]
  },
  {
   "cell_type": "markdown",
   "id": "d8d90a46",
   "metadata": {},
   "source": [
    "#### All classes"
   ]
  },
  {
   "cell_type": "code",
   "execution_count": 19,
   "id": "e3d26a47",
   "metadata": {},
   "outputs": [],
   "source": [
    "output = './output/'\n",
    "bands = output + 'All classesselected_bands.pkl'\n",
    "f1_scores = output + 'All classesselected_bands_f1_scores.pkl'"
   ]
  },
  {
   "cell_type": "code",
   "execution_count": 20,
   "id": "08b515e4",
   "metadata": {},
   "outputs": [
    {
     "name": "stdout",
     "output_type": "stream",
     "text": [
      "['402.8', '679.9', '411', '762.1', '725.1', '606', '710.7', '708.7', '694.3', '819.5', '513.7', '458.2', '653.3']\n"
     ]
    }
   ],
   "source": [
    "_bands = pickle.load(open(bands,'rb'))\n",
    "print(_bands)"
   ]
  },
  {
   "cell_type": "code",
   "execution_count": 7,
   "id": "92f08e6f",
   "metadata": {},
   "outputs": [
    {
     "data": {
      "text/plain": [
       "array([[0.75886525, 0.70943396, 0.68862275, 0.81666667],\n",
       "       [0.75      , 0.78354978, 0.71794872, 0.81422925],\n",
       "       [0.80588235, 0.78787879, 0.6295082 , 0.79487179],\n",
       "       [0.7826087 , 0.75449102, 0.73684211, 0.85530547],\n",
       "       [0.80526316, 0.7943662 , 0.71299094, 0.85      ],\n",
       "       [0.82242991, 0.77384196, 0.74056604, 0.91240876],\n",
       "       [0.86863271, 0.80965147, 0.77368421, 0.88461538],\n",
       "       [0.77530864, 0.72835821, 0.75824176, 0.82978723],\n",
       "       [0.81818182, 0.78240741, 0.71153846, 0.86538462],\n",
       "       [0.83838384, 0.78309859, 0.77435897, 0.84897959],\n",
       "       [0.79084967, 0.77245509, 0.72384937, 0.84328358],\n",
       "       [0.75862069, 0.80275229, 0.67936508, 0.7942029 ],\n",
       "       [0.80093677, 0.79347826, 0.7266881 , 0.84285714],\n",
       "       [0.85245902, 0.74172185, 0.72888889, 0.88059701],\n",
       "       [0.83495146, 0.79237288, 0.70948012, 0.85611511],\n",
       "       [0.79635258, 0.79665738, 0.65420561, 0.74801061]])"
      ]
     },
     "execution_count": 7,
     "metadata": {},
     "output_type": "execute_result"
    }
   ],
   "source": [
    "_f1_score = pickle.load(open(f1_scores, 'rb'))\n",
    "_f1_score"
   ]
  },
  {
   "cell_type": "code",
   "execution_count": 8,
   "id": "017ae7fa",
   "metadata": {},
   "outputs": [
    {
     "data": {
      "text/plain": [
       "array([0.80373291, 0.7754072 , 0.71667371, 0.83983219])"
      ]
     },
     "execution_count": 8,
     "metadata": {},
     "output_type": "execute_result"
    }
   ],
   "source": [
    "np.mean(_f1_score, axis=0)"
   ]
  },
  {
   "cell_type": "code",
   "execution_count": 9,
   "id": "309ad5ab",
   "metadata": {},
   "outputs": [],
   "source": [
    "bands = output + 'All classes6_bands.pkl'\n",
    "f1_scores = output + 'All classes6_bands_f1_scores.pkl'"
   ]
  },
  {
   "cell_type": "code",
   "execution_count": 10,
   "id": "d5cba952",
   "metadata": {},
   "outputs": [
    {
     "name": "stdout",
     "output_type": "stream",
     "text": [
      "{'458.2', '513.7', '725.1', '762.1', '606', '710.7'}\n"
     ]
    }
   ],
   "source": [
    "_bands = pickle.load(open(bands,'rb'))\n",
    "print(_bands)"
   ]
  },
  {
   "cell_type": "code",
   "execution_count": 11,
   "id": "c17cf102",
   "metadata": {},
   "outputs": [
    {
     "data": {
      "text/plain": [
       "array([0.75306985, 0.71921036, 0.68881343, 0.83388149])"
      ]
     },
     "execution_count": 11,
     "metadata": {},
     "output_type": "execute_result"
    }
   ],
   "source": [
    "_f1_score = pickle.load(open(f1_scores, 'rb'))\n",
    "np.mean(_f1_score, axis=0)"
   ]
  },
  {
   "cell_type": "code",
   "execution_count": 6,
   "id": "08243159",
   "metadata": {},
   "outputs": [],
   "source": [
    "_bands = ['737.4', '811.3', '762.1', '706.6', '774.4', '803.1']"
   ]
  },
  {
   "cell_type": "markdown",
   "id": "ab43372c",
   "metadata": {},
   "source": [
    "### To calculate each classifcation method"
   ]
  },
  {
   "cell_type": "code",
   "execution_count": 7,
   "id": "19155fa1",
   "metadata": {},
   "outputs": [],
   "source": [
    "def get_f1_score_by_method(clf, _input, label, selected_bands):\n",
    "    X = _input[selected_bands].to_numpy()\n",
    "    y = label\n",
    "    rkf = RepeatedKFold(n_splits=4, n_repeats=4, random_state=2652124)\n",
    "    f1_scores = []\n",
    "    for train_index, test_index in rkf.split(X):\n",
    "        #print(\"TRAIN:\", train_index, \"TEST:\", test_index)\n",
    "        X_train, X_test = X[train_index], X[test_index]\n",
    "        y_train, y_test = y[train_index], y[test_index]\n",
    "        clf.fit(X_train,y_train)\n",
    "        y_pred = clf.predict(X_test)\n",
    "        _score = f1_score(y_test, y_pred, average=None)\n",
    "        f1_scores.append(_score)\n",
    "        \n",
    "    return f1_scores"
   ]
  },
  {
   "cell_type": "code",
   "execution_count": 9,
   "id": "570b7450",
   "metadata": {},
   "outputs": [
    {
     "name": "stdout",
     "output_type": "stream",
     "text": [
      "Fitting the classifier to the training set\n",
      "Set Grid parameters\n",
      "Start to fit\n"
     ]
    },
    {
     "name": "stderr",
     "output_type": "stream",
     "text": [
      "E:\\anaconda3\\envs\\hsi\\lib\\site-packages\\sklearn\\model_selection\\_validation.py:372: FitFailedWarning: \n",
      "300 fits failed out of a total of 900.\n",
      "The score on these train-test partitions for these parameters will be set to nan.\n",
      "If these failures are not expected, you can try to debug them by setting error_score='raise'.\n",
      "\n",
      "Below are more details about the failures:\n",
      "--------------------------------------------------------------------------------\n",
      "300 fits failed with the following error:\n",
      "Traceback (most recent call last):\n",
      "  File \"E:\\anaconda3\\envs\\hsi\\lib\\site-packages\\sklearn\\model_selection\\_validation.py\", line 681, in _fit_and_score\n",
      "    estimator.fit(X_train, y_train, **fit_params)\n",
      "  File \"E:\\anaconda3\\envs\\hsi\\lib\\site-packages\\sklearn\\svm\\_base.py\", line 255, in fit\n",
      "    fit(X, y, sample_weight, solver_type, kernel, random_seed=seed)\n",
      "  File \"E:\\anaconda3\\envs\\hsi\\lib\\site-packages\\sklearn\\svm\\_base.py\", line 333, in _dense_fit\n",
      "    random_seed=random_seed,\n",
      "  File \"sklearn\\svm\\_libsvm.pyx\", line 176, in sklearn.svm._libsvm.fit\n",
      "ValueError: 'sigmod' is not in list\n",
      "\n",
      "  warnings.warn(some_fits_failed_message, FitFailedWarning)\n",
      "E:\\anaconda3\\envs\\hsi\\lib\\site-packages\\sklearn\\model_selection\\_search.py:972: UserWarning: One or more of the test scores are non-finite: [0.34591837        nan 0.56360544 0.36768707        nan 0.56360544\n",
      " 0.39319728        nan 0.56360544 0.4744898         nan 0.56360544\n",
      " 0.50442177        nan 0.56360544 0.54047619        nan 0.56360544\n",
      " 0.36802721        nan 0.59353741 0.44965986        nan 0.59353741\n",
      " 0.47585034        nan 0.59353741 0.54047619        nan 0.59353741\n",
      " 0.56326531        nan 0.59353741 0.57517007        nan 0.59353741\n",
      " 0.39285714        nan 0.60068027 0.47585034        nan 0.60068027\n",
      " 0.50408163        nan 0.60068027 0.56394558        nan 0.60068027\n",
      " 0.57653061        nan 0.60068027 0.58129252        nan 0.60068027\n",
      " 0.47585034        nan 0.60680272 0.54285714        nan 0.60680272\n",
      " 0.56734694        nan 0.60680272 0.58537415        nan 0.60680272\n",
      " 0.58945578        nan 0.60680272 0.59897959        nan 0.60680272\n",
      " 0.50646259        nan 0.61258503 0.56632653        nan 0.61258503\n",
      " 0.58265306        nan 0.61258503 0.59183673        nan 0.61258503\n",
      " 0.59727891        nan 0.61258503 0.60918367        nan 0.61258503]\n",
      "  category=UserWarning,\n"
     ]
    },
    {
     "name": "stdout",
     "output_type": "stream",
     "text": [
      "done in 1214.128s\n",
      "Best estimator found by grid search:\n",
      "SVC(C=10000.0, class_weight='balanced', gamma=0.001, kernel='linear',\n",
      "    probability=True)\n"
     ]
    }
   ],
   "source": [
    "# #############################################################################\n",
    "# Train a SVM classification model\n",
    "\n",
    "print(\"Fitting the classifier to the training set\")\n",
    "t0 = time()\n",
    "param_grid = {'kernel':['rbf','sigmod','linear'],'C': [1e2,5e2,1e3, 5e3, 1e4],\n",
    "              'gamma': [0.001, 0.005, 0.01,0.05,0.1,0.2]}\n",
    "print(\"Set Grid parameters\")\n",
    "clf = GridSearchCV(\n",
    "    SVC(class_weight='balanced',probability=True), param_grid, cv=10)\n",
    "print(\"Start to fit\")\n",
    "clf = clf.fit(_input[_bands], label)\n",
    "print(\"done in %0.3fs\" % (time() - t0))\n",
    "print(\"Best estimator found by grid search:\")\n",
    "print(clf.best_estimator_)"
   ]
  },
  {
   "cell_type": "code",
   "execution_count": 8,
   "id": "0a836a3d",
   "metadata": {},
   "outputs": [
    {
     "data": {
      "text/plain": [
       "array([0.82409481, 0.37977875, 0.58100207, 0.71703733])"
      ]
     },
     "execution_count": 8,
     "metadata": {},
     "output_type": "execute_result"
    }
   ],
   "source": [
    "clf = SVC(C=10000.0, class_weight='balanced', gamma=0.001, kernel='linear',probability=True)\n",
    "\n",
    "f1_scores = get_f1_score_by_method(clf, _input, label, _bands)\n",
    "np.mean(f1_scores, axis=0)"
   ]
  },
  {
   "cell_type": "code",
   "execution_count": 24,
   "id": "dd51bf31",
   "metadata": {},
   "outputs": [
    {
     "name": "stdout",
     "output_type": "stream",
     "text": [
      "Fitting the classifier to the training set\n",
      "Set Grid parameters\n",
      "Start to fit\n",
      "done in 11.501s\n",
      "Best estimator found by grid search:\n",
      "DecisionTreeClassifier(criterion='entropy', max_depth=17)\n"
     ]
    }
   ],
   "source": [
    "## Decision Tree \n",
    "print(\"Fitting the classifier to the training set\")\n",
    "t0 = time()\n",
    "param_grid = {'max_depth': range(1,20), 'criterion':['gini','entropy']}\n",
    "print(\"Set Grid parameters\")\n",
    "clf = GridSearchCV(\n",
    "    DecisionTreeClassifier(), param_grid, cv=10)\n",
    "print(\"Start to fit\")\n",
    "clf = clf.fit(_input[_bands], label)\n",
    "print(\"done in %0.3fs\" % (time() - t0))\n",
    "print(\"Best estimator found by grid search:\")\n",
    "print(clf.best_estimator_)"
   ]
  },
  {
   "cell_type": "code",
   "execution_count": 10,
   "id": "d258d83c",
   "metadata": {},
   "outputs": [
    {
     "data": {
      "text/plain": [
       "array([0.74481711, 0.69486073, 0.94728777, 0.78802054])"
      ]
     },
     "execution_count": 10,
     "metadata": {},
     "output_type": "execute_result"
    }
   ],
   "source": [
    "clf = DecisionTreeClassifier(criterion='entropy', max_depth=17)\n",
    "f1_scores = get_f1_score_by_method(clf, _input, label, _bands)\n",
    "np.mean(f1_scores, axis=0)"
   ]
  },
  {
   "cell_type": "code",
   "execution_count": 33,
   "id": "5c749caa",
   "metadata": {},
   "outputs": [
    {
     "name": "stdout",
     "output_type": "stream",
     "text": [
      "Fitting the classifier to the training set\n",
      "Set Grid parameters\n",
      "Start to fit\n",
      "done in 661.924s\n",
      "Best estimator found by grid search:\n",
      "RandomForestClassifier(max_depth=19, n_estimators=150)\n"
     ]
    }
   ],
   "source": [
    "## Random forest\n",
    "\n",
    "print(\"Fitting the classifier to the training set\")\n",
    "t0 = time()\n",
    "param_grid = {'n_estimators':[50,100,150],'max_depth': range(1,20), 'criterion':['gini','entropy']}\n",
    "print(\"Set Grid parameters\")\n",
    "clf = GridSearchCV(\n",
    "    RandomForestClassifier(), param_grid, cv=10)\n",
    "print(\"Start to fit\")\n",
    "clf = clf.fit(_input[_bands], label)\n",
    "print(\"done in %0.3fs\" % (time() - t0))\n",
    "print(\"Best estimator found by grid search:\")\n",
    "print(clf.best_estimator_)"
   ]
  },
  {
   "cell_type": "code",
   "execution_count": 11,
   "id": "b806d364",
   "metadata": {},
   "outputs": [
    {
     "data": {
      "text/plain": [
       "array([0.81079512, 0.76291904, 0.97070069, 0.84069884])"
      ]
     },
     "execution_count": 11,
     "metadata": {},
     "output_type": "execute_result"
    }
   ],
   "source": [
    "clf = RandomForestClassifier(max_depth=19, n_estimators=150)\n",
    "f1_scores = get_f1_score_by_method(clf, _input, label, _bands)\n",
    "np.mean(f1_scores, axis=0)"
   ]
  },
  {
   "cell_type": "code",
   "execution_count": 39,
   "id": "dfbcae01",
   "metadata": {},
   "outputs": [
    {
     "name": "stderr",
     "output_type": "stream",
     "text": [
      "E:\\anaconda3\\envs\\hsi\\lib\\site-packages\\sklearn\\gaussian_process\\kernels.py:437: ConvergenceWarning: The optimal value found for dimension 0 of parameter k1__constant_value is close to the specified upper bound 100000.0. Increasing the bound and calling fit again may find a better value.\n",
      "  ConvergenceWarning,\n",
      "E:\\anaconda3\\envs\\hsi\\lib\\site-packages\\sklearn\\gaussian_process\\kernels.py:437: ConvergenceWarning: The optimal value found for dimension 0 of parameter k1__constant_value is close to the specified upper bound 100000.0. Increasing the bound and calling fit again may find a better value.\n",
      "  ConvergenceWarning,\n",
      "E:\\anaconda3\\envs\\hsi\\lib\\site-packages\\sklearn\\gaussian_process\\kernels.py:437: ConvergenceWarning: The optimal value found for dimension 0 of parameter k1__constant_value is close to the specified upper bound 100000.0. Increasing the bound and calling fit again may find a better value.\n",
      "  ConvergenceWarning,\n",
      "E:\\anaconda3\\envs\\hsi\\lib\\site-packages\\sklearn\\gaussian_process\\_gpc.py:472: ConvergenceWarning: lbfgs failed to converge (status=2):\n",
      "ABNORMAL_TERMINATION_IN_LNSRCH.\n",
      "\n",
      "Increase the number of iterations (max_iter) or scale the data as shown in:\n",
      "    https://scikit-learn.org/stable/modules/preprocessing.html\n",
      "  _check_optimize_result(\"lbfgs\", opt_res)\n",
      "E:\\anaconda3\\envs\\hsi\\lib\\site-packages\\sklearn\\gaussian_process\\kernels.py:437: ConvergenceWarning: The optimal value found for dimension 0 of parameter k1__constant_value is close to the specified upper bound 100000.0. Increasing the bound and calling fit again may find a better value.\n",
      "  ConvergenceWarning,\n",
      "E:\\anaconda3\\envs\\hsi\\lib\\site-packages\\sklearn\\gaussian_process\\kernels.py:437: ConvergenceWarning: The optimal value found for dimension 0 of parameter k1__constant_value is close to the specified upper bound 100000.0. Increasing the bound and calling fit again may find a better value.\n",
      "  ConvergenceWarning,\n",
      "E:\\anaconda3\\envs\\hsi\\lib\\site-packages\\sklearn\\gaussian_process\\kernels.py:437: ConvergenceWarning: The optimal value found for dimension 0 of parameter k1__constant_value is close to the specified upper bound 100000.0. Increasing the bound and calling fit again may find a better value.\n",
      "  ConvergenceWarning,\n",
      "E:\\anaconda3\\envs\\hsi\\lib\\site-packages\\sklearn\\gaussian_process\\kernels.py:437: ConvergenceWarning: The optimal value found for dimension 0 of parameter k1__constant_value is close to the specified upper bound 100000.0. Increasing the bound and calling fit again may find a better value.\n",
      "  ConvergenceWarning,\n",
      "E:\\anaconda3\\envs\\hsi\\lib\\site-packages\\sklearn\\gaussian_process\\kernels.py:437: ConvergenceWarning: The optimal value found for dimension 0 of parameter k1__constant_value is close to the specified upper bound 100000.0. Increasing the bound and calling fit again may find a better value.\n",
      "  ConvergenceWarning,\n"
     ]
    },
    {
     "data": {
      "text/plain": [
       "array([0.86089773, 0.7413385 , 0.71967071, 0.75621773])"
      ]
     },
     "execution_count": 39,
     "metadata": {},
     "output_type": "execute_result"
    }
   ],
   "source": [
    "## Gaussian process classification (GPC)\n",
    "kernel = 1.0 * RBF(1.0)\n",
    "clf = GaussianProcessClassifier(kernel=kernel, random_state=46)\n",
    "f1_scores = get_f1_score_by_method(clf, _input, label, _bands)\n",
    "np.mean(f1_scores, axis=0)"
   ]
  },
  {
   "cell_type": "code",
   "execution_count": 12,
   "id": "169ff79f",
   "metadata": {},
   "outputs": [
    {
     "data": {
      "text/plain": [
       "array([0.59848993, 0.40558774, 0.62259169, 0.57321023])"
      ]
     },
     "execution_count": 12,
     "metadata": {},
     "output_type": "execute_result"
    }
   ],
   "source": [
    "## AdaBoostClassifier\n",
    "\n",
    "clf = AdaBoostClassifier(n_estimators=100, random_state=46)\n",
    "f1_scores = get_f1_score_by_method(clf, _input, label, _bands)\n",
    "np.mean(f1_scores, axis=0)"
   ]
  },
  {
   "cell_type": "code",
   "execution_count": 13,
   "id": "fc0a50c7",
   "metadata": {},
   "outputs": [
    {
     "data": {
      "text/plain": [
       "array([0.73852572, 0.65929367, 0.91988101, 0.74632863])"
      ]
     },
     "execution_count": 13,
     "metadata": {},
     "output_type": "execute_result"
    }
   ],
   "source": [
    "### KNeighborsClassifier\n",
    "clf = KNeighborsClassifier(n_neighbors=3)\n",
    "f1_scores = get_f1_score_by_method(clf, _input, label, _bands)\n",
    "np.mean(f1_scores, axis=0)"
   ]
  },
  {
   "cell_type": "code",
   "execution_count": 14,
   "id": "552faf02",
   "metadata": {},
   "outputs": [
    {
     "data": {
      "text/plain": [
       "array([0.46461791, 0.04060836, 0.42435429, 0.52288325])"
      ]
     },
     "execution_count": 14,
     "metadata": {},
     "output_type": "execute_result"
    }
   ],
   "source": [
    "### Gaussian Naive Bayes (GaussianNB)\n",
    "clf = GaussianNB()\n",
    "f1_scores = get_f1_score_by_method(clf, _input, label, _bands)\n",
    "np.mean(f1_scores, axis=0)"
   ]
  },
  {
   "cell_type": "code",
   "execution_count": 15,
   "id": "cddd2a9e",
   "metadata": {},
   "outputs": [
    {
     "name": "stdout",
     "output_type": "stream",
     "text": [
      "QDA: [0.85912796 0.48288606 0.64879602 0.72349269]\n"
     ]
    }
   ],
   "source": [
    "### Quadratic Discriminant Analysis\n",
    "clf = QuadraticDiscriminantAnalysis()\n",
    "f1_scores = get_f1_score_by_method(clf, _input, label, _bands)\n",
    "print(\"QDA:\", np.mean(f1_scores, axis=0))"
   ]
  },
  {
   "cell_type": "code",
   "execution_count": 57,
   "id": "76e81f0c",
   "metadata": {},
   "outputs": [],
   "source": [
    "def process_modes_bands(_input, label, _bands):\n",
    "    qda = QuadraticDiscriminantAnalysis()\n",
    "    gnb = GaussianNB()\n",
    "    knc = KNeighborsClassifier(n_neighbors=3)\n",
    "    abc = AdaBoostClassifier(n_estimators=100, random_state=46)\n",
    "    #gpc = GaussianProcessClassifier(kernel=(1.0 * RBF(1.0)), random_state=46)\n",
    "    rfc = RandomForestClassifier(max_depth=19, n_estimators=150)\n",
    "    dtc = DecisionTreeClassifier(criterion='entropy', max_depth=17)\n",
    "    svc = SVC(C=10000.0, class_weight='balanced', gamma=0.001, kernel='linear',probability=True)\n",
    "    # \"Gaussian process classification\",\n",
    "    model_name = [\"SVC\",\"DecisionTreeClassifier\",\"RandomForestClassifier\",\"AdaBoostClassifier\",\"KNeighborsClassifier\",\"Gaussian Naive Bayes\",\"Quadratic Discriminant Analysis\"]\n",
    "    #model = [svc,dtc,rfc,gpc,abc,knc,gnb,qda]\n",
    "    model = [svc,dtc,rfc,abc,knc,gnb,qda]\n",
    "    \n",
    "    for name, clf in zip(model_name, model):\n",
    "        f1_scores = get_f1_score_by_method(clf, _input, label, _bands)\n",
    "        print(name, np.mean(f1_scores, axis=0), np.mean(f1_scores))"
   ]
  },
  {
   "cell_type": "code",
   "execution_count": 58,
   "id": "a4847419",
   "metadata": {},
   "outputs": [
    {
     "name": "stdout",
     "output_type": "stream",
     "text": [
      "SVC [0.83209549 0.39793824 0.59215063 0.71194415] 0.6335321279265141\n",
      "DecisionTreeClassifier [0.74742072 0.69955222 0.94448609 0.79460801] 0.7965167619728803\n",
      "RandomForestClassifier [0.81150999 0.76564679 0.97171395 0.83935878] 0.8470573799433302\n",
      "AdaBoostClassifier [0.59782944 0.40536198 0.622479   0.57312736] 0.5496994424560316\n",
      "KNeighborsClassifier [0.71752605 0.63895369 0.9133929  0.73739444] 0.7518167687980606\n",
      "Gaussian Naive Bayes [0.46461791 0.04060836 0.42435429 0.52288325] 0.36311595329074803\n",
      "Quadratic Discriminant Analysis [0.85912796 0.48288606 0.64879602 0.72349269] 0.6785756816897168\n"
     ]
    }
   ],
   "source": [
    "process_modes_bands(_input, label, _bands)"
   ]
  },
  {
   "cell_type": "code",
   "execution_count": 59,
   "id": "f99ef37e",
   "metadata": {},
   "outputs": [
    {
     "data": {
      "text/plain": [
       "['737.4', '811.3', '762.1', '706.6', '774.4', '803.1']"
      ]
     },
     "execution_count": 59,
     "metadata": {},
     "output_type": "execute_result"
    }
   ],
   "source": [
    "_bands"
   ]
  },
  {
   "cell_type": "markdown",
   "id": "070ef232",
   "metadata": {},
   "source": [
    "#### SC 1-15"
   ]
  },
  {
   "cell_type": "code",
   "execution_count": 54,
   "id": "27d16fec",
   "metadata": {},
   "outputs": [],
   "source": [
    "def read_data(file_name, sheet_name):\n",
    "    full_data = pd.read_excel(file_name, sheet_name= sheet_name)\n",
    "\n",
    "    str_cols = full_data.columns.astype(str)\n",
    "    full_data.columns = str_cols\n",
    "    cols = str_cols.tolist()\n",
    "    cols = cols[1:]\n",
    "\n",
    "    _input = full_data[cols]\n",
    "    label = full_data['label'].tolist()\n",
    "    label = np.asarray(label).reshape(-1,)\n",
    "    \n",
    "    return _input, label"
   ]
  },
  {
   "cell_type": "code",
   "execution_count": 55,
   "id": "33461e60",
   "metadata": {},
   "outputs": [],
   "source": [
    "_input, label = read_data('An-3 classis.xlsx', 'H vs. Sc 1-15')"
   ]
  },
  {
   "cell_type": "code",
   "execution_count": 56,
   "id": "b6fe0850",
   "metadata": {},
   "outputs": [],
   "source": [
    "bands = output + 'H vs. Sc 1-15selected_bands.pkl'\n",
    "f1_scores = output + 'H vs. Sc 1-15selected_bands_f1_scores.pkl'"
   ]
  },
  {
   "cell_type": "code",
   "execution_count": 57,
   "id": "10793257",
   "metadata": {},
   "outputs": [
    {
     "name": "stdout",
     "output_type": "stream",
     "text": [
      "['402.8', '411', '764.1', '772.3', '737.4', '706.6', '753.8', '811.3', '796.9', '673.8']\n"
     ]
    }
   ],
   "source": [
    "_bands = pickle.load(open(bands,'rb'))\n",
    "print(_bands)"
   ]
  },
  {
   "cell_type": "code",
   "execution_count": 14,
   "id": "141776f5",
   "metadata": {},
   "outputs": [
    {
     "data": {
      "text/plain": [
       "array([0.89903147, 0.91276079])"
      ]
     },
     "execution_count": 14,
     "metadata": {},
     "output_type": "execute_result"
    }
   ],
   "source": [
    "_f1_score = pickle.load(open(f1_scores, 'rb'))\n",
    "np.mean(_f1_score, axis=0)"
   ]
  },
  {
   "cell_type": "code",
   "execution_count": 15,
   "id": "269b3d51",
   "metadata": {},
   "outputs": [],
   "source": [
    "bands = output + 'H vs. Sc 1-156_bands.pkl'\n",
    "f1_scores = output + 'H vs. Sc 1-156_bands_f1_scores.pkl'"
   ]
  },
  {
   "cell_type": "code",
   "execution_count": 16,
   "id": "b3da5435",
   "metadata": {},
   "outputs": [
    {
     "name": "stdout",
     "output_type": "stream",
     "text": [
      "{'737.4', '772.3', '764.1', '811.3', '706.6', '411'}\n"
     ]
    }
   ],
   "source": [
    "_bands = pickle.load(open(bands,'rb'))\n",
    "print(_bands)"
   ]
  },
  {
   "cell_type": "code",
   "execution_count": 17,
   "id": "e4d78a77",
   "metadata": {},
   "outputs": [
    {
     "data": {
      "text/plain": [
       "array([0.88852156, 0.90178046])"
      ]
     },
     "execution_count": 17,
     "metadata": {},
     "output_type": "execute_result"
    }
   ],
   "source": [
    "_f1_score = pickle.load(open(f1_scores, 'rb'))\n",
    "np.mean(_f1_score, axis=0)"
   ]
  },
  {
   "cell_type": "code",
   "execution_count": 58,
   "id": "03dc4066",
   "metadata": {},
   "outputs": [
    {
     "name": "stdout",
     "output_type": "stream",
     "text": [
      "SVC [0.88028741 0.88653552]\n",
      "DecisionTreeClassifier [0.78187605 0.80921124]\n",
      "RandomForestClassifier [0.83625664 0.86013436]\n"
     ]
    },
    {
     "name": "stderr",
     "output_type": "stream",
     "text": [
      "E:\\anaconda3\\envs\\hsi\\lib\\site-packages\\sklearn\\gaussian_process\\kernels.py:437: ConvergenceWarning: The optimal value found for dimension 0 of parameter k1__constant_value is close to the specified upper bound 100000.0. Increasing the bound and calling fit again may find a better value.\n",
      "  ConvergenceWarning,\n"
     ]
    },
    {
     "name": "stdout",
     "output_type": "stream",
     "text": [
      "Gaussian process classification [0.90995623 0.91904795]\n",
      "AdaBoostClassifier [0.79251756 0.81745988]\n",
      "KNeighborsClassifier [0.78588791 0.81567431]\n",
      "Gaussian Naive Bayes [0.64063319 0.63631196]\n",
      "Quadratic Discriminant Analysis [0.90016909 0.9022809 ]\n"
     ]
    }
   ],
   "source": [
    "process_modes_bands(_input, label, _bands)"
   ]
  },
  {
   "cell_type": "markdown",
   "id": "4083ef8a",
   "metadata": {},
   "source": [
    "#### SC 16-49"
   ]
  },
  {
   "cell_type": "code",
   "execution_count": 59,
   "id": "434ad1b1",
   "metadata": {},
   "outputs": [],
   "source": [
    "_input, label = read_data('An-3 classis.xlsx', 'H vs. Sc 16-49')"
   ]
  },
  {
   "cell_type": "code",
   "execution_count": 60,
   "id": "21b01490",
   "metadata": {},
   "outputs": [],
   "source": [
    "bands = output + 'H vs. Sc 16-49selected_bands.pkl'\n",
    "f1_scores = output + 'H vs. Sc 16-49selected_bands_f1_scores.pkl'"
   ]
  },
  {
   "cell_type": "code",
   "execution_count": 61,
   "id": "827fa2fa",
   "metadata": {},
   "outputs": [
    {
     "name": "stdout",
     "output_type": "stream",
     "text": [
      "['708.7', '762.1', '731.3', '879.1', '827.7', '406.9', '749.7', '794.9', '831.8', '513.7']\n"
     ]
    }
   ],
   "source": [
    "_bands = pickle.load(open(bands,'rb'))\n",
    "print(_bands)"
   ]
  },
  {
   "cell_type": "code",
   "execution_count": 62,
   "id": "53a2347d",
   "metadata": {},
   "outputs": [
    {
     "name": "stdout",
     "output_type": "stream",
     "text": [
      "SVC [0.91461394 0.91330157]\n",
      "DecisionTreeClassifier [0.81159458 0.81723326]\n",
      "RandomForestClassifier [0.86548717 0.86740369]\n"
     ]
    },
    {
     "name": "stderr",
     "output_type": "stream",
     "text": [
      "E:\\anaconda3\\envs\\hsi\\lib\\site-packages\\sklearn\\gaussian_process\\_gpc.py:472: ConvergenceWarning: lbfgs failed to converge (status=2):\n",
      "ABNORMAL_TERMINATION_IN_LNSRCH.\n",
      "\n",
      "Increase the number of iterations (max_iter) or scale the data as shown in:\n",
      "    https://scikit-learn.org/stable/modules/preprocessing.html\n",
      "  _check_optimize_result(\"lbfgs\", opt_res)\n"
     ]
    },
    {
     "name": "stdout",
     "output_type": "stream",
     "text": [
      "Gaussian process classification [0.9312678  0.93156288]\n",
      "AdaBoostClassifier [0.84862771 0.847201  ]\n",
      "KNeighborsClassifier [0.83109108 0.83073499]\n",
      "Gaussian Naive Bayes [0.6540953  0.64667713]\n",
      "Quadratic Discriminant Analysis [0.94264184 0.94042401]\n"
     ]
    }
   ],
   "source": [
    "process_modes_bands(_input, label, _bands)"
   ]
  },
  {
   "cell_type": "code",
   "execution_count": null,
   "id": "f427a14d",
   "metadata": {},
   "outputs": [],
   "source": [
    "_f1_score = pickle.load(open(f1_scores, 'rb'))\n",
    "np.mean(_f1_score, axis=0)"
   ]
  },
  {
   "cell_type": "code",
   "execution_count": null,
   "id": "42c98627",
   "metadata": {},
   "outputs": [],
   "source": [
    "bands = output + 'H vs. Sc 16-496_bands.pkl'\n",
    "f1_scores = output + 'H vs. Sc 16-496_bands_f1_scores.pkl'"
   ]
  },
  {
   "cell_type": "code",
   "execution_count": null,
   "id": "bb10d92a",
   "metadata": {},
   "outputs": [],
   "source": [
    "_bands = pickle.load(open(bands,'rb'))\n",
    "print(_bands)"
   ]
  },
  {
   "cell_type": "code",
   "execution_count": null,
   "id": "b913f239",
   "metadata": {},
   "outputs": [],
   "source": [
    "_f1_score = pickle.load(open(f1_scores, 'rb'))\n",
    "np.mean(_f1_score, axis=0)"
   ]
  },
  {
   "cell_type": "markdown",
   "id": "69159695",
   "metadata": {},
   "source": [
    "#### SC 50-70"
   ]
  },
  {
   "cell_type": "code",
   "execution_count": 63,
   "id": "75cffb5d",
   "metadata": {},
   "outputs": [],
   "source": [
    "_input, label = read_data('An-3 classis.xlsx','H vs. 50-70')"
   ]
  },
  {
   "cell_type": "code",
   "execution_count": 64,
   "id": "3bb3ac33",
   "metadata": {},
   "outputs": [],
   "source": [
    "bands = output + 'H vs. 50-70selected_bands.pkl'\n",
    "f1_scores = output + 'H vs. 50-70selected_bands_f1_scores.pkl'"
   ]
  },
  {
   "cell_type": "code",
   "execution_count": 65,
   "id": "b2b9e7c0",
   "metadata": {},
   "outputs": [
    {
     "name": "stdout",
     "output_type": "stream",
     "text": [
      "['692.3', '768.2', '706.6', '770.3', '671.7', '468.5', '694.3', '435.7']\n"
     ]
    }
   ],
   "source": [
    "_bands = pickle.load(open(bands,'rb'))\n",
    "print(_bands)"
   ]
  },
  {
   "cell_type": "code",
   "execution_count": 66,
   "id": "a5d02b6f",
   "metadata": {},
   "outputs": [
    {
     "name": "stdout",
     "output_type": "stream",
     "text": [
      "SVC [0.93482319 0.92217835]\n",
      "DecisionTreeClassifier [0.92942643 0.91875578]\n",
      "RandomForestClassifier [0.9423268  0.93257181]\n"
     ]
    },
    {
     "name": "stderr",
     "output_type": "stream",
     "text": [
      "E:\\anaconda3\\envs\\hsi\\lib\\site-packages\\sklearn\\gaussian_process\\kernels.py:437: ConvergenceWarning: The optimal value found for dimension 0 of parameter k1__constant_value is close to the specified upper bound 100000.0. Increasing the bound and calling fit again may find a better value.\n",
      "  ConvergenceWarning,\n",
      "E:\\anaconda3\\envs\\hsi\\lib\\site-packages\\sklearn\\gaussian_process\\kernels.py:437: ConvergenceWarning: The optimal value found for dimension 0 of parameter k1__constant_value is close to the specified upper bound 100000.0. Increasing the bound and calling fit again may find a better value.\n",
      "  ConvergenceWarning,\n",
      "E:\\anaconda3\\envs\\hsi\\lib\\site-packages\\sklearn\\gaussian_process\\kernels.py:437: ConvergenceWarning: The optimal value found for dimension 0 of parameter k1__constant_value is close to the specified upper bound 100000.0. Increasing the bound and calling fit again may find a better value.\n",
      "  ConvergenceWarning,\n",
      "E:\\anaconda3\\envs\\hsi\\lib\\site-packages\\sklearn\\gaussian_process\\kernels.py:437: ConvergenceWarning: The optimal value found for dimension 0 of parameter k1__constant_value is close to the specified upper bound 100000.0. Increasing the bound and calling fit again may find a better value.\n",
      "  ConvergenceWarning,\n",
      "E:\\anaconda3\\envs\\hsi\\lib\\site-packages\\sklearn\\gaussian_process\\kernels.py:437: ConvergenceWarning: The optimal value found for dimension 0 of parameter k1__constant_value is close to the specified upper bound 100000.0. Increasing the bound and calling fit again may find a better value.\n",
      "  ConvergenceWarning,\n",
      "E:\\anaconda3\\envs\\hsi\\lib\\site-packages\\sklearn\\gaussian_process\\kernels.py:437: ConvergenceWarning: The optimal value found for dimension 0 of parameter k1__constant_value is close to the specified upper bound 100000.0. Increasing the bound and calling fit again may find a better value.\n",
      "  ConvergenceWarning,\n",
      "E:\\anaconda3\\envs\\hsi\\lib\\site-packages\\sklearn\\gaussian_process\\kernels.py:437: ConvergenceWarning: The optimal value found for dimension 0 of parameter k1__constant_value is close to the specified upper bound 100000.0. Increasing the bound and calling fit again may find a better value.\n",
      "  ConvergenceWarning,\n",
      "E:\\anaconda3\\envs\\hsi\\lib\\site-packages\\sklearn\\gaussian_process\\kernels.py:437: ConvergenceWarning: The optimal value found for dimension 0 of parameter k1__constant_value is close to the specified upper bound 100000.0. Increasing the bound and calling fit again may find a better value.\n",
      "  ConvergenceWarning,\n",
      "E:\\anaconda3\\envs\\hsi\\lib\\site-packages\\sklearn\\gaussian_process\\kernels.py:437: ConvergenceWarning: The optimal value found for dimension 0 of parameter k1__constant_value is close to the specified upper bound 100000.0. Increasing the bound and calling fit again may find a better value.\n",
      "  ConvergenceWarning,\n",
      "E:\\anaconda3\\envs\\hsi\\lib\\site-packages\\sklearn\\gaussian_process\\kernels.py:437: ConvergenceWarning: The optimal value found for dimension 0 of parameter k1__constant_value is close to the specified upper bound 100000.0. Increasing the bound and calling fit again may find a better value.\n",
      "  ConvergenceWarning,\n",
      "E:\\anaconda3\\envs\\hsi\\lib\\site-packages\\sklearn\\gaussian_process\\kernels.py:437: ConvergenceWarning: The optimal value found for dimension 0 of parameter k1__constant_value is close to the specified upper bound 100000.0. Increasing the bound and calling fit again may find a better value.\n",
      "  ConvergenceWarning,\n",
      "E:\\anaconda3\\envs\\hsi\\lib\\site-packages\\sklearn\\gaussian_process\\kernels.py:437: ConvergenceWarning: The optimal value found for dimension 0 of parameter k1__constant_value is close to the specified upper bound 100000.0. Increasing the bound and calling fit again may find a better value.\n",
      "  ConvergenceWarning,\n",
      "E:\\anaconda3\\envs\\hsi\\lib\\site-packages\\sklearn\\gaussian_process\\kernels.py:437: ConvergenceWarning: The optimal value found for dimension 0 of parameter k1__constant_value is close to the specified upper bound 100000.0. Increasing the bound and calling fit again may find a better value.\n",
      "  ConvergenceWarning,\n",
      "E:\\anaconda3\\envs\\hsi\\lib\\site-packages\\sklearn\\gaussian_process\\kernels.py:437: ConvergenceWarning: The optimal value found for dimension 0 of parameter k1__constant_value is close to the specified upper bound 100000.0. Increasing the bound and calling fit again may find a better value.\n",
      "  ConvergenceWarning,\n",
      "E:\\anaconda3\\envs\\hsi\\lib\\site-packages\\sklearn\\gaussian_process\\kernels.py:437: ConvergenceWarning: The optimal value found for dimension 0 of parameter k1__constant_value is close to the specified upper bound 100000.0. Increasing the bound and calling fit again may find a better value.\n",
      "  ConvergenceWarning,\n",
      "E:\\anaconda3\\envs\\hsi\\lib\\site-packages\\sklearn\\gaussian_process\\kernels.py:437: ConvergenceWarning: The optimal value found for dimension 0 of parameter k1__constant_value is close to the specified upper bound 100000.0. Increasing the bound and calling fit again may find a better value.\n",
      "  ConvergenceWarning,\n"
     ]
    },
    {
     "name": "stdout",
     "output_type": "stream",
     "text": [
      "Gaussian process classification [0.96111035 0.95261082]\n",
      "AdaBoostClassifier [0.92659921 0.91211907]\n",
      "KNeighborsClassifier [0.90122686 0.88319416]\n",
      "Gaussian Naive Bayes [0.82749324 0.75708855]\n",
      "Quadratic Discriminant Analysis [0.9619865  0.95317987]\n"
     ]
    }
   ],
   "source": [
    "process_modes_bands(_input, label, _bands)"
   ]
  },
  {
   "cell_type": "code",
   "execution_count": null,
   "id": "3aea2365",
   "metadata": {},
   "outputs": [],
   "source": [
    "_f1_score = pickle.load(open(f1_scores, 'rb'))\n",
    "np.mean(_f1_score, axis=0)"
   ]
  },
  {
   "cell_type": "code",
   "execution_count": null,
   "id": "5e06dedf",
   "metadata": {},
   "outputs": [],
   "source": [
    "bands = output + 'H vs. 50-706_bands.pkl'\n",
    "f1_scores = output + 'H vs. 50-706_bands_f1_scores.pkl'"
   ]
  },
  {
   "cell_type": "code",
   "execution_count": null,
   "id": "f5b6569a",
   "metadata": {},
   "outputs": [],
   "source": [
    "_bands = pickle.load(open(bands,'rb'))\n",
    "print(_bands)"
   ]
  },
  {
   "cell_type": "code",
   "execution_count": null,
   "id": "f35904db",
   "metadata": {},
   "outputs": [],
   "source": [
    "_f1_score = pickle.load(open(f1_scores, 'rb'))\n",
    "np.mean(_f1_score, axis=0)"
   ]
  },
  {
   "cell_type": "markdown",
   "id": "b839670d",
   "metadata": {},
   "source": [
    "# For Veg Index"
   ]
  },
  {
   "cell_type": "code",
   "execution_count": 90,
   "id": "f7195452",
   "metadata": {},
   "outputs": [],
   "source": [
    "file_name = 'Adjusted categorization - 1-5,16-30, 35-70.xlsx'\n",
    "sheet_name = 'spss Veg class1'\n",
    "#sheet_list = ['Multi classes', 'Veg H vs. Vge Class 1','Vge H vs. Vege Class 2','Vege H vs. Class 3']"
   ]
  },
  {
   "cell_type": "code",
   "execution_count": 91,
   "id": "06a4fb2a",
   "metadata": {},
   "outputs": [],
   "source": [
    "def process_data(file_name, sheet_name):\n",
    "    full_data = pd.read_excel(file_name, sheet_name= sheet_name)\n",
    "\n",
    "    str_cols = full_data.columns.astype(str)\n",
    "    full_data.columns = str_cols\n",
    "    cols = str_cols.tolist()\n",
    "    cols = cols[1:]\n",
    "\n",
    "    _input = full_data[cols]\n",
    "    label = full_data['label'].tolist()\n",
    "    label = np.asarray(label).reshape(-1,)\n",
    "    \n",
    "    return _input, label"
   ]
  },
  {
   "cell_type": "code",
   "execution_count": 101,
   "id": "3b89d714",
   "metadata": {},
   "outputs": [
    {
     "data": {
      "text/html": [
       "<div>\n",
       "<style scoped>\n",
       "    .dataframe tbody tr th:only-of-type {\n",
       "        vertical-align: middle;\n",
       "    }\n",
       "\n",
       "    .dataframe tbody tr th {\n",
       "        vertical-align: top;\n",
       "    }\n",
       "\n",
       "    .dataframe thead th {\n",
       "        text-align: right;\n",
       "    }\n",
       "</style>\n",
       "<table border=\"1\" class=\"dataframe\">\n",
       "  <thead>\n",
       "    <tr style=\"text-align: right;\">\n",
       "      <th></th>\n",
       "      <th>RARSa</th>\n",
       "      <th>RARSb</th>\n",
       "      <th>RARSc</th>\n",
       "      <th>PSSRa</th>\n",
       "      <th>NDVI 780</th>\n",
       "      <th>NDVI 705</th>\n",
       "      <th>GNDVI</th>\n",
       "      <th>PRI</th>\n",
       "      <th>SR860</th>\n",
       "      <th>SIPI (Car/Chl)</th>\n",
       "      <th>...</th>\n",
       "      <th>ARI</th>\n",
       "      <th>Chl green</th>\n",
       "      <th>CI green</th>\n",
       "      <th>CI rededge 710</th>\n",
       "      <th>CVI</th>\n",
       "      <th>BWDRVI</th>\n",
       "      <th>BRI</th>\n",
       "      <th>SIPI</th>\n",
       "      <th>OSAVI</th>\n",
       "      <th>VARI</th>\n",
       "    </tr>\n",
       "  </thead>\n",
       "  <tbody>\n",
       "    <tr>\n",
       "      <th>0</th>\n",
       "      <td>0.610325</td>\n",
       "      <td>13.871020</td>\n",
       "      <td>8.258915</td>\n",
       "      <td>7.904888</td>\n",
       "      <td>0.767869</td>\n",
       "      <td>0.323288</td>\n",
       "      <td>0.605223</td>\n",
       "      <td>-0.060532</td>\n",
       "      <td>8.322325</td>\n",
       "      <td>1.050201</td>\n",
       "      <td>...</td>\n",
       "      <td>-2.185732</td>\n",
       "      <td>0.244561</td>\n",
       "      <td>3.435878</td>\n",
       "      <td>2.016180</td>\n",
       "      <td>2.526708</td>\n",
       "      <td>0.169664</td>\n",
       "      <td>-7.305255</td>\n",
       "      <td>7.208506</td>\n",
       "      <td>0.607903</td>\n",
       "      <td>0.343023</td>\n",
       "    </tr>\n",
       "    <tr>\n",
       "      <th>1</th>\n",
       "      <td>0.599015</td>\n",
       "      <td>13.500460</td>\n",
       "      <td>8.741801</td>\n",
       "      <td>8.495081</td>\n",
       "      <td>0.781127</td>\n",
       "      <td>0.333922</td>\n",
       "      <td>0.618131</td>\n",
       "      <td>-0.063535</td>\n",
       "      <td>8.949747</td>\n",
       "      <td>1.045301</td>\n",
       "      <td>...</td>\n",
       "      <td>-2.299157</td>\n",
       "      <td>0.234162</td>\n",
       "      <td>3.647273</td>\n",
       "      <td>2.122353</td>\n",
       "      <td>2.591657</td>\n",
       "      <td>0.201354</td>\n",
       "      <td>-7.196111</td>\n",
       "      <td>7.677220</td>\n",
       "      <td>0.629819</td>\n",
       "      <td>0.354222</td>\n",
       "    </tr>\n",
       "    <tr>\n",
       "      <th>2</th>\n",
       "      <td>0.586636</td>\n",
       "      <td>13.588985</td>\n",
       "      <td>9.401429</td>\n",
       "      <td>9.512870</td>\n",
       "      <td>0.802686</td>\n",
       "      <td>0.347431</td>\n",
       "      <td>0.636815</td>\n",
       "      <td>-0.059957</td>\n",
       "      <td>9.980626</td>\n",
       "      <td>1.036122</td>\n",
       "      <td>...</td>\n",
       "      <td>-2.777379</td>\n",
       "      <td>0.220493</td>\n",
       "      <td>3.929719</td>\n",
       "      <td>2.364507</td>\n",
       "      <td>2.602739</td>\n",
       "      <td>0.235886</td>\n",
       "      <td>-8.080823</td>\n",
       "      <td>8.236271</td>\n",
       "      <td>0.658623</td>\n",
       "      <td>0.385905</td>\n",
       "    </tr>\n",
       "    <tr>\n",
       "      <th>3</th>\n",
       "      <td>0.614918</td>\n",
       "      <td>13.184357</td>\n",
       "      <td>8.179303</td>\n",
       "      <td>8.144487</td>\n",
       "      <td>0.773471</td>\n",
       "      <td>0.320628</td>\n",
       "      <td>0.611467</td>\n",
       "      <td>-0.059628</td>\n",
       "      <td>8.527250</td>\n",
       "      <td>1.044031</td>\n",
       "      <td>...</td>\n",
       "      <td>-2.364785</td>\n",
       "      <td>0.241035</td>\n",
       "      <td>3.509474</td>\n",
       "      <td>2.102919</td>\n",
       "      <td>2.544925</td>\n",
       "      <td>0.154925</td>\n",
       "      <td>-7.360053</td>\n",
       "      <td>6.833180</td>\n",
       "      <td>0.625231</td>\n",
       "      <td>0.352928</td>\n",
       "    </tr>\n",
       "    <tr>\n",
       "      <th>4</th>\n",
       "      <td>0.721288</td>\n",
       "      <td>14.826070</td>\n",
       "      <td>5.858263</td>\n",
       "      <td>4.817073</td>\n",
       "      <td>0.646843</td>\n",
       "      <td>0.221469</td>\n",
       "      <td>0.549646</td>\n",
       "      <td>-0.063285</td>\n",
       "      <td>5.219948</td>\n",
       "      <td>1.122946</td>\n",
       "      <td>...</td>\n",
       "      <td>0.271181</td>\n",
       "      <td>0.292772</td>\n",
       "      <td>2.740277</td>\n",
       "      <td>1.377069</td>\n",
       "      <td>2.919997</td>\n",
       "      <td>0.021709</td>\n",
       "      <td>1.225954</td>\n",
       "      <td>5.111679</td>\n",
       "      <td>0.475080</td>\n",
       "      <td>0.154166</td>\n",
       "    </tr>\n",
       "  </tbody>\n",
       "</table>\n",
       "<p>5 rows × 33 columns</p>\n",
       "</div>"
      ],
      "text/plain": [
       "      RARSa      RARSb     RARSc     PSSRa  NDVI 780  NDVI 705     GNDVI  \\\n",
       "0  0.610325  13.871020  8.258915  7.904888  0.767869  0.323288  0.605223   \n",
       "1  0.599015  13.500460  8.741801  8.495081  0.781127  0.333922  0.618131   \n",
       "2  0.586636  13.588985  9.401429  9.512870  0.802686  0.347431  0.636815   \n",
       "3  0.614918  13.184357  8.179303  8.144487  0.773471  0.320628  0.611467   \n",
       "4  0.721288  14.826070  5.858263  4.817073  0.646843  0.221469  0.549646   \n",
       "\n",
       "        PRI     SR860  SIPI (Car/Chl)  ...       ARI  Chl green   CI green  \\\n",
       "0 -0.060532  8.322325        1.050201  ... -2.185732    0.244561  3.435878   \n",
       "1 -0.063535  8.949747        1.045301  ... -2.299157    0.234162  3.647273   \n",
       "2 -0.059957  9.980626        1.036122  ... -2.777379    0.220493  3.929719   \n",
       "3 -0.059628  8.527250        1.044031  ... -2.364785    0.241035  3.509474   \n",
       "4 -0.063285  5.219948        1.122946  ...  0.271181    0.292772  2.740277   \n",
       "\n",
       "   CI rededge 710       CVI    BWDRVI       BRI      SIPI     OSAVI      VARI  \n",
       "0        2.016180  2.526708  0.169664 -7.305255  7.208506  0.607903  0.343023  \n",
       "1        2.122353  2.591657  0.201354 -7.196111  7.677220  0.629819  0.354222  \n",
       "2        2.364507  2.602739  0.235886 -8.080823  8.236271  0.658623  0.385905  \n",
       "3        2.102919  2.544925  0.154925 -7.360053  6.833180  0.625231  0.352928  \n",
       "4        1.377069  2.919997  0.021709  1.225954  5.111679  0.475080  0.154166  \n",
       "\n",
       "[5 rows x 33 columns]"
      ]
     },
     "execution_count": 101,
     "metadata": {},
     "output_type": "execute_result"
    }
   ],
   "source": [
    "_input, label = process_data(file_name, sheet_name)\n",
    "_input.head()"
   ]
  },
  {
   "cell_type": "code",
   "execution_count": 95,
   "id": "30c93062",
   "metadata": {},
   "outputs": [
    {
     "data": {
      "text/plain": [
       "array([24, 27, 10,  7, 18, 11,  6, 17, 25,  0,  2, 26, 30,  5, 20, 12, 28,\n",
       "       21,  8,  4,  1, 32, 29, 15,  3, 23, 19, 31, 14, 22,  9, 13, 16],\n",
       "      dtype=int64)"
      ]
     },
     "execution_count": 95,
     "metadata": {},
     "output_type": "execute_result"
    }
   ],
   "source": [
    "etc = ExtraTreesClassifier(n_estimators=600)\n",
    "etc = etc.fit(_input, label)\n",
    "\n",
    "indices = np.argsort(etc.feature_importances_)[::-1]\n",
    "indices"
   ]
  },
  {
   "cell_type": "code",
   "execution_count": 96,
   "id": "0d004133",
   "metadata": {},
   "outputs": [
    {
     "data": {
      "text/plain": [
       "['Chl green ',\n",
       " 'CVI',\n",
       " 'NPQI',\n",
       " 'PRI',\n",
       " 'GNDVI.1',\n",
       " 'NDVI 761',\n",
       " 'GNDVI',\n",
       " 'RVSI',\n",
       " 'CI green',\n",
       " 'RARSa']"
      ]
     },
     "execution_count": 96,
     "metadata": {},
     "output_type": "execute_result"
    }
   ],
   "source": [
    "top_bands = list(_input.columns.values[indices])\n",
    "top_bands[:10]"
   ]
  },
  {
   "cell_type": "code",
   "execution_count": 97,
   "id": "03b8e1f0",
   "metadata": {},
   "outputs": [
    {
     "name": "stdout",
     "output_type": "stream",
     "text": [
      "Start to process bands combanation.....................\n",
      "#######################################################\n",
      "Using 16.31860899925232 sec\n"
     ]
    }
   ],
   "source": [
    "results = get_top_bands_comb(top_bands, _input, label)"
   ]
  },
  {
   "cell_type": "code",
   "execution_count": 99,
   "id": "38898076",
   "metadata": {},
   "outputs": [
    {
     "data": {
      "text/plain": [
       "{'score': 0.8589094485320901,\n",
       " 'bands': ['Chl green ',\n",
       "  'GNDVI.1',\n",
       "  'NDVI 780',\n",
       "  'RDVI',\n",
       "  'TVI',\n",
       "  'RVSI',\n",
       "  'PRI',\n",
       "  'SR860',\n",
       "  'PSSRa',\n",
       "  'MCAR 1',\n",
       "  'RARSc',\n",
       "  'SIPI',\n",
       "  'VARI',\n",
       "  'ARI']}"
      ]
     },
     "execution_count": 99,
     "metadata": {},
     "output_type": "execute_result"
    }
   ],
   "source": [
    "results[-1]"
   ]
  },
  {
   "cell_type": "code",
   "execution_count": 103,
   "id": "efdd7eb5",
   "metadata": {},
   "outputs": [
    {
     "data": {
      "text/plain": [
       "(1483, 7)"
      ]
     },
     "execution_count": 103,
     "metadata": {},
     "output_type": "execute_result"
    }
   ],
   "source": [
    "# f_classif\n",
    "clf = SelectKBest(f_classif, k=7)\n",
    "X_new = clf.fit_transform(_input, label)\n",
    "X_new.shape"
   ]
  },
  {
   "cell_type": "code",
   "execution_count": 105,
   "id": "06450e78",
   "metadata": {},
   "outputs": [
    {
     "data": {
      "text/plain": [
       "array([24, 25,  6, 18, 27, 30,  2, 11, 28, 26, 20,  8,  3, 12,  4, 31, 15,\n",
       "       10, 17, 14,  9, 13, 22, 16, 23,  5, 32, 29,  0,  1,  7, 21, 19],\n",
       "      dtype=int64)"
      ]
     },
     "execution_count": 105,
     "metadata": {},
     "output_type": "execute_result"
    }
   ],
   "source": [
    "indices = np.argsort(clf.scores_)[::-1]\n",
    "indices"
   ]
  },
  {
   "cell_type": "code",
   "execution_count": 106,
   "id": "91f3f005",
   "metadata": {},
   "outputs": [
    {
     "data": {
      "text/plain": [
       "['Chl green ',\n",
       " 'CI green',\n",
       " 'GNDVI',\n",
       " 'GNDVI.1',\n",
       " 'CVI',\n",
       " 'SIPI',\n",
       " 'RARSc',\n",
       " 'NDVI 761',\n",
       " 'BWDRVI',\n",
       " 'CI rededge 710']"
      ]
     },
     "execution_count": 106,
     "metadata": {},
     "output_type": "execute_result"
    }
   ],
   "source": [
    "top_bands = list(_input.columns.values[indices])\n",
    "top_bands[:10]"
   ]
  },
  {
   "cell_type": "markdown",
   "id": "db96fb47",
   "metadata": {},
   "source": [
    "### All best bands "
   ]
  },
  {
   "cell_type": "code",
   "execution_count": 107,
   "id": "26cc1cae",
   "metadata": {},
   "outputs": [],
   "source": [
    "xl = pd.ExcelFile('Adjusted categorization - 1-5,16-30, 35-70.xlsx')\n",
    "name_list = xl.sheet_names\n",
    "name_list.remove('All categories')\n",
    "name_list.remove('VEG index')"
   ]
  },
  {
   "cell_type": "code",
   "execution_count": 109,
   "id": "8db8679f",
   "metadata": {},
   "outputs": [
    {
     "name": "stdout",
     "output_type": "stream",
     "text": [
      "['H vs. 1-15', 'H vs. Sc35-70', 'H vs. Sc 16-34', 'Multiclasses', 'spss Veg class1', 'Spss veg class 2', 'Spss veg class 3', 'SPSS multi VEG adjusted']\n"
     ]
    }
   ],
   "source": [
    "print(name_list)"
   ]
  },
  {
   "cell_type": "code",
   "execution_count": 7,
   "id": "0a450e72",
   "metadata": {},
   "outputs": [
    {
     "name": "stdout",
     "output_type": "stream",
     "text": [
      "H vs. 1-15\n",
      "['402.8', '411', '764.1', '739.5', '721', '774.4', '811.3', '690.2', '682']\n",
      "[0.8849232  0.90458042]\n",
      "\n",
      "H vs. Sc35-70\n",
      "['760', '714.8', '710.7', '772.3', '782.6', '780.5', '860.6', '776.4']\n",
      "[0.9449225  0.91598973]\n",
      "\n",
      "H vs. Sc 16-34\n",
      "['762.1', '749.7', '404.9', '421.3', '409', '415.1']\n",
      "[0.99808934 0.99883251]\n",
      "\n",
      "Multiclasses\n",
      "['402.8', '760', '725.1', '716.9', '411', '817.5', '766.2', '419.2', '809.3', '692.3', '622.5', '497.2', '677.9', '445.9', '509.6', '612.2', '663.5', '431.6', '456.2', '755.9', '706.6', '647.1']\n",
      "[0.82095407 0.79283137 0.9985118  0.88146318]\n",
      "\n",
      "spss Veg class1\n",
      "['Chl green ', 'GNDVI.1', 'NDVI 761', 'PRI', 'NPQI', 'RVSI', 'SIPI', 'CVI', 'RARSc', 'CI green', 'GNDVI']\n",
      "[0.82014097 0.83249737]\n",
      "\n",
      "Spss veg class 2\n",
      "['RVSI', 'Chl green ', 'GNDVI.1', 'NDVI 705', 'SIPI', 'RARSa']\n",
      "[0.99663192 0.99679701]\n",
      "\n",
      "Spss veg class 3\n",
      "['CI rededge 710', 'RVSI', 'OSAVI', 'PSSRa', 'NDVI 780', 'NDVI 761']\n",
      "[0.90655784 0.89639186]\n",
      "\n",
      "SPSS multi VEG adjusted\n",
      "['PRI', 'SIPI', 'RARSa', 'NDVI 761', 'ND 750/705', 'CI green', 'RVSI', 'BWDRVI', 'GNDVI', 'CI rededge 710', 'Chl green ', 'NPQI', 'NDVI 705']\n",
      "[0.76879985 0.7670133  0.99932904 0.86786238]\n",
      "\n"
     ]
    }
   ],
   "source": [
    "output = './output/'\n",
    "#name_list = ['Multi classes', 'Veg H vs. Vge Class 1','Vge H vs. Vege Class 2','Vege H vs. Class 3']\n",
    "for item in name_list:\n",
    "    bands_file = output + item  + '_selected_bands.pkl'\n",
    "    f1_score_file = output + item + '_selected_bands_f1_scores.pkl'\n",
    "    \n",
    "    _bands = pickle.load(open(bands_file,'rb'))\n",
    "    print(item )\n",
    "    print(_bands)\n",
    "    _f1_score = pickle.load(open(f1_score_file, 'rb'))\n",
    "    print(np.mean(_f1_score, axis=0))\n",
    "    print()\n",
    "\n"
   ]
  },
  {
   "cell_type": "code",
   "execution_count": 107,
   "id": "78172182",
   "metadata": {},
   "outputs": [],
   "source": [
    "sheet_list = ['Vge H vs. Vege Class 2','Vege H vs. Class 3']"
   ]
  },
  {
   "cell_type": "code",
   "execution_count": 110,
   "id": "f5164717",
   "metadata": {},
   "outputs": [
    {
     "name": "stdout",
     "output_type": "stream",
     "text": [
      "Vge H vs. Vege Class 2\n",
      "SVC [0.88360031 0.882842  ]\n",
      "DecisionTreeClassifier [0.82968289 0.83396414]\n",
      "RandomForestClassifier [0.88174489 0.88608906]\n",
      "Gaussian process classification [0.85147831 0.85382488]\n",
      "AdaBoostClassifier [0.68030552 0.67504457]\n",
      "KNeighborsClassifier [0.73675255 0.77463632]\n",
      "Gaussian Naive Bayes [0.87516374 0.88193785]\n",
      "Vege H vs. Class 3\n",
      "SVC [0.94874364 0.93712706]\n",
      "DecisionTreeClassifier [0.93400072 0.92362788]\n",
      "RandomForestClassifier [0.94962715 0.94061897]\n",
      "Gaussian process classification [0.92667875 0.91294971]\n",
      "AdaBoostClassifier [0.86930091 0.84461178]\n",
      "KNeighborsClassifier [0.85241368 0.82916879]\n",
      "Gaussian Naive Bayes [0.95455369 0.94584924]\n"
     ]
    }
   ],
   "source": [
    "for sheet_name in sheet_list:\n",
    "    bands_file = output + item  + '_selected_veg_index.pkl'\n",
    "    _bands = pickle.load(open(bands_file,'rb'))\n",
    "    print(sheet_name)\n",
    "    _input, label = process_data(file_name, sheet_name)\n",
    "    process_modes_bands(_input, label, _bands)"
   ]
  },
  {
   "cell_type": "markdown",
   "id": "2169a071",
   "metadata": {},
   "source": [
    "### Best Six bands"
   ]
  },
  {
   "cell_type": "code",
   "execution_count": 9,
   "id": "2f659d5b",
   "metadata": {},
   "outputs": [
    {
     "name": "stdout",
     "output_type": "stream",
     "text": [
      "Results for Best Six bands\n",
      "H vs. 1-15\n",
      "{'811.3', '690.2', '764.1', '774.4', '739.5', '682'}\n",
      "[0.89561886 0.90667285]\n",
      "\n",
      "H vs. Sc35-70\n",
      "{'860.6', '714.8', '776.4', '710.7', '760', '782.6'}\n",
      "[0.95128086 0.931072  ]\n",
      "\n",
      "Multiclasses\n",
      "{'817.5', '612.2', '760', '725.1', '497.2', '706.6'}\n",
      "[0.79590929 0.77454589 0.99354534 0.86524802]\n",
      "\n",
      "spss Veg class1\n",
      "{'GNDVI.1', 'PRI', 'RARSc', 'Chl green ', 'SIPI', 'RVSI'}\n",
      "[0.81756291 0.83973332]\n",
      "\n",
      "SPSS multi VEG adjusted\n",
      "{'GNDVI', 'PRI', 'Chl green ', 'NPQI', 'RVSI', 'BWDRVI'}\n",
      "[0.77670529 0.7654231  0.99685447 0.85711111]\n",
      "\n"
     ]
    }
   ],
   "source": [
    "output = './output/'\n",
    "#name_list = ['Multi classes', 'Veg H vs. Vge Class 1','Vge H vs. Vege Class 2','Vege H vs. Class 3']\n",
    "print(\"Results for Best Six bands\")\n",
    "for item in name_list:\n",
    "    bands_6_file = output + item  + '_6_bands.pkl'\n",
    "    f1_score_6_file = output + item + '_6_bands_f1_scores.pkl'\n",
    "    if not os.path.isfile(bands_6_file):\n",
    "        continue\n",
    "    \n",
    "    _bands = pickle.load(open(bands_6_file,'rb'))\n",
    "    print(item )\n",
    "    print(_bands)\n",
    "    _f1_score = pickle.load(open(f1_score_6_file, 'rb'))\n",
    "    print(np.mean(_f1_score, axis=0))\n",
    "    print()"
   ]
  },
  {
   "cell_type": "code",
   "execution_count": 98,
   "id": "6b8ed96b",
   "metadata": {},
   "outputs": [
    {
     "data": {
      "text/plain": [
       "{'score': 0.8589094485320901,\n",
       " 'bands': ['Chl green ',\n",
       "  'GNDVI.1',\n",
       "  'NDVI 780',\n",
       "  'RDVI',\n",
       "  'TVI',\n",
       "  'RVSI',\n",
       "  'PRI',\n",
       "  'SR860',\n",
       "  'PSSRa',\n",
       "  'MCAR 1',\n",
       "  'RARSc',\n",
       "  'SIPI',\n",
       "  'VARI',\n",
       "  'ARI']}"
      ]
     },
     "execution_count": 98,
     "metadata": {},
     "output_type": "execute_result"
    }
   ],
   "source": [
    "results[-1]"
   ]
  },
  {
   "cell_type": "markdown",
   "id": "80865503",
   "metadata": {},
   "source": [
    "## To get each method F1 score base on selected bands"
   ]
  },
  {
   "cell_type": "code",
   "execution_count": 15,
   "id": "3102b063",
   "metadata": {},
   "outputs": [],
   "source": [
    "file_name = 'Adjusted categorization - 1-5,16-30, 35-70.xlsx'\n",
    "xl = pd.ExcelFile(file_name)\n",
    "name_list = xl.sheet_names\n",
    "name_list.remove('All categories')\n",
    "name_list.remove('VEG index')"
   ]
  },
  {
   "cell_type": "code",
   "execution_count": 111,
   "id": "b7850ef9",
   "metadata": {},
   "outputs": [],
   "source": [
    "estimators = [\n",
    "    ('RandomForestClassifier', RandomForestClassifier(n_estimators=10, random_state=42)),\n",
    "    ('SVC', SVC(kernel = 'rbf')),\n",
    "    ('KNeighborsClassifier',KNeighborsClassifier(n_neighbors=3)),\n",
    "    ('GaussianNB',GaussianNB()),\n",
    "    ('QuadraticDiscriminantAnalysis',QuadraticDiscriminantAnalysis()),\n",
    "    ('DecisionTreeClassifier',DecisionTreeClassifier())\n",
    "]"
   ]
  },
  {
   "cell_type": "code",
   "execution_count": 131,
   "id": "aee499c7",
   "metadata": {},
   "outputs": [],
   "source": [
    "def get_scores_bands(X, y,sheet_name,estimators):\n",
    "\n",
    "    #print(\"#######################################################\")\n",
    "    t1 = time()\n",
    "    rkf = RepeatedKFold(n_splits=4, n_repeats=4, random_state=2652124)\n",
    "    scores = list()\n",
    "    for item in estimators:\n",
    "        name = item[0]\n",
    "        clf  = item[1]        \n",
    "        f1_scores = []\n",
    "        for train_index, test_index in rkf.split(X):\n",
    "            #print(\"TRAIN:\", train_index, \"TEST:\", test_index)\n",
    "            X_train, X_test = X[train_index], X[test_index]\n",
    "            y_train, y_test = y[train_index], y[test_index]\n",
    "\n",
    "\n",
    "            clf.fit(X_train,y_train)\n",
    "            y_pred = clf.predict(X_test)\n",
    "            _score = f1_score(y_test, y_pred, average=None)\n",
    "            f1_scores.append(_score)\n",
    "\n",
    "        f1_scores = np.asarray(f1_scores)\n",
    "        #print(name, np.mean(f1_scores, axis=0))\n",
    "        #scores.append(np.mean(f1_scores,axis=0))\n",
    "        scores.append(np.mean(f1_scores))\n",
    "        \n",
    "    return name, scores"
   ]
  },
  {
   "cell_type": "code",
   "execution_count": 113,
   "id": "4aeeb92e",
   "metadata": {},
   "outputs": [],
   "source": [
    "def process_data(file_name, sheet_name, estimators):\n",
    "    full_data = pd.read_excel(file_name, sheet_name= sheet_name)\n",
    "\n",
    "    str_cols = full_data.columns.astype(str)\n",
    "    full_data.columns = str_cols\n",
    "    cols = str_cols.tolist()\n",
    "    cols = cols[1:]\n",
    "\n",
    "    _input = full_data[cols]\n",
    "    label = full_data['label'].tolist()\n",
    "    label = np.asarray(label).reshape(-1,)\n",
    "    print(sheet_name)\n",
    "    print(\"Process selected best bands\")\n",
    "    bands_file = output + sheet_name  + '_selected_bands.pkl'\n",
    "    selected_bands = pickle.load(open(bands_file,'rb'))\n",
    "    print('Selected bands: {}'.format(selected_bands))\n",
    "    \n",
    "    X = _input[selected_bands].to_numpy()\n",
    "    y = label\n",
    "    get_scores_bands(X, y,sheet_name,estimators)\n",
    "    \n",
    "    print()\n",
    "\n",
    "    bands_file = output + sheet_name  + '_6_bands.pkl'\n",
    "    if os.path.isfile(bands_file):\n",
    "        print(\"Process best Six bands\")\n",
    "        selected_bands = pickle.load(open(bands_file,'rb'))\n",
    "        print('Best Six bands: {}'.format(selected_bands))\n",
    "\n",
    "        X = _input[selected_bands].to_numpy()\n",
    "        y = label\n",
    "        get_scores_bands(X, y,sheet_name,estimators)"
   ]
  },
  {
   "cell_type": "code",
   "execution_count": 47,
   "id": "12c0812f",
   "metadata": {},
   "outputs": [
    {
     "name": "stdout",
     "output_type": "stream",
     "text": [
      "H vs. 1-15\n",
      "Process selected best bands\n",
      "Selected bands: ['402.8', '411', '764.1', '739.5', '721', '774.4', '811.3', '690.2', '682']\n",
      "RandomForestClassifier [0.80012968 0.81526392]\n",
      "SVC [0.66733554 0.74044267]\n",
      "KNeighborsClassifier [0.77915938 0.81071426]\n",
      "GaussianNB [0.65007013 0.6416217 ]\n",
      "QuadraticDiscriminantAnalysis [0.90211655 0.9027479 ]\n",
      "DecisionTreeClassifier [0.77261219 0.8032632 ]\n",
      "\n",
      "Process best Six bands\n",
      "Best Six bands: {'811.3', '690.2', '764.1', '774.4', '739.5', '682'}\n",
      "RandomForestClassifier [0.78570126 0.80176645]\n",
      "SVC [0.68748326 0.75823745]\n",
      "KNeighborsClassifier [0.7834687  0.81682976]\n",
      "GaussianNB [0.61614021 0.61058405]\n",
      "QuadraticDiscriminantAnalysis [0.90037772 0.90820486]\n",
      "DecisionTreeClassifier [0.78385586 0.81603361]\n",
      "\n",
      "H vs. Sc35-70\n",
      "Process selected best bands\n",
      "Selected bands: ['760', '714.8', '710.7', '772.3', '782.6', '780.5', '860.6', '776.4']\n",
      "RandomForestClassifier [0.90095546 0.8572297 ]\n",
      "SVC [0.87616663 0.80252504]\n",
      "KNeighborsClassifier [0.895184   0.85424521]\n",
      "GaussianNB [0.80644155 0.7336331 ]\n",
      "QuadraticDiscriminantAnalysis [0.95474369 0.93592296]\n",
      "DecisionTreeClassifier [0.87372785 0.82866602]\n",
      "\n",
      "Process best Six bands\n",
      "Best Six bands: {'860.6', '714.8', '776.4', '710.7', '760', '782.6'}\n",
      "RandomForestClassifier [0.90069409 0.8564593 ]\n",
      "SVC [0.87881215 0.80693088]\n",
      "KNeighborsClassifier [0.89927322 0.86062091]\n",
      "GaussianNB [0.81754405 0.74189221]\n",
      "QuadraticDiscriminantAnalysis [0.9561823  0.93730129]\n",
      "DecisionTreeClassifier [0.87409436 0.82898981]\n",
      "\n",
      "H vs. Sc 16-34\n",
      "Process selected best bands\n",
      "Selected bands: ['762.1', '749.7', '404.9', '421.3', '409', '415.1']\n",
      "RandomForestClassifier [0.98180127 0.98967144]\n",
      "SVC [0.6139325  0.85461079]\n",
      "KNeighborsClassifier [0.96178603 0.97894503]\n",
      "GaussianNB [0.53318572 0.77517319]\n",
      "QuadraticDiscriminantAnalysis [0.91924566 0.95696157]\n",
      "DecisionTreeClassifier [0.97049031 0.98359358]\n",
      "\n",
      "\n",
      "Multiclasses\n",
      "Process selected best bands\n",
      "Selected bands: ['402.8', '760', '725.1', '716.9', '411', '817.5', '766.2', '419.2', '809.3', '692.3', '622.5', '497.2', '677.9', '445.9', '509.6', '612.2', '663.5', '431.6', '456.2', '755.9', '706.6', '647.1']\n",
      "RandomForestClassifier [0.72636759 0.72529012 0.97984331 0.85802906]\n",
      "SVC [0.58217945 0.25970882 0.46438344 0.60565832]\n",
      "KNeighborsClassifier [0.66607602 0.6112872  0.9205233  0.76970406]\n",
      "GaussianNB [0.52939181 0.19834506 0.44782221 0.5493619 ]\n",
      "QuadraticDiscriminantAnalysis [0.77812275 0.71954495 0.93444228 0.81996657]\n",
      "DecisionTreeClassifier [0.71196542 0.70759791 0.95258842 0.81639625]\n",
      "\n",
      "Process best Six bands\n",
      "Best Six bands: {'817.5', '612.2', '760', '725.1', '497.2', '706.6'}\n",
      "RandomForestClassifier [0.72566709 0.7081955  0.97009386 0.85386393]\n",
      "SVC [0.60181005 0.29533408 0.43705797 0.60590611]\n",
      "KNeighborsClassifier [0.63210081 0.60573246 0.91126365 0.75932211]\n",
      "GaussianNB [0.5074783  0.16627608 0.41575827 0.54837284]\n",
      "QuadraticDiscriminantAnalysis [0.77045791 0.6172635  0.75100802 0.75121124]\n",
      "DecisionTreeClassifier [0.68856408 0.68514639 0.9555203  0.82632046]\n",
      "\n",
      "spss Veg class1\n",
      "Process selected best bands\n",
      "Selected bands: ['Chl green ', 'GNDVI.1', 'NDVI 761', 'PRI', 'NPQI', 'RVSI', 'SIPI', 'CVI', 'RARSc', 'CI green', 'GNDVI']\n",
      "RandomForestClassifier [0.80545585 0.81819541]\n",
      "SVC [0.62730018 0.68925313]\n",
      "KNeighborsClassifier [0.66577596 0.7264286 ]\n",
      "GaussianNB [0.66864781 0.69409119]\n",
      "QuadraticDiscriminantAnalysis [0.81510552 0.81919929]\n",
      "DecisionTreeClassifier [0.77319165 0.80457303]\n",
      "\n",
      "Process best Six bands\n",
      "Best Six bands: {'GNDVI.1', 'PRI', 'RARSc', 'Chl green ', 'SIPI', 'RVSI'}\n",
      "RandomForestClassifier [0.80544061 0.82147722]\n",
      "SVC [0.58271559 0.66407696]\n",
      "KNeighborsClassifier [0.62114382 0.6738754 ]\n",
      "GaussianNB [0.65617831 0.6917849 ]\n",
      "QuadraticDiscriminantAnalysis [0.8113688  0.79532575]\n",
      "DecisionTreeClassifier [0.7779107  0.80519556]\n",
      "\n",
      "Spss veg class 2\n",
      "Process selected best bands\n",
      "Selected bands: ['RVSI', 'Chl green ', 'GNDVI.1', 'NDVI 705', 'SIPI', 'RARSa']\n",
      "RandomForestClassifier [0.98209354 0.9839323 ]\n",
      "SVC [0.6685651  0.80249152]\n",
      "KNeighborsClassifier [0.92470366 0.93871452]\n",
      "GaussianNB [0.76489118 0.82533036]\n",
      "QuadraticDiscriminantAnalysis [0.92036886 0.92852358]\n",
      "DecisionTreeClassifier [0.97171916 0.97517914]\n",
      "\n",
      "\n",
      "Spss veg class 3\n",
      "Process selected best bands\n",
      "Selected bands: ['CI rededge 710', 'RVSI', 'OSAVI', 'PSSRa', 'NDVI 780', 'NDVI 761']\n",
      "RandomForestClassifier [0.91790551 0.91817865]\n",
      "SVC [0.80897349 0.79300149]\n",
      "KNeighborsClassifier [0.85630455 0.84999412]\n",
      "GaussianNB [0.81468839 0.81245446]\n",
      "QuadraticDiscriminantAnalysis [0.90521065 0.90420853]\n",
      "DecisionTreeClassifier [0.89852311 0.90085657]\n",
      "\n",
      "\n",
      "SPSS multi VEG adjusted\n",
      "Process selected best bands\n",
      "Selected bands: ['PRI', 'SIPI', 'RARSa', 'NDVI 761', 'ND 750/705', 'CI green', 'RVSI', 'BWDRVI', 'GNDVI', 'CI rededge 710', 'Chl green ', 'NPQI', 'NDVI 705']\n",
      "RandomForestClassifier [0.76175839 0.75627948 0.97906342 0.8687285 ]\n",
      "SVC [0.54735733 0.25710827 0.4871321  0.61892329]\n",
      "KNeighborsClassifier [0.58095988 0.57586989 0.902598   0.72613331]\n",
      "GaussianNB [0.57085164 0.02557532 0.51270029 0.58291771]\n",
      "QuadraticDiscriminantAnalysis [0.7467842  0.55713443 0.76661546 0.76604516]\n",
      "DecisionTreeClassifier [0.71962063 0.71486434 0.96639017 0.82738024]\n",
      "\n",
      "Process best Six bands\n",
      "Best Six bands: {'GNDVI', 'PRI', 'Chl green ', 'NPQI', 'RVSI', 'BWDRVI'}\n",
      "RandomForestClassifier [0.77171964 0.75979425 0.97322689 0.8465298 ]\n",
      "SVC [0.59219672 0.26012471 0.50723833 0.6452042 ]\n",
      "KNeighborsClassifier [0.66371752 0.60687951 0.91738214 0.73154536]\n",
      "GaussianNB [0.61430684 0.19592834 0.49087627 0.60947885]\n",
      "QuadraticDiscriminantAnalysis [0.73542584 0.52537967 0.66770479 0.72663566]\n",
      "DecisionTreeClassifier [0.72350108 0.72219225 0.96259563 0.8194915 ]\n",
      "\n"
     ]
    }
   ],
   "source": [
    "for sheet_name in name_list:\n",
    "    process_data(file_name, sheet_name, estimators)\n",
    "    print()"
   ]
  },
  {
   "cell_type": "markdown",
   "id": "89964774",
   "metadata": {},
   "source": [
    "## Get each Veg Index  F1 Score"
   ]
  },
  {
   "cell_type": "code",
   "execution_count": 145,
   "id": "9e0b8cfc",
   "metadata": {},
   "outputs": [],
   "source": [
    "file_name = 'Adjusted categorization - 1-5,16-30, 35-70.xlsx'\n",
    "sheet_list = ['spss Veg class1', 'Spss veg class 2', 'Spss veg class 3', 'SPSS multi VEG adjusted']"
   ]
  },
  {
   "cell_type": "code",
   "execution_count": 127,
   "id": "34ab6d33",
   "metadata": {},
   "outputs": [],
   "source": [
    "def cal_each_veg_index_scores(file_name, sheet_name, estimators):\n",
    "    \n",
    "    full_data = pd.read_excel(file_name, sheet_name= sheet_name)\n",
    "\n",
    "    str_cols = full_data.columns.astype(str)\n",
    "    full_data.columns = str_cols\n",
    "    cols = str_cols.tolist()\n",
    "    cols = cols[1:]\n",
    "\n",
    "    _input = full_data[cols]\n",
    "    label = full_data['label'].tolist()\n",
    "    label = np.asarray(label).reshape(-1,)\n",
    "    print(sheet_name)\n",
    "    \n",
    "    results = dict()\n",
    "    for col in cols:\n",
    "        X = _input[col].to_numpy().reshape(-1,1)\n",
    "        y = label\n",
    "        model,scores = get_scores_bands(X, y,sheet_name,estimators)\n",
    "        results[col] = scores\n",
    "        \n",
    "        \n",
    "    \n",
    "    return results"
   ]
  },
  {
   "cell_type": "code",
   "execution_count": 135,
   "id": "b64e273c",
   "metadata": {},
   "outputs": [
    {
     "data": {
      "text/plain": [
       "['RandomForestClassifier',\n",
       " 'SVC',\n",
       " 'KNeighborsClassifier',\n",
       " 'GaussianNB',\n",
       " 'QuadraticDiscriminantAnalysis',\n",
       " 'DecisionTreeClassifier']"
      ]
     },
     "execution_count": 135,
     "metadata": {},
     "output_type": "execute_result"
    }
   ],
   "source": [
    "_name = [item[0] for item in estimators]\n",
    "_name"
   ]
  },
  {
   "cell_type": "code",
   "execution_count": 146,
   "id": "7cbcd223",
   "metadata": {},
   "outputs": [
    {
     "name": "stdout",
     "output_type": "stream",
     "text": [
      "spss Veg class1\n",
      "Spss veg class 2\n",
      "Spss veg class 3\n",
      "SPSS multi VEG adjusted\n"
     ]
    }
   ],
   "source": [
    "for sheet_name in sheet_list:\n",
    "    results = cal_each_veg_index_scores(file_name, sheet_name, estimators)\n",
    "    results['Model'] = _name\n",
    "    r_pd = pd.DataFrame(results)\n",
    "    r_file_name = 'Veg Index '+ sheet_name +' result.xlsx'\n",
    "    r_pd.to_excel(r_file_name)\n"
   ]
  },
  {
   "cell_type": "code",
   "execution_count": 136,
   "id": "853395b5",
   "metadata": {},
   "outputs": [],
   "source": [
    "results['Model'] = _name"
   ]
  },
  {
   "cell_type": "code",
   "execution_count": 137,
   "id": "8922f3e2",
   "metadata": {},
   "outputs": [
    {
     "data": {
      "text/html": [
       "<div>\n",
       "<style scoped>\n",
       "    .dataframe tbody tr th:only-of-type {\n",
       "        vertical-align: middle;\n",
       "    }\n",
       "\n",
       "    .dataframe tbody tr th {\n",
       "        vertical-align: top;\n",
       "    }\n",
       "\n",
       "    .dataframe thead th {\n",
       "        text-align: right;\n",
       "    }\n",
       "</style>\n",
       "<table border=\"1\" class=\"dataframe\">\n",
       "  <thead>\n",
       "    <tr style=\"text-align: right;\">\n",
       "      <th></th>\n",
       "      <th>RARSa</th>\n",
       "      <th>RARSb</th>\n",
       "      <th>RARSc</th>\n",
       "      <th>PSSRa</th>\n",
       "      <th>NDVI 780</th>\n",
       "      <th>NDVI 705</th>\n",
       "      <th>GNDVI</th>\n",
       "      <th>PRI</th>\n",
       "      <th>SR860</th>\n",
       "      <th>SIPI (Car/Chl)</th>\n",
       "      <th>...</th>\n",
       "      <th>Chl green</th>\n",
       "      <th>CI green</th>\n",
       "      <th>CI rededge 710</th>\n",
       "      <th>CVI</th>\n",
       "      <th>BWDRVI</th>\n",
       "      <th>BRI</th>\n",
       "      <th>SIPI</th>\n",
       "      <th>OSAVI</th>\n",
       "      <th>VARI</th>\n",
       "      <th>Model</th>\n",
       "    </tr>\n",
       "  </thead>\n",
       "  <tbody>\n",
       "    <tr>\n",
       "      <th>0</th>\n",
       "      <td>0.626621</td>\n",
       "      <td>0.643128</td>\n",
       "      <td>0.688376</td>\n",
       "      <td>0.639710</td>\n",
       "      <td>0.671901</td>\n",
       "      <td>0.650892</td>\n",
       "      <td>0.691956</td>\n",
       "      <td>0.643919</td>\n",
       "      <td>0.673986</td>\n",
       "      <td>0.644749</td>\n",
       "      <td>...</td>\n",
       "      <td>0.694012</td>\n",
       "      <td>0.685953</td>\n",
       "      <td>0.694882</td>\n",
       "      <td>0.686262</td>\n",
       "      <td>0.670020</td>\n",
       "      <td>0.658818</td>\n",
       "      <td>0.692043</td>\n",
       "      <td>0.649753</td>\n",
       "      <td>0.644425</td>\n",
       "      <td>RandomForestClassifier</td>\n",
       "    </tr>\n",
       "    <tr>\n",
       "      <th>1</th>\n",
       "      <td>0.550776</td>\n",
       "      <td>0.592267</td>\n",
       "      <td>0.648776</td>\n",
       "      <td>0.616196</td>\n",
       "      <td>0.617553</td>\n",
       "      <td>0.556397</td>\n",
       "      <td>0.668982</td>\n",
       "      <td>0.504475</td>\n",
       "      <td>0.617499</td>\n",
       "      <td>0.592805</td>\n",
       "      <td>...</td>\n",
       "      <td>0.692296</td>\n",
       "      <td>0.665348</td>\n",
       "      <td>0.630582</td>\n",
       "      <td>0.643434</td>\n",
       "      <td>0.625726</td>\n",
       "      <td>0.578605</td>\n",
       "      <td>0.629162</td>\n",
       "      <td>0.588006</td>\n",
       "      <td>0.523992</td>\n",
       "      <td>SVC</td>\n",
       "    </tr>\n",
       "    <tr>\n",
       "      <th>2</th>\n",
       "      <td>0.571037</td>\n",
       "      <td>0.594504</td>\n",
       "      <td>0.636464</td>\n",
       "      <td>0.581360</td>\n",
       "      <td>0.595865</td>\n",
       "      <td>0.585961</td>\n",
       "      <td>0.642139</td>\n",
       "      <td>0.572355</td>\n",
       "      <td>0.620671</td>\n",
       "      <td>0.576994</td>\n",
       "      <td>...</td>\n",
       "      <td>0.658646</td>\n",
       "      <td>0.647198</td>\n",
       "      <td>0.639414</td>\n",
       "      <td>0.617444</td>\n",
       "      <td>0.629918</td>\n",
       "      <td>0.596623</td>\n",
       "      <td>0.643253</td>\n",
       "      <td>0.604675</td>\n",
       "      <td>0.573427</td>\n",
       "      <td>KNeighborsClassifier</td>\n",
       "    </tr>\n",
       "    <tr>\n",
       "      <th>3</th>\n",
       "      <td>0.556383</td>\n",
       "      <td>0.581131</td>\n",
       "      <td>0.603093</td>\n",
       "      <td>0.577903</td>\n",
       "      <td>0.614647</td>\n",
       "      <td>0.564201</td>\n",
       "      <td>0.666786</td>\n",
       "      <td>0.503013</td>\n",
       "      <td>0.578567</td>\n",
       "      <td>0.579821</td>\n",
       "      <td>...</td>\n",
       "      <td>0.693660</td>\n",
       "      <td>0.622394</td>\n",
       "      <td>0.599400</td>\n",
       "      <td>0.630823</td>\n",
       "      <td>0.629477</td>\n",
       "      <td>0.540697</td>\n",
       "      <td>0.618548</td>\n",
       "      <td>0.606056</td>\n",
       "      <td>0.555387</td>\n",
       "      <td>GaussianNB</td>\n",
       "    </tr>\n",
       "    <tr>\n",
       "      <th>4</th>\n",
       "      <td>0.556383</td>\n",
       "      <td>0.581155</td>\n",
       "      <td>0.603044</td>\n",
       "      <td>0.577605</td>\n",
       "      <td>0.614647</td>\n",
       "      <td>0.563969</td>\n",
       "      <td>0.666786</td>\n",
       "      <td>0.503013</td>\n",
       "      <td>0.578713</td>\n",
       "      <td>0.579623</td>\n",
       "      <td>...</td>\n",
       "      <td>0.693660</td>\n",
       "      <td>0.622545</td>\n",
       "      <td>0.599400</td>\n",
       "      <td>0.630914</td>\n",
       "      <td>0.629460</td>\n",
       "      <td>0.540697</td>\n",
       "      <td>0.618349</td>\n",
       "      <td>0.606221</td>\n",
       "      <td>0.555356</td>\n",
       "      <td>QuadraticDiscriminantAnalysis</td>\n",
       "    </tr>\n",
       "    <tr>\n",
       "      <th>5</th>\n",
       "      <td>0.651510</td>\n",
       "      <td>0.653642</td>\n",
       "      <td>0.701352</td>\n",
       "      <td>0.656955</td>\n",
       "      <td>0.688355</td>\n",
       "      <td>0.662940</td>\n",
       "      <td>0.705337</td>\n",
       "      <td>0.661813</td>\n",
       "      <td>0.688474</td>\n",
       "      <td>0.661318</td>\n",
       "      <td>...</td>\n",
       "      <td>0.706418</td>\n",
       "      <td>0.697391</td>\n",
       "      <td>0.706957</td>\n",
       "      <td>0.696211</td>\n",
       "      <td>0.683576</td>\n",
       "      <td>0.672599</td>\n",
       "      <td>0.704012</td>\n",
       "      <td>0.668271</td>\n",
       "      <td>0.658080</td>\n",
       "      <td>DecisionTreeClassifier</td>\n",
       "    </tr>\n",
       "  </tbody>\n",
       "</table>\n",
       "<p>6 rows × 34 columns</p>\n",
       "</div>"
      ],
      "text/plain": [
       "      RARSa     RARSb     RARSc     PSSRa  NDVI 780  NDVI 705     GNDVI  \\\n",
       "0  0.626621  0.643128  0.688376  0.639710  0.671901  0.650892  0.691956   \n",
       "1  0.550776  0.592267  0.648776  0.616196  0.617553  0.556397  0.668982   \n",
       "2  0.571037  0.594504  0.636464  0.581360  0.595865  0.585961  0.642139   \n",
       "3  0.556383  0.581131  0.603093  0.577903  0.614647  0.564201  0.666786   \n",
       "4  0.556383  0.581155  0.603044  0.577605  0.614647  0.563969  0.666786   \n",
       "5  0.651510  0.653642  0.701352  0.656955  0.688355  0.662940  0.705337   \n",
       "\n",
       "        PRI     SR860  SIPI (Car/Chl)  ...  Chl green   CI green  \\\n",
       "0  0.643919  0.673986        0.644749  ...    0.694012  0.685953   \n",
       "1  0.504475  0.617499        0.592805  ...    0.692296  0.665348   \n",
       "2  0.572355  0.620671        0.576994  ...    0.658646  0.647198   \n",
       "3  0.503013  0.578567        0.579821  ...    0.693660  0.622394   \n",
       "4  0.503013  0.578713        0.579623  ...    0.693660  0.622545   \n",
       "5  0.661813  0.688474        0.661318  ...    0.706418  0.697391   \n",
       "\n",
       "   CI rededge 710       CVI    BWDRVI       BRI      SIPI     OSAVI      VARI  \\\n",
       "0        0.694882  0.686262  0.670020  0.658818  0.692043  0.649753  0.644425   \n",
       "1        0.630582  0.643434  0.625726  0.578605  0.629162  0.588006  0.523992   \n",
       "2        0.639414  0.617444  0.629918  0.596623  0.643253  0.604675  0.573427   \n",
       "3        0.599400  0.630823  0.629477  0.540697  0.618548  0.606056  0.555387   \n",
       "4        0.599400  0.630914  0.629460  0.540697  0.618349  0.606221  0.555356   \n",
       "5        0.706957  0.696211  0.683576  0.672599  0.704012  0.668271  0.658080   \n",
       "\n",
       "                           Model  \n",
       "0         RandomForestClassifier  \n",
       "1                            SVC  \n",
       "2           KNeighborsClassifier  \n",
       "3                     GaussianNB  \n",
       "4  QuadraticDiscriminantAnalysis  \n",
       "5         DecisionTreeClassifier  \n",
       "\n",
       "[6 rows x 34 columns]"
      ]
     },
     "execution_count": 137,
     "metadata": {},
     "output_type": "execute_result"
    }
   ],
   "source": [
    "r_pd = pd.DataFrame(results)\n",
    "r_pd"
   ]
  },
  {
   "cell_type": "code",
   "execution_count": 1,
   "id": "0a212576",
   "metadata": {},
   "outputs": [],
   "source": [
    "import pickle"
   ]
  },
  {
   "cell_type": "code",
   "execution_count": null,
   "id": "83579fe2",
   "metadata": {},
   "outputs": [],
   "source": []
  },
  {
   "cell_type": "code",
   "execution_count": 2,
   "id": "1cdd369f",
   "metadata": {},
   "outputs": [],
   "source": [
    "_dir = './output/'"
   ]
  },
  {
   "cell_type": "code",
   "execution_count": 14,
   "id": "678b4dd2",
   "metadata": {},
   "outputs": [
    {
     "name": "stdout",
     "output_type": "stream",
     "text": [
      "['813.4', '747.7', '737.4', '721', '774.4', '803.1']  :  0.9077939462373426\n",
      "['813.4', '737.4', '762.1', '801.1', '706.6', '774.4']  :  0.908970914985066\n",
      "['396.7', '737.4', '778.5', '762.1', '706.6', '774.4']  :  0.8936270670940483\n",
      "['396.7', '731.3', '721', '757.9', '766.2', '774.4']  :  0.9034107051795731\n",
      "['827.7', '737.4', '731.3', '774.4', '875', '803.1']  :  0.9023999235084141\n",
      "['671.7', '737.4', '778.5', '762.1', '774.4', '696.4']  :  0.9005436366285423\n",
      "['562.9', '737.4', '757.9', '772.3', '768.2', '538.3']  :  0.9081308734610621\n",
      "['562.9', '749.7', '745.6', '766.2', '768.2', '538.3']  :  0.8899258760107818\n",
      "['747.7', '737.4', '721', '801.1', '774.4', '875']  :  0.9081322393822393\n",
      "['747.7', '737.4', '778.5', '776.4', '764.1', '706.6']  :  0.9023944598237051\n",
      "['737.4', '811.3', '762.1', '706.6', '774.4', '803.1']  :  0.9104916405623953\n",
      "['737.4', '778.5', '762.1', '774.4', '696.4', '675.8']  :  0.9039142747869162\n",
      "['811.3', '731.3', '721', '762.1', '774.4', '803.1']  :  0.9099844284985794\n",
      "['731.3', '766.2', '706.6', '774.4', '803.1', '770.3']  :  0.8939694580024768\n",
      "['597.8', '745.6', '879.1', '762.1', '801.1', '776.4']  :  0.8981906097472134\n",
      "['745.6', '762.1', '801.1', '706.6', '774.4', '875']  :  0.9029094121075254\n"
     ]
    }
   ],
   "source": [
    "clf = QuadraticDiscriminantAnalysis()\n",
    "cv = RepeatedKFold(n_splits=4,n_repeats=4, random_state=46)\n",
    "\n",
    "for i in range(1,17):\n",
    "    file_name = _dir + \"comb_6_\"+ str(i) + '_bands.pkl'\n",
    "    _bands = pickle.load(open(file_name, 'rb'))\n",
    "    _new_input = _input[_bands]\n",
    "    scores = cross_val_score(clf, _new_input, label, scoring='accuracy', cv=cv, n_jobs=-1)\n",
    "    _score = np.mean(scores)\n",
    "    print(_bands, \" : \", _score)"
   ]
  },
  {
   "cell_type": "code",
   "execution_count": 54,
   "id": "cf8a5634",
   "metadata": {},
   "outputs": [],
   "source": [
    "rfe_svc = set(['725.1', '762.1', '723', '587.6', '733.3', '421.3', '846.2', '776.4', '817.5', '406.9', '774.4', \n",
    "           '413.1', '499.3', '458.2', '517.8', '597.8', '864.7', '805.2', '614.2'])\n",
    "rfe_random = set(['411', '757.9', '772.3', '727.2', '721', '817.5', '511.6', '484.9', '577.3', '860.6', '445.9', '521.9', \n",
    "              '417.2', '655.3', '398.7', '803.1', '536.2', '454.1', '556.8', '751.8', \n",
    "              '673.8', '743.6', '833.9', '688.1', '883.2', '630.7', '406.9', '429.5', '468.5'])\n",
    "tree = set(['402.8', '760', '764.1', '714.8', '819.5', '721', '415.1', '513.7', '495.2', '433.6', '618.4', \n",
    "        '445.9', '651.2', '640.9', '679.9', '694.3', '409', '423.3', '706.6', '411', '661.5', '669.7'])\n",
    "R_regression = set(['677.9', '762.1', '745.6', '731.3', '415.1', '723', '606', '716.9', '622.5', '877', '659.4', \n",
    "                '643', '497.2', '472.6', '825.7', '454.1', '573.2', '402.8', '696.4', '776.4', '550.6', '513.7', '530.1', '411'])\n",
    "\n",
    "RidgeClassifier = set(['764.1', '770.3', '723', '827.7', '718.9', '589.6', '411', '735.4', '805.2', '400.8', '872.9', '792.8', '817.5', \n",
    "                   '784.6', '571.1', '692.3', '636.8', '515.7', '466.4', '679.9', '528', '495.2', '433.6', '651.2', '751.8', '421.3', \n",
    "                   '745.6', '552.7', '885.2', '406.9', '846.2'])\n",
    "\n",
    "lasso = set(['885.2', '817.5', '749.7', '558.8', '757.9', '400.8', '421.3', '507.5', '825.7', '445.9', '731.3', '721', '858.5', \n",
    "         '657.4', '542.4', '521.9', '692.3', '577.3', '741.5', '409', '478.8'])\n",
    "\n",
    "chi2 = set(['665.6', '762.1', '735.4', '721', '842.1', '606', '696.4', '774.4', '409', '419.2', '509.6', '482.9', '591.7', '885.2', \n",
    "        '792.8', '523.9', '445.9', '536.2', '776.4', '801.1', '556.8', '624.5'])\n",
    "\n",
    "f_classif = set(['677.9', '762.1', '745.6', '731.3', '415.1', '723', '606', '716.9', '622.5', '877', '659.4', '643', '497.2', '472.6', \n",
    "             '825.7', '454.1', '573.2', '402.8', '696.4', '776.4', '550.6', '513.7', '530.1', '411'])"
   ]
  },
  {
   "cell_type": "code",
   "execution_count": 55,
   "id": "b92b8bdf",
   "metadata": {},
   "outputs": [],
   "source": [
    "full_lists = set.union(rfe_svc, rfe_random, tree, R_regression, RidgeClassifier, lasso, chi2, f_classif )\n",
    "\n",
    "full_lists = list(full_lists) "
   ]
  },
  {
   "cell_type": "code",
   "execution_count": 60,
   "id": "92832166",
   "metadata": {},
   "outputs": [],
   "source": [
    "full_lists.sort()"
   ]
  },
  {
   "cell_type": "code",
   "execution_count": 61,
   "id": "0feb14d2",
   "metadata": {},
   "outputs": [
    {
     "data": {
      "text/plain": [
       "['398.7',\n",
       " '400.8',\n",
       " '402.8',\n",
       " '406.9',\n",
       " '409',\n",
       " '411',\n",
       " '413.1',\n",
       " '415.1',\n",
       " '417.2',\n",
       " '419.2',\n",
       " '421.3',\n",
       " '423.3',\n",
       " '429.5',\n",
       " '433.6',\n",
       " '445.9',\n",
       " '454.1',\n",
       " '458.2',\n",
       " '466.4',\n",
       " '468.5',\n",
       " '472.6',\n",
       " '478.8',\n",
       " '482.9',\n",
       " '484.9',\n",
       " '495.2',\n",
       " '497.2',\n",
       " '499.3',\n",
       " '507.5',\n",
       " '509.6',\n",
       " '511.6',\n",
       " '513.7',\n",
       " '515.7',\n",
       " '517.8',\n",
       " '521.9',\n",
       " '523.9',\n",
       " '528',\n",
       " '530.1',\n",
       " '536.2',\n",
       " '542.4',\n",
       " '550.6',\n",
       " '552.7',\n",
       " '556.8',\n",
       " '558.8',\n",
       " '571.1',\n",
       " '573.2',\n",
       " '577.3',\n",
       " '587.6',\n",
       " '589.6',\n",
       " '591.7',\n",
       " '597.8',\n",
       " '606',\n",
       " '614.2',\n",
       " '618.4',\n",
       " '622.5',\n",
       " '624.5',\n",
       " '630.7',\n",
       " '636.8',\n",
       " '640.9',\n",
       " '643',\n",
       " '651.2',\n",
       " '655.3',\n",
       " '657.4',\n",
       " '659.4',\n",
       " '661.5',\n",
       " '665.6',\n",
       " '669.7',\n",
       " '673.8',\n",
       " '677.9',\n",
       " '679.9',\n",
       " '688.1',\n",
       " '692.3',\n",
       " '694.3',\n",
       " '696.4',\n",
       " '706.6',\n",
       " '714.8',\n",
       " '716.9',\n",
       " '718.9',\n",
       " '721',\n",
       " '723',\n",
       " '725.1',\n",
       " '727.2',\n",
       " '731.3',\n",
       " '733.3',\n",
       " '735.4',\n",
       " '741.5',\n",
       " '743.6',\n",
       " '745.6',\n",
       " '749.7',\n",
       " '751.8',\n",
       " '757.9',\n",
       " '760',\n",
       " '762.1',\n",
       " '764.1',\n",
       " '770.3',\n",
       " '772.3',\n",
       " '774.4',\n",
       " '776.4',\n",
       " '784.6',\n",
       " '792.8',\n",
       " '801.1',\n",
       " '803.1',\n",
       " '805.2',\n",
       " '817.5',\n",
       " '819.5',\n",
       " '825.7',\n",
       " '827.7',\n",
       " '833.9',\n",
       " '842.1',\n",
       " '846.2',\n",
       " '858.5',\n",
       " '860.6',\n",
       " '864.7',\n",
       " '872.9',\n",
       " '877',\n",
       " '883.2',\n",
       " '885.2']"
      ]
     },
     "execution_count": 61,
     "metadata": {},
     "output_type": "execute_result"
    }
   ],
   "source": [
    "full_lists\n"
   ]
  },
  {
   "cell_type": "code",
   "execution_count": null,
   "id": "6ed57d22",
   "metadata": {},
   "outputs": [],
   "source": [
    "2,813,729,380"
   ]
  },
  {
   "cell_type": "code",
   "execution_count": null,
   "id": "8e49fbd6",
   "metadata": {},
   "outputs": [],
   "source": []
  },
  {
   "cell_type": "code",
   "execution_count": null,
   "id": "84dc1aa8",
   "metadata": {},
   "outputs": [],
   "source": []
  }
 ],
 "metadata": {
  "kernelspec": {
   "display_name": "hsi",
   "language": "python",
   "name": "hsi"
  },
  "language_info": {
   "codemirror_mode": {
    "name": "ipython",
    "version": 3
   },
   "file_extension": ".py",
   "mimetype": "text/x-python",
   "name": "python",
   "nbconvert_exporter": "python",
   "pygments_lexer": "ipython3",
   "version": "3.7.11"
  }
 },
 "nbformat": 4,
 "nbformat_minor": 5
}
