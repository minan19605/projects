{
 "cells": [
  {
   "cell_type": "markdown",
   "metadata": {},
   "source": [
    "## This file is for process origianl file and create new files"
   ]
  },
  {
   "cell_type": "code",
   "execution_count": 38,
   "metadata": {},
   "outputs": [],
   "source": [
    "#import numpy as np\n",
    "#import os\n",
    "import pandas as pd\n",
    "#import matplotlib.pyplot as plt"
   ]
  },
  {
   "cell_type": "markdown",
   "metadata": {},
   "source": [
    "### Read from xlsx file"
   ]
  },
  {
   "cell_type": "code",
   "execution_count": 2,
   "metadata": {},
   "outputs": [],
   "source": [
    "sc0 = pd.read_excel('An Min_All sample size NEW HEALTHY VS. OTHER SCORS bLOCK2.xlsx', sheet_name='NEW H VS. SC0')\n",
    "sc1 = pd.read_excel('An Min_All sample size NEW HEALTHY VS. OTHER SCORS bLOCK2.xlsx', sheet_name='New H vs. Sc1')\n",
    "sc2_4 = pd.read_excel('An Min_All sample size NEW HEALTHY VS. OTHER SCORS bLOCK2.xlsx', sheet_name='NEW H VS. SC 2-4')\n",
    "sc5_7 = pd.read_excel('An Min_All sample size NEW HEALTHY VS. OTHER SCORS bLOCK2.xlsx', sheet_name='NEW H vs. SC 5-7')\n",
    "sc8_15 = pd.read_excel('An Min_All sample size NEW HEALTHY VS. OTHER SCORS bLOCK2.xlsx', sheet_name='NEW H VS. SC 8-15')\n",
    "sc16_29 = pd.read_excel('An Min_All sample size NEW HEALTHY VS. OTHER SCORS bLOCK2.xlsx', sheet_name='NEW H VS. SC 16-29')\n",
    "sc30_49 = pd.read_excel('An Min_All sample size NEW HEALTHY VS. OTHER SCORS bLOCK2.xlsx', sheet_name='NEW H VS. SC 30-49')\n",
    "sc50_70 = pd.read_excel('An Min_All sample size NEW HEALTHY VS. OTHER SCORS bLOCK2.xlsx', sheet_name='NEW H VS. SC 50-70')"
   ]
  },
  {
   "cell_type": "markdown",
   "metadata": {},
   "source": [
    "### concate all data into one table "
   ]
  },
  {
   "cell_type": "code",
   "execution_count": 3,
   "metadata": {},
   "outputs": [],
   "source": [
    "pd_list = [sc0,sc1,sc2_4,sc5_7,sc8_15,sc16_29,sc30_49,sc50_70]\n",
    "new_list = []\n",
    "for item in pd_list:\n",
    "    _name = [item.columns[0]][0]\n",
    "    item = item.rename(columns={_name:'label'})\n",
    "    new_list.append(item)"
   ]
  },
  {
   "cell_type": "code",
   "execution_count": 8,
   "metadata": {},
   "outputs": [],
   "source": [
    "#pd_list = [sc0,sc1,sc2_4,sc5_7,sc8_15,sc16_29,sc30_49,sc50_70]\n",
    "full_ps = pd.concat(new_list,ignore_index=True)\n",
    "full_ps.to_excel(\"full_data.xlsx\")"
   ]
  },
  {
   "cell_type": "code",
   "execution_count": 9,
   "metadata": {},
   "outputs": [
    {
     "data": {
      "text/html": [
       "<div>\n",
       "<style scoped>\n",
       "    .dataframe tbody tr th:only-of-type {\n",
       "        vertical-align: middle;\n",
       "    }\n",
       "\n",
       "    .dataframe tbody tr th {\n",
       "        vertical-align: top;\n",
       "    }\n",
       "\n",
       "    .dataframe thead th {\n",
       "        text-align: right;\n",
       "    }\n",
       "</style>\n",
       "<table border=\"1\" class=\"dataframe\">\n",
       "  <thead>\n",
       "    <tr style=\"text-align: right;\">\n",
       "      <th></th>\n",
       "      <th>label</th>\n",
       "      <th>394.6</th>\n",
       "      <th>396.7</th>\n",
       "      <th>398.7</th>\n",
       "      <th>400.8</th>\n",
       "      <th>402.8</th>\n",
       "      <th>404.9</th>\n",
       "      <th>406.9</th>\n",
       "      <th>409</th>\n",
       "      <th>411</th>\n",
       "      <th>...</th>\n",
       "      <th>866.7</th>\n",
       "      <th>868.8</th>\n",
       "      <th>870.9</th>\n",
       "      <th>872.9</th>\n",
       "      <th>875</th>\n",
       "      <th>877</th>\n",
       "      <th>879.1</th>\n",
       "      <th>881.1</th>\n",
       "      <th>883.2</th>\n",
       "      <th>885.2</th>\n",
       "    </tr>\n",
       "  </thead>\n",
       "  <tbody>\n",
       "    <tr>\n",
       "      <th>4270</th>\n",
       "      <td>1</td>\n",
       "      <td>0.06071</td>\n",
       "      <td>0.05541</td>\n",
       "      <td>0.04920</td>\n",
       "      <td>0.04272</td>\n",
       "      <td>0.03642</td>\n",
       "      <td>0.03073</td>\n",
       "      <td>0.02640</td>\n",
       "      <td>0.02401</td>\n",
       "      <td>0.02263</td>\n",
       "      <td>...</td>\n",
       "      <td>0.2277</td>\n",
       "      <td>0.2282</td>\n",
       "      <td>0.2289</td>\n",
       "      <td>0.2292</td>\n",
       "      <td>0.2295</td>\n",
       "      <td>0.2299</td>\n",
       "      <td>0.2300</td>\n",
       "      <td>0.2302</td>\n",
       "      <td>0.2305</td>\n",
       "      <td>0.2307</td>\n",
       "    </tr>\n",
       "    <tr>\n",
       "      <th>4271</th>\n",
       "      <td>1</td>\n",
       "      <td>0.06359</td>\n",
       "      <td>0.05769</td>\n",
       "      <td>0.05060</td>\n",
       "      <td>bv</td>\n",
       "      <td>0.03641</td>\n",
       "      <td>0.03005</td>\n",
       "      <td>0.02511</td>\n",
       "      <td>0.02216</td>\n",
       "      <td>0.02016</td>\n",
       "      <td>...</td>\n",
       "      <td>0.1602</td>\n",
       "      <td>0.1603</td>\n",
       "      <td>0.1609</td>\n",
       "      <td>0.1612</td>\n",
       "      <td>0.1620</td>\n",
       "      <td>0.1629</td>\n",
       "      <td>0.1636</td>\n",
       "      <td>0.1643</td>\n",
       "      <td>0.1651</td>\n",
       "      <td>0.1655</td>\n",
       "    </tr>\n",
       "    <tr>\n",
       "      <th>4272</th>\n",
       "      <td>1</td>\n",
       "      <td>0.05339</td>\n",
       "      <td>0.05177</td>\n",
       "      <td>0.04892</td>\n",
       "      <td>0.04494</td>\n",
       "      <td>0.04043</td>\n",
       "      <td>0.03551</td>\n",
       "      <td>0.03035</td>\n",
       "      <td>0.02542</td>\n",
       "      <td>0.02417</td>\n",
       "      <td>...</td>\n",
       "      <td>0.1921</td>\n",
       "      <td>0.1929</td>\n",
       "      <td>0.1933</td>\n",
       "      <td>0.1937</td>\n",
       "      <td>0.1942</td>\n",
       "      <td>0.1949</td>\n",
       "      <td>0.1952</td>\n",
       "      <td>0.1958</td>\n",
       "      <td>0.1960</td>\n",
       "      <td>0.1959</td>\n",
       "    </tr>\n",
       "    <tr>\n",
       "      <th>4273</th>\n",
       "      <td>1</td>\n",
       "      <td>0.06048</td>\n",
       "      <td>0.05508</td>\n",
       "      <td>0.04885</td>\n",
       "      <td>0.04218</td>\n",
       "      <td>0.03576</td>\n",
       "      <td>0.03008</td>\n",
       "      <td>0.02581</td>\n",
       "      <td>0.02351</td>\n",
       "      <td>0.02178</td>\n",
       "      <td>...</td>\n",
       "      <td>0.1767</td>\n",
       "      <td>0.1771</td>\n",
       "      <td>0.1777</td>\n",
       "      <td>0.1782</td>\n",
       "      <td>0.1790</td>\n",
       "      <td>0.1796</td>\n",
       "      <td>0.1801</td>\n",
       "      <td>0.1805</td>\n",
       "      <td>0.1806</td>\n",
       "      <td>0.1806</td>\n",
       "    </tr>\n",
       "    <tr>\n",
       "      <th>4274</th>\n",
       "      <td>1</td>\n",
       "      <td>0.05644</td>\n",
       "      <td>0.05264</td>\n",
       "      <td>0.04799</td>\n",
       "      <td>0.04262</td>\n",
       "      <td>0.03730</td>\n",
       "      <td>0.03223</td>\n",
       "      <td>0.02798</td>\n",
       "      <td>0.02511</td>\n",
       "      <td>0.02374</td>\n",
       "      <td>...</td>\n",
       "      <td>0.1859</td>\n",
       "      <td>0.1865</td>\n",
       "      <td>0.1870</td>\n",
       "      <td>0.1875</td>\n",
       "      <td>0.1882</td>\n",
       "      <td>0.1889</td>\n",
       "      <td>0.1897</td>\n",
       "      <td>0.1905</td>\n",
       "      <td>0.1912</td>\n",
       "      <td>0.1915</td>\n",
       "    </tr>\n",
       "  </tbody>\n",
       "</table>\n",
       "<p>5 rows × 241 columns</p>\n",
       "</div>"
      ],
      "text/plain": [
       "      label    394.6    396.7    398.7    400.8    402.8    404.9    406.9  \\\n",
       "4270      1  0.06071  0.05541  0.04920  0.04272  0.03642  0.03073  0.02640   \n",
       "4271      1  0.06359  0.05769  0.05060       bv  0.03641  0.03005  0.02511   \n",
       "4272      1  0.05339  0.05177  0.04892  0.04494  0.04043  0.03551  0.03035   \n",
       "4273      1  0.06048  0.05508  0.04885  0.04218  0.03576  0.03008  0.02581   \n",
       "4274      1  0.05644  0.05264  0.04799  0.04262  0.03730  0.03223  0.02798   \n",
       "\n",
       "          409      411   ...     866.7   868.8   870.9   872.9     875  \\\n",
       "4270  0.02401  0.02263   ...    0.2277  0.2282  0.2289  0.2292  0.2295   \n",
       "4271  0.02216  0.02016   ...    0.1602  0.1603  0.1609  0.1612  0.1620   \n",
       "4272  0.02542  0.02417   ...    0.1921  0.1929  0.1933  0.1937  0.1942   \n",
       "4273  0.02351  0.02178   ...    0.1767  0.1771  0.1777  0.1782  0.1790   \n",
       "4274  0.02511  0.02374   ...    0.1859  0.1865  0.1870  0.1875  0.1882   \n",
       "\n",
       "         877   879.1   881.1   883.2   885.2  \n",
       "4270  0.2299  0.2300  0.2302  0.2305  0.2307  \n",
       "4271  0.1629  0.1636  0.1643  0.1651  0.1655  \n",
       "4272  0.1949  0.1952  0.1958  0.1960  0.1959  \n",
       "4273  0.1796  0.1801  0.1805  0.1806  0.1806  \n",
       "4274  0.1889  0.1897  0.1905  0.1912  0.1915  \n",
       "\n",
       "[5 rows x 241 columns]"
      ]
     },
     "execution_count": 9,
     "metadata": {},
     "output_type": "execute_result"
    }
   ],
   "source": [
    "full_ps.tail()"
   ]
  },
  {
   "cell_type": "markdown",
   "metadata": {},
   "source": [
    "### Change each sheet label:\n",
    "#### Healthy is 0, sc1 disease : 1, sc2_4 disease: 2, sc5_7 disease: 3, sc8_15 disease: 4, sc16_29 disease : 5, sc30_49 disease: 6\n",
    "#### sc50_70 disease : 7\n",
    "#### Note: don't use sc0 data for classification"
   ]
  },
  {
   "cell_type": "code",
   "execution_count": 12,
   "metadata": {},
   "outputs": [],
   "source": [
    "_name = sc1.columns[0]\n",
    "sc1_new = sc1.rename(columns = {_name:'label'})\n",
    "sc1_new.to_excel(\"sc1_new.xlsx\")"
   ]
  },
  {
   "cell_type": "code",
   "execution_count": 17,
   "metadata": {},
   "outputs": [],
   "source": [
    "_name = sc2_4.columns[0]\n",
    "sc2_4_new = sc2_4.rename(columns = {_name:'label'})\n",
    "for index,row in sc2_4_new.iterrows():\n",
    "    if row['label'] == 1:\n",
    "        sc2_4_new.at[index,'label'] = 2\n",
    "sc2_4_new.to_excel(\"sc2_4_new.xlsx\")"
   ]
  },
  {
   "cell_type": "code",
   "execution_count": 20,
   "metadata": {},
   "outputs": [],
   "source": [
    "_name = sc5_7.columns[0]\n",
    "sc5_7_new = sc5_7.rename(columns = {_name:'label'})\n",
    "for index, row in sc5_7_new.iterrows():\n",
    "    if row['label'] == 1:\n",
    "        sc5_7_new.at[index, 'label'] = 3\n",
    "\n",
    "sc5_7_new.to_excel(\"sc5_7_new.xlsx\")"
   ]
  },
  {
   "cell_type": "code",
   "execution_count": 22,
   "metadata": {},
   "outputs": [],
   "source": [
    "_name = sc8_15.columns[0]\n",
    "sc8_15_new = sc8_15.rename(columns = {_name:'label'})\n",
    "for index, row in sc8_15_new.iterrows():\n",
    "    if row['label'] == 1:\n",
    "        sc8_15_new.at[index, 'label'] = 4\n",
    "        \n",
    "sc8_15_new.to_excel('sc8_15_new.xlsx')"
   ]
  },
  {
   "cell_type": "code",
   "execution_count": 23,
   "metadata": {},
   "outputs": [],
   "source": [
    "_name = sc16_29.columns[0]\n",
    "sc16_29_new = sc16_29.rename(columns = {_name:'label'})\n",
    "for index, row in sc16_29_new.iterrows():\n",
    "    if row['label'] == 1:\n",
    "        sc16_29_new.at[index, 'label'] = 5\n",
    "        \n",
    "sc16_29_new.to_excel('sc16_29_new.xlsx')"
   ]
  },
  {
   "cell_type": "code",
   "execution_count": 24,
   "metadata": {},
   "outputs": [],
   "source": [
    "_name = sc30_49.columns[0]\n",
    "sc30_49_new = sc30_49.rename(columns = {_name:'label'})\n",
    "for index, row in sc30_49_new.iterrows():\n",
    "    if row['label'] == 1:\n",
    "        sc30_49_new.at[index, 'label'] = 6\n",
    "\n",
    "sc30_49_new.to_excel('sc30_49_new.xlsx')"
   ]
  },
  {
   "cell_type": "code",
   "execution_count": 26,
   "metadata": {},
   "outputs": [],
   "source": [
    "_name = sc50_70.columns[0]\n",
    "sc50_70_new = sc50_70.rename(columns = {_name:'label'})\n",
    "for index, row in sc50_70_new.iterrows():\n",
    "    if row['label'] == 1:\n",
    "        sc50_70_new.at[index, 'label'] = 7\n",
    "        \n",
    "sc50_70_new.to_excel('sc50_70_new.xlsx')"
   ]
  },
  {
   "cell_type": "code",
   "execution_count": 31,
   "metadata": {},
   "outputs": [
    {
     "name": "stdout",
     "output_type": "stream",
     "text": [
      "400.8 484  bv\n"
     ]
    }
   ],
   "source": [
    "for col in sc50_70_new:\n",
    "    if col == 'label':\n",
    "        continue\n",
    "    \n",
    "    for idx, row_value in sc50_70_new[col].iteritems():\n",
    "        if not isinstance(row_value, (int, float)):\n",
    "            print(idx, col, row_value)\n",
    "    "
   ]
  },
  {
   "cell_type": "code",
   "execution_count": 34,
   "metadata": {},
   "outputs": [
    {
     "name": "stdout",
     "output_type": "stream",
     "text": [
      "484 400.8  bv\n"
     ]
    }
   ],
   "source": [
    "pd_list = [sc1_new,sc2_4_new,sc5_7_new, sc8_15_new, sc16_29_new , sc30_49_new , sc50_70_new]\n",
    "\n",
    "for pd in pd_list:\n",
    "    for col in pd:\n",
    "        if col == 'label':\n",
    "            continue\n",
    "        for idx, row_value in pd[col].iteritems():\n",
    "            if not isinstance(row_value, (int, float)):\n",
    "                print(idx, col, row_value)\n",
    "            elif row_value >= 1.0:\n",
    "                print(idx, col, row_value)"
   ]
  },
  {
   "cell_type": "code",
   "execution_count": 39,
   "metadata": {},
   "outputs": [],
   "source": [
    "pd_list = [sc1_new,sc2_4_new,sc5_7_new, sc8_15_new, sc16_29_new , sc30_49_new , sc50_70_new]\n",
    "only_dis = []\n",
    "for _pd in pd_list:\n",
    "    _dis_pd = _pd.loc[_pd['label'] != 0]\n",
    "    only_dis.append(_dis_pd)\n",
    "    \n",
    "full_ps = pd.concat(only_dis,ignore_index=True)\n",
    "full_ps.to_excel(\"full_disease_data.xlsx\")"
   ]
  },
  {
   "cell_type": "code",
   "execution_count": 41,
   "metadata": {},
   "outputs": [],
   "source": [
    "full_ps = pd.concat(pd_list, ignore_index=True)\n",
    "full_ps.to_excel(\"full_data_with_class.xlsx\")"
   ]
  },
  {
   "cell_type": "code",
   "execution_count": null,
   "metadata": {},
   "outputs": [],
   "source": []
  }
 ],
 "metadata": {
  "kernelspec": {
   "display_name": "hsi",
   "language": "python",
   "name": "hsi"
  },
  "language_info": {
   "codemirror_mode": {
    "name": "ipython",
    "version": 3
   },
   "file_extension": ".py",
   "mimetype": "text/x-python",
   "name": "python",
   "nbconvert_exporter": "python",
   "pygments_lexer": "ipython3",
   "version": "3.7.11"
  }
 },
 "nbformat": 4,
 "nbformat_minor": 2
}
